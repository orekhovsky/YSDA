{
 "cells": [
  {
   "cell_type": "markdown",
   "metadata": {},
   "source": [
    "### Работа с изображениями. Сверточные нейронные сети.\n",
    "\n",
    "##### Автор: [Радослав Нейчев](https://www.linkedin.com/in/radoslav-neychev/), @neychev\n",
    "\n",
    "\n",
    "#### План занятия:\n",
    "1. Введение в компьютерное зрение и сверточные нейронные сети\n",
    "2. Классификация изображений с помощью сверточных нейронных сетей\n",
    "3. Использование предобученной модели в качестве backbone."
   ]
  },
  {
   "cell_type": "markdown",
   "metadata": {},
   "source": [
    "### 1. Введение в компьютерное зрение и сверточные нейронные сети\n",
    "Введем формально понятие изображения:\n",
    "\n",
    "__Изображения__ – тип данных, где каждый объект состоит из упорядоченного по двум осям набора пикселей. Каждое изображение обладает пространственной структурой, информация кроется в том, как пиксели упорядочены. Перестановка пикселей приводит к потере информации.\n",
    "\n",
    "Для задач компьютерного зрения себя отлично зарекомендовали сверточные сети, в основе которых стоит операция свертки:\n",
    "<img src=\"https://raw.githubusercontent.com/vdumoulin/conv_arithmetic/master/gif/no_padding_no_strides.gif\" width=\"400\">\n",
    "*Image source: https://github.com/vdumoulin/conv_arithmetic*\n",
    "\n",
    "Сверточные нейронные сети учитывают пространственную структуру изображений, что позволяет им автоматически находить информативные признаковые описания данных.\n",
    "\n",
    "__Go to slides__\n",
    "\n",
    "Рассмотренные ранее известные архитектуры часто используются в роли __backbone__. Эта часть модели, ответственная за извлечение признаков, по факту выступает в роли энкодера (т.е. строит информативное признаковое описание данных, не обязательно в виде вектора). Как правило, backbone-сеть уже предобучена на крупной выборке (например, на ImageNet). Иногда она дообучается (т.е. происходит fine-tuning) под конкретную задачу."
   ]
  },
  {
   "cell_type": "markdown",
   "metadata": {},
   "source": [
    "### 2. Классификация изображений с помощью сверточных нейронных сетей\n",
    "Построим простую сверточную нейронную сеть. Будем решать задачу классификации на примере классического набора данных [CIFAR-10](https://www.cs.toronto.edu/~kriz/cifar.html). Он также доступен в библиотеке `torchvision`."
   ]
  },
  {
   "cell_type": "code",
   "execution_count": 11,
   "metadata": {},
   "outputs": [],
   "source": [
    "import numpy as np\n",
    "\n",
    "import torch\n",
    "import torch.nn as nn\n",
    "import torch.nn.functional as F\n",
    "import torch.optim as optim\n",
    "\n",
    "import torchvision\n",
    "import torchvision.transforms as transforms\n",
    "\n",
    "from torchsummary import summary\n",
    "\n",
    "import matplotlib\n",
    "import matplotlib.pyplot as plt\n",
    "\n",
    "matplotlib.rcParams.update({\"figure.figsize\": (12, 8), \"font.size\": 14})"
   ]
  },
  {
   "cell_type": "code",
   "execution_count": 12,
   "metadata": {},
   "outputs": [
    {
     "name": "stdout",
     "output_type": "stream",
     "text": [
      "Files already downloaded and verified\n",
      "Files already downloaded and verified\n"
     ]
    }
   ],
   "source": [
    "transform = transforms.Compose(\n",
    "    [transforms.ToTensor(), transforms.Normalize((0.5, 0.5, 0.5), (0.5, 0.5, 0.5))]\n",
    ")\n",
    "\n",
    "data_train = torchvision.datasets.CIFAR10(\n",
    "    root=\"./data\", train=True, download=True, transform=transform\n",
    ")\n",
    "train_loader = torch.utils.data.DataLoader(data_train, batch_size=128, shuffle=True, num_workers=2)\n",
    "data_test = torchvision.datasets.CIFAR10(\n",
    "    root=\"./data\", train=False, download=True, transform=transform\n",
    ")\n",
    "test_loader = torch.utils.data.DataLoader(data_test, batch_size=238, shuffle=False, num_workers=2)\n",
    "\n",
    "class_labels = (\"plane\", \"car\", \"bird\", \"cat\", \"deer\", \"dog\", \"frog\", \"horse\", \"ship\", \"truck\")"
   ]
  },
  {
   "cell_type": "code",
   "execution_count": 13,
   "metadata": {},
   "outputs": [],
   "source": [
    "example_batch, example_labels = [x[:5] for x in next(iter(train_loader))]"
   ]
  },
  {
   "cell_type": "code",
   "execution_count": 14,
   "metadata": {},
   "outputs": [
    {
     "data": {
      "image/png": "[encoded data removed]",
      "text/plain": [
       "<Figure size 864x576 with 1 Axes>"
      ]
     },
     "metadata": {
      "needs_background": "light"
     },
     "output_type": "display_data"
    },
    {
     "name": "stdout",
     "output_type": "stream",
     "text": [
      "\t  horse\t\tdog\t\tfrog\t\tbird\t\tbird\n"
     ]
    }
   ],
   "source": [
    "def show_batch(batch):\n",
    "    batch = batch / 2 + 0.5\n",
    "    image_batch = np.transpose(batch.numpy(), (1, 2, 0))\n",
    "    plt.imshow(image_batch)\n",
    "    plt.show()\n",
    "\n",
    "\n",
    "show_batch(torchvision.utils.make_grid(example_batch))\n",
    "print(\"\\t  \" + \"\\t\\t\".join([class_labels[i] for i in example_labels]))"
   ]
  },
  {
   "cell_type": "markdown",
   "metadata": {},
   "source": [
    "Разрешение изображений достаточно невысокое, но многие объекты все еще различимы человеком (экспертом)."
   ]
  },
  {
   "cell_type": "markdown",
   "metadata": {},
   "source": [
    "Построим простую нейронную сеть:"
   ]
  },
  {
   "cell_type": "code",
   "execution_count": 31,
   "metadata": {},
   "outputs": [],
   "source": [
    "def create_small_net():\n",
    "    net = nn.Sequential(\n",
    "        *[\n",
    "            nn.Conv2d(3, 6, 5),\n",
    "            nn.ReLU(),\n",
    "            nn.MaxPool2d(2, 2),\n",
    "            nn.Conv2d(6, 16, 5),\n",
    "            nn.ReLU(),\n",
    "            nn.MaxPool2d(2, 2),\n",
    "            nn.Flatten(),\n",
    "            nn.Linear(16 * 5 * 5, 128),\n",
    "            nn.ReLU(),\n",
    "            nn.Linear(128, 64),\n",
    "            nn.ReLU(),\n",
    "            nn.Linear(64, 10),\n",
    "        ]\n",
    "    )\n",
    "    return net"
   ]
  },
  {
   "cell_type": "code",
   "execution_count": 32,
   "metadata": {},
   "outputs": [
    {
     "data": {
      "text/plain": [
       "torch.Size([1, 10])"
      ]
     },
     "execution_count": 32,
     "metadata": {},
     "output_type": "execute_result"
    }
   ],
   "source": [
    "model = create_small_net()\n",
    "\n",
    "model(example_batch[:1]).shape"
   ]
  },
  {
   "cell_type": "markdown",
   "metadata": {},
   "source": [
    "Для обучения и оценки качества модели реализуем простые функции:"
   ]
  },
  {
   "cell_type": "code",
   "execution_count": 34,
   "metadata": {},
   "outputs": [],
   "source": [
    "def train_one_step(model, optimizer, criterion, inputs, labels):\n",
    "    optimizer.zero_grad()\n",
    "    out = model(inputs)\n",
    "    loss = criterion(out, labels)\n",
    "    loss.backward()\n",
    "    optimizer.step()\n",
    "    return loss.item()"
   ]
  },
  {
   "cell_type": "code",
   "execution_count": 36,
   "metadata": {},
   "outputs": [],
   "source": [
    "def evaluate_model(model, dataloader, device, caption=\"\"):\n",
    "    model.eval()\n",
    "    correct = 0\n",
    "    total = 0\n",
    "    with torch.no_grad():\n",
    "        for data in dataloader:\n",
    "            images, labels = data\n",
    "            outputs = model(images.to(device))\n",
    "            _, predicted = torch.max(outputs.cpu().data, 1)\n",
    "            total += labels.size(0)\n",
    "            correct += (predicted == labels).sum().item()\n",
    "\n",
    "    print(\"Accuracy of the network on the 10000 {} images: {:.4f}\".format(caption, correct / total))"
   ]
  },
  {
   "cell_type": "code",
   "execution_count": 37,
   "metadata": {},
   "outputs": [],
   "source": [
    "model = create_small_net()"
   ]
  },
  {
   "cell_type": "code",
   "execution_count": 38,
   "metadata": {},
   "outputs": [
    {
     "name": "stdout",
     "output_type": "stream",
     "text": [
      "----------------------------------------------------------------\n",
      "        Layer (type)               Output Shape         Param #\n",
      "================================================================\n",
      "            Conv2d-1            [-1, 6, 28, 28]             456\n",
      "              ReLU-2            [-1, 6, 28, 28]               0\n",
      "         MaxPool2d-3            [-1, 6, 14, 14]               0\n",
      "            Conv2d-4           [-1, 16, 10, 10]           2,416\n",
      "              ReLU-5           [-1, 16, 10, 10]               0\n",
      "         MaxPool2d-6             [-1, 16, 5, 5]               0\n",
      "           Flatten-7                  [-1, 400]               0\n",
      "            Linear-8                  [-1, 128]          51,328\n",
      "              ReLU-9                  [-1, 128]               0\n",
      "           Linear-10                   [-1, 64]           8,256\n",
      "             ReLU-11                   [-1, 64]               0\n",
      "           Linear-12                   [-1, 10]             650\n",
      "================================================================\n",
      "Total params: 63,106\n",
      "Trainable params: 63,106\n",
      "Non-trainable params: 0\n",
      "----------------------------------------------------------------\n",
      "Input size (MB): 0.01\n",
      "Forward/backward pass size (MB): 0.11\n",
      "Params size (MB): 0.24\n",
      "Estimated Total Size (MB): 0.37\n",
      "----------------------------------------------------------------\n"
     ]
    }
   ],
   "source": [
    "summary(model, example_batch.shape[1:], device=\"cpu\")"
   ]
  },
  {
   "cell_type": "markdown",
   "metadata": {},
   "source": [
    "В сети около 60 тысяч параметров. По современным меркам, это совсем немного. Например, в BERT Large – 340 миллионов параметров, в GPT-2 – 1.5 миллиарда параметров."
   ]
  },
  {
   "cell_type": "code",
   "execution_count": 39,
   "metadata": {},
   "outputs": [],
   "source": [
    "criterion = nn.CrossEntropyLoss()\n",
    "optimizer = optim.Adam(model.parameters())"
   ]
  },
  {
   "cell_type": "code",
   "execution_count": 40,
   "metadata": {},
   "outputs": [],
   "source": [
    "device = torch.device(\"cuda\" if torch.cuda.is_available() else \"cpu\")"
   ]
  },
  {
   "cell_type": "code",
   "execution_count": 41,
   "metadata": {},
   "outputs": [
    {
     "data": {
      "text/plain": [
       "device(type='cuda')"
      ]
     },
     "execution_count": 41,
     "metadata": {},
     "output_type": "execute_result"
    }
   ],
   "source": [
    "device"
   ]
  },
  {
   "cell_type": "markdown",
   "metadata": {},
   "source": [
    "Обучим модель:"
   ]
  },
  {
   "cell_type": "code",
   "execution_count": 42,
   "metadata": {},
   "outputs": [],
   "source": [
    "NUM_EPOCHS = 15"
   ]
  },
  {
   "cell_type": "code",
   "execution_count": 43,
   "metadata": {},
   "outputs": [],
   "source": [
    "model_gpu = create_small_net().to(device)\n",
    "optimizer_gpu = optim.Adam(model_gpu.parameters())"
   ]
  },
  {
   "cell_type": "code",
   "execution_count": 44,
   "metadata": {},
   "outputs": [
    {
     "name": "stdout",
     "output_type": "stream",
     "text": [
      "Epoch: 1, loss = 5.2053\n",
      "Epoch: 2, loss = 4.3511\n",
      "Epoch: 3, loss = 4.0585\n",
      "Epoch: 4, loss = 3.8253\n",
      "Epoch: 5, loss = 3.6442\n",
      "Epoch: 6, loss = 3.4959\n",
      "Epoch: 7, loss = 3.3544\n",
      "Epoch: 8, loss = 3.2346\n",
      "Epoch: 9, loss = 3.1276\n",
      "Epoch: 10, loss = 3.0350\n",
      "Epoch: 11, loss = 2.9385\n",
      "Epoch: 12, loss = 2.8567\n",
      "Epoch: 13, loss = 2.7767\n",
      "Epoch: 14, loss = 2.6867\n",
      "Epoch: 15, loss = 2.6180\n"
     ]
    }
   ],
   "source": [
    "loss_history = []\n",
    "model.train()\n",
    "for epoch in range(NUM_EPOCHS):\n",
    "    epoch_loss = 0.0\n",
    "    for inputs, labels in train_loader:\n",
    "        inputs, labels = inputs.to(device), labels.to(device)\n",
    "        batch_loss = train_one_step(model_gpu, optimizer_gpu, criterion, inputs, labels)\n",
    "        epoch_loss += batch_loss / len(inputs)\n",
    "    print(\"Epoch: {}, loss = {:.4f}\".format(epoch + 1, epoch_loss))\n",
    "    loss_history.append(epoch_loss)"
   ]
  },
  {
   "cell_type": "markdown",
   "metadata": {},
   "source": [
    "Оценим качество классификации на тестовой выборке:"
   ]
  },
  {
   "cell_type": "code",
   "execution_count": 47,
   "metadata": {},
   "outputs": [
    {
     "data": {
      "image/png": "[encoded data removed]",
      "text/plain": [
       "<Figure size 864x576 with 1 Axes>"
      ]
     },
     "metadata": {
      "needs_background": "light"
     },
     "output_type": "display_data"
    },
    {
     "name": "stdout",
     "output_type": "stream",
     "text": [
      "\t   cat\t\tship\t\tship\t\tplane\t\tfrog\n"
     ]
    }
   ],
   "source": [
    "test_batch, test_labels = [x[:5] for x in next(iter(test_loader))]\n",
    "\n",
    "show_batch(torchvision.utils.make_grid(test_batch))\n",
    "print(\"\\t   \" + \"\\t\\t\".join([class_labels[i] for i in test_labels]))"
   ]
  },
  {
   "cell_type": "code",
   "execution_count": 48,
   "metadata": {},
   "outputs": [
    {
     "name": "stdout",
     "output_type": "stream",
     "text": [
      "Accuracy of the network on the 10000 test images: 0.6309\n"
     ]
    }
   ],
   "source": [
    "evaluate_model(model_gpu, test_loader, device, \"test\")"
   ]
  },
  {
   "cell_type": "markdown",
   "metadata": {},
   "source": [
    "### 3. Использование предобученной модели в качестве backbone.\n",
    "\n",
    "Теперь воспользуемся моделью из семейства [ResNet](https://arxiv.org/abs/1512.03385), предобученной на датасете [ImageNet](http://image-net.org). Будем использовать ее в качестве backbone."
   ]
  },
  {
   "cell_type": "code",
   "execution_count": 49,
   "metadata": {},
   "outputs": [],
   "source": [
    "model_resnet18 = torchvision.models.resnet18(pretrained=True)"
   ]
  },
  {
   "cell_type": "code",
   "execution_count": 50,
   "metadata": {},
   "outputs": [
    {
     "name": "stdout",
     "output_type": "stream",
     "text": [
      "----------------------------------------------------------------\n",
      "        Layer (type)               Output Shape         Param #\n",
      "================================================================\n",
      "            Conv2d-1           [-1, 64, 16, 16]           9,408\n",
      "       BatchNorm2d-2           [-1, 64, 16, 16]             128\n",
      "              ReLU-3           [-1, 64, 16, 16]               0\n",
      "         MaxPool2d-4             [-1, 64, 8, 8]               0\n",
      "            Conv2d-5             [-1, 64, 8, 8]          36,864\n",
      "       BatchNorm2d-6             [-1, 64, 8, 8]             128\n",
      "              ReLU-7             [-1, 64, 8, 8]               0\n",
      "            Conv2d-8             [-1, 64, 8, 8]          36,864\n",
      "       BatchNorm2d-9             [-1, 64, 8, 8]             128\n",
      "             ReLU-10             [-1, 64, 8, 8]               0\n",
      "       BasicBlock-11             [-1, 64, 8, 8]               0\n",
      "           Conv2d-12             [-1, 64, 8, 8]          36,864\n",
      "      BatchNorm2d-13             [-1, 64, 8, 8]             128\n",
      "             ReLU-14             [-1, 64, 8, 8]               0\n",
      "           Conv2d-15             [-1, 64, 8, 8]          36,864\n",
      "      BatchNorm2d-16             [-1, 64, 8, 8]             128\n",
      "             ReLU-17             [-1, 64, 8, 8]               0\n",
      "       BasicBlock-18             [-1, 64, 8, 8]               0\n",
      "           Conv2d-19            [-1, 128, 4, 4]          73,728\n",
      "      BatchNorm2d-20            [-1, 128, 4, 4]             256\n",
      "             ReLU-21            [-1, 128, 4, 4]               0\n",
      "           Conv2d-22            [-1, 128, 4, 4]         147,456\n",
      "      BatchNorm2d-23            [-1, 128, 4, 4]             256\n",
      "           Conv2d-24            [-1, 128, 4, 4]           8,192\n",
      "      BatchNorm2d-25            [-1, 128, 4, 4]             256\n",
      "             ReLU-26            [-1, 128, 4, 4]               0\n",
      "       BasicBlock-27            [-1, 128, 4, 4]               0\n",
      "           Conv2d-28            [-1, 128, 4, 4]         147,456\n",
      "      BatchNorm2d-29            [-1, 128, 4, 4]             256\n",
      "             ReLU-30            [-1, 128, 4, 4]               0\n",
      "           Conv2d-31            [-1, 128, 4, 4]         147,456\n",
      "      BatchNorm2d-32            [-1, 128, 4, 4]             256\n",
      "             ReLU-33            [-1, 128, 4, 4]               0\n",
      "       BasicBlock-34            [-1, 128, 4, 4]               0\n",
      "           Conv2d-35            [-1, 256, 2, 2]         294,912\n",
      "      BatchNorm2d-36            [-1, 256, 2, 2]             512\n",
      "             ReLU-37            [-1, 256, 2, 2]               0\n",
      "           Conv2d-38            [-1, 256, 2, 2]         589,824\n",
      "      BatchNorm2d-39            [-1, 256, 2, 2]             512\n",
      "           Conv2d-40            [-1, 256, 2, 2]          32,768\n",
      "      BatchNorm2d-41            [-1, 256, 2, 2]             512\n",
      "             ReLU-42            [-1, 256, 2, 2]               0\n",
      "       BasicBlock-43            [-1, 256, 2, 2]               0\n",
      "           Conv2d-44            [-1, 256, 2, 2]         589,824\n",
      "      BatchNorm2d-45            [-1, 256, 2, 2]             512\n",
      "             ReLU-46            [-1, 256, 2, 2]               0\n",
      "           Conv2d-47            [-1, 256, 2, 2]         589,824\n",
      "      BatchNorm2d-48            [-1, 256, 2, 2]             512\n",
      "             ReLU-49            [-1, 256, 2, 2]               0\n",
      "       BasicBlock-50            [-1, 256, 2, 2]               0\n",
      "           Conv2d-51            [-1, 512, 1, 1]       1,179,648\n",
      "      BatchNorm2d-52            [-1, 512, 1, 1]           1,024\n",
      "             ReLU-53            [-1, 512, 1, 1]               0\n",
      "           Conv2d-54            [-1, 512, 1, 1]       2,359,296\n",
      "      BatchNorm2d-55            [-1, 512, 1, 1]           1,024\n",
      "           Conv2d-56            [-1, 512, 1, 1]         131,072\n",
      "      BatchNorm2d-57            [-1, 512, 1, 1]           1,024\n",
      "             ReLU-58            [-1, 512, 1, 1]               0\n",
      "       BasicBlock-59            [-1, 512, 1, 1]               0\n",
      "           Conv2d-60            [-1, 512, 1, 1]       2,359,296\n",
      "      BatchNorm2d-61            [-1, 512, 1, 1]           1,024\n",
      "             ReLU-62            [-1, 512, 1, 1]               0\n",
      "           Conv2d-63            [-1, 512, 1, 1]       2,359,296\n",
      "      BatchNorm2d-64            [-1, 512, 1, 1]           1,024\n",
      "             ReLU-65            [-1, 512, 1, 1]               0\n",
      "       BasicBlock-66            [-1, 512, 1, 1]               0\n",
      "AdaptiveAvgPool2d-67            [-1, 512, 1, 1]               0\n",
      "           Linear-68                 [-1, 1000]         513,000\n",
      "================================================================\n",
      "Total params: 11,689,512\n",
      "Trainable params: 11,689,512\n",
      "Non-trainable params: 0\n",
      "----------------------------------------------------------------\n",
      "Input size (MB): 0.01\n",
      "Forward/backward pass size (MB): 1.29\n",
      "Params size (MB): 44.59\n",
      "Estimated Total Size (MB): 45.90\n",
      "----------------------------------------------------------------\n"
     ]
    }
   ],
   "source": [
    "summary(model_resnet18, (3, 32, 32), device=\"cpu\")"
   ]
  },
  {
   "cell_type": "code",
   "execution_count": 54,
   "metadata": {},
   "outputs": [
    {
     "data": {
      "text/plain": [
       "[Conv2d(3, 64, kernel_size=(7, 7), stride=(2, 2), padding=(3, 3), bias=False),\n",
       " BatchNorm2d(64, eps=1e-05, momentum=0.1, affine=True, track_running_stats=True),\n",
       " ReLU(inplace=True),\n",
       " MaxPool2d(kernel_size=3, stride=2, padding=1, dilation=1, ceil_mode=False),\n",
       " Sequential(\n",
       "   (0): BasicBlock(\n",
       "     (conv1): Conv2d(64, 64, kernel_size=(3, 3), stride=(1, 1), padding=(1, 1), bias=False)\n",
       "     (bn1): BatchNorm2d(64, eps=1e-05, momentum=0.1, affine=True, track_running_stats=True)\n",
       "     (relu): ReLU(inplace=True)\n",
       "     (conv2): Conv2d(64, 64, kernel_size=(3, 3), stride=(1, 1), padding=(1, 1), bias=False)\n",
       "     (bn2): BatchNorm2d(64, eps=1e-05, momentum=0.1, affine=True, track_running_stats=True)\n",
       "   )\n",
       "   (1): BasicBlock(\n",
       "     (conv1): Conv2d(64, 64, kernel_size=(3, 3), stride=(1, 1), padding=(1, 1), bias=False)\n",
       "     (bn1): BatchNorm2d(64, eps=1e-05, momentum=0.1, affine=True, track_running_stats=True)\n",
       "     (relu): ReLU(inplace=True)\n",
       "     (conv2): Conv2d(64, 64, kernel_size=(3, 3), stride=(1, 1), padding=(1, 1), bias=False)\n",
       "     (bn2): BatchNorm2d(64, eps=1e-05, momentum=0.1, affine=True, track_running_stats=True)\n",
       "   )\n",
       " )]"
      ]
     },
     "execution_count": 54,
     "metadata": {},
     "output_type": "execute_result"
    }
   ],
   "source": [
    "list(model_resnet18.children())[:-5]"
   ]
  },
  {
   "cell_type": "code",
   "execution_count": 55,
   "metadata": {},
   "outputs": [],
   "source": [
    "model_resnet18 = torchvision.models.resnet18(pretrained=True)\n",
    "n_features = 64\n",
    "n_classes = len(class_labels)\n",
    "\n",
    "used_modules = list(model_resnet18.children())[:-5] + [\n",
    "    nn.AdaptiveAvgPool2d((1, 1)),\n",
    "    nn.Flatten(),\n",
    "    nn.Linear(n_features, n_classes),\n",
    "]\n",
    "resnet_trimmed = nn.Sequential(*used_modules)"
   ]
  },
  {
   "cell_type": "markdown",
   "metadata": {},
   "source": [
    "Для начала дообучим только последний слой сети:"
   ]
  },
  {
   "cell_type": "code",
   "execution_count": 56,
   "metadata": {},
   "outputs": [],
   "source": [
    "for p in resnet_trimmed.parameters():\n",
    "    p.requires_grad = False\n",
    "\n",
    "resnet_trimmed[-1].requires_grad_(True)\n",
    "resnet_trimmed = resnet_trimmed.to(device)"
   ]
  },
  {
   "cell_type": "markdown",
   "metadata": {},
   "source": [
    "На всякий случай проверим:"
   ]
  },
  {
   "cell_type": "code",
   "execution_count": 57,
   "metadata": {},
   "outputs": [
    {
     "name": "stdout",
     "output_type": "stream",
     "text": [
      "False\n",
      "False\n",
      "False\n",
      "False\n",
      "False\n",
      "False\n",
      "False\n",
      "False\n",
      "False\n",
      "False\n",
      "False\n",
      "False\n",
      "False\n",
      "False\n",
      "False\n",
      "True\n",
      "True\n"
     ]
    }
   ],
   "source": [
    "for p in resnet_trimmed.parameters():\n",
    "    print(p.requires_grad)"
   ]
  },
  {
   "cell_type": "code",
   "execution_count": 58,
   "metadata": {},
   "outputs": [
    {
     "name": "stdout",
     "output_type": "stream",
     "text": [
      "----------------------------------------------------------------\n",
      "        Layer (type)               Output Shape         Param #\n",
      "================================================================\n",
      "            Conv2d-1           [-1, 64, 16, 16]           9,408\n",
      "       BatchNorm2d-2           [-1, 64, 16, 16]             128\n",
      "              ReLU-3           [-1, 64, 16, 16]               0\n",
      "         MaxPool2d-4             [-1, 64, 8, 8]               0\n",
      "            Conv2d-5             [-1, 64, 8, 8]          36,864\n",
      "       BatchNorm2d-6             [-1, 64, 8, 8]             128\n",
      "              ReLU-7             [-1, 64, 8, 8]               0\n",
      "            Conv2d-8             [-1, 64, 8, 8]          36,864\n",
      "       BatchNorm2d-9             [-1, 64, 8, 8]             128\n",
      "             ReLU-10             [-1, 64, 8, 8]               0\n",
      "       BasicBlock-11             [-1, 64, 8, 8]               0\n",
      "           Conv2d-12             [-1, 64, 8, 8]          36,864\n",
      "      BatchNorm2d-13             [-1, 64, 8, 8]             128\n",
      "             ReLU-14             [-1, 64, 8, 8]               0\n",
      "           Conv2d-15             [-1, 64, 8, 8]          36,864\n",
      "      BatchNorm2d-16             [-1, 64, 8, 8]             128\n",
      "             ReLU-17             [-1, 64, 8, 8]               0\n",
      "       BasicBlock-18             [-1, 64, 8, 8]               0\n",
      "AdaptiveAvgPool2d-19             [-1, 64, 1, 1]               0\n",
      "          Flatten-20                   [-1, 64]               0\n",
      "           Linear-21                   [-1, 10]             650\n",
      "================================================================\n",
      "Total params: 158,154\n",
      "Trainable params: 650\n",
      "Non-trainable params: 157,504\n",
      "----------------------------------------------------------------\n",
      "Input size (MB): 0.01\n",
      "Forward/backward pass size (MB): 0.84\n",
      "Params size (MB): 0.60\n",
      "Estimated Total Size (MB): 1.46\n",
      "----------------------------------------------------------------\n"
     ]
    }
   ],
   "source": [
    "summary(resnet_trimmed, (3, 32, 32), device=\"cuda\")"
   ]
  },
  {
   "cell_type": "code",
   "execution_count": 59,
   "metadata": {},
   "outputs": [],
   "source": [
    "optimizer_resnet_trimmed = optim.Adam(resnet_trimmed.parameters(), lr=0.001)"
   ]
  },
  {
   "cell_type": "code",
   "execution_count": 60,
   "metadata": {},
   "outputs": [
    {
     "name": "stdout",
     "output_type": "stream",
     "text": [
      "Epoch: 1, loss = 6.5755\n",
      "Epoch: 2, loss = 5.8973\n",
      "Epoch: 3, loss = 5.5149\n",
      "Epoch: 4, loss = 5.2747\n",
      "Epoch: 5, loss = 5.1071\n",
      "Epoch: 6, loss = 4.9811\n",
      "Epoch: 7, loss = 4.8843\n",
      "Epoch: 8, loss = 4.8061\n",
      "Epoch: 9, loss = 4.7434\n",
      "Epoch: 10, loss = 4.6884\n",
      "Epoch: 11, loss = 4.6438\n",
      "Epoch: 12, loss = 4.6044\n",
      "Epoch: 13, loss = 4.5676\n",
      "Epoch: 14, loss = 4.5366\n",
      "Epoch: 15, loss = 4.5082\n"
     ]
    }
   ],
   "source": [
    "loss_history = []\n",
    "for epoch in range(NUM_EPOCHS):\n",
    "    epoch_loss = 0.0\n",
    "    for inputs, labels in train_loader:\n",
    "        inputs, labels = inputs.to(device), labels.to(device)\n",
    "        batch_loss = train_one_step(\n",
    "            resnet_trimmed, optimizer_resnet_trimmed, criterion, inputs, labels\n",
    "        )\n",
    "        epoch_loss += batch_loss / len(inputs)\n",
    "    print(\"Epoch: {}, loss = {:.4f}\".format(epoch + 1, epoch_loss))\n",
    "    loss_history.append(epoch_loss)"
   ]
  },
  {
   "cell_type": "code",
   "execution_count": 61,
   "metadata": {},
   "outputs": [
    {
     "name": "stdout",
     "output_type": "stream",
     "text": [
      "Accuracy of the network on the 10000 test images: 0.4998\n"
     ]
    }
   ],
   "source": [
    "evaluate_model(resnet_trimmed, test_loader, device, \"test\")"
   ]
  },
  {
   "cell_type": "markdown",
   "metadata": {},
   "source": [
    "Стоит учесть, что ResNet обучался на более сложных данных (разрешение ImageNet 224:224). Возможно, начиная с некоторого момента, стоит дообучать не только последний слой, но и остальные (обучение последнего слоя необходимо, чтобы модель давала не совсем бессмысленные предсказания).\n",
    "\n",
    "Для этого заново инициализируем ResNet:"
   ]
  },
  {
   "cell_type": "code",
   "execution_count": 62,
   "metadata": {},
   "outputs": [],
   "source": [
    "model_resnet18 = torchvision.models.resnet18(pretrained=True)\n",
    "n_features = 64\n",
    "n_classes = len(class_labels)\n",
    "\n",
    "used_modules = list(model_resnet18.children())[:-5] + [\n",
    "    nn.AdaptiveAvgPool2d((1, 1)),\n",
    "    nn.Flatten(),\n",
    "    nn.Linear(n_features, n_classes),\n",
    "]\n",
    "resnet_trimmed = nn.Sequential(*used_modules)\n",
    "for p in resnet_trimmed.parameters():\n",
    "    p.requires_grad = False\n",
    "\n",
    "resnet_trimmed[-1].requires_grad_(True)\n",
    "resnet_trimmed = resnet_trimmed.to(device)\n",
    "optimizer_resnet_trimmed = optim.Adam(resnet_trimmed.parameters(), lr=0.001)"
   ]
  },
  {
   "cell_type": "code",
   "execution_count": 63,
   "metadata": {},
   "outputs": [
    {
     "name": "stdout",
     "output_type": "stream",
     "text": [
      "Epoch: 1, loss = 6.5618\n",
      "Epoch: 2, loss = 5.8911\n",
      "Epoch: 3, loss = 5.5143\n",
      "Epoch: 4, loss = 3.3083\n",
      "Epoch: 5, loss = 2.3651\n",
      "Epoch: 6, loss = 2.0012\n",
      "Epoch: 7, loss = 1.7833\n",
      "Epoch: 8, loss = 1.6139\n",
      "Epoch: 9, loss = 1.4802\n",
      "Epoch: 10, loss = 1.3642\n",
      "Epoch: 11, loss = 1.2504\n",
      "Epoch: 12, loss = 1.1716\n",
      "Epoch: 13, loss = 1.0836\n",
      "Epoch: 14, loss = 1.0069\n",
      "Epoch: 15, loss = 0.9304\n"
     ]
    }
   ],
   "source": [
    "loss_history = []\n",
    "for epoch in range(NUM_EPOCHS):\n",
    "    epoch_loss = 0.0\n",
    "    for inputs, labels in train_loader:\n",
    "        inputs, labels = inputs.to(device), labels.to(device)\n",
    "        batch_loss = train_one_step(\n",
    "            resnet_trimmed, optimizer_resnet_trimmed, criterion, inputs, labels\n",
    "        )\n",
    "        epoch_loss += batch_loss / len(inputs)\n",
    "    print(\"Epoch: {}, loss = {:.4f}\".format(epoch + 1, epoch_loss))\n",
    "    loss_history.append(epoch_loss)\n",
    "\n",
    "    if epoch == 2:\n",
    "        for p in resnet_trimmed.parameters():\n",
    "            p.requires_grad = True"
   ]
  },
  {
   "cell_type": "code",
   "execution_count": 64,
   "metadata": {},
   "outputs": [
    {
     "name": "stdout",
     "output_type": "stream",
     "text": [
      "Accuracy of the network on the 10000 train images: 0.8808\n"
     ]
    }
   ],
   "source": [
    "evaluate_model(resnet_trimmed, train_loader, device, \"train\")"
   ]
  },
  {
   "cell_type": "code",
   "execution_count": 65,
   "metadata": {},
   "outputs": [
    {
     "name": "stdout",
     "output_type": "stream",
     "text": [
      "Accuracy of the network on the 10000 test images: 0.7820\n"
     ]
    }
   ],
   "source": [
    "evaluate_model(resnet_trimmed, test_loader, device, \"test\")"
   ]
  },
  {
   "cell_type": "markdown",
   "metadata": {},
   "source": [
    "В целом качество классификации выросло."
   ]
  },
  {
   "cell_type": "markdown",
   "metadata": {},
   "source": [
    "Рассмотрим accuracy по каждому классу отдельно:"
   ]
  },
  {
   "cell_type": "code",
   "execution_count": 66,
   "metadata": {},
   "outputs": [
    {
     "data": {
      "image/png": "[encoded data removed]",
      "text/plain": [
       "<Figure size 864x576 with 1 Axes>"
      ]
     },
     "metadata": {
      "needs_background": "light"
     },
     "output_type": "display_data"
    }
   ],
   "source": [
    "class_correct = np.zeros(10)\n",
    "class_total = np.zeros(10)\n",
    "with torch.no_grad():\n",
    "    for data in test_loader:\n",
    "        images, labels = data\n",
    "        outputs = resnet_trimmed(images.to(device))\n",
    "        _, predicted = torch.max(outputs.cpu(), 1)\n",
    "        c = (predicted == labels).squeeze()\n",
    "        for i in range(4):\n",
    "            label = labels[i]\n",
    "            class_correct[label] += c[i].item()\n",
    "            class_total[label] += 1\n",
    "\n",
    "fig = plt.figure(figsize=(12, 8))\n",
    "\n",
    "ax = fig.add_axes([0, 0, 1, 0.75])  # main axes\n",
    "_bar = ax.bar(np.arange(n_classes), class_correct / class_total)\n",
    "ax.set_xticks(list(np.arange(n_classes)))\n",
    "_ = ax.set_xticklabels(class_labels)\n",
    "plt.grid()"
   ]
  },
  {
   "cell_type": "markdown",
   "metadata": {},
   "source": [
    "В качестве эксперимента обучим ResNet c нуля:"
   ]
  },
  {
   "cell_type": "code",
   "execution_count": 67,
   "metadata": {},
   "outputs": [
    {
     "name": "stdout",
     "output_type": "stream",
     "text": [
      "Epoch: 1, loss = 1.0179\n",
      "Epoch: 2, loss = 0.9150\n",
      "Epoch: 3, loss = 0.8621\n",
      "Epoch: 4, loss = 0.8436\n",
      "Epoch: 5, loss = 0.8114\n",
      "Epoch: 6, loss = 0.7804\n",
      "Epoch: 7, loss = 0.7107\n",
      "Epoch: 8, loss = 0.7250\n",
      "Epoch: 9, loss = 0.6688\n",
      "Epoch: 10, loss = 0.6281\n",
      "Epoch: 11, loss = 0.6582\n",
      "Epoch: 12, loss = 0.5746\n",
      "Epoch: 13, loss = 0.5286\n",
      "Epoch: 14, loss = 0.5204\n",
      "Epoch: 15, loss = 0.5078\n",
      "Accuracy of the network on the 10000 train images: 0.9626\n",
      "Accuracy of the network on the 10000 test images: 0.8006\n"
     ]
    }
   ],
   "source": [
    "model_resnet18_raw = torchvision.models.resnet18(pretrained=False)\n",
    "\n",
    "used_modules = list(model_resnet18_raw.children())[:-5] + [\n",
    "    nn.AdaptiveAvgPool2d((1, 1)),\n",
    "    nn.Flatten(),\n",
    "    nn.Linear(n_features, n_classes),\n",
    "]\n",
    "resnet_trimmed_raw = nn.Sequential(*used_modules)\n",
    "resnet_trimmed_raw = resnet_trimmed.to(device)\n",
    "\n",
    "optimizer_resnet_trimmed_raw = optim.Adam(resnet_trimmed_raw.parameters(), lr=0.001)\n",
    "\n",
    "loss_history = []\n",
    "for epoch in range(NUM_EPOCHS):\n",
    "    epoch_loss = 0.0\n",
    "    for inputs, labels in train_loader:\n",
    "        inputs, labels = inputs.to(device), labels.to(device)\n",
    "        batch_loss = train_one_step(\n",
    "            resnet_trimmed_raw, optimizer_resnet_trimmed_raw, criterion, inputs, labels\n",
    "        )\n",
    "        epoch_loss += batch_loss / len(inputs)\n",
    "    print(\"Epoch: {}, loss = {:.4f}\".format(epoch + 1, epoch_loss))\n",
    "    loss_history.append(epoch_loss)\n",
    "\n",
    "\n",
    "evaluate_model(resnet_trimmed_raw, train_loader, device, \"train\")\n",
    "evaluate_model(resnet_trimmed_raw, test_loader, device, \"test\")"
   ]
  },
  {
   "cell_type": "markdown",
   "metadata": {},
   "source": [
    "### Выводы\n",
    "* Сверточные подходят для анализа изображений и в целом данных со сложной структурой (например, временных рядов и даже текстов) благодаря их способности учитывать локальную структуру в данных.\n",
    "\n",
    "* Использование предобученных моделей позволяет получать качественные результаты в задачах компьютерного зрения. Предобученная модель уже \"обладает знанием\" о характерных признаках изображений и об их общей структуре, как правило, выученных при работе с большими наборами данных.\n",
    "\n",
    "* Стоит помнить, что предобученная модель была обучена под конретную задачу. Если модель обучалась на медицинских данных, она вряд ли сильно поможет в задача распознавания рукописного текста.\n",
    "\n",
    "* Для многих задач интерес представляют лишь несколько первых слоев нейронной сети, способных извлекать низкоуровневые информативные признаки. Например, модель, обученная на задаче анализа медицинских изображений (рентген) может быть полезна при работе с данными о структуре металла. \n",
    "\n",
    "* Стоит помнить, что сами данные должны быть преобразованы к подходящему виду (размер, цветовое пространство, яркость и пр.)\n",
    "\n",
    "* Использование нейронных сетей подходящей структуры позволяет добиваться знамых результатов во многих областях. Если архитектура сети учитываев структуру и свойсва используемых данных, то шансы на успешное решение задачи значительно выше."
   ]
  }
 ],
 "metadata": {
  "kernelspec": {
   "display_name": "Py3 Research",
   "language": "python",
   "name": "py3_research"
  },
  "language_info": {
   "codemirror_mode": {
    "name": "ipython",
    "version": 3
   },
   "file_extension": ".py",
   "mimetype": "text/x-python",
   "name": "python",
   "nbconvert_exporter": "python",
   "pygments_lexer": "ipython3",
   "version": "3.7.10"
  }
 },
 "nbformat": 4,
 "nbformat_minor": 4
}
