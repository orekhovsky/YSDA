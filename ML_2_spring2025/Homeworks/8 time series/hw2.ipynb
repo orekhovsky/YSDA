{
  "cells": [
    {
      "cell_type": "markdown",
      "metadata": {
        "id": "view-in-github",
        "colab_type": "text"
      },
      "source": [
        "<a href=\"https://colab.research.google.com/github/orekhovsky/YSDA/blob/main/ML_2_spring2025/Homeworks/8%20time%20series/hw2.ipynb\" target=\"_parent\"><img src=\"https://colab.research.google.com/assets/colab-badge.svg\" alt=\"Open In Colab\"/></a>"
      ]
    },
    {
      "cell_type": "markdown",
      "metadata": {
        "id": "6QgLp425nLtD"
      },
      "source": [
        "# Лабораторная работа 5. Временные ряды.\n",
        "\n",
        "\n",
        "Результат лабораторной работы &mdash; отчет. Мы предпочитаем принимать отчеты в формате ноутбуков IPython (ipynb-файл). Постарайтесь сделать ваш отчет интересным рассказом, последовательно отвечающим на вопросы из заданий. Помимо ответов на вопросы, в отчете так же должен быть код, однако чем меньше кода, тем лучше всем: нам &mdash; меньше проверять, вам &mdash; проще найти ошибку или дополнить эксперимент. При проверке оценивается четкость ответов на вопросы, аккуратность отчета и кода.\n",
        "\n",
        "\n",
        "### Оценивание и штрафы\n",
        "Каждая из задач имеет определенную «стоимость» (указана в скобках около задачи). Максимально допустимая оценка за работу &mdash; 10 баллов. Сдавать задание после указанного в lk срока сдачи нельзя. «Похожие» решения считаются плагиатом и все задействованные студенты (в том числе те, у кого списали) не могут получить за него больше 0 баллов и понижают карму (подробнее о плагиате см. на странице курса). Если вы нашли решение какого-то из заданий в открытом источнике, необходимо прислать ссылку на этот источник (скорее всего вы будете не единственным, кто это нашел, поэтому чтобы исключить подозрение в плагиате, нам необходима ссылка на источник).\n",
        "\n"
      ]
    },
    {
      "cell_type": "code",
      "source": [
        "pip install tbats"
      ],
      "metadata": {
        "id": "CHsCElm2nSTs"
      },
      "execution_count": null,
      "outputs": []
    },
    {
      "cell_type": "code",
      "source": [
        "# pip uninstall numpy pmdarima -y\n",
        "!pip install numpy==1.23.5 pmdarima"
      ],
      "metadata": {
        "id": "hMjRhNsFnlpz"
      },
      "execution_count": null,
      "outputs": []
    },
    {
      "cell_type": "code",
      "execution_count": 4,
      "metadata": {
        "id": "wUplFnWznLtH"
      },
      "outputs": [],
      "source": [
        "import os\n",
        "import numpy as np\n",
        "import pandas as pd\n",
        "from zipfile import ZipFile\n",
        "\n",
        "import matplotlib.pyplot as plt\n",
        "import seaborn as sns\n",
        "sns.set(palette='Set2')\n",
        "\n",
        "from pandas.plotting import register_matplotlib_converters\n",
        "register_matplotlib_converters()\n",
        "\n",
        "import statsmodels.api as sm\n",
        "import pmdarima as pm\n",
        "from tbats import TBATS"
      ]
    },
    {
      "cell_type": "markdown",
      "metadata": {
        "id": "2OuBwwwwnLtJ"
      },
      "source": [
        "## 1. Данные"
      ]
    },
    {
      "cell_type": "markdown",
      "metadata": {
        "id": "302L-vxLnLtK"
      },
      "source": [
        "В качестве данных рассмотрим известный набор данных с параметрами погоды в одной точке земной поверхности, доступный нам с частотой дискретизации в 10 минут. Описание данных доступно по <a href=\"https://keras.io/examples/timeseries/timeseries_weather_forecasting/\">ссылке</a>.\n",
        "\n",
        "Скачаем данные"
      ]
    },
    {
      "cell_type": "code",
      "execution_count": 5,
      "metadata": {
        "id": "NmwrtCgsnLtK",
        "outputId": "22093c04-73d4-41de-9596-e2b5502b8a56",
        "colab": {
          "base_uri": "https://localhost:8080/"
        }
      },
      "outputs": [
        {
          "output_type": "stream",
          "name": "stdout",
          "text": [
            "--2025-05-01 16:36:53--  https://storage.googleapis.com/tensorflow/tf-keras-datasets/jena_climate_2009_2016.csv.zip\n",
            "Resolving storage.googleapis.com (storage.googleapis.com)... 173.194.210.207, 173.194.212.207, 173.194.215.207, ...\n",
            "Connecting to storage.googleapis.com (storage.googleapis.com)|173.194.210.207|:443... connected.\n",
            "HTTP request sent, awaiting response... 200 OK\n",
            "Length: 13568290 (13M) [application/zip]\n",
            "Saving to: ‘jena_climate_2009_2016.csv.zip’\n",
            "\n",
            "\r          jena_clim   0%[                    ]       0  --.-KB/s               \rjena_climate_2009_2 100%[===================>]  12.94M  --.-KB/s    in 0.1s    \n",
            "\n",
            "2025-05-01 16:36:53 (118 MB/s) - ‘jena_climate_2009_2016.csv.zip’ saved [13568290/13568290]\n",
            "\n"
          ]
        }
      ],
      "source": [
        "uri = \"https://storage.googleapis.com/tensorflow/tf-keras-datasets/jena_climate_2009_2016.csv.zip\"\n",
        "!wget {uri}"
      ]
    },
    {
      "cell_type": "code",
      "execution_count": 6,
      "metadata": {
        "id": "nk6a6UpnnLtL"
      },
      "outputs": [],
      "source": [
        "zip_path = \"jena_climate_2009_2016.csv.zip\"\n",
        "assert os.path.exists(zip_path), f\"Download {uri}\"\n",
        "\n",
        "zip_file = ZipFile(zip_path)\n",
        "zip_file.extractall()\n",
        "csv_path = \"jena_climate_2009_2016.csv\""
      ]
    },
    {
      "cell_type": "markdown",
      "metadata": {
        "id": "qFhFOVConLtL"
      },
      "source": [
        "Немного преобразуем данные, рассмотрев максимальное значение каждой величины за сутки."
      ]
    },
    {
      "cell_type": "code",
      "execution_count": 17,
      "metadata": {
        "id": "AVysYikvnLtM",
        "outputId": "f1912125-3131-4aa8-c21f-1d8c14a0cae9",
        "colab": {
          "base_uri": "https://localhost:8080/",
          "height": 342
        }
      },
      "outputs": [
        {
          "output_type": "execute_result",
          "data": {
            "text/plain": [
              "            p (mbar)  T (degC)  Tpot (K)  Tdew (degC)  rh (%)  VPmax (mbar)  \\\n",
              "Date                                                                          \n",
              "2009-01-01   1000.87     -4.17    269.00        -5.36    94.8          4.48   \n",
              "2009-01-02   1002.65     -2.12    271.12        -3.88    96.3          5.22   \n",
              "2009-01-03   1002.49     -0.82    272.59        -6.09    93.9          5.75   \n",
              "2009-01-04    992.93     -0.63    273.55        -2.26    93.9          5.83   \n",
              "2009-01-05    997.54     -1.44    272.89        -2.45    93.2          5.49   \n",
              "\n",
              "            VPact (mbar)  VPdef (mbar)  sh (g/kg)  H2OC (mmol/mol)  \\\n",
              "Date                                                                 \n",
              "2009-01-01          4.09          0.49       2.55             4.09   \n",
              "2009-01-02          4.58          0.70       2.86             4.59   \n",
              "2009-01-03          3.87          2.86       2.41             3.86   \n",
              "2009-01-04          5.17          1.53       3.27             5.25   \n",
              "2009-01-05          5.10          0.83       3.23             5.18   \n",
              "\n",
              "            rho (g/m**3)  wv (m/s)  max. wv (m/s)  wd (deg)  \n",
              "Date                                                         \n",
              "2009-01-01       1318.81      2.51           3.63     357.9  \n",
              "2009-01-02       1298.51      3.87           6.13     358.8  \n",
              "2009-01-03       1323.70      3.64           4.88     357.2  \n",
              "2009-01-04       1274.06      3.95           7.13     257.0  \n",
              "2009-01-05       1332.38      7.81          10.88     358.9  "
            ],
            "text/html": [
              "\n",
              "  <div id=\"df-8e3f41cf-82c4-44df-ae15-8284232e144d\" class=\"colab-df-container\">\n",
              "    <div>\n",
              "<style scoped>\n",
              "    .dataframe tbody tr th:only-of-type {\n",
              "        vertical-align: middle;\n",
              "    }\n",
              "\n",
              "    .dataframe tbody tr th {\n",
              "        vertical-align: top;\n",
              "    }\n",
              "\n",
              "    .dataframe thead th {\n",
              "        text-align: right;\n",
              "    }\n",
              "</style>\n",
              "<table border=\"1\" class=\"dataframe\">\n",
              "  <thead>\n",
              "    <tr style=\"text-align: right;\">\n",
              "      <th></th>\n",
              "      <th>p (mbar)</th>\n",
              "      <th>T (degC)</th>\n",
              "      <th>Tpot (K)</th>\n",
              "      <th>Tdew (degC)</th>\n",
              "      <th>rh (%)</th>\n",
              "      <th>VPmax (mbar)</th>\n",
              "      <th>VPact (mbar)</th>\n",
              "      <th>VPdef (mbar)</th>\n",
              "      <th>sh (g/kg)</th>\n",
              "      <th>H2OC (mmol/mol)</th>\n",
              "      <th>rho (g/m**3)</th>\n",
              "      <th>wv (m/s)</th>\n",
              "      <th>max. wv (m/s)</th>\n",
              "      <th>wd (deg)</th>\n",
              "    </tr>\n",
              "    <tr>\n",
              "      <th>Date</th>\n",
              "      <th></th>\n",
              "      <th></th>\n",
              "      <th></th>\n",
              "      <th></th>\n",
              "      <th></th>\n",
              "      <th></th>\n",
              "      <th></th>\n",
              "      <th></th>\n",
              "      <th></th>\n",
              "      <th></th>\n",
              "      <th></th>\n",
              "      <th></th>\n",
              "      <th></th>\n",
              "      <th></th>\n",
              "    </tr>\n",
              "  </thead>\n",
              "  <tbody>\n",
              "    <tr>\n",
              "      <th>2009-01-01</th>\n",
              "      <td>1000.87</td>\n",
              "      <td>-4.17</td>\n",
              "      <td>269.00</td>\n",
              "      <td>-5.36</td>\n",
              "      <td>94.8</td>\n",
              "      <td>4.48</td>\n",
              "      <td>4.09</td>\n",
              "      <td>0.49</td>\n",
              "      <td>2.55</td>\n",
              "      <td>4.09</td>\n",
              "      <td>1318.81</td>\n",
              "      <td>2.51</td>\n",
              "      <td>3.63</td>\n",
              "      <td>357.9</td>\n",
              "    </tr>\n",
              "    <tr>\n",
              "      <th>2009-01-02</th>\n",
              "      <td>1002.65</td>\n",
              "      <td>-2.12</td>\n",
              "      <td>271.12</td>\n",
              "      <td>-3.88</td>\n",
              "      <td>96.3</td>\n",
              "      <td>5.22</td>\n",
              "      <td>4.58</td>\n",
              "      <td>0.70</td>\n",
              "      <td>2.86</td>\n",
              "      <td>4.59</td>\n",
              "      <td>1298.51</td>\n",
              "      <td>3.87</td>\n",
              "      <td>6.13</td>\n",
              "      <td>358.8</td>\n",
              "    </tr>\n",
              "    <tr>\n",
              "      <th>2009-01-03</th>\n",
              "      <td>1002.49</td>\n",
              "      <td>-0.82</td>\n",
              "      <td>272.59</td>\n",
              "      <td>-6.09</td>\n",
              "      <td>93.9</td>\n",
              "      <td>5.75</td>\n",
              "      <td>3.87</td>\n",
              "      <td>2.86</td>\n",
              "      <td>2.41</td>\n",
              "      <td>3.86</td>\n",
              "      <td>1323.70</td>\n",
              "      <td>3.64</td>\n",
              "      <td>4.88</td>\n",
              "      <td>357.2</td>\n",
              "    </tr>\n",
              "    <tr>\n",
              "      <th>2009-01-04</th>\n",
              "      <td>992.93</td>\n",
              "      <td>-0.63</td>\n",
              "      <td>273.55</td>\n",
              "      <td>-2.26</td>\n",
              "      <td>93.9</td>\n",
              "      <td>5.83</td>\n",
              "      <td>5.17</td>\n",
              "      <td>1.53</td>\n",
              "      <td>3.27</td>\n",
              "      <td>5.25</td>\n",
              "      <td>1274.06</td>\n",
              "      <td>3.95</td>\n",
              "      <td>7.13</td>\n",
              "      <td>257.0</td>\n",
              "    </tr>\n",
              "    <tr>\n",
              "      <th>2009-01-05</th>\n",
              "      <td>997.54</td>\n",
              "      <td>-1.44</td>\n",
              "      <td>272.89</td>\n",
              "      <td>-2.45</td>\n",
              "      <td>93.2</td>\n",
              "      <td>5.49</td>\n",
              "      <td>5.10</td>\n",
              "      <td>0.83</td>\n",
              "      <td>3.23</td>\n",
              "      <td>5.18</td>\n",
              "      <td>1332.38</td>\n",
              "      <td>7.81</td>\n",
              "      <td>10.88</td>\n",
              "      <td>358.9</td>\n",
              "    </tr>\n",
              "  </tbody>\n",
              "</table>\n",
              "</div>\n",
              "    <div class=\"colab-df-buttons\">\n",
              "\n",
              "  <div class=\"colab-df-container\">\n",
              "    <button class=\"colab-df-convert\" onclick=\"convertToInteractive('df-8e3f41cf-82c4-44df-ae15-8284232e144d')\"\n",
              "            title=\"Convert this dataframe to an interactive table.\"\n",
              "            style=\"display:none;\">\n",
              "\n",
              "  <svg xmlns=\"http://www.w3.org/2000/svg\" height=\"24px\" viewBox=\"0 -960 960 960\">\n",
              "    <path d=\"M120-120v-720h720v720H120Zm60-500h600v-160H180v160Zm220 220h160v-160H400v160Zm0 220h160v-160H400v160ZM180-400h160v-160H180v160Zm440 0h160v-160H620v160ZM180-180h160v-160H180v160Zm440 0h160v-160H620v160Z\"/>\n",
              "  </svg>\n",
              "    </button>\n",
              "\n",
              "  <style>\n",
              "    .colab-df-container {\n",
              "      display:flex;\n",
              "      gap: 12px;\n",
              "    }\n",
              "\n",
              "    .colab-df-convert {\n",
              "      background-color: #E8F0FE;\n",
              "      border: none;\n",
              "      border-radius: 50%;\n",
              "      cursor: pointer;\n",
              "      display: none;\n",
              "      fill: #1967D2;\n",
              "      height: 32px;\n",
              "      padding: 0 0 0 0;\n",
              "      width: 32px;\n",
              "    }\n",
              "\n",
              "    .colab-df-convert:hover {\n",
              "      background-color: #E2EBFA;\n",
              "      box-shadow: 0px 1px 2px rgba(60, 64, 67, 0.3), 0px 1px 3px 1px rgba(60, 64, 67, 0.15);\n",
              "      fill: #174EA6;\n",
              "    }\n",
              "\n",
              "    .colab-df-buttons div {\n",
              "      margin-bottom: 4px;\n",
              "    }\n",
              "\n",
              "    [theme=dark] .colab-df-convert {\n",
              "      background-color: #3B4455;\n",
              "      fill: #D2E3FC;\n",
              "    }\n",
              "\n",
              "    [theme=dark] .colab-df-convert:hover {\n",
              "      background-color: #434B5C;\n",
              "      box-shadow: 0px 1px 3px 1px rgba(0, 0, 0, 0.15);\n",
              "      filter: drop-shadow(0px 1px 2px rgba(0, 0, 0, 0.3));\n",
              "      fill: #FFFFFF;\n",
              "    }\n",
              "  </style>\n",
              "\n",
              "    <script>\n",
              "      const buttonEl =\n",
              "        document.querySelector('#df-8e3f41cf-82c4-44df-ae15-8284232e144d button.colab-df-convert');\n",
              "      buttonEl.style.display =\n",
              "        google.colab.kernel.accessAllowed ? 'block' : 'none';\n",
              "\n",
              "      async function convertToInteractive(key) {\n",
              "        const element = document.querySelector('#df-8e3f41cf-82c4-44df-ae15-8284232e144d');\n",
              "        const dataTable =\n",
              "          await google.colab.kernel.invokeFunction('convertToInteractive',\n",
              "                                                    [key], {});\n",
              "        if (!dataTable) return;\n",
              "\n",
              "        const docLinkHtml = 'Like what you see? Visit the ' +\n",
              "          '<a target=\"_blank\" href=https://colab.research.google.com/notebooks/data_table.ipynb>data table notebook</a>'\n",
              "          + ' to learn more about interactive tables.';\n",
              "        element.innerHTML = '';\n",
              "        dataTable['output_type'] = 'display_data';\n",
              "        await google.colab.output.renderOutput(dataTable, element);\n",
              "        const docLink = document.createElement('div');\n",
              "        docLink.innerHTML = docLinkHtml;\n",
              "        element.appendChild(docLink);\n",
              "      }\n",
              "    </script>\n",
              "  </div>\n",
              "\n",
              "\n",
              "    <div id=\"df-c84f9acc-7fc2-4f48-a92d-940e43b629fb\">\n",
              "      <button class=\"colab-df-quickchart\" onclick=\"quickchart('df-c84f9acc-7fc2-4f48-a92d-940e43b629fb')\"\n",
              "                title=\"Suggest charts\"\n",
              "                style=\"display:none;\">\n",
              "\n",
              "<svg xmlns=\"http://www.w3.org/2000/svg\" height=\"24px\"viewBox=\"0 0 24 24\"\n",
              "     width=\"24px\">\n",
              "    <g>\n",
              "        <path d=\"M19 3H5c-1.1 0-2 .9-2 2v14c0 1.1.9 2 2 2h14c1.1 0 2-.9 2-2V5c0-1.1-.9-2-2-2zM9 17H7v-7h2v7zm4 0h-2V7h2v10zm4 0h-2v-4h2v4z\"/>\n",
              "    </g>\n",
              "</svg>\n",
              "      </button>\n",
              "\n",
              "<style>\n",
              "  .colab-df-quickchart {\n",
              "      --bg-color: #E8F0FE;\n",
              "      --fill-color: #1967D2;\n",
              "      --hover-bg-color: #E2EBFA;\n",
              "      --hover-fill-color: #174EA6;\n",
              "      --disabled-fill-color: #AAA;\n",
              "      --disabled-bg-color: #DDD;\n",
              "  }\n",
              "\n",
              "  [theme=dark] .colab-df-quickchart {\n",
              "      --bg-color: #3B4455;\n",
              "      --fill-color: #D2E3FC;\n",
              "      --hover-bg-color: #434B5C;\n",
              "      --hover-fill-color: #FFFFFF;\n",
              "      --disabled-bg-color: #3B4455;\n",
              "      --disabled-fill-color: #666;\n",
              "  }\n",
              "\n",
              "  .colab-df-quickchart {\n",
              "    background-color: var(--bg-color);\n",
              "    border: none;\n",
              "    border-radius: 50%;\n",
              "    cursor: pointer;\n",
              "    display: none;\n",
              "    fill: var(--fill-color);\n",
              "    height: 32px;\n",
              "    padding: 0;\n",
              "    width: 32px;\n",
              "  }\n",
              "\n",
              "  .colab-df-quickchart:hover {\n",
              "    background-color: var(--hover-bg-color);\n",
              "    box-shadow: 0 1px 2px rgba(60, 64, 67, 0.3), 0 1px 3px 1px rgba(60, 64, 67, 0.15);\n",
              "    fill: var(--button-hover-fill-color);\n",
              "  }\n",
              "\n",
              "  .colab-df-quickchart-complete:disabled,\n",
              "  .colab-df-quickchart-complete:disabled:hover {\n",
              "    background-color: var(--disabled-bg-color);\n",
              "    fill: var(--disabled-fill-color);\n",
              "    box-shadow: none;\n",
              "  }\n",
              "\n",
              "  .colab-df-spinner {\n",
              "    border: 2px solid var(--fill-color);\n",
              "    border-color: transparent;\n",
              "    border-bottom-color: var(--fill-color);\n",
              "    animation:\n",
              "      spin 1s steps(1) infinite;\n",
              "  }\n",
              "\n",
              "  @keyframes spin {\n",
              "    0% {\n",
              "      border-color: transparent;\n",
              "      border-bottom-color: var(--fill-color);\n",
              "      border-left-color: var(--fill-color);\n",
              "    }\n",
              "    20% {\n",
              "      border-color: transparent;\n",
              "      border-left-color: var(--fill-color);\n",
              "      border-top-color: var(--fill-color);\n",
              "    }\n",
              "    30% {\n",
              "      border-color: transparent;\n",
              "      border-left-color: var(--fill-color);\n",
              "      border-top-color: var(--fill-color);\n",
              "      border-right-color: var(--fill-color);\n",
              "    }\n",
              "    40% {\n",
              "      border-color: transparent;\n",
              "      border-right-color: var(--fill-color);\n",
              "      border-top-color: var(--fill-color);\n",
              "    }\n",
              "    60% {\n",
              "      border-color: transparent;\n",
              "      border-right-color: var(--fill-color);\n",
              "    }\n",
              "    80% {\n",
              "      border-color: transparent;\n",
              "      border-right-color: var(--fill-color);\n",
              "      border-bottom-color: var(--fill-color);\n",
              "    }\n",
              "    90% {\n",
              "      border-color: transparent;\n",
              "      border-bottom-color: var(--fill-color);\n",
              "    }\n",
              "  }\n",
              "</style>\n",
              "\n",
              "      <script>\n",
              "        async function quickchart(key) {\n",
              "          const quickchartButtonEl =\n",
              "            document.querySelector('#' + key + ' button');\n",
              "          quickchartButtonEl.disabled = true;  // To prevent multiple clicks.\n",
              "          quickchartButtonEl.classList.add('colab-df-spinner');\n",
              "          try {\n",
              "            const charts = await google.colab.kernel.invokeFunction(\n",
              "                'suggestCharts', [key], {});\n",
              "          } catch (error) {\n",
              "            console.error('Error during call to suggestCharts:', error);\n",
              "          }\n",
              "          quickchartButtonEl.classList.remove('colab-df-spinner');\n",
              "          quickchartButtonEl.classList.add('colab-df-quickchart-complete');\n",
              "        }\n",
              "        (() => {\n",
              "          let quickchartButtonEl =\n",
              "            document.querySelector('#df-c84f9acc-7fc2-4f48-a92d-940e43b629fb button');\n",
              "          quickchartButtonEl.style.display =\n",
              "            google.colab.kernel.accessAllowed ? 'block' : 'none';\n",
              "        })();\n",
              "      </script>\n",
              "    </div>\n",
              "    </div>\n",
              "  </div>\n"
            ],
            "application/vnd.google.colaboratory.intrinsic+json": {
              "type": "dataframe",
              "variable_name": "weather_df_daily",
              "summary": "{\n  \"name\": \"weather_df_daily\",\n  \"rows\": 2923,\n  \"fields\": [\n    {\n      \"column\": \"Date\",\n      \"properties\": {\n        \"dtype\": \"date\",\n        \"min\": \"2009-01-01 00:00:00\",\n        \"max\": \"2017-01-01 00:00:00\",\n        \"num_unique_values\": 2923,\n        \"samples\": [\n          \"2011-11-14 00:00:00\",\n          \"2015-07-23 00:00:00\",\n          \"2012-02-02 00:00:00\"\n        ],\n        \"semantic_type\": \"\",\n        \"description\": \"\"\n      }\n    },\n    {\n      \"column\": \"p (mbar)\",\n      \"properties\": {\n        \"dtype\": \"number\",\n        \"std\": 7.667271322705182,\n        \"min\": 951.94,\n        \"max\": 1015.35,\n        \"num_unique_values\": 1768,\n        \"samples\": [\n          987.55,\n          998.25,\n          987.57\n        ],\n        \"semantic_type\": \"\",\n        \"description\": \"\"\n      }\n    },\n    {\n      \"column\": \"T (degC)\",\n      \"properties\": {\n        \"dtype\": \"number\",\n        \"std\": 9.001589189958803,\n        \"min\": -15.23,\n        \"max\": 37.28,\n        \"num_unique_values\": 1957,\n        \"samples\": [\n          13.22,\n          22.81,\n          6.52\n        ],\n        \"semantic_type\": \"\",\n        \"description\": \"\"\n      }\n    },\n    {\n      \"column\": \"Tpot (K)\",\n      \"properties\": {\n        \"dtype\": \"number\",\n        \"std\": 9.057408785867501,\n        \"min\": 259.44,\n        \"max\": 311.34,\n        \"num_unique_values\": 1997,\n        \"samples\": [\n          288.58,\n          268.81,\n          282.2\n        ],\n        \"semantic_type\": \"\",\n        \"description\": \"\"\n      }\n    },\n    {\n      \"column\": \"Tdew (degC)\",\n      \"properties\": {\n        \"dtype\": \"number\",\n        \"std\": 6.604407161684863,\n        \"min\": -17.47,\n        \"max\": 23.11,\n        \"num_unique_values\": 1722,\n        \"samples\": [\n          8.64,\n          6.77,\n          14.88\n        ],\n        \"semantic_type\": \"\",\n        \"description\": \"\"\n      }\n    },\n    {\n      \"column\": \"rh (%)\",\n      \"properties\": {\n        \"dtype\": \"number\",\n        \"std\": 6.37782662076978,\n        \"min\": 58.33,\n        \"max\": 100.0,\n        \"num_unique_values\": 292,\n        \"samples\": [\n          77.9,\n          69.38,\n          94.1\n        ],\n        \"semantic_type\": \"\",\n        \"description\": \"\"\n      }\n    },\n    {\n      \"column\": \"VPmax (mbar)\",\n      \"properties\": {\n        \"dtype\": \"number\",\n        \"std\": 10.251792334932725,\n        \"min\": 1.86,\n        \"max\": 63.77,\n        \"num_unique_values\": 1812,\n        \"samples\": [\n          54.45,\n          26.05,\n          19.27\n        ],\n        \"semantic_type\": \"\",\n        \"description\": \"\"\n      }\n    },\n    {\n      \"column\": \"VPact (mbar)\",\n      \"properties\": {\n        \"dtype\": \"number\",\n        \"std\": 4.686136491047294,\n        \"min\": 1.54,\n        \"max\": 28.32,\n        \"num_unique_values\": 1416,\n        \"samples\": [\n          5.41,\n          15.09,\n          3.96\n        ],\n        \"semantic_type\": \"\",\n        \"description\": \"\"\n      }\n    },\n    {\n      \"column\": \"VPdef (mbar)\",\n      \"properties\": {\n        \"dtype\": \"number\",\n        \"std\": 7.212128589804201,\n        \"min\": 0.0,\n        \"max\": 46.01,\n        \"num_unique_values\": 1575,\n        \"samples\": [\n          10.43,\n          2.9,\n          4.14\n        ],\n        \"semantic_type\": \"\",\n        \"description\": \"\"\n      }\n    },\n    {\n      \"column\": \"sh (g/kg)\",\n      \"properties\": {\n        \"dtype\": \"number\",\n        \"std\": 2.979209185265034,\n        \"min\": 0.96,\n        \"max\": 18.13,\n        \"num_unique_values\": 1072,\n        \"samples\": [\n          10.3,\n          8.8,\n          9.26\n        ],\n        \"semantic_type\": \"\",\n        \"description\": \"\"\n      }\n    },\n    {\n      \"column\": \"H2OC (mmol/mol)\",\n      \"properties\": {\n        \"dtype\": \"number\",\n        \"std\": 4.745046271943442,\n        \"min\": 1.55,\n        \"max\": 28.82,\n        \"num_unique_values\": 1440,\n        \"samples\": [\n          12.41,\n          8.79,\n          9.69\n        ],\n        \"semantic_type\": \"\",\n        \"description\": \"\"\n      }\n    },\n    {\n      \"column\": \"rho (g/m**3)\",\n      \"properties\": {\n        \"dtype\": \"number\",\n        \"std\": 35.623697823351215,\n        \"min\": 1162.06,\n        \"max\": 1393.54,\n        \"num_unique_values\": 2591,\n        \"samples\": [\n          1218.1,\n          1250.56,\n          1295.31\n        ],\n        \"semantic_type\": \"\",\n        \"description\": \"\"\n      }\n    },\n    {\n      \"column\": \"wv (m/s)\",\n      \"properties\": {\n        \"dtype\": \"number\",\n        \"std\": 2.005691403787439,\n        \"min\": 0.0,\n        \"max\": 28.49,\n        \"num_unique_values\": 774,\n        \"samples\": [\n          4.55,\n          11.41,\n          6.6\n        ],\n        \"semantic_type\": \"\",\n        \"description\": \"\"\n      }\n    },\n    {\n      \"column\": \"max. wv (m/s)\",\n      \"properties\": {\n        \"dtype\": \"number\",\n        \"std\": 2.9445744647445165,\n        \"min\": 0.0,\n        \"max\": 23.5,\n        \"num_unique_values\": 810,\n        \"samples\": [\n          7.55,\n          6.55,\n          8.31\n        ],\n        \"semantic_type\": \"\",\n        \"description\": \"\"\n      }\n    },\n    {\n      \"column\": \"wd (deg)\",\n      \"properties\": {\n        \"dtype\": \"number\",\n        \"std\": 56.50960263397063,\n        \"min\": 0.0,\n        \"max\": 360.0,\n        \"num_unique_values\": 1030,\n        \"samples\": [\n          353.5,\n          346.3,\n          267.5\n        ],\n        \"semantic_type\": \"\",\n        \"description\": \"\"\n      }\n    }\n  ]\n}"
            }
          },
          "metadata": {},
          "execution_count": 17
        }
      ],
      "source": [
        "weather_df = pd.read_csv(csv_path)\n",
        "weather_df[\"Date\"] = pd.to_datetime(weather_df[\"Date Time\"], format=\"%d.%m.%Y %H:%M:%S\")\n",
        "\n",
        "weather_df_daily = weather_df.set_index(\"Date\").resample('D').max().reset_index()\n",
        "del weather_df_daily[\"Date Time\"]\n",
        "weather_df_daily = weather_df_daily.set_index('Date')\n",
        "weather_df_daily.head()"
      ]
    },
    {
      "cell_type": "markdown",
      "metadata": {
        "id": "tX-He5panLtM"
      },
      "source": [
        "Теперь в каждой строчке датасета мы имеем максимальные значения за сутки. Например, в строчке `2012-12-22` в колонке `T (degC)` записана максимальная температура по Цельсию за данные сутки.\n",
        "\n",
        "**Глобальная цель** в данном домашнем задании &mdash; прогнозирование максимальной температуры на день вперед. Например, 22 декабря нужно построить прогноз значения `T (degC)` за 23 декабря, используя при этом любые данные до 22 декабря включительно, но не используя никакие данные начиная с 23 декабря.\n",
        "\n",
        "*Замечание*. Обратите внимание, что значения от 22 декабря доступны только по окончанию этого дня, плюс накладные расходы на поставку данных. Но для упрощения ситуации, допустим, что данные приходят мгновенно, а прогноз от нас ждут в начале суток 23 декабря, так что мы успеем подучить данные от 22 декабря, преобразовать их в признаки и применить нашу модель."
      ]
    },
    {
      "cell_type": "markdown",
      "metadata": {
        "id": "KX8QWpItnLtM"
      },
      "source": [
        "#### Задача 1. [0.25 балла]\n",
        "\n",
        "Выделите таргет в отдельную переменную `pd.Series`. Значением таргета от 22 декабря должна быть максимальная температура за сутки 23 декабря, то есть то, что мы хотим прогнозировать."
      ]
    },
    {
      "cell_type": "code",
      "execution_count": 18,
      "metadata": {
        "id": "VWgC1xzinLtN",
        "outputId": "06adc1bc-58ba-4392-c325-b3cc69a294e1",
        "colab": {
          "base_uri": "https://localhost:8080/",
          "height": 272
        }
      },
      "outputs": [
        {
          "output_type": "execute_result",
          "data": {
            "text/plain": [
              "Date\n",
              "2016-12-28    4.55\n",
              "2016-12-29    3.67\n",
              "2016-12-30    5.21\n",
              "2016-12-31   -4.82\n",
              "2017-01-01     NaN\n",
              "Name: T (degC), dtype: float64"
            ],
            "text/html": [
              "<div>\n",
              "<style scoped>\n",
              "    .dataframe tbody tr th:only-of-type {\n",
              "        vertical-align: middle;\n",
              "    }\n",
              "\n",
              "    .dataframe tbody tr th {\n",
              "        vertical-align: top;\n",
              "    }\n",
              "\n",
              "    .dataframe thead th {\n",
              "        text-align: right;\n",
              "    }\n",
              "</style>\n",
              "<table border=\"1\" class=\"dataframe\">\n",
              "  <thead>\n",
              "    <tr style=\"text-align: right;\">\n",
              "      <th></th>\n",
              "      <th>T (degC)</th>\n",
              "    </tr>\n",
              "    <tr>\n",
              "      <th>Date</th>\n",
              "      <th></th>\n",
              "    </tr>\n",
              "  </thead>\n",
              "  <tbody>\n",
              "    <tr>\n",
              "      <th>2016-12-28</th>\n",
              "      <td>4.55</td>\n",
              "    </tr>\n",
              "    <tr>\n",
              "      <th>2016-12-29</th>\n",
              "      <td>3.67</td>\n",
              "    </tr>\n",
              "    <tr>\n",
              "      <th>2016-12-30</th>\n",
              "      <td>5.21</td>\n",
              "    </tr>\n",
              "    <tr>\n",
              "      <th>2016-12-31</th>\n",
              "      <td>-4.82</td>\n",
              "    </tr>\n",
              "    <tr>\n",
              "      <th>2017-01-01</th>\n",
              "      <td>NaN</td>\n",
              "    </tr>\n",
              "  </tbody>\n",
              "</table>\n",
              "</div><br><label><b>dtype:</b> float64</label>"
            ]
          },
          "metadata": {},
          "execution_count": 18
        }
      ],
      "source": [
        "target = weather_df_daily['T (degC)'].shift(-1)\n",
        "target.tail()"
      ]
    },
    {
      "cell_type": "markdown",
      "metadata": {
        "id": "0wMBTMKVnLtN"
      },
      "source": [
        "Разделите данные на обучающие и тестовые. В качестве тестового отрезка времени возьмите данные за последний год. Обратите внимание, что за 2016-10-26 и 2016-10-27 данных нет."
      ]
    },
    {
      "cell_type": "code",
      "execution_count": 24,
      "metadata": {
        "id": "MrL_Ud1wnLtN",
        "outputId": "54f20b08-ef12-4f23-a038-db9dfc7f1506",
        "colab": {
          "base_uri": "https://localhost:8080/",
          "height": 615
        }
      },
      "outputs": [
        {
          "output_type": "execute_result",
          "data": {
            "text/plain": [
              "           Date  p (mbar)  Tpot (K)  Tdew (degC)  rh (%)  VPmax (mbar)  \\\n",
              "2556 2016-01-01   1000.60    275.96         2.10    98.7          7.43   \n",
              "2557 2016-01-02    995.51    274.40        -0.85    96.8          6.29   \n",
              "2558 2016-01-03    989.39    274.50        -2.52    94.7          6.12   \n",
              "2559 2016-01-04    974.02    275.19        -1.90    93.8          5.86   \n",
              "2560 2016-01-05    972.90    274.91        -1.55    96.8          5.76   \n",
              "...         ...       ...       ...          ...     ...           ...   \n",
              "2918 2016-12-28   1015.35    278.53         3.11    91.9          9.55   \n",
              "2919 2016-12-29   1015.21    276.65         2.43    98.1          8.46   \n",
              "2920 2016-12-30   1012.55    276.11         2.97    98.2          7.95   \n",
              "2921 2016-12-31   1008.67    278.12        -3.04    91.8          8.86   \n",
              "2922 2017-01-01    999.82    268.36        -8.42    75.7          4.27   \n",
              "\n",
              "      VPact (mbar)  VPdef (mbar)  sh (g/kg)  H2OC (mmol/mol)  rho (g/m**3)  \\\n",
              "2556          7.11          0.68       4.44             7.12       1282.99   \n",
              "2557          5.74          0.89       3.59             5.76       1273.63   \n",
              "2558          5.07          1.58       3.20             5.14       1272.99   \n",
              "2559          5.31          1.24       3.42             5.49       1250.03   \n",
              "2560          5.45          0.45       3.51             5.63       1251.96   \n",
              "...            ...           ...        ...              ...           ...   \n",
              "2918          7.64          2.19       4.70             7.54       1275.20   \n",
              "2919          7.28          1.79       4.47             7.17       1297.30   \n",
              "2920          7.56          1.70       4.67             7.49       1312.47   \n",
              "2921          4.88          4.03       3.03             4.86       1314.79   \n",
              "2922          3.23          1.04       2.01             3.23       1296.38   \n",
              "\n",
              "      wv (m/s)  max. wv (m/s)  wd (deg)  \n",
              "2556      3.13           5.17     293.5  \n",
              "2557      4.01           5.37     360.0  \n",
              "2558      4.46           6.49     173.2  \n",
              "2559      4.06           6.25     354.6  \n",
              "2560      3.21           4.41     349.2  \n",
              "...        ...            ...       ...  \n",
              "2918      4.08           7.45     348.3  \n",
              "2919      2.04           2.80     344.8  \n",
              "2920      2.20           3.77     282.7  \n",
              "2921      1.49           2.75     333.3  \n",
              "2922      1.23           1.96     184.9  \n",
              "\n",
              "[367 rows x 14 columns]"
            ],
            "text/html": [
              "\n",
              "  <div id=\"df-bd2880c8-fcb9-40d8-bf01-c9e47515db0c\" class=\"colab-df-container\">\n",
              "    <div>\n",
              "<style scoped>\n",
              "    .dataframe tbody tr th:only-of-type {\n",
              "        vertical-align: middle;\n",
              "    }\n",
              "\n",
              "    .dataframe tbody tr th {\n",
              "        vertical-align: top;\n",
              "    }\n",
              "\n",
              "    .dataframe thead th {\n",
              "        text-align: right;\n",
              "    }\n",
              "</style>\n",
              "<table border=\"1\" class=\"dataframe\">\n",
              "  <thead>\n",
              "    <tr style=\"text-align: right;\">\n",
              "      <th></th>\n",
              "      <th>Date</th>\n",
              "      <th>p (mbar)</th>\n",
              "      <th>Tpot (K)</th>\n",
              "      <th>Tdew (degC)</th>\n",
              "      <th>rh (%)</th>\n",
              "      <th>VPmax (mbar)</th>\n",
              "      <th>VPact (mbar)</th>\n",
              "      <th>VPdef (mbar)</th>\n",
              "      <th>sh (g/kg)</th>\n",
              "      <th>H2OC (mmol/mol)</th>\n",
              "      <th>rho (g/m**3)</th>\n",
              "      <th>wv (m/s)</th>\n",
              "      <th>max. wv (m/s)</th>\n",
              "      <th>wd (deg)</th>\n",
              "    </tr>\n",
              "  </thead>\n",
              "  <tbody>\n",
              "    <tr>\n",
              "      <th>2556</th>\n",
              "      <td>2016-01-01</td>\n",
              "      <td>1000.60</td>\n",
              "      <td>275.96</td>\n",
              "      <td>2.10</td>\n",
              "      <td>98.7</td>\n",
              "      <td>7.43</td>\n",
              "      <td>7.11</td>\n",
              "      <td>0.68</td>\n",
              "      <td>4.44</td>\n",
              "      <td>7.12</td>\n",
              "      <td>1282.99</td>\n",
              "      <td>3.13</td>\n",
              "      <td>5.17</td>\n",
              "      <td>293.5</td>\n",
              "    </tr>\n",
              "    <tr>\n",
              "      <th>2557</th>\n",
              "      <td>2016-01-02</td>\n",
              "      <td>995.51</td>\n",
              "      <td>274.40</td>\n",
              "      <td>-0.85</td>\n",
              "      <td>96.8</td>\n",
              "      <td>6.29</td>\n",
              "      <td>5.74</td>\n",
              "      <td>0.89</td>\n",
              "      <td>3.59</td>\n",
              "      <td>5.76</td>\n",
              "      <td>1273.63</td>\n",
              "      <td>4.01</td>\n",
              "      <td>5.37</td>\n",
              "      <td>360.0</td>\n",
              "    </tr>\n",
              "    <tr>\n",
              "      <th>2558</th>\n",
              "      <td>2016-01-03</td>\n",
              "      <td>989.39</td>\n",
              "      <td>274.50</td>\n",
              "      <td>-2.52</td>\n",
              "      <td>94.7</td>\n",
              "      <td>6.12</td>\n",
              "      <td>5.07</td>\n",
              "      <td>1.58</td>\n",
              "      <td>3.20</td>\n",
              "      <td>5.14</td>\n",
              "      <td>1272.99</td>\n",
              "      <td>4.46</td>\n",
              "      <td>6.49</td>\n",
              "      <td>173.2</td>\n",
              "    </tr>\n",
              "    <tr>\n",
              "      <th>2559</th>\n",
              "      <td>2016-01-04</td>\n",
              "      <td>974.02</td>\n",
              "      <td>275.19</td>\n",
              "      <td>-1.90</td>\n",
              "      <td>93.8</td>\n",
              "      <td>5.86</td>\n",
              "      <td>5.31</td>\n",
              "      <td>1.24</td>\n",
              "      <td>3.42</td>\n",
              "      <td>5.49</td>\n",
              "      <td>1250.03</td>\n",
              "      <td>4.06</td>\n",
              "      <td>6.25</td>\n",
              "      <td>354.6</td>\n",
              "    </tr>\n",
              "    <tr>\n",
              "      <th>2560</th>\n",
              "      <td>2016-01-05</td>\n",
              "      <td>972.90</td>\n",
              "      <td>274.91</td>\n",
              "      <td>-1.55</td>\n",
              "      <td>96.8</td>\n",
              "      <td>5.76</td>\n",
              "      <td>5.45</td>\n",
              "      <td>0.45</td>\n",
              "      <td>3.51</td>\n",
              "      <td>5.63</td>\n",
              "      <td>1251.96</td>\n",
              "      <td>3.21</td>\n",
              "      <td>4.41</td>\n",
              "      <td>349.2</td>\n",
              "    </tr>\n",
              "    <tr>\n",
              "      <th>...</th>\n",
              "      <td>...</td>\n",
              "      <td>...</td>\n",
              "      <td>...</td>\n",
              "      <td>...</td>\n",
              "      <td>...</td>\n",
              "      <td>...</td>\n",
              "      <td>...</td>\n",
              "      <td>...</td>\n",
              "      <td>...</td>\n",
              "      <td>...</td>\n",
              "      <td>...</td>\n",
              "      <td>...</td>\n",
              "      <td>...</td>\n",
              "      <td>...</td>\n",
              "    </tr>\n",
              "    <tr>\n",
              "      <th>2918</th>\n",
              "      <td>2016-12-28</td>\n",
              "      <td>1015.35</td>\n",
              "      <td>278.53</td>\n",
              "      <td>3.11</td>\n",
              "      <td>91.9</td>\n",
              "      <td>9.55</td>\n",
              "      <td>7.64</td>\n",
              "      <td>2.19</td>\n",
              "      <td>4.70</td>\n",
              "      <td>7.54</td>\n",
              "      <td>1275.20</td>\n",
              "      <td>4.08</td>\n",
              "      <td>7.45</td>\n",
              "      <td>348.3</td>\n",
              "    </tr>\n",
              "    <tr>\n",
              "      <th>2919</th>\n",
              "      <td>2016-12-29</td>\n",
              "      <td>1015.21</td>\n",
              "      <td>276.65</td>\n",
              "      <td>2.43</td>\n",
              "      <td>98.1</td>\n",
              "      <td>8.46</td>\n",
              "      <td>7.28</td>\n",
              "      <td>1.79</td>\n",
              "      <td>4.47</td>\n",
              "      <td>7.17</td>\n",
              "      <td>1297.30</td>\n",
              "      <td>2.04</td>\n",
              "      <td>2.80</td>\n",
              "      <td>344.8</td>\n",
              "    </tr>\n",
              "    <tr>\n",
              "      <th>2920</th>\n",
              "      <td>2016-12-30</td>\n",
              "      <td>1012.55</td>\n",
              "      <td>276.11</td>\n",
              "      <td>2.97</td>\n",
              "      <td>98.2</td>\n",
              "      <td>7.95</td>\n",
              "      <td>7.56</td>\n",
              "      <td>1.70</td>\n",
              "      <td>4.67</td>\n",
              "      <td>7.49</td>\n",
              "      <td>1312.47</td>\n",
              "      <td>2.20</td>\n",
              "      <td>3.77</td>\n",
              "      <td>282.7</td>\n",
              "    </tr>\n",
              "    <tr>\n",
              "      <th>2921</th>\n",
              "      <td>2016-12-31</td>\n",
              "      <td>1008.67</td>\n",
              "      <td>278.12</td>\n",
              "      <td>-3.04</td>\n",
              "      <td>91.8</td>\n",
              "      <td>8.86</td>\n",
              "      <td>4.88</td>\n",
              "      <td>4.03</td>\n",
              "      <td>3.03</td>\n",
              "      <td>4.86</td>\n",
              "      <td>1314.79</td>\n",
              "      <td>1.49</td>\n",
              "      <td>2.75</td>\n",
              "      <td>333.3</td>\n",
              "    </tr>\n",
              "    <tr>\n",
              "      <th>2922</th>\n",
              "      <td>2017-01-01</td>\n",
              "      <td>999.82</td>\n",
              "      <td>268.36</td>\n",
              "      <td>-8.42</td>\n",
              "      <td>75.7</td>\n",
              "      <td>4.27</td>\n",
              "      <td>3.23</td>\n",
              "      <td>1.04</td>\n",
              "      <td>2.01</td>\n",
              "      <td>3.23</td>\n",
              "      <td>1296.38</td>\n",
              "      <td>1.23</td>\n",
              "      <td>1.96</td>\n",
              "      <td>184.9</td>\n",
              "    </tr>\n",
              "  </tbody>\n",
              "</table>\n",
              "<p>367 rows × 14 columns</p>\n",
              "</div>\n",
              "    <div class=\"colab-df-buttons\">\n",
              "\n",
              "  <div class=\"colab-df-container\">\n",
              "    <button class=\"colab-df-convert\" onclick=\"convertToInteractive('df-bd2880c8-fcb9-40d8-bf01-c9e47515db0c')\"\n",
              "            title=\"Convert this dataframe to an interactive table.\"\n",
              "            style=\"display:none;\">\n",
              "\n",
              "  <svg xmlns=\"http://www.w3.org/2000/svg\" height=\"24px\" viewBox=\"0 -960 960 960\">\n",
              "    <path d=\"M120-120v-720h720v720H120Zm60-500h600v-160H180v160Zm220 220h160v-160H400v160Zm0 220h160v-160H400v160ZM180-400h160v-160H180v160Zm440 0h160v-160H620v160ZM180-180h160v-160H180v160Zm440 0h160v-160H620v160Z\"/>\n",
              "  </svg>\n",
              "    </button>\n",
              "\n",
              "  <style>\n",
              "    .colab-df-container {\n",
              "      display:flex;\n",
              "      gap: 12px;\n",
              "    }\n",
              "\n",
              "    .colab-df-convert {\n",
              "      background-color: #E8F0FE;\n",
              "      border: none;\n",
              "      border-radius: 50%;\n",
              "      cursor: pointer;\n",
              "      display: none;\n",
              "      fill: #1967D2;\n",
              "      height: 32px;\n",
              "      padding: 0 0 0 0;\n",
              "      width: 32px;\n",
              "    }\n",
              "\n",
              "    .colab-df-convert:hover {\n",
              "      background-color: #E2EBFA;\n",
              "      box-shadow: 0px 1px 2px rgba(60, 64, 67, 0.3), 0px 1px 3px 1px rgba(60, 64, 67, 0.15);\n",
              "      fill: #174EA6;\n",
              "    }\n",
              "\n",
              "    .colab-df-buttons div {\n",
              "      margin-bottom: 4px;\n",
              "    }\n",
              "\n",
              "    [theme=dark] .colab-df-convert {\n",
              "      background-color: #3B4455;\n",
              "      fill: #D2E3FC;\n",
              "    }\n",
              "\n",
              "    [theme=dark] .colab-df-convert:hover {\n",
              "      background-color: #434B5C;\n",
              "      box-shadow: 0px 1px 3px 1px rgba(0, 0, 0, 0.15);\n",
              "      filter: drop-shadow(0px 1px 2px rgba(0, 0, 0, 0.3));\n",
              "      fill: #FFFFFF;\n",
              "    }\n",
              "  </style>\n",
              "\n",
              "    <script>\n",
              "      const buttonEl =\n",
              "        document.querySelector('#df-bd2880c8-fcb9-40d8-bf01-c9e47515db0c button.colab-df-convert');\n",
              "      buttonEl.style.display =\n",
              "        google.colab.kernel.accessAllowed ? 'block' : 'none';\n",
              "\n",
              "      async function convertToInteractive(key) {\n",
              "        const element = document.querySelector('#df-bd2880c8-fcb9-40d8-bf01-c9e47515db0c');\n",
              "        const dataTable =\n",
              "          await google.colab.kernel.invokeFunction('convertToInteractive',\n",
              "                                                    [key], {});\n",
              "        if (!dataTable) return;\n",
              "\n",
              "        const docLinkHtml = 'Like what you see? Visit the ' +\n",
              "          '<a target=\"_blank\" href=https://colab.research.google.com/notebooks/data_table.ipynb>data table notebook</a>'\n",
              "          + ' to learn more about interactive tables.';\n",
              "        element.innerHTML = '';\n",
              "        dataTable['output_type'] = 'display_data';\n",
              "        await google.colab.output.renderOutput(dataTable, element);\n",
              "        const docLink = document.createElement('div');\n",
              "        docLink.innerHTML = docLinkHtml;\n",
              "        element.appendChild(docLink);\n",
              "      }\n",
              "    </script>\n",
              "  </div>\n",
              "\n",
              "\n",
              "    <div id=\"df-78c389b5-798e-444f-97b9-2ab5e149534c\">\n",
              "      <button class=\"colab-df-quickchart\" onclick=\"quickchart('df-78c389b5-798e-444f-97b9-2ab5e149534c')\"\n",
              "                title=\"Suggest charts\"\n",
              "                style=\"display:none;\">\n",
              "\n",
              "<svg xmlns=\"http://www.w3.org/2000/svg\" height=\"24px\"viewBox=\"0 0 24 24\"\n",
              "     width=\"24px\">\n",
              "    <g>\n",
              "        <path d=\"M19 3H5c-1.1 0-2 .9-2 2v14c0 1.1.9 2 2 2h14c1.1 0 2-.9 2-2V5c0-1.1-.9-2-2-2zM9 17H7v-7h2v7zm4 0h-2V7h2v10zm4 0h-2v-4h2v4z\"/>\n",
              "    </g>\n",
              "</svg>\n",
              "      </button>\n",
              "\n",
              "<style>\n",
              "  .colab-df-quickchart {\n",
              "      --bg-color: #E8F0FE;\n",
              "      --fill-color: #1967D2;\n",
              "      --hover-bg-color: #E2EBFA;\n",
              "      --hover-fill-color: #174EA6;\n",
              "      --disabled-fill-color: #AAA;\n",
              "      --disabled-bg-color: #DDD;\n",
              "  }\n",
              "\n",
              "  [theme=dark] .colab-df-quickchart {\n",
              "      --bg-color: #3B4455;\n",
              "      --fill-color: #D2E3FC;\n",
              "      --hover-bg-color: #434B5C;\n",
              "      --hover-fill-color: #FFFFFF;\n",
              "      --disabled-bg-color: #3B4455;\n",
              "      --disabled-fill-color: #666;\n",
              "  }\n",
              "\n",
              "  .colab-df-quickchart {\n",
              "    background-color: var(--bg-color);\n",
              "    border: none;\n",
              "    border-radius: 50%;\n",
              "    cursor: pointer;\n",
              "    display: none;\n",
              "    fill: var(--fill-color);\n",
              "    height: 32px;\n",
              "    padding: 0;\n",
              "    width: 32px;\n",
              "  }\n",
              "\n",
              "  .colab-df-quickchart:hover {\n",
              "    background-color: var(--hover-bg-color);\n",
              "    box-shadow: 0 1px 2px rgba(60, 64, 67, 0.3), 0 1px 3px 1px rgba(60, 64, 67, 0.15);\n",
              "    fill: var(--button-hover-fill-color);\n",
              "  }\n",
              "\n",
              "  .colab-df-quickchart-complete:disabled,\n",
              "  .colab-df-quickchart-complete:disabled:hover {\n",
              "    background-color: var(--disabled-bg-color);\n",
              "    fill: var(--disabled-fill-color);\n",
              "    box-shadow: none;\n",
              "  }\n",
              "\n",
              "  .colab-df-spinner {\n",
              "    border: 2px solid var(--fill-color);\n",
              "    border-color: transparent;\n",
              "    border-bottom-color: var(--fill-color);\n",
              "    animation:\n",
              "      spin 1s steps(1) infinite;\n",
              "  }\n",
              "\n",
              "  @keyframes spin {\n",
              "    0% {\n",
              "      border-color: transparent;\n",
              "      border-bottom-color: var(--fill-color);\n",
              "      border-left-color: var(--fill-color);\n",
              "    }\n",
              "    20% {\n",
              "      border-color: transparent;\n",
              "      border-left-color: var(--fill-color);\n",
              "      border-top-color: var(--fill-color);\n",
              "    }\n",
              "    30% {\n",
              "      border-color: transparent;\n",
              "      border-left-color: var(--fill-color);\n",
              "      border-top-color: var(--fill-color);\n",
              "      border-right-color: var(--fill-color);\n",
              "    }\n",
              "    40% {\n",
              "      border-color: transparent;\n",
              "      border-right-color: var(--fill-color);\n",
              "      border-top-color: var(--fill-color);\n",
              "    }\n",
              "    60% {\n",
              "      border-color: transparent;\n",
              "      border-right-color: var(--fill-color);\n",
              "    }\n",
              "    80% {\n",
              "      border-color: transparent;\n",
              "      border-right-color: var(--fill-color);\n",
              "      border-bottom-color: var(--fill-color);\n",
              "    }\n",
              "    90% {\n",
              "      border-color: transparent;\n",
              "      border-bottom-color: var(--fill-color);\n",
              "    }\n",
              "  }\n",
              "</style>\n",
              "\n",
              "      <script>\n",
              "        async function quickchart(key) {\n",
              "          const quickchartButtonEl =\n",
              "            document.querySelector('#' + key + ' button');\n",
              "          quickchartButtonEl.disabled = true;  // To prevent multiple clicks.\n",
              "          quickchartButtonEl.classList.add('colab-df-spinner');\n",
              "          try {\n",
              "            const charts = await google.colab.kernel.invokeFunction(\n",
              "                'suggestCharts', [key], {});\n",
              "          } catch (error) {\n",
              "            console.error('Error during call to suggestCharts:', error);\n",
              "          }\n",
              "          quickchartButtonEl.classList.remove('colab-df-spinner');\n",
              "          quickchartButtonEl.classList.add('colab-df-quickchart-complete');\n",
              "        }\n",
              "        (() => {\n",
              "          let quickchartButtonEl =\n",
              "            document.querySelector('#df-78c389b5-798e-444f-97b9-2ab5e149534c button');\n",
              "          quickchartButtonEl.style.display =\n",
              "            google.colab.kernel.accessAllowed ? 'block' : 'none';\n",
              "        })();\n",
              "      </script>\n",
              "    </div>\n",
              "    </div>\n",
              "  </div>\n"
            ],
            "application/vnd.google.colaboratory.intrinsic+json": {
              "type": "dataframe",
              "variable_name": "X_train",
              "summary": "{\n  \"name\": \"X_train\",\n  \"rows\": 367,\n  \"fields\": [\n    {\n      \"column\": \"Date\",\n      \"properties\": {\n        \"dtype\": \"date\",\n        \"min\": \"2016-01-01 00:00:00\",\n        \"max\": \"2017-01-01 00:00:00\",\n        \"num_unique_values\": 367,\n        \"samples\": [\n          \"2016-07-12 00:00:00\",\n          \"2016-02-03 00:00:00\",\n          \"2016-01-16 00:00:00\"\n        ],\n        \"semantic_type\": \"\",\n        \"description\": \"\"\n      }\n    },\n    {\n      \"column\": \"p (mbar)\",\n      \"properties\": {\n        \"dtype\": \"number\",\n        \"std\": 8.359580775051334,\n        \"min\": 969.17,\n        \"max\": 1015.35,\n        \"num_unique_values\": 339,\n        \"samples\": [\n          1003.67,\n          990.74,\n          984.21\n        ],\n        \"semantic_type\": \"\",\n        \"description\": \"\"\n      }\n    },\n    {\n      \"column\": \"Tpot (K)\",\n      \"properties\": {\n        \"dtype\": \"number\",\n        \"std\": 8.932061303102689,\n        \"min\": 268.36,\n        \"max\": 308.62,\n        \"num_unique_values\": 343,\n        \"samples\": [\n          301.27,\n          281.87,\n          282.4\n        ],\n        \"semantic_type\": \"\",\n        \"description\": \"\"\n      }\n    },\n    {\n      \"column\": \"Tdew (degC)\",\n      \"properties\": {\n        \"dtype\": \"number\",\n        \"std\": 6.213153835054471,\n        \"min\": -8.42,\n        \"max\": 20.15,\n        \"num_unique_values\": 331,\n        \"samples\": [\n          4.92,\n          4.65,\n          0.02\n        ],\n        \"semantic_type\": \"\",\n        \"description\": \"\"\n      }\n    },\n    {\n      \"column\": \"rh (%)\",\n      \"properties\": {\n        \"dtype\": \"number\",\n        \"std\": 6.062843709030646,\n        \"min\": 65.62,\n        \"max\": 100.0,\n        \"num_unique_values\": 170,\n        \"samples\": [\n          69.43,\n          85.4,\n          76.7\n        ],\n        \"semantic_type\": \"\",\n        \"description\": \"\"\n      }\n    },\n    {\n      \"column\": \"VPmax (mbar)\",\n      \"properties\": {\n        \"dtype\": \"number\",\n        \"std\": 10.726258588072948,\n        \"min\": 4.27,\n        \"max\": 54.3,\n        \"num_unique_values\": 343,\n        \"samples\": [\n          33.19,\n          20.82,\n          10.05\n        ],\n        \"semantic_type\": \"\",\n        \"description\": \"\"\n      }\n    },\n    {\n      \"column\": \"VPact (mbar)\",\n      \"properties\": {\n        \"dtype\": \"number\",\n        \"std\": 4.63739120676445,\n        \"min\": 3.23,\n        \"max\": 23.64,\n        \"num_unique_values\": 319,\n        \"samples\": [\n          8.05,\n          18.97,\n          8.68\n        ],\n        \"semantic_type\": \"\",\n        \"description\": \"\"\n      }\n    },\n    {\n      \"column\": \"VPdef (mbar)\",\n      \"properties\": {\n        \"dtype\": \"number\",\n        \"std\": 7.6186221353342845,\n        \"min\": 0.4,\n        \"max\": 41.23,\n        \"num_unique_values\": 329,\n        \"samples\": [\n          1.05,\n          12.24,\n          9.43\n        ],\n        \"semantic_type\": \"\",\n        \"description\": \"\"\n      }\n    },\n    {\n      \"column\": \"sh (g/kg)\",\n      \"properties\": {\n        \"dtype\": \"number\",\n        \"std\": 2.944115887780304,\n        \"min\": 2.01,\n        \"max\": 14.98,\n        \"num_unique_values\": 305,\n        \"samples\": [\n          13.82,\n          14.43,\n          7.46\n        ],\n        \"semantic_type\": \"\",\n        \"description\": \"\"\n      }\n    },\n    {\n      \"column\": \"H2OC (mmol/mol)\",\n      \"properties\": {\n        \"dtype\": \"number\",\n        \"std\": 4.688658123359176,\n        \"min\": 3.23,\n        \"max\": 23.87,\n        \"num_unique_values\": 321,\n        \"samples\": [\n          14.86,\n          18.01,\n          13.86\n        ],\n        \"semantic_type\": \"\",\n        \"description\": \"\"\n      }\n    },\n    {\n      \"column\": \"rho (g/m**3)\",\n      \"properties\": {\n        \"dtype\": \"number\",\n        \"std\": 35.09524597226784,\n        \"min\": 1164.99,\n        \"max\": 1349.46,\n        \"num_unique_values\": 358,\n        \"samples\": [\n          1203.04,\n          1252.51,\n          1235.12\n        ],\n        \"semantic_type\": \"\",\n        \"description\": \"\"\n      }\n    },\n    {\n      \"column\": \"wv (m/s)\",\n      \"properties\": {\n        \"dtype\": \"number\",\n        \"std\": 1.961009299065695,\n        \"min\": 1.23,\n        \"max\": 12.12,\n        \"num_unique_values\": 283,\n        \"samples\": [\n          7.03,\n          3.76,\n          2.44\n        ],\n        \"semantic_type\": \"\",\n        \"description\": \"\"\n      }\n    },\n    {\n      \"column\": \"max. wv (m/s)\",\n      \"properties\": {\n        \"dtype\": \"number\",\n        \"std\": 2.9088703245083067,\n        \"min\": 1.96,\n        \"max\": 20.4,\n        \"num_unique_values\": 256,\n        \"samples\": [\n          3.16,\n          7.05,\n          8.95\n        ],\n        \"semantic_type\": \"\",\n        \"description\": \"\"\n      }\n    },\n    {\n      \"column\": \"wd (deg)\",\n      \"properties\": {\n        \"dtype\": \"number\",\n        \"std\": 53.54705374586229,\n        \"min\": 35.36,\n        \"max\": 360.0,\n        \"num_unique_values\": 244,\n        \"samples\": [\n          241.8,\n          359.6,\n          354.0\n        ],\n        \"semantic_type\": \"\",\n        \"description\": \"\"\n      }\n    }\n  ]\n}"
            }
          },
          "metadata": {},
          "execution_count": 24
        }
      ],
      "source": [
        "# weather_df_daily.reset_index().query(\"Date > '2016-12-28'\")\n",
        "last_date = weather_df_daily.index.max()\n",
        "one_year_ago = last_date - pd.DateOffset(years=1)\n",
        "X_train = weather_df_daily.reset_index().query(\"Date >= @one_year_ago\").drop('T (degC)',axis=1)\n",
        "X_train"
      ]
    },
    {
      "cell_type": "markdown",
      "metadata": {
        "id": "A8S9guesnLtN"
      },
      "source": [
        "## 2. Простая аналитика"
      ]
    },
    {
      "cell_type": "markdown",
      "metadata": {
        "id": "dysSVBwVnLtN"
      },
      "source": [
        "#### Задача 2. [0.5 балла]\n",
        "\n",
        "Произведите визуализацию всех временных рядов."
      ]
    },
    {
      "cell_type": "code",
      "execution_count": null,
      "metadata": {
        "id": "C2nHfBLTnLtO"
      },
      "outputs": [],
      "source": []
    },
    {
      "cell_type": "markdown",
      "metadata": {
        "id": "OS1bOUiTnLtO"
      },
      "source": [
        "Имеются ли в данных выбросы? Если да, отфильтруйте данные. Не перестарайтесь, фильтруйте только более менее очевидные выбросы.\n",
        "\n",
        "Подумайте над тем, какие значения ставить вместо выбросов. Учтите, что не все модели могут обрабатывать пропуски."
      ]
    },
    {
      "cell_type": "code",
      "execution_count": null,
      "metadata": {
        "id": "_OwDgtwhnLtO"
      },
      "outputs": [],
      "source": []
    },
    {
      "cell_type": "markdown",
      "metadata": {
        "id": "a9dbJG06nLtO"
      },
      "source": [
        "#### Задача 3. [0.5 балла]\n",
        "\n",
        "Посчитайте матрицу корреляций по всем временным рядам без сдвигов (т.е. $corr(x_t, y_t)$) и визуализируйте ее"
      ]
    },
    {
      "cell_type": "code",
      "execution_count": null,
      "metadata": {
        "id": "Eln9PubgnLtO"
      },
      "outputs": [],
      "source": []
    },
    {
      "cell_type": "markdown",
      "metadata": {
        "id": "xfAC7DnxnLtO"
      },
      "source": [
        "По временному ряду температуры выполните STL-разложение и визуализируйте полученные компоненты"
      ]
    },
    {
      "cell_type": "code",
      "execution_count": null,
      "metadata": {
        "id": "BDXMqQXunLtO"
      },
      "outputs": [],
      "source": []
    },
    {
      "cell_type": "markdown",
      "metadata": {
        "id": "de5UcN0WnLtO"
      },
      "source": [
        "**Выводы:**"
      ]
    },
    {
      "cell_type": "markdown",
      "metadata": {
        "id": "dPlBHwFgnLtO"
      },
      "source": [
        "## 3. Качество"
      ]
    },
    {
      "cell_type": "markdown",
      "metadata": {
        "id": "TYPTWkGgnLtP"
      },
      "source": [
        "#### Задача 4. [1 балл]\n",
        "\n",
        "Напишите функции вычисления качества решения в задачи прогнозирования.\n",
        "Качество решения будем описывать при помощи нескольких метрик качества:\n",
        "  * mean_squared_error\n",
        "  * mean_absolute_error\n",
        "  * median_absolute_error"
      ]
    },
    {
      "cell_type": "code",
      "execution_count": null,
      "metadata": {
        "id": "LHp4J-YwnLtP"
      },
      "outputs": [],
      "source": []
    },
    {
      "cell_type": "markdown",
      "metadata": {
        "id": "HSW9LOCpnLtP"
      },
      "source": [
        "По всем тестовым данным посчитайте метрики качества baseline-решения &mdash; наивной модели. Попробуйте варианты:\n",
        "- Naive(1): прогноз лагом порядка 1, т.е. последним доступным значением;\n",
        "- Naive(2): прогноз лагом порядка 2;\n",
        "- Naive(3): прогноз лагом порядка 3.\n",
        "\n",
        "Обратите внимание на наличие пропусков в целевой переменной, как лучше поступить с ними при оценке качества и при построении прогноза?"
      ]
    },
    {
      "cell_type": "code",
      "execution_count": null,
      "metadata": {
        "id": "yOf6vrbNnLtP"
      },
      "outputs": [],
      "source": []
    },
    {
      "cell_type": "markdown",
      "metadata": {
        "id": "akvbm3qPnLtP"
      },
      "source": [
        "Посчитайте по всем моделям эти же метрики по скользящим окнам из 4 и 8 недель:\n",
        "- Берем тестовый промежуток и разбиваем его на окна, состоящие из 4 недель. Следующее окно сдвинуто относительно предыдущего на 1 день.\n",
        "- По каждой модели считаем метрики одношагового прогноза на выбранном окне.\n",
        "- Аналогично повторяем для окон из 8 недель.\n",
        "\n",
        "Таким образом, для каждой модели получатся последовательности метрик по окнам. Постройте графики изменения качества прогноза."
      ]
    },
    {
      "cell_type": "code",
      "execution_count": null,
      "metadata": {
        "id": "i3uK0lzBnLtP"
      },
      "outputs": [],
      "source": []
    },
    {
      "cell_type": "markdown",
      "metadata": {
        "id": "BR2GoraPnLtP"
      },
      "source": [
        "**Выводы:**"
      ]
    },
    {
      "cell_type": "markdown",
      "metadata": {
        "id": "4zXjlE2PnLtP"
      },
      "source": [
        "#### Задача 5. [0.5 балла]"
      ]
    },
    {
      "cell_type": "markdown",
      "metadata": {
        "id": "kzj7ZvJBnLtP"
      },
      "source": [
        "Скользящая валидация с фиксированным началом обучающего периода (*см. в лекциях вариант 1*) реализована в <a href=\"https://scikit-learn.org/stable/modules/generated/sklearn.model_selection.TimeSeriesSplit.html\">sklearn.model_selection.TimeSeriesSplit</a>:"
      ]
    },
    {
      "cell_type": "code",
      "execution_count": null,
      "metadata": {
        "id": "wOR_pfJmnLtP"
      },
      "outputs": [],
      "source": [
        "from sklearn.model_selection import TimeSeriesSplit\n",
        "\n",
        "\n",
        "ts_cv_1 = TimeSeriesSplit(n_splits=5, test_size=8*7)"
      ]
    },
    {
      "cell_type": "markdown",
      "metadata": {
        "id": "zzzDmEIEnLtQ"
      },
      "source": [
        "Варианта с фиксированным размером обучающего датасета (*см. в лекциях вариант 2*) тоже можно добиться при помощи <a href=\"https://scikit-learn.org/stable/modules/generated/sklearn.model_selection.TimeSeriesSplit.html\">sklearn.model_selection.TimeSeriesSplit</a>:"
      ]
    },
    {
      "cell_type": "code",
      "execution_count": null,
      "metadata": {
        "id": "1dzBau_VnLtQ"
      },
      "outputs": [],
      "source": [
        "ts_cv_2 = TimeSeriesSplit(n_splits=5, max_train_size=1000, test_size=8*7)"
      ]
    },
    {
      "cell_type": "markdown",
      "metadata": {
        "id": "_KyRm7yynLtQ"
      },
      "source": [
        "Пусть вы хотите добиться двух целей:\n",
        "- Подобрать лучшую модель при помощи поиска оптимальных гиперпараметров.\n",
        "- Получить несмещенную оценку качества полученной лучшей модели.\n",
        "\n",
        "Для этих целей лучше не использовать одну и ту же кросс-валидацию, т.к. при подборе гиперепараметров происходит некоторая форма переоптимизации и качество может оказаться несколько завышенным.\n",
        "\n",
        "С этой целью может подойти вложенная (nested) кросс-валидация, реализацию которого можно найти по <a href=\"https://github.com/roelbertens/time-series-nested-cv\">ссылке</a>, а про читать про нее можно в [посте](https://xebia.com/blog/its-time-to-trust-your-predictions/)."
      ]
    },
    {
      "cell_type": "code",
      "execution_count": null,
      "metadata": {
        "id": "Lblbjg4MnLtQ"
      },
      "outputs": [],
      "source": []
    },
    {
      "cell_type": "markdown",
      "metadata": {
        "id": "2n84Y5z-nLtQ"
      },
      "source": [
        "Реализуйте вложенную кросс-валидацию. Продемонстрируйте ее работу, распечатав индексы обучающих и тестовых частей во внешнем и внутренних циклах.\n",
        "\n",
        "*Замечание.* Демонстрацию можете сделать в виде вложенного цикла"
      ]
    },
    {
      "cell_type": "code",
      "execution_count": null,
      "metadata": {
        "id": "jpHkt2vDnLtT"
      },
      "outputs": [],
      "source": []
    },
    {
      "cell_type": "markdown",
      "metadata": {
        "id": "AuFlxSOFnLtU"
      },
      "source": [
        "## 4. Сведение к задаче регрессии"
      ]
    },
    {
      "cell_type": "markdown",
      "metadata": {
        "id": "fx_akUA-nLtU"
      },
      "source": [
        "Для получения признакового описания для конкретного момента времени обычно применяют различные оконные функции к таблице данных, что позволяет сэкономить память и вычисления.\n",
        "Но нужно помнить, что нельзя допустить просачивание информации из будущего, т.к. такие признаки вы не сможете вычислить в продакшне.\n",
        "\n",
        "\n"
      ]
    },
    {
      "cell_type": "markdown",
      "metadata": {
        "id": "WFGBIYTTnLtU"
      },
      "source": [
        "#### Задача 6. [0.5 балла]\n",
        "\n",
        "Вычислите простые признаки вида описательных статистик (сумма, максимум, минимум, стандартное отклонение) по нескольким размерам окон. Признаки можно вычислять не только по температуре, но и по сопутствующим временным рядам."
      ]
    },
    {
      "cell_type": "code",
      "execution_count": null,
      "metadata": {
        "id": "WbIYsAHtnLtU"
      },
      "outputs": [],
      "source": []
    },
    {
      "cell_type": "markdown",
      "metadata": {
        "id": "XGHaFET-nLtU"
      },
      "source": [
        "#### Задача 7. [2 балла]\n",
        "\n",
        "Обучите градиентый бустинг и обычный многослойный перцептрон с использованием написанного скользящего контроля.\n",
        "- Используйте внутренний цикл кросс-валидации для подбора гиперпараметров, а внешний цикл для итоговой оценки качества.\n",
        "- В качестве размера тестовой части во внешнем цикле возьмите 13 недель. Используйте 4 фолда, чтобы итоговой промежуток оценки качества составил примерно год.\n",
        "- Не используете тестовую часть данных, отделенную в Задаче 1.\n",
        "- Посчитайте качество на внешнем цикле кросс-валидации."
      ]
    },
    {
      "cell_type": "code",
      "execution_count": null,
      "metadata": {
        "id": "2ngbwmHsnLtV"
      },
      "outputs": [],
      "source": []
    },
    {
      "cell_type": "markdown",
      "metadata": {
        "id": "tyraBBLznLtV"
      },
      "source": [
        "Визуализируйте прогнозы, полученные во внешнем цикле, сравнив их с истинными значениями ряда."
      ]
    },
    {
      "cell_type": "code",
      "execution_count": null,
      "metadata": {
        "id": "n-TA6oMznLtV"
      },
      "outputs": [],
      "source": []
    },
    {
      "cell_type": "markdown",
      "metadata": {
        "id": "2OoE6YrknLtV"
      },
      "source": [
        "Переобучите лучшие модели на полном наборе обучающих данных и сделайте ими предсказания на тестовом промежутке. Посчитайте метрики."
      ]
    },
    {
      "cell_type": "code",
      "execution_count": null,
      "metadata": {
        "id": "ZOHDsf7NnLtV"
      },
      "outputs": [],
      "source": []
    },
    {
      "cell_type": "markdown",
      "metadata": {
        "id": "-7TAO2XynLtV"
      },
      "source": [
        "Визуализируйте прогнозы, сравнив их с истинными значениями ряда."
      ]
    },
    {
      "cell_type": "code",
      "execution_count": null,
      "metadata": {
        "id": "KtmbTfaInLtV"
      },
      "outputs": [],
      "source": []
    },
    {
      "cell_type": "markdown",
      "metadata": {
        "id": "-OMcLBzknLtV"
      },
      "source": [
        "#### Задача 8. [1 балл]\n",
        "\n",
        "Генерировать признаки на этапе знакомства с данными &mdash; не очень интересное занятие.\n",
        "В отрасли предпринято несколько попыток автоматизировать этот этап.\n",
        "\n",
        "С помощью библиотеки <a href=\"https://tsfresh.com/\">tsfresh</a> можно довольно быстро сгенерировать большое количество признаков на основе сырых данных временных рядов. Например, по скользящему окну с помощью можно вычислить статистики вида минимум, максимум, среднее, количество пиков и т.д.\n",
        "\n",
        "Ознакомьтесь с данной библиотекой и сгенерируйте признаковое описание. Обратите внимание на функции\n",
        "* `roll_time_series`\n",
        "* `extract_features`"
      ]
    },
    {
      "cell_type": "code",
      "execution_count": null,
      "metadata": {
        "id": "hUGbkuMcnLtW"
      },
      "outputs": [],
      "source": []
    },
    {
      "cell_type": "markdown",
      "metadata": {
        "id": "UztamwcBnLtW"
      },
      "source": [
        "Сколько признаков вы получили? Как побороться с большим числом признаков?"
      ]
    },
    {
      "cell_type": "code",
      "execution_count": null,
      "metadata": {
        "id": "oRwIzeOgnLtW"
      },
      "outputs": [],
      "source": []
    },
    {
      "cell_type": "markdown",
      "metadata": {
        "id": "OpsD--t_nLtW"
      },
      "source": [
        "Обучите модель на полном наборе обучающих данных, посчитайте ее качество на тестовых данных и постройте график прогноза в сравнении с истинными значениями."
      ]
    },
    {
      "cell_type": "code",
      "execution_count": null,
      "metadata": {
        "id": "jJhul3zdnLtW"
      },
      "outputs": [],
      "source": []
    },
    {
      "cell_type": "markdown",
      "metadata": {
        "id": "1JtW6nAjnLtW"
      },
      "source": [
        "**Выводы:**"
      ]
    },
    {
      "cell_type": "markdown",
      "metadata": {
        "id": "uGBcCz0WnLtW"
      },
      "source": [
        "## 5. Модель PatchTST"
      ]
    },
    {
      "cell_type": "markdown",
      "metadata": {
        "id": "a3cSUMKfnLtX"
      },
      "source": [
        "#### Задача 9. [2.5 балла]\n",
        "\n",
        "Реализуйте модель [PatchTST](https://arxiv.org/abs/2211.14730)."
      ]
    },
    {
      "cell_type": "code",
      "execution_count": null,
      "metadata": {
        "id": "aozjx24GnLtX"
      },
      "outputs": [],
      "source": [
        "import torch\n",
        "import torch.nn as nn\n",
        "import math\n",
        "\n",
        "\n",
        "class RevIN(nn.Module):\n",
        "    def __init__(self, num_features, eps=1e-5):\n",
        "        super().__init__()\n",
        "        self.eps = eps\n",
        "        self.mean = None\n",
        "        self.std = None\n",
        "\n",
        "    def forward(self, x, mode=\"norm\"):\n",
        "        if mode == \"norm\":\n",
        "            self._calc_statistics(x)\n",
        "            x = self._normalize(x)\n",
        "        elif mode == \"denorm\":\n",
        "            x = self._denormalize(x)\n",
        "        return x\n",
        "\n",
        "    def _calc_statistics(self, x):\n",
        "        # TODO: реализуйте\n",
        "        self.mean = ...\n",
        "        self.std = ...\n",
        "\n",
        "    def _normalize(self, x):\n",
        "        # TODO: реализуйте\n",
        "        x = ...\n",
        "        return x\n",
        "\n",
        "    def _denormalize(self, x):\n",
        "        # TODO: реализуйте\n",
        "        x = ...\n",
        "        return x\n",
        "\n",
        "\n",
        "class PatchTST(nn.Module):\n",
        "    def __init__(\n",
        "        self,\n",
        "        seq_len=336,\n",
        "        pred_len=96,\n",
        "        patch_len=16,\n",
        "        stride=8,\n",
        "        num_channels=1,\n",
        "        d_model=128,\n",
        "        n_heads=4,\n",
        "        num_layers=3,\n",
        "        dropout=0.2\n",
        "    ):\n",
        "        super().__init__()\n",
        "        self.patch_len = patch_len\n",
        "        self.stride = stride\n",
        "        self.num_channels = num_channels\n",
        "\n",
        "        # RevIN normalization\n",
        "        self.revin = RevIN(num_channels)\n",
        "\n",
        "        # Patching and Projection\n",
        "        # TODO: реализуйте\n",
        "        self.patch_num = ...\n",
        "        self.input_proj = ...\n",
        "\n",
        "        # Positional Encoding\n",
        "        # TODO: реализуйте\n",
        "        self.position_enc = ...\n",
        "\n",
        "        # Transformer Encoder\n",
        "        # TODO: реализуйте\n",
        "        encoder_layer = ...\n",
        "        self.encoder = ...\n",
        "\n",
        "        # Output Layer\n",
        "        # TODO: реализуйте\n",
        "        self.output_layer = ...\n",
        "\n",
        "    def create_patches(self, x):\n",
        "        # Input: [batch, channels, seq_len]\n",
        "        # TODO: реализуйте логику\n",
        "        patches = ...\n",
        "        return patches\n",
        "\n",
        "    def forward(self, x):\n",
        "        # x: [batch, channels, seq_len]\n",
        "        # Apply RevIN normalization\n",
        "        x = self.revin(x, \"norm\")\n",
        "\n",
        "        # Create patches and reshape for channel independence\n",
        "        # TODO: реализуйте\n",
        "        patches = ...\n",
        "\n",
        "        # Project patches\n",
        "        # TODO: реализуйте\n",
        "        projections = ...\n",
        "\n",
        "        # Add positional encoding\n",
        "        # TODO: реализуйте\n",
        "        projections = ...\n",
        "\n",
        "        # Transformer encoding\n",
        "        # TODO: реализуйте\n",
        "        encoded = ...\n",
        "\n",
        "        # Flatten and predict\n",
        "        # TODO: реализуйте\n",
        "        output = ...\n",
        "\n",
        "        # Denormalize output using RevIN\n",
        "        output = self.revin(output, \"denorm\")\n",
        "\n",
        "        return output"
      ]
    },
    {
      "cell_type": "markdown",
      "metadata": {
        "id": "tL5V_2_KnLtX"
      },
      "source": [
        "Проверим, что модель работает."
      ]
    },
    {
      "cell_type": "code",
      "execution_count": null,
      "metadata": {
        "id": "_D0fBfrBnLtX"
      },
      "outputs": [],
      "source": [
        "model = PatchTST(\n",
        "    seq_len=384,\n",
        "    pred_len=1,\n",
        "    patch_len=16,\n",
        "    stride=8,\n",
        "    num_channels=3,\n",
        "    d_model=64,\n",
        "    n_heads=4,\n",
        "    num_layers=3\n",
        ")\n",
        "\n",
        "input_tensor = torch.randn(32, 3, 384)  # [batch, channels, seq_len]\n",
        "output = model(input_tensor)  # [32, 3, 1]"
      ]
    },
    {
      "cell_type": "code",
      "execution_count": null,
      "metadata": {
        "id": "UYNopnwfnLtX"
      },
      "outputs": [],
      "source": []
    },
    {
      "cell_type": "markdown",
      "metadata": {
        "id": "q-Qwds56nLtX"
      },
      "source": [
        "#### Задача 10. [1 балл]\n",
        "\n",
        "Обучите реализованную модель на полном наборе обучающих данных."
      ]
    },
    {
      "cell_type": "code",
      "execution_count": null,
      "metadata": {
        "id": "v0uth8XSnLtX"
      },
      "outputs": [],
      "source": []
    },
    {
      "cell_type": "markdown",
      "metadata": {
        "id": "tCYX6iAAnLtY"
      },
      "source": [
        "Посчитайте качество на тестовых данных и постройте график прогноза в сравнении с истинными значениями."
      ]
    },
    {
      "cell_type": "code",
      "execution_count": null,
      "metadata": {
        "id": "_t7dkyPZnLtY"
      },
      "outputs": [],
      "source": []
    },
    {
      "cell_type": "markdown",
      "metadata": {
        "id": "AraIeXcXnLtY"
      },
      "source": [
        "**Выводы:**"
      ]
    },
    {
      "cell_type": "markdown",
      "metadata": {
        "id": "FBoAY6LmnLtY"
      },
      "source": [
        "## 6. Итоговое сравнение"
      ]
    },
    {
      "cell_type": "markdown",
      "metadata": {
        "id": "bNiAMWpFnLtY"
      },
      "source": [
        "#### Задача 11. [0.25 балла]\n",
        "\n",
        "Составьте итоговую таблицу сравнения качества прогнозов всех рассмотренных моделей по всем метрикам. Постройте график прогнозов для лучших моделей."
      ]
    },
    {
      "cell_type": "code",
      "execution_count": null,
      "metadata": {
        "id": "JIzZa_XsnLtY"
      },
      "outputs": [],
      "source": []
    },
    {
      "cell_type": "markdown",
      "metadata": {
        "id": "k3dPD58MnLtY"
      },
      "source": [
        "**Выводы:**"
      ]
    }
  ],
  "metadata": {
    "kernelspec": {
      "display_name": "Python 3",
      "language": "python",
      "name": "python3"
    },
    "language_info": {
      "codemirror_mode": {
        "name": "ipython",
        "version": 3
      },
      "file_extension": ".py",
      "mimetype": "text/x-python",
      "name": "python",
      "nbconvert_exporter": "python",
      "pygments_lexer": "ipython3",
      "version": "3.12.2"
    },
    "toc": {
      "base_numbering": 1,
      "nav_menu": {},
      "number_sections": true,
      "sideBar": true,
      "skip_h1_title": false,
      "title_cell": "Table of Contents",
      "title_sidebar": "Contents",
      "toc_cell": false,
      "toc_position": {
        "height": "calc(100% - 180px)",
        "left": "10px",
        "top": "150px",
        "width": "369.6px"
      },
      "toc_section_display": true,
      "toc_window_display": true
    },
    "colab": {
      "provenance": [],
      "include_colab_link": true
    }
  },
  "nbformat": 4,
  "nbformat_minor": 0
}