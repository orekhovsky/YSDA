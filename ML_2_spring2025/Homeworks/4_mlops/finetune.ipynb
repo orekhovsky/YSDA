{
 "cells": [
  {
   "cell_type": "code",
   "execution_count": null,
   "id": "252cf577",
   "metadata": {},
   "outputs": [],
   "source": [
    "import transformers"
   ]
  }
 ],
 "metadata": {
  "language_info": {
   "name": "python"
  }
 },
 "nbformat": 4,
 "nbformat_minor": 5
}
