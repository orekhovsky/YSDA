{
  "cells": [
    {
      "cell_type": "markdown",
      "metadata": {
        "id": "9YaqYTePDZ_T"
      },
      "source": [
        "# Deep CNN for computer vision"
      ]
    },
    {
      "cell_type": "markdown",
      "metadata": {
        "id": "RUv_pkB_LGHL"
      },
      "source": [
        "Contest link:\n",
        "\n",
        "https://contest.yandex.ru/contest/68196/enter"
      ]
    },
    {
      "cell_type": "code",
      "execution_count": null,
      "metadata": {
        "id": "ZyxOytAhDZ_U"
      },
      "outputs": [],
      "source": [
        "import torch\n",
        "import torch.nn as nn\n",
        "\n",
        "import torchvision\n",
        "import torchvision.transforms as transforms\n",
        "\n",
        "from tqdm.notebook import tqdm\n",
        "\n",
        "import matplotlib.pyplot as plt\n",
        "from IPython.display import clear_output\n",
        "\n",
        "from math import ceil, sqrt\n",
        "\n",
        "import numpy as np\n",
        "import random\n",
        "\n",
        "# autoreload ALL modules in real time\n",
        "%load_ext autoreload\n",
        "%autoreload 2"
      ]
    },
    {
      "cell_type": "code",
      "execution_count": null,
      "metadata": {
        "colab": {
          "base_uri": "https://localhost:8080/"
        },
        "id": "EvCcs9CHmYtb",
        "outputId": "4f330cbb-18a4-44ca-a499-e0cbdc297c23"
      },
      "outputs": [
        {
          "data": {
            "text/plain": [
              "<torch._C.Generator at 0x7bba38f7b5b0>"
            ]
          },
          "execution_count": 2,
          "metadata": {},
          "output_type": "execute_result"
        }
      ],
      "source": [
        "# Section of setting seeds for reproducible results of training CNNs\n",
        "\n",
        "# Set the seed for the Python random module\n",
        "random.seed(0)\n",
        "\n",
        "# Set the seed for NumPy's random number generator\n",
        "np.random.seed(1)\n",
        "\n",
        "# Set the seed for PyTorch's random number generator\n",
        "torch.manual_seed(2)\n",
        "\n",
        "# If training on GPU, set the seed for the GPU backend and CUDA library\n",
        "if torch.cuda.is_available():\n",
        "    torch.cuda.manual_seed_all(3)\n",
        "\n",
        "g = torch.Generator()\n",
        "g.manual_seed(4)"
      ]
    },
    {
      "cell_type": "code",
      "execution_count": null,
      "metadata": {
        "id": "WL0SI9yvDxaD"
      },
      "outputs": [],
      "source": [
        "def show_images(images, labels=None, title=None, transform=None, figsize=(12, 12)):\n",
        "    fig = plt.figure(figsize=figsize, linewidth=5)\n",
        "    grid_val = ceil(sqrt(len(images)))\n",
        "    grid_specs = plt.GridSpec(grid_val, grid_val)\n",
        "\n",
        "    for i, image in enumerate(images):\n",
        "        ax = fig.add_subplot(grid_specs[i // grid_val, i % grid_val])\n",
        "        ax.axis('off')\n",
        "\n",
        "        if transform is not None:\n",
        "            image = transform(image)\n",
        "\n",
        "        if labels is not None:\n",
        "            ax_title = labels[i]\n",
        "        else:\n",
        "            ax_title = '#{}'.format(i+1)\n",
        "\n",
        "        ax.set_title(ax_title)\n",
        "        ax.imshow(image, cmap='gray')\n",
        "\n",
        "    if title:\n",
        "        fig.suptitle(title, y=0.93, fontsize='xx-large')\n",
        "    plt.show()\n"
      ]
    },
    {
      "cell_type": "code",
      "execution_count": null,
      "metadata": {
        "colab": {
          "base_uri": "https://localhost:8080/"
        },
        "id": "WdQREn7rDZ_V",
        "outputId": "b7c5efe1-7f71-42b9-98ce-d710a8849bfd"
      },
      "outputs": [
        {
          "name": "stdout",
          "output_type": "stream",
          "text": [
            "Using cuda device\n"
          ]
        }
      ],
      "source": [
        "# Your imports\n",
        "\n",
        "num_workers = 4     # maximum number of subprocces (check https://pytorch.org/docs/stable/data.html for more info)\n",
        "batch_size = 1024\n",
        "\n",
        "\n",
        "device = torch.device('cuda' if torch.cuda.is_available() else 'cpu')\n",
        "print('Using {} device'.format(device))"
      ]
    },
    {
      "cell_type": "markdown",
      "metadata": {
        "id": "JxNM6sX7DZ_W"
      },
      "source": [
        "# Task #1: Basic Pipeline [4 points]\n",
        "\n",
        "## Step 1: Data Preparation"
      ]
    },
    {
      "cell_type": "markdown",
      "metadata": {
        "id": "aeTNC0H8DZ_X"
      },
      "source": [
        "### Load [CIFAR10](https://www.cs.toronto.edu/~kriz/cifar.html) from torchvision.datasets"
      ]
    },
    {
      "cell_type": "code",
      "execution_count": null,
      "metadata": {
        "colab": {
          "base_uri": "https://localhost:8080/",
          "height": 103
        },
        "id": "upN1ZvFYDZ_X",
        "outputId": "6b9c4daf-8e3c-44d3-afcb-70cef83762fc"
      },
      "outputs": [
        {
          "name": "stdout",
          "output_type": "stream",
          "text": [
            "Files already downloaded and verified\n",
            "Files already downloaded and verified\n"
          ]
        }
      ],
      "source": [
        "transform = transforms.Compose([\n",
        "    transforms.ToTensor()\n",
        "])\n",
        "\n",
        "# download data\n",
        "train_data = torchvision.datasets.CIFAR10(\n",
        "    root='./data', train=True, download=True,\n",
        "    transform=transform\n",
        ")\n",
        "\n",
        "test_data = torchvision.datasets.CIFAR10(\n",
        "    root='./data', train=False, download=True,\n",
        "    transform=transform\n",
        ")"
      ]
    },
    {
      "cell_type": "markdown",
      "metadata": {
        "id": "vna23jZ3DZ_X"
      },
      "source": [
        "### Create dataloaders and plot some examples"
      ]
    },
    {
      "cell_type": "code",
      "execution_count": null,
      "metadata": {
        "id": "knBTsw3SDZ_X",
        "scrolled": false
      },
      "outputs": [],
      "source": [
        "# create dataloaders for model\n",
        "train_dataloader = torch.utils.data.DataLoader(\n",
        "    train_data, shuffle=True,\n",
        "    batch_size=batch_size, num_workers=num_workers, generator=g\n",
        ")\n",
        "\n",
        "test_dataloader = torch.utils.data.DataLoader(\n",
        "    test_data, shuffle=True,\n",
        "    batch_size=batch_size, num_workers=num_workers, generator=g\n",
        ")\n",
        "\n",
        "# show some images from CIFAR\n",
        "labels_map = {\n",
        "    0: \"Airplane\",\n",
        "    1: \"Automobile\",\n",
        "    2: \"Bird\",\n",
        "    3: \"Cat\",\n",
        "    4: \"Deer\",\n",
        "    5: \"Dog\",\n",
        "    6: \"Frog\",\n",
        "    7: \"Horse\",\n",
        "    8: \"Ship\",\n",
        "    9: \"Truck\",\n",
        "}\n",
        "\n",
        "N_samples = 16\n",
        "images, labels = next(iter(train_dataloader))\n",
        "# show_images(\n",
        "#     images[:N_samples],\n",
        "#     [labels_map[i.item()] for i in labels[:N_samples]],\n",
        "#     transform=transforms.ToPILImage()\n",
        "# )\n"
      ]
    },
    {
      "cell_type": "markdown",
      "metadata": {
        "id": "K-uVGpgKDZ_Y"
      },
      "source": [
        "**Hint!**\n",
        "\n",
        "Use can use ```torchvision.utils.make_grid()``` for your own plots. Check [documentation](https://pytorch.org/vision/stable/utils.html) for examples.\n"
      ]
    },
    {
      "cell_type": "markdown",
      "metadata": {
        "id": "oEiM4jxvDZ_Y"
      },
      "source": [
        "## Step 2: Neural Network training\n",
        "\n",
        "In this task, you will fill in the gaps in a typical Pytorch neural network training pipeline.\n",
        "\n",
        "For clarity (and subsequent comparison with Deep CNN networks), we will use the simplest perceptron as a model.\n",
        "\n",
        "**Hint!** You can change the size and number of hidden layers by passing a list of them as an argument to ```blocks```."
      ]
    },
    {
      "cell_type": "markdown",
      "metadata": {
        "id": "QTdqvkS7DZ_Y"
      },
      "source": [
        "### Neural Network Architecrute"
      ]
    },
    {
      "cell_type": "code",
      "execution_count": null,
      "metadata": {
        "id": "N_9Ep1aYDZ_Y"
      },
      "outputs": [],
      "source": [
        "from collections import OrderedDict\n",
        "\n",
        "class MLP(nn.Module):\n",
        "    \"\"\"\n",
        "        Simple linear network — multi-layer perceptron\n",
        "    \"\"\"\n",
        "    def __init__(self, input_size, num_layers, hidden_sizes, output_size, activations, dropouts):\n",
        "        super(MLP, self).__init__()\n",
        "\n",
        "        if not isinstance(hidden_sizes, list):\n",
        "            hidden_sizes = [hidden_sizes] * num_layers\n",
        "        assert len(hidden_sizes) == num_layers, f'provide {num_layers} hidden_sizes or just one for all layers'\n",
        "\n",
        "        if not isinstance(activations, list):\n",
        "            activations = [activations] * num_layers\n",
        "        assert len(activations) == num_layers, f'provide {num_layers} activation functions or just one for all layers'\n",
        "\n",
        "        if not isinstance(dropouts, list):\n",
        "            dropouts = [dropouts] * num_layers\n",
        "        assert len(dropouts) == num_layers, f'provide {num_layers} dropout values or just one for all layers'\n",
        "\n",
        "        flat = ('flat', nn.Flatten())\n",
        "        in_to_hid = ('in2hid', nn.Linear(input_size, hidden_sizes[0]))\n",
        "\n",
        "        hid_ = [[\n",
        "            (f'act_{i+1}', activations[i]),\n",
        "            (f'drop_{i+1}', nn.Dropout(dropouts[i])),\n",
        "            (f'hid_{i+1}', nn.Linear(hidden_sizes[i], hidden_sizes[i+1]))\n",
        "        ] for i in range(num_layers-1)]\n",
        "\n",
        "        hid = []\n",
        "        for el in hid_:\n",
        "            hid.extend(el)\n",
        "\n",
        "        head = [\n",
        "            (f'act_{num_layers}', activations[-1]),\n",
        "            (f'drop_{num_layers}', nn.Dropout(dropouts[-1])),\n",
        "            ('hid2out', nn.Linear(hidden_sizes[-1], output_size)),\n",
        "            ('log-softmax', nn.LogSoftmax(dim=-1))\n",
        "        ]\n",
        "\n",
        "        self.net = [flat, in_to_hid, *hid, *head]\n",
        "        self.net = nn.Sequential(OrderedDict(self.net))\n",
        "\n",
        "    def forward(self, imgs):\n",
        "        return self.net(imgs)\n"
      ]
    },
    {
      "cell_type": "markdown",
      "metadata": {
        "id": "RQUMlSnpDZ_Z"
      },
      "source": [
        "**Hint!** You can refer to the [pytorch documentation](https://pytorch.org/tutorials/beginner/basics/optimization_tutorial.html) for examples of implementing the ```train_loop()``` and ```test_loop()``` functions."
      ]
    },
    {
      "cell_type": "markdown",
      "metadata": {
        "id": "GpaZP70YDZ_a"
      },
      "source": [
        "### Train-test loops"
      ]
    },
    {
      "cell_type": "code",
      "execution_count": null,
      "metadata": {
        "id": "Wvwb7OXgDZ_a"
      },
      "outputs": [],
      "source": [
        "import IPython\n",
        "from math import ceil\n",
        "\n",
        "\n",
        "def train_loop(model, dataloader, loss_fn, optimizer, step=0.05, history_loss=None, history_acc=None):\n",
        "    out = display(IPython.display.Pretty('Learning...'), display_id=True)\n",
        "\n",
        "    size = len(dataloader.dataset)\n",
        "    len_size = len(str(size))\n",
        "    batches = ceil(size / dataloader.batch_size) - 1\n",
        "\n",
        "    train_acc, train_loss = [], []\n",
        "    percentage = 0\n",
        "\n",
        "    for batch, (X, y) in enumerate(tqdm(dataloader, leave=False, desc=\"Batch #\")):\n",
        "        X, y = X.to(device), y.to(device)\n",
        "\n",
        "        # evaluate\n",
        "        pred = model(X)\n",
        "        loss = loss_fn(pred, y)\n",
        "\n",
        "        # backpropagation\n",
        "        optimizer.zero_grad()\n",
        "        loss.backward()\n",
        "        optimizer.step()\n",
        "\n",
        "        # Calculate accuracy\n",
        "        correct = (pred.argmax(1) == y).type(torch.float).sum().item()\n",
        "        train_acc.append(correct / len(X))\n",
        "        train_loss.append(loss.item())\n",
        "\n",
        "        # print info\n",
        "        if batch / batches > percentage or batch == batches:\n",
        "            out.update(f'[{int(percentage * size)}/{size}] Loss: {loss:>8f}')\n",
        "            percentage += step\n",
        "\n",
        "    if history_loss is not None:\n",
        "        history_loss.append(np.mean(train_loss))\n",
        "    if history_acc is not None:\n",
        "        history_acc.append(np.mean(train_acc))\n",
        "\n",
        "    return {'train_loss': np.mean(train_loss), 'train_acc': np.mean(train_acc)}\n",
        "\n",
        "def test_loop(model, dataloader, loss_fn, history_loss=None, history_acc=None):\n",
        "    size = len(dataloader.dataset)\n",
        "    test_loss, correct = 0, 0\n",
        "    batches = ceil(size / dataloader.batch_size)\n",
        "\n",
        "    val_loss, val_acc = [], []\n",
        "\n",
        "    with torch.no_grad():\n",
        "        for X, y in dataloader:\n",
        "            X, y = X.to(device), y.to(device)\n",
        "\n",
        "            # evaluate\n",
        "            pred = model(X)\n",
        "            loss = loss_fn(pred, y)\n",
        "\n",
        "            # accumulate loss and accuracy\n",
        "            test_loss += loss.item()\n",
        "            correct += (pred.argmax(1) == y).type(torch.float).sum().item()\n",
        "\n",
        "            val_loss.append(loss.item())\n",
        "            val_acc.append((pred.argmax(1) == y).type(torch.float).mean().item())\n",
        "\n",
        "    test_loss /= batches\n",
        "    correct /= size\n",
        "\n",
        "    print(f\"Validation accuracy: {(100*correct):>0.1f}%, Validation loss: {test_loss:>8f} \\n\")\n",
        "\n",
        "    if history_loss is not None:\n",
        "        history_loss.append(np.mean(val_loss))\n",
        "    if history_acc is not None:\n",
        "        history_acc.append(np.mean(val_acc))\n",
        "\n",
        "    return {'val_loss': np.mean(val_loss), 'val_acc': np.mean(val_acc)}\n"
      ]
    },
    {
      "cell_type": "markdown",
      "metadata": {
        "id": "R9QYpMnZDZ_a"
      },
      "source": [
        "### Learning curves\n",
        "\n",
        "Plot ```loss_fn``` and ```accuracy``` for the training and test sets against the training epoch.\n",
        "\n",
        "**Hint!** Don't skip this point: other tasks may require appropriate schedules."
      ]
    },
    {
      "cell_type": "code",
      "execution_count": null,
      "metadata": {
        "id": "lRC5b1CmDZ_a"
      },
      "outputs": [],
      "source": [
        "def plot_learning_process(train_loss, train_acc, val_loss, val_acc):\n",
        "\n",
        "    fig = plt.figure(figsize=(12, 4))\n",
        "\n",
        "    ax1 = plt.subplot(121)\n",
        "    ax1.set_title('loss by epoch')\n",
        "    ax1.plot(np.arange(0, len(train_loss)) + 0.5, train_loss, label='train')\n",
        "    ax1.plot(np.arange(0, len(val_loss)) + 1, val_loss, label='val')\n",
        "    ax1.legend()\n",
        "    ax1.grid()\n",
        "    ax1.set_xlabel('epoch')\n",
        "    ax1.set_ylabel('loss function')\n",
        "\n",
        "    ax2 = plt.subplot(122)\n",
        "    ax2.set_title('accuracy by epoch')\n",
        "    ax2.plot(np.arange(0, len(train_acc)) + 0.5, train_acc, label='train')\n",
        "    ax2.plot(np.arange(0, len(val_acc)) + 1, val_acc, label='val')\n",
        "    ax2.legend()\n",
        "    ax2.grid()\n",
        "    ax2.set_xlabel('epoch')\n",
        "    ax2.set_ylabel('accuracy')\n",
        "\n",
        "    fig.tight_layout()\n",
        "    plt.show()"
      ]
    },
    {
      "cell_type": "markdown",
      "metadata": {
        "id": "WwIRwu8EDZ_b"
      },
      "source": [
        "## Step 3: Train Network\n",
        "\n",
        "What loss function should be used?\n",
        "\n",
        "<details>\n",
        "  <summary>When you're ready, click here to see the answer.</summary>\n",
        "    <ol>\n",
        "      <li>Negative log likelihood loss (NLLloss) should be used as a loss function</li>\n",
        "      <li>Why don't we use CrossEntropyLoss?</li>\n",
        "    </ol>\n",
        "</details>\n",
        "\n",
        "Also you should use Adam optimizer with default parameters.\n"
      ]
    },
    {
      "cell_type": "code",
      "execution_count": null,
      "metadata": {
        "id": "AIHdKumuDZ_b"
      },
      "outputs": [],
      "source": [
        "net = MLP(np.prod(images[0].shape), num_layers=5, hidden_sizes=[256, 512, 256, 128, 64], output_size=len(labels_map),\n",
        "          activations=nn.ReLU(), dropouts=0.,).to(device)\n",
        "\n",
        "# loss_fn, optimizer and number of epochs are required\n",
        "loss_fn = torch.nn.functional.nll_loss\n",
        "optimizer = torch.optim.Adam(net.parameters())\n",
        "epochs = 30\n",
        "\n",
        "train_loss, train_acc = [], []\n",
        "val_loss, val_acc = [], []\n",
        "\n",
        "for epoch in range(epochs):\n",
        "    print(f\"Epoch {epoch+1}\\n-------------------------------\")\n",
        "# <----- your code here ----->\n",
        "        # Тренировочный цикл\n",
        "    train_metrics = train_loop(\n",
        "        model=net,\n",
        "        dataloader=train_dataloader,\n",
        "        loss_fn=loss_fn,\n",
        "        optimizer=optimizer,\n",
        "        history_loss=train_loss,\n",
        "        history_acc=train_acc\n",
        "    )\n",
        "\n",
        "    # Тестовый цикл\n",
        "    val_metrics = test_loop(\n",
        "        model=net,\n",
        "        dataloader=test_dataloader,\n",
        "        loss_fn=loss_fn,\n",
        "        history_loss=val_loss,\n",
        "        history_acc=val_acc\n",
        "    )\n",
        "\n",
        "    # Вывод результатов за эпоху\n",
        "    print(f\"Train Loss: {train_metrics['train_loss']:.4f}, Train Accuracy: {train_metrics['train_acc']:.4f}\")\n",
        "    print(f\"Val Loss: {val_metrics['val_loss']:.4f}, Val Accuracy: {val_metrics['val_acc']:.4f}\")\n"
      ]
    },
    {
      "cell_type": "markdown",
      "metadata": {
        "id": "SYGSnvcvIVk6"
      },
      "source": [
        "1. **(4 points)** Enter the values of the loss function and accuracy on the test dataset, obtained after 30 epochs of training the MLP model with the Adam optimizer. Round the values to one decimal place."
      ]
    },
    {
      "cell_type": "markdown",
      "metadata": {
        "id": "Yk5IiJSSDZ_b"
      },
      "source": [
        "# Task #2: ResNet [4 points]"
      ]
    },
    {
      "cell_type": "markdown",
      "metadata": {
        "id": "KVWzYIPXDZ_b"
      },
      "source": [
        "In this task, you will be required to fill in the gaps in the code below so that the resulting architecture matches ```resnet18```. We will use this particular architecture modification because of its small size and relative ease of self-implementation.\n",
        "\n",
        "**Hint 0!**\n",
        "As an example, you can rely on the corresponding implementation of ```resnet18``` from **pytorch**.\n",
        "\n",
        "**Hint 1!**\n",
        "First of all, try to match the described classes with the description of the model built into pytorch. Don't forget about sequential debugging."
      ]
    },
    {
      "cell_type": "code",
      "execution_count": null,
      "metadata": {
        "id": "_pwwueA_m1Di"
      },
      "outputs": [],
      "source": [
        "import torch\n",
        "import torch.nn as nn\n",
        "\n",
        "\n",
        "class ResidualBlock(nn.Module):\n",
        "     '''\n",
        "       This class should be implemented similarly to the BasicBlock from the pytorch implementation.\n",
        "\n",
        "       Since in resnet18 all blocks have only two parameters that are responsible for the number of channels,\n",
        "       we will also use a simplified notation.\n",
        "\n",
        "       The first convolutional layer has the dimension (in_channels, out_channels),\n",
        "       the second convolutional layer has the dimension (out_channels, out_channels).\n",
        "\n",
        "       You are required to implement the correct forward() and __init__() methods for this block.\n",
        "\n",
        "       Remember to use batch normalizations and activation functions.\n",
        "       Shorcut will require you to understand what projection convolution is.\n",
        "\n",
        "       In general, it is recommended to refer to the original article, the pytorch implementation and\n",
        "       other sources of information to successfully assemble this block.\n",
        "\n",
        "       Hint! You can use nn.Identity() to implement shorcut.\n",
        "     '''\n",
        "\n",
        "     def __init__(self, in_channels, out_channels):\n",
        "         '''\n",
        "         The block must have the following fields:\n",
        "             *self.shorcut\n",
        "             *self.activation\n",
        "             *self.conv1\n",
        "             *self.conv2\n",
        "             *self.bn1\n",
        "             *self.bn2\n",
        "\n",
        "         Hint! Don't forget the bias, padding, and stride parameters for convolutional layers.\n",
        "         '''\n",
        "\n",
        "         super().__init__()\n",
        "         stride = (2, 2) if in_channels != out_channels else (1, 1)\n",
        "\n",
        "         # <----- your code here ----->\n",
        "\n",
        "\n",
        "     def forward(self, x):\n",
        "         '''\n",
        "         '''\n",
        "\n",
        "         residual = self.shortcut(x)\n",
        "\n",
        "         # <----- your code here ----->\n",
        "\n",
        "         return x + residual\n",
        "\n",
        "\n",
        "class ResNetLayer(nn.Module):\n",
        "     '''\n",
        "     This class should be implemented similarly to layer from the pytorch implementation.\n",
        "\n",
        "     To implement the layer, you will need to create two ResidualBlocks inside.\n",
        "     Determining the appropriate dimensions is up to you.\n",
        "     '''\n",
        "\n",
        "     def __init__(self, in_channels, out_channels):\n",
        "         '''\n",
        "         The layer must have the following field declared:\n",
        "             *self.blocks\n",
        "         '''\n",
        "\n",
        "         super().__init__()\n",
        "\n",
        "         # <----- your code here ----->\n",
        "\n",
        "     def forward(self, x):\n",
        "         '''\n",
        "         Note that blocks must be packed to make forward work in its original form.\n",
        "         '''\n",
        "         x = self.blocks(x)\n",
        "         return x\n",
        "\n",
        "\n",
        "class ResNet18(nn.Module):\n",
        "     '''\n",
        "     Finally, this class should consist of three main components:\n",
        "       1. Four preparatory layers\n",
        "       2. A set of internal ResNetLayers\n",
        "       3. Final classifier\n",
        "\n",
        "     Hint! In order for the network to process images from CIFAR10, you should replace the parameters\n",
        "           of the first convolutional layer on kernel_size=(3, 3), stride=(1, 1) and padding=(1, 1).\n",
        "     '''\n",
        "\n",
        "     def __init__(self, in_channels=3, n_classes=10):\n",
        "         '''\n",
        "         The class must have the following fields declared:\n",
        "             *self.conv1\n",
        "             *self.bn1\n",
        "             *self.activation\n",
        "             *self.maxpool\n",
        "             *self.layers\n",
        "             *self.avgpool\n",
        "             *self.flatten\n",
        "             *self.fc\n",
        "\n",
        "         A different grouping of parameters is allowed that does not violate the idea of the network architecture.\n",
        "         '''\n",
        "\n",
        "         super().__init__()\n",
        "\n",
        "         # <----- your code here ----->\n",
        "\n",
        "     def forward(self, x):\n",
        "\n",
        "         # <----- your code here ----->\n",
        "\n",
        "         return x\n"
      ]
    },
    {
      "cell_type": "code",
      "execution_count": null,
      "metadata": {
        "id": "2EN1TIJaPbsB"
      },
      "outputs": [],
      "source": [
        "import torch\n",
        "import torch.nn as nn\n",
        "\n",
        "class ResidualBlock(nn.Module):\n",
        "    def __init__(self, in_channels, out_channels):\n",
        "        super().__init__()\n",
        "\n",
        "        stride = 2 if in_channels != out_channels else 1\n",
        "\n",
        "        self.conv1 = nn.Conv2d(in_channels, out_channels, kernel_size=3, stride=stride, padding=1, bias=False)\n",
        "        self.bn1 = nn.BatchNorm2d(out_channels)\n",
        "        self.conv2 = nn.Conv2d(out_channels, out_channels, kernel_size=3, stride=1, padding=1, bias=False)\n",
        "        self.bn2 = nn.BatchNorm2d(out_channels)\n",
        "        self.activation = nn.ReLU(inplace=True)\n",
        "\n",
        "\n",
        "        if in_channels != out_channels:\n",
        "            self.shortcut = nn.Sequential(\n",
        "                nn.Conv2d(in_channels, out_channels, kernel_size=1, stride=stride, bias=False),\n",
        "                nn.BatchNorm2d(out_channels)\n",
        "            )\n",
        "        else:\n",
        "            self.shortcut = nn.Identity()\n",
        "\n",
        "    def forward(self, x):\n",
        "        residual = self.shortcut(x)\n",
        "        x = self.conv1(x)\n",
        "        x = self.bn1(x)\n",
        "        x = self.activation(x)\n",
        "        x = self.conv2(x)\n",
        "        x = self.bn2(x)\n",
        "        x += residual\n",
        "        x = self.activation(x)\n",
        "        return x + residual\n",
        "\n",
        "\n",
        "class ResNetLayer(nn.Module):\n",
        "    def __init__(self, in_channels, out_channels):\n",
        "        super().__init__()\n",
        "\n",
        "        self.blocks = nn.Sequential(\n",
        "            ResidualBlock(in_channels, out_channels),\n",
        "            ResidualBlock(out_channels, out_channels)\n",
        "        )\n",
        "\n",
        "    def forward(self, x):\n",
        "        return self.blocks(x)\n",
        "\n",
        "\n",
        "class ResNet18(nn.Module):\n",
        "    def __init__(self, in_channels=3, n_classes=10):\n",
        "        super().__init__()\n",
        "\n",
        "        self.conv1 = nn.Conv2d(in_channels, 64, kernel_size=3, stride=1, padding=1, bias=False)\n",
        "        self.bn1 = nn.BatchNorm2d(64)\n",
        "        self.activation = nn.ReLU(inplace=True)\n",
        "\n",
        "        self.layer1 = ResNetLayer(64, 64)\n",
        "        self.layer2 = ResNetLayer(64, 128)\n",
        "        self.layer3 = ResNetLayer(128, 256)\n",
        "        self.layer4 = ResNetLayer(256, 512)\n",
        "\n",
        "        self.avgpool = nn.AdaptiveAvgPool2d((1, 1))\n",
        "        self.flatten = nn.Flatten()\n",
        "        self.fc = nn.Linear(512, n_classes)\n",
        "\n",
        "    def forward(self, x):\n",
        "        x = self.conv1(x)\n",
        "        x = self.bn1(x)\n",
        "        x = self.activation(x)\n",
        "\n",
        "        x = self.layer1(x)\n",
        "        x = self.layer2(x)\n",
        "        x = self.layer3(x)\n",
        "        x = self.layer4(x)\n",
        "\n",
        "        x = self.avgpool(x)\n",
        "        x = self.flatten(x)\n",
        "        x = self.fc(x)\n",
        "\n",
        "        return x"
      ]
    },
    {
      "cell_type": "code",
      "execution_count": null,
      "metadata": {
        "id": "AuDMGXCcDZ_b",
        "outputId": "4830dcea-01fa-475d-cc75-0f1b7d3bc280"
      },
      "outputs": [
        {
          "data": {
            "text/plain": [
              "ResNet(\n",
              "  (conv1): Conv2d(3, 64, kernel_size=(7, 7), stride=(2, 2), padding=(3, 3), bias=False)\n",
              "  (bn1): BatchNorm2d(64, eps=1e-05, momentum=0.1, affine=True, track_running_stats=True)\n",
              "  (relu): ReLU(inplace=True)\n",
              "  (maxpool): MaxPool2d(kernel_size=3, stride=2, padding=1, dilation=1, ceil_mode=False)\n",
              "  (layer1): Sequential(\n",
              "    (0): BasicBlock(\n",
              "      (conv1): Conv2d(64, 64, kernel_size=(3, 3), stride=(1, 1), padding=(1, 1), bias=False)\n",
              "      (bn1): BatchNorm2d(64, eps=1e-05, momentum=0.1, affine=True, track_running_stats=True)\n",
              "      (relu): ReLU(inplace=True)\n",
              "      (conv2): Conv2d(64, 64, kernel_size=(3, 3), stride=(1, 1), padding=(1, 1), bias=False)\n",
              "      (bn2): BatchNorm2d(64, eps=1e-05, momentum=0.1, affine=True, track_running_stats=True)\n",
              "    )\n",
              "    (1): BasicBlock(\n",
              "      (conv1): Conv2d(64, 64, kernel_size=(3, 3), stride=(1, 1), padding=(1, 1), bias=False)\n",
              "      (bn1): BatchNorm2d(64, eps=1e-05, momentum=0.1, affine=True, track_running_stats=True)\n",
              "      (relu): ReLU(inplace=True)\n",
              "      (conv2): Conv2d(64, 64, kernel_size=(3, 3), stride=(1, 1), padding=(1, 1), bias=False)\n",
              "      (bn2): BatchNorm2d(64, eps=1e-05, momentum=0.1, affine=True, track_running_stats=True)\n",
              "    )\n",
              "  )\n",
              "  (layer2): Sequential(\n",
              "    (0): BasicBlock(\n",
              "      (conv1): Conv2d(64, 128, kernel_size=(3, 3), stride=(2, 2), padding=(1, 1), bias=False)\n",
              "      (bn1): BatchNorm2d(128, eps=1e-05, momentum=0.1, affine=True, track_running_stats=True)\n",
              "      (relu): ReLU(inplace=True)\n",
              "      (conv2): Conv2d(128, 128, kernel_size=(3, 3), stride=(1, 1), padding=(1, 1), bias=False)\n",
              "      (bn2): BatchNorm2d(128, eps=1e-05, momentum=0.1, affine=True, track_running_stats=True)\n",
              "      (downsample): Sequential(\n",
              "        (0): Conv2d(64, 128, kernel_size=(1, 1), stride=(2, 2), bias=False)\n",
              "        (1): BatchNorm2d(128, eps=1e-05, momentum=0.1, affine=True, track_running_stats=True)\n",
              "      )\n",
              "    )\n",
              "    (1): BasicBlock(\n",
              "      (conv1): Conv2d(128, 128, kernel_size=(3, 3), stride=(1, 1), padding=(1, 1), bias=False)\n",
              "      (bn1): BatchNorm2d(128, eps=1e-05, momentum=0.1, affine=True, track_running_stats=True)\n",
              "      (relu): ReLU(inplace=True)\n",
              "      (conv2): Conv2d(128, 128, kernel_size=(3, 3), stride=(1, 1), padding=(1, 1), bias=False)\n",
              "      (bn2): BatchNorm2d(128, eps=1e-05, momentum=0.1, affine=True, track_running_stats=True)\n",
              "    )\n",
              "  )\n",
              "  (layer3): Sequential(\n",
              "    (0): BasicBlock(\n",
              "      (conv1): Conv2d(128, 256, kernel_size=(3, 3), stride=(2, 2), padding=(1, 1), bias=False)\n",
              "      (bn1): BatchNorm2d(256, eps=1e-05, momentum=0.1, affine=True, track_running_stats=True)\n",
              "      (relu): ReLU(inplace=True)\n",
              "      (conv2): Conv2d(256, 256, kernel_size=(3, 3), stride=(1, 1), padding=(1, 1), bias=False)\n",
              "      (bn2): BatchNorm2d(256, eps=1e-05, momentum=0.1, affine=True, track_running_stats=True)\n",
              "      (downsample): Sequential(\n",
              "        (0): Conv2d(128, 256, kernel_size=(1, 1), stride=(2, 2), bias=False)\n",
              "        (1): BatchNorm2d(256, eps=1e-05, momentum=0.1, affine=True, track_running_stats=True)\n",
              "      )\n",
              "    )\n",
              "    (1): BasicBlock(\n",
              "      (conv1): Conv2d(256, 256, kernel_size=(3, 3), stride=(1, 1), padding=(1, 1), bias=False)\n",
              "      (bn1): BatchNorm2d(256, eps=1e-05, momentum=0.1, affine=True, track_running_stats=True)\n",
              "      (relu): ReLU(inplace=True)\n",
              "      (conv2): Conv2d(256, 256, kernel_size=(3, 3), stride=(1, 1), padding=(1, 1), bias=False)\n",
              "      (bn2): BatchNorm2d(256, eps=1e-05, momentum=0.1, affine=True, track_running_stats=True)\n",
              "    )\n",
              "  )\n",
              "  (layer4): Sequential(\n",
              "    (0): BasicBlock(\n",
              "      (conv1): Conv2d(256, 512, kernel_size=(3, 3), stride=(2, 2), padding=(1, 1), bias=False)\n",
              "      (bn1): BatchNorm2d(512, eps=1e-05, momentum=0.1, affine=True, track_running_stats=True)\n",
              "      (relu): ReLU(inplace=True)\n",
              "      (conv2): Conv2d(512, 512, kernel_size=(3, 3), stride=(1, 1), padding=(1, 1), bias=False)\n",
              "      (bn2): BatchNorm2d(512, eps=1e-05, momentum=0.1, affine=True, track_running_stats=True)\n",
              "      (downsample): Sequential(\n",
              "        (0): Conv2d(256, 512, kernel_size=(1, 1), stride=(2, 2), bias=False)\n",
              "        (1): BatchNorm2d(512, eps=1e-05, momentum=0.1, affine=True, track_running_stats=True)\n",
              "      )\n",
              "    )\n",
              "    (1): BasicBlock(\n",
              "      (conv1): Conv2d(512, 512, kernel_size=(3, 3), stride=(1, 1), padding=(1, 1), bias=False)\n",
              "      (bn1): BatchNorm2d(512, eps=1e-05, momentum=0.1, affine=True, track_running_stats=True)\n",
              "      (relu): ReLU(inplace=True)\n",
              "      (conv2): Conv2d(512, 512, kernel_size=(3, 3), stride=(1, 1), padding=(1, 1), bias=False)\n",
              "      (bn2): BatchNorm2d(512, eps=1e-05, momentum=0.1, affine=True, track_running_stats=True)\n",
              "    )\n",
              "  )\n",
              "  (avgpool): AdaptiveAvgPool2d(output_size=(1, 1))\n",
              "  (fc): Linear(in_features=512, out_features=1000, bias=True)\n",
              ")"
            ]
          },
          "execution_count": 9,
          "metadata": {},
          "output_type": "execute_result"
        }
      ],
      "source": [
        "torchvision.models.resnet18() # uncomment this to see a Hint 0!"
      ]
    },
    {
      "cell_type": "markdown",
      "metadata": {
        "id": "kSyDUXA5DZ_c"
      },
      "source": [
        "**Hint 3!**\n",
        "Note the structure of ```resnet18```. The first part (before the appearance of ```(layer1): Sequential```) is the downsampling block. Don't forget to modify the network structure so that it applies to images from **CIFAR10**."
      ]
    },
    {
      "cell_type": "code",
      "execution_count": null,
      "metadata": {
        "id": "XrZ3fYSvDZ_c"
      },
      "outputs": [],
      "source": [
        "dummy = ResNet18()(images) # this line should not throw an error"
      ]
    },
    {
      "cell_type": "markdown",
      "metadata": {
        "id": "MITlpSq6DZ_c"
      },
      "source": [
        "Train your model for a small number of epochs (6-30)."
      ]
    },
    {
      "cell_type": "code",
      "execution_count": null,
      "metadata": {
        "colab": {
          "base_uri": "https://localhost:8080/",
          "height": 297
        },
        "id": "Mv1llBxlDZ_c",
        "outputId": "370d5c8d-08b6-48af-c950-1247ca797370"
      },
      "outputs": [
        {
          "data": {
            "image/png": "[encoded data removed]",
            "text/plain": [
              "<Figure size 864x288 with 2 Axes>"
            ]
          },
          "metadata": {},
          "output_type": "display_data"
        }
      ],
      "source": [
        "# loss_fn, optimizer and number of epochs are required\n",
        "# <----- your code here ----->\n",
        "\n",
        "for epoch in range(epochs):\n",
        "    print(f\"Epoch {epoch+1}\\n-------------------------------\")\n",
        "    # <----- your code here ----->\n"
      ]
    },
    {
      "cell_type": "code",
      "execution_count": null,
      "metadata": {
        "id": "77L2HERIPbsC",
        "outputId": "794223f6-7434-422e-8ec9-a3c90071126b"
      },
      "outputs": [
        {
          "ename": "TypeError",
          "evalue": "ResidualBlock.__init__() missing 2 required positional arguments: 'in_channels' and 'out_channels'",
          "output_type": "error",
          "traceback": [
            "\u001b[1;31m---------------------------------------------------------------------------\u001b[0m",
            "\u001b[1;31mTypeError\u001b[0m                                 Traceback (most recent call last)",
            "Cell \u001b[1;32mIn[11], line 8\u001b[0m\n\u001b[0;32m      5\u001b[0m \u001b[38;5;28;01mimport\u001b[39;00m \u001b[38;5;21;01mmatplotlib\u001b[39;00m\u001b[38;5;21;01m.\u001b[39;00m\u001b[38;5;21;01mpyplot\u001b[39;00m \u001b[38;5;28;01mas\u001b[39;00m \u001b[38;5;21;01mplt\u001b[39;00m\n\u001b[0;32m      7\u001b[0m \u001b[38;5;66;03m# Define the model, loss function, optimizer, and number of epochs\u001b[39;00m\n\u001b[1;32m----> 8\u001b[0m model \u001b[38;5;241m=\u001b[39m \u001b[43mResidualBlock\u001b[49m\u001b[43m(\u001b[49m\u001b[43m)\u001b[49m  \u001b[38;5;66;03m# Replace with your model definition\u001b[39;00m\n\u001b[0;32m      9\u001b[0m loss_fn \u001b[38;5;241m=\u001b[39m nn\u001b[38;5;241m.\u001b[39mCrossEntropyLoss()  \u001b[38;5;66;03m# Example loss function, replace with the appropriate one\u001b[39;00m\n\u001b[0;32m     10\u001b[0m optimizer \u001b[38;5;241m=\u001b[39m optim\u001b[38;5;241m.\u001b[39mAdam(model\u001b[38;5;241m.\u001b[39mparameters(), lr\u001b[38;5;241m=\u001b[39m\u001b[38;5;241m0.001\u001b[39m)  \u001b[38;5;66;03m# Example optimizer, replace as needed\u001b[39;00m\n",
            "\u001b[1;31mTypeError\u001b[0m: ResidualBlock.__init__() missing 2 required positional arguments: 'in_channels' and 'out_channels'"
          ]
        }
      ],
      "source": [
        "import torch\n",
        "import torch.nn as nn\n",
        "import torch.optim as optim\n",
        "import numpy as np\n",
        "import matplotlib.pyplot as plt\n",
        "\n",
        "# Define the model, loss function, optimizer, and number of epochs\n",
        "model = ResidualBlock()  # Replace with your model definition\n",
        "loss_fn = nn.CrossEntropyLoss()  # Example loss function, replace with the appropriate one\n",
        "optimizer = optim.Adam(model.parameters(), lr=0.001)  # Example optimizer, replace as needed\n",
        "epochs = 10  # Set the number of epochs\n",
        "\n",
        "# Define lists to store loss and accuracy values for plotting\n",
        "train_loss = []\n",
        "train_acc = []\n",
        "val_loss = []\n",
        "val_acc = []\n",
        "\n",
        "# Training loop\n",
        "for epoch in range(epochs):\n",
        "    model.train()  # Set the model to training mode\n",
        "    running_loss = 0.0\n",
        "    correct = 0\n",
        "    total = 0\n",
        "\n",
        "    # Training phase\n",
        "    for inputs, targets in train_dataloader:  # Using train_dataloader here\n",
        "        optimizer.zero_grad()  # Zero the gradients\n",
        "\n",
        "        # Forward pass\n",
        "        outputs = model(inputs)  # Replace with your model's forward pass\n",
        "\n",
        "        # Compute loss\n",
        "        loss = loss_fn(outputs, targets)\n",
        "\n",
        "        # Backward pass\n",
        "        loss.backward()\n",
        "\n",
        "        # Update weights\n",
        "        optimizer.step()\n",
        "\n",
        "        # Accumulate the loss for logging\n",
        "        running_loss += loss.item()\n",
        "\n",
        "        # Calculate training accuracy\n",
        "        _, predicted = torch.max(outputs, 1)\n",
        "        total += targets.size(0)\n",
        "        correct += (predicted == targets).sum().item()\n",
        "\n",
        "    # Calculate the training loss and accuracy\n",
        "    train_loss.append(running_loss / len(train_dataloader))\n",
        "    train_acc.append(correct / total)\n",
        "\n",
        "    # Validation phase\n",
        "    model.eval()  # Set the model to evaluation mode\n",
        "    val_running_loss = 0.0\n",
        "    val_correct = 0\n",
        "    val_total = 0\n",
        "\n",
        "    with torch.no_grad():  # No gradient computation during validation\n",
        "        for inputs, targets in test_dataloader:  # Using test_dataloader here\n",
        "            outputs = model(inputs)\n",
        "            loss = loss_fn(outputs, targets)\n",
        "            val_running_loss += loss.item()\n",
        "\n",
        "            # Calculate validation accuracy\n",
        "            _, predicted = torch.max(outputs, 1)\n",
        "            val_total += targets.size(0)\n",
        "            val_correct += (predicted == targets).sum().item()\n",
        "\n",
        "    # Calculate the validation loss and accuracy\n",
        "    val_loss.append(val_running_loss / len(test_dataloader))\n",
        "    val_acc.append(val_correct / val_total)\n",
        "\n",
        "    # Print loss and accuracy for the epoch\n",
        "    print(f\"Epoch {epoch+1}, Train Loss: {train_loss[-1]:.4f}, Train Accuracy: {train_acc[-1]:.4f}, \"\n",
        "          f\"Val Loss: {val_loss[-1]:.4f}, Val Accuracy: {val_acc[-1]:.4f}\")\n",
        "\n",
        "\n",
        "plot_learning_process(train_loss, train_acc, val_loss, val_acc)"
      ]
    },
    {
      "cell_type": "markdown",
      "metadata": {
        "id": "4XLPSisbDZ_c"
      },
      "source": [
        "Compare the learning process of a convolutional network Resnet18 and a Multi Layer Perceptron, as well as the number of parameters. What conclusions can be drawn?\n",
        "\n",
        "<details>\n",
        "  <summary>When you're ready, click here to see the answer.</summary>\n",
        "    <li>ResNet18 and MLP are two different architectures designed for different types of data and learning tasks. ResNet18 is a powerful model for image classification tasks and has approximately 11M parameters, while MLP is a simpler model (1M parameters) only with fully-connected layers that can be used for a classification tasks.</li>\n",
        "    <li>The choice of model depends on the specifics of the problem being solved, including the size and complexity of the data, the desired performance, and the available computing resources.</li>\n",
        "    <li>Note that in fact, a convolutional network can show a significantly better result than MLP, even with a comparable number of parameters. As proof, you could «compress» ResNet18 using layers of width 6, 12, 24, 48 instead of the original 64, 128, 256, 512 and than check the performance.</li>\n",
        "</details>"
      ]
    },
    {
      "cell_type": "markdown",
      "metadata": {
        "id": "tflpbuK08fm9"
      },
      "source": [
        "2. **(4 points)**. Upload the implementation of the `ResidualBlock`, `ResNetLayer`, and `ResNet18` classes to the Yandex Contest."
      ]
    },
    {
      "cell_type": "markdown",
      "metadata": {
        "id": "8njnIDVADZ_d"
      },
      "source": [
        "# Task #3: EfficientNet [4 points]\n",
        "\n",
        "Sometimes there is no need to train models from scratch. Let's try to use a technique called **transfer learning** for this task. Unlike **fine tuning**, we will not retrain the entire network. Instead, we will use an already pre-trained network as a **fixed feature extractor**.\n",
        "\n",
        "We will use the activations of the last convolutional layer as ready-made features. And already on these activations we will train our own classifier suitable for our task.\n",
        "\n",
        "We will use the ```EfficientNet``` network trained on the **ImageNet** dataset.\n",
        "\n",
        "To adapt it to our dataset, we need to **\"freeze\" the weights** and replace the model classifier.\n",
        "\n",
        "**Hint!** See the [pytorch documentation](https://pytorch.org/tutorials/beginner/transfer_learning_tutorial.html#convnet-as-fixed-feature-extractor) for details.\n",
        "\n",
        "Please note that we are **not retraining the entire network**."
      ]
    },
    {
      "cell_type": "code",
      "execution_count": null,
      "metadata": {
        "colab": {
          "base_uri": "https://localhost:8080/"
        },
        "id": "zEkVN7GgDZ_d",
        "outputId": "4d121f67-a4d7-40bb-bf4a-1c0cab7346f1"
      },
      "outputs": [
        {
          "name": "stderr",
          "output_type": "stream",
          "text": [
            "/usr/local/lib/python3.8/dist-packages/torchvision/models/_utils.py:208: UserWarning: The parameter 'pretrained' is deprecated since 0.13 and may be removed in the future, please use 'weights' instead.\n",
            "  warnings.warn(\n",
            "/usr/local/lib/python3.8/dist-packages/torchvision/models/_utils.py:223: UserWarning: Arguments other than a weight enum or `None` for 'weights' are deprecated since 0.13 and may be removed in the future. The current behavior is equivalent to passing `weights=EfficientNet_B0_Weights.IMAGENET1K_V1`. You can also use `weights=EfficientNet_B0_Weights.DEFAULT` to get the most up-to-date weights.\n",
            "  warnings.warn(msg)\n"
          ]
        }
      ],
      "source": [
        "from torchvision.models import efficientnet_b0\n",
        "\n",
        "\n",
        "# load and freeze pretrained model\n",
        "# <----- your code here ----->\n",
        "\n",
        "# change classifier\n",
        "# <----- your code here ----->\n"
      ]
    },
    {
      "cell_type": "code",
      "execution_count": null,
      "metadata": {
        "id": "9rZyCiPaPbsE"
      },
      "outputs": [],
      "source": [
        "from torchvision.models import efficientnet_b0\n",
        "import torch.nn as nn\n",
        "\n",
        "# Загрузка и замораживание предобученной модели\n",
        "model = efficientnet_b0(pretrained=True)  # Загружаем предобученную модель на ImageNet\n",
        "for param in model.parameters():\n",
        "    param.requires_grad = False  # Замораживаем все параметры, чтобы использовать модель как feature extractor\n",
        "\n",
        "# Замена классификатора\n",
        "num_features = model.classifier[1].in_features  # Количество входных признаков старого классификатора\n",
        "num_classes = 10  # Для CIFAR-10 у нас 10 классов\n",
        "\n",
        "model.classifier = nn.Linear(num_features, num_classes)"
      ]
    },
    {
      "cell_type": "code",
      "execution_count": null,
      "metadata": {
        "colab": {
          "base_uri": "https://localhost:8080/"
        },
        "id": "YmKmk7E2SyLV",
        "outputId": "e512e24c-04a2-4f74-f767-791f06586478"
      },
      "outputs": [
        {
          "name": "stdout",
          "output_type": "stream",
          "text": [
            "Files already downloaded and verified\n",
            "Files already downloaded and verified\n"
          ]
        }
      ],
      "source": [
        "# <----- your code here ----->\n",
        "batch_size = 512\n",
        "\n",
        "transform_imagenet = transforms.Compose([\n",
        "    transforms.Resize(size=(224, 224)),\n",
        "    transforms.ToTensor()\n",
        "])\n",
        "\n",
        "# download data\n",
        "train_data_imagenet = torchvision.datasets.CIFAR10(\n",
        "    root='./data', train=True, download=True,\n",
        "    transform=transform_imagenet\n",
        ")\n",
        "\n",
        "test_data_imagenet = torchvision.datasets.CIFAR10(\n",
        "    root='./data', train=False, download=True,\n",
        "    transform=transform_imagenet\n",
        ")\n",
        "\n",
        "train_dataloader_imagenet = torch.utils.data.DataLoader(\n",
        "    train_data_imagenet, shuffle=False,\n",
        "    batch_size=batch_size, num_workers=num_workers, generator=g\n",
        ")\n",
        "\n",
        "test_dataloader_imagenet = torch.utils.data.DataLoader(\n",
        "    test_data_imagenet, shuffle=False,\n",
        "    batch_size=batch_size, num_workers=num_workers, generator=g\n",
        ")\n",
        "# <----- your code here ----->\n"
      ]
    },
    {
      "cell_type": "code",
      "execution_count": null,
      "metadata": {
        "colab": {
          "base_uri": "https://localhost:8080/",
          "height": 297
        },
        "id": "bQDpfcPlDZ_d",
        "outputId": "76810a03-e90e-44d7-ab2b-3d09f6740a50"
      },
      "outputs": [
        {
          "data": {
            "image/png": "[encoded data removed]",
            "text/plain": [
              "<Figure size 864x288 with 2 Axes>"
            ]
          },
          "metadata": {},
          "output_type": "display_data"
        }
      ],
      "source": [
        "# loss_fn, optimizer and number of epochs are required\n",
        "\n",
        "optimized_params = []\n",
        "for param in eff_net.parameters():\n",
        "    if param.requires_grad:\n",
        "        optimized_params.append(param)\n",
        "\n",
        "loss_fn = torch.nn.functional.cross_entropy\n",
        "optimizer = torch.optim.Adam(optimized_params)\n",
        "epochs = 5\n",
        "\n",
        "train_loss, train_acc = [], []\n",
        "val_loss, val_acc = [], []\n",
        "\n",
        "for epoch in range(epochs):\n",
        "    print(f\"Epoch {epoch+1}\\n-------------------------------\")\n",
        "    # <----- your code here ----->\n"
      ]
    },
    {
      "cell_type": "code",
      "execution_count": null,
      "metadata": {
        "id": "EuZ63FxdTNa2"
      },
      "outputs": [],
      "source": [
        "device = torch.device(\"cuda\" if torch.cuda.is_available() else \"cpu\")\n",
        "model = model.to(device)"
      ]
    },
    {
      "cell_type": "code",
      "execution_count": null,
      "metadata": {
        "colab": {
          "background_save": true,
          "base_uri": "https://localhost:8080/",
          "height": 691,
          "referenced_widgets": [
            "f9e663f8c936485b81cb96d8f209434b",
            "816b16f6836e47ed853d686ce7492e20",
            "81df00c72036484a92c1dfba791d3377",
            "62e93cff52354ec785db6ce72e56f97e",
            "6dcef09ee3a34e66a26891b4fa254ec2",
            "582e95f8ff4e4082a14c66810a5d1a7e",
            "85ccb21d52e14f068a4f73d51989dd23",
            "db417bf093b44e4d8d03f6518d9c8e9f",
            "854db60e2d26432288775bf2907cf210",
            "219538b14c06412ca29faaf99c5d7bb5",
            "42388f4c06fc4b4cb3d91d7b1fd29630",
            "523313c4f7b44c0f869cfd11b9e8b7bc",
            "dad3b005ba7b4f2085c523be8a633bcf",
            "923190ba36df45529dc48448b4891a00",
            "294ac5cda6c341ef9f4e3c7ec700b91a",
            "fa6ece5a82284fa892a6ec3a87450a86",
            "1d0d7e5c80af4f2aad736ea862c3f288",
            "d97d0bf415174c8fa406984b58c834ea",
            "1a474b82a6d5412bbe9da1e2017b62ac",
            "82a6f8b3f8d945b09138d226363ef28a",
            "9ea2ccf35467447aa7da8a6cbc3aa7b9",
            "5412ea2928a34d18a6a7ea786921dd8d",
            "946c8e58186c4d6e9d73dccbbe9738dc",
            "357f973a8a0742f8833531090ba21b63",
            "3f251d1670874648bc758306c9f1c214",
            "1fb76327b6494a438de11b5fd28b265c",
            "0405ed0690074744a2231988d2c425c6",
            "81c81379ec7140cebb13ec5e42fe43be",
            "aa67478f3e994896b6922658e46cc41b",
            "3a83952ea8924a959b6b15a472fb4cc4",
            "9e91bcefc03a4484b4ba8a5fcc7e5a7e",
            "f5f05b715d1d4f619a38c45b3bc4363a",
            "08200cfea8c342609141d9282263a942",
            "5d0b76835f214adb85f4ad9925b60af1",
            "23d205ff5cf6427aa4a82371d850f167",
            "7cf872473c754f07886208bfdda25a2a",
            "1163d1d78ff24261a325c7d49b0b3da6",
            "0825be005c454d7dbe349393175a0ff4",
            "c4993cb545fe4548aef846d1b9767b03",
            "a7bffaacd37243c68c7967d610fb981f",
            "3c9ae0d8c3c7431286715e2094d53b51",
            "83efda538c3f407491ed60c9ef9d195b",
            "88c68d3d6a864918a5a002ce94f5e240",
            "3c7cb094473d42f5b597cbdd3d4b2222",
            "bef4e2f47cf446df892f31448f70bc48"
          ]
        },
        "id": "6molHoIrPbsK",
        "outputId": "e26a5ede-fb20-41ab-fd6b-40aa9d89f328"
      },
      "outputs": [
        {
          "name": "stdout",
          "output_type": "stream",
          "text": [
            "Epoch 1\n",
            "-------------------------------\n"
          ]
        },
        {
          "data": {
            "application/vnd.google.colaboratory.intrinsic+json": {
              "type": "string"
            },
            "text/plain": [
              "'[50000/50000] Loss: 0.870327'"
            ]
          },
          "metadata": {},
          "output_type": "display_data"
        },
        {
          "data": {
            "application/vnd.jupyter.widget-view+json": {
              "model_id": "f9e663f8c936485b81cb96d8f209434b",
              "version_major": 2,
              "version_minor": 0
            },
            "text/plain": [
              "Batch #:   0%|          | 0/98 [00:00<?, ?it/s]"
            ]
          },
          "metadata": {},
          "output_type": "display_data"
        },
        {
          "name": "stdout",
          "output_type": "stream",
          "text": [
            "Validation accuracy: 74.5%, Validation loss: 0.841904 \n",
            "\n",
            "Training Loss: 1.2155, Training Accuracy: 0.6747\n",
            "Validation Loss: 0.8419, Validation Accuracy: 0.7442\n",
            "Epoch 2\n",
            "-------------------------------\n"
          ]
        },
        {
          "data": {
            "application/vnd.google.colaboratory.intrinsic+json": {
              "type": "string"
            },
            "text/plain": [
              "'[50000/50000] Loss: 0.741051'"
            ]
          },
          "metadata": {},
          "output_type": "display_data"
        },
        {
          "data": {
            "application/vnd.jupyter.widget-view+json": {
              "model_id": "523313c4f7b44c0f869cfd11b9e8b7bc",
              "version_major": 2,
              "version_minor": 0
            },
            "text/plain": [
              "Batch #:   0%|          | 0/98 [00:00<?, ?it/s]"
            ]
          },
          "metadata": {},
          "output_type": "display_data"
        },
        {
          "name": "stdout",
          "output_type": "stream",
          "text": [
            "Validation accuracy: 76.5%, Validation loss: 0.722363 \n",
            "\n",
            "Training Loss: 0.7619, Training Accuracy: 0.7615\n",
            "Validation Loss: 0.7224, Validation Accuracy: 0.7642\n",
            "Epoch 3\n",
            "-------------------------------\n"
          ]
        },
        {
          "data": {
            "application/vnd.google.colaboratory.intrinsic+json": {
              "type": "string"
            },
            "text/plain": [
              "'[50000/50000] Loss: 0.659952'"
            ]
          },
          "metadata": {},
          "output_type": "display_data"
        },
        {
          "data": {
            "application/vnd.jupyter.widget-view+json": {
              "model_id": "946c8e58186c4d6e9d73dccbbe9738dc",
              "version_major": 2,
              "version_minor": 0
            },
            "text/plain": [
              "Batch #:   0%|          | 0/98 [00:00<?, ?it/s]"
            ]
          },
          "metadata": {},
          "output_type": "display_data"
        },
        {
          "name": "stdout",
          "output_type": "stream",
          "text": [
            "Validation accuracy: 77.9%, Validation loss: 0.670514 \n",
            "\n",
            "Training Loss: 0.6768, Training Accuracy: 0.7829\n",
            "Validation Loss: 0.6705, Validation Accuracy: 0.7787\n",
            "Epoch 4\n",
            "-------------------------------\n"
          ]
        },
        {
          "data": {
            "application/vnd.google.colaboratory.intrinsic+json": {
              "type": "string"
            },
            "text/plain": [
              "'[50000/50000] Loss: 0.652804'"
            ]
          },
          "metadata": {},
          "output_type": "display_data"
        },
        {
          "data": {
            "application/vnd.jupyter.widget-view+json": {
              "model_id": "5d0b76835f214adb85f4ad9925b60af1",
              "version_major": 2,
              "version_minor": 0
            },
            "text/plain": [
              "Batch #:   0%|          | 0/98 [00:00<?, ?it/s]"
            ]
          },
          "metadata": {},
          "output_type": "display_data"
        },
        {
          "name": "stdout",
          "output_type": "stream",
          "text": [
            "Validation accuracy: 78.3%, Validation loss: 0.651302 \n",
            "\n",
            "Training Loss: 0.6416, Training Accuracy: 0.7883\n",
            "Validation Loss: 0.6513, Validation Accuracy: 0.7827\n",
            "Epoch 5\n",
            "-------------------------------\n"
          ]
        },
        {
          "data": {
            "application/vnd.google.colaboratory.intrinsic+json": {
              "type": "string"
            },
            "text/plain": [
              "'[50000/50000] Loss: 0.594651'"
            ]
          },
          "metadata": {},
          "output_type": "display_data"
        },
        {
          "data": {
            "application/vnd.jupyter.widget-view+json": {
              "model_id": "23d205ff5cf6427aa4a82371d850f167",
              "version_major": 2,
              "version_minor": 0
            },
            "text/plain": [
              "Batch #:   0%|          | 0/98 [00:00<?, ?it/s]"
            ]
          },
          "metadata": {},
          "output_type": "display_data"
        },
        {
          "name": "stdout",
          "output_type": "stream",
          "text": [
            "Validation accuracy: 78.6%, Validation loss: 0.637782 \n",
            "\n",
            "Training Loss: 0.6161, Training Accuracy: 0.7951\n",
            "Validation Loss: 0.6378, Validation Accuracy: 0.7852\n"
          ]
        }
      ],
      "source": [
        "# loss_fn, optimizer and number of epochs are required\n",
        "\n",
        "optimized_params = []\n",
        "for param in model.parameters():\n",
        "    if param.requires_grad:\n",
        "        optimized_params.append(param)\n",
        "\n",
        "loss_fn = torch.nn.functional.cross_entropy\n",
        "optimizer = torch.optim.Adam(optimized_params)\n",
        "epochs = 5\n",
        "\n",
        "train_loss, train_acc = [], []\n",
        "val_loss, val_acc = [], []\n",
        "\n",
        "for epoch in range(epochs):\n",
        "    print(f\"Epoch {epoch+1}\\n-------------------------------\")\n",
        "    train_metrics = train_loop(\n",
        "        model=model,  # Используем модель, определённую ранее\n",
        "        dataloader=train_dataloader_imagenet,\n",
        "        loss_fn=loss_fn,\n",
        "        optimizer=optimizer,\n",
        "        history_loss=train_loss,\n",
        "        history_acc=train_acc\n",
        "    )\n",
        "\n",
        "    val_metrics = test_loop(\n",
        "        model=model,  # Аналогично, используем ту же модель\n",
        "        dataloader=test_dataloader_imagenet,\n",
        "        loss_fn=loss_fn,\n",
        "        history_loss=val_loss,\n",
        "        history_acc=val_acc\n",
        "    )\n",
        "\n",
        "    print(f\"Training Loss: {train_metrics['train_loss']:.4f}, \"\n",
        "          f\"Training Accuracy: {train_metrics['train_acc']:.4f}\")\n",
        "    print(f\"Validation Loss: {val_metrics['val_loss']:.4f}, \"\n",
        "          f\"Validation Accuracy: {val_metrics['val_acc']:.4f}\")"
      ]
    },
    {
      "cell_type": "markdown",
      "metadata": {
        "id": "Di_B_lSEDZ_d"
      },
      "source": [
        "## Comparsion and tuning\n",
        "\n",
        "Retrain four EfficientNet networks from the ```torchvision.models``` library using **transfer learning**: b0, b1, b2, b3, using epochs = 3, cross_entropy loss and Adam optimizer."
      ]
    },
    {
      "cell_type": "code",
      "execution_count": null,
      "metadata": {
        "colab": {
          "base_uri": "https://localhost:8080/"
        },
        "id": "ixNvK29DDZ_d",
        "outputId": "1cd69194-fd64-4058-a92d-4d338a94ddc4"
      },
      "outputs": [
        {
          "name": "stderr",
          "output_type": "stream",
          "text": [
            "/usr/local/lib/python3.10/dist-packages/torchvision/models/_utils.py:223: UserWarning: Arguments other than a weight enum or `None` for 'weights' are deprecated since 0.13 and may be removed in the future. The current behavior is equivalent to passing `weights=EfficientNet_B1_Weights.IMAGENET1K_V1`. You can also use `weights=EfficientNet_B1_Weights.DEFAULT` to get the most up-to-date weights.\n",
            "  warnings.warn(msg)\n",
            "Downloading: \"https://download.pytorch.org/models/efficientnet_b1_rwightman-bac287d4.pth\" to /root/.cache/torch/hub/checkpoints/efficientnet_b1_rwightman-bac287d4.pth\n",
            "100%|██████████| 30.1M/30.1M [00:00<00:00, 158MB/s]\n",
            "/usr/local/lib/python3.10/dist-packages/torchvision/models/_utils.py:223: UserWarning: Arguments other than a weight enum or `None` for 'weights' are deprecated since 0.13 and may be removed in the future. The current behavior is equivalent to passing `weights=EfficientNet_B2_Weights.IMAGENET1K_V1`. You can also use `weights=EfficientNet_B2_Weights.DEFAULT` to get the most up-to-date weights.\n",
            "  warnings.warn(msg)\n",
            "Downloading: \"https://download.pytorch.org/models/efficientnet_b2_rwightman-c35c1473.pth\" to /root/.cache/torch/hub/checkpoints/efficientnet_b2_rwightman-c35c1473.pth\n",
            "100%|██████████| 35.2M/35.2M [00:00<00:00, 159MB/s]\n",
            "/usr/local/lib/python3.10/dist-packages/torchvision/models/_utils.py:223: UserWarning: Arguments other than a weight enum or `None` for 'weights' are deprecated since 0.13 and may be removed in the future. The current behavior is equivalent to passing `weights=EfficientNet_B3_Weights.IMAGENET1K_V1`. You can also use `weights=EfficientNet_B3_Weights.DEFAULT` to get the most up-to-date weights.\n",
            "  warnings.warn(msg)\n",
            "Downloading: \"https://download.pytorch.org/models/efficientnet_b3_rwightman-b3899882.pth\" to /root/.cache/torch/hub/checkpoints/efficientnet_b3_rwightman-b3899882.pth\n",
            "100%|██████████| 47.2M/47.2M [00:00<00:00, 166MB/s]\n"
          ]
        }
      ],
      "source": [
        "models = {}\n",
        "models['b0'] = torchvision.models.efficientnet_b0(pretrained=True)\n",
        "models['b1'] = torchvision.models.efficientnet_b1(pretrained=True)\n",
        "models['b2'] = torchvision.models.efficientnet_b2(pretrained=True)\n",
        "models['b3'] = torchvision.models.efficientnet_b3(pretrained=True)\n",
        "\n",
        "train_acc_comp, train_loss_comp, val_acc_comp, val_loss_comp = {}, {}, {}, {}\n",
        "epochs = 3\n",
        "batch_size = 512\n",
        "\n",
        "# # <----- your code here ----->\n",
        "\n",
        "#     for epoch in range(epochs):\n",
        "#         print(f\"Epoch {epoch+1}, model {model_type} \\n-------------------------------\")\n",
        "#         train_loop(model, train_dataloader_imagenet, loss_fn, optimizer, history_loss=train_loss_comp[model_type], history_acc=train_acc_comp[model_type])\n",
        "#         test_loop(model, test_dataloader_imagenet, loss_fn, history_loss=val_loss_comp[model_type], history_acc=val_acc_comp[model_type])\n",
        "#         clear_output()\n"
      ]
    },
    {
      "cell_type": "code",
      "execution_count": null,
      "metadata": {
        "colab": {
          "base_uri": "https://localhost:8080/",
          "height": 384
        },
        "id": "bJKHaC0ZWy15",
        "outputId": "50555754-e38f-4eb2-81b9-4d01e2eacc2f"
      },
      "outputs": [
        {
          "name": "stdout",
          "output_type": "stream",
          "text": [
            "Files already downloaded and verified\n",
            "Files already downloaded and verified\n",
            "Training model: b0\n"
          ]
        },
        {
          "ename": "AttributeError",
          "evalue": "'Sequential' object has no attribute 'in_features'",
          "output_type": "error",
          "traceback": [
            "\u001b[0;31m---------------------------------------------------------------------------\u001b[0m",
            "\u001b[0;31mAttributeError\u001b[0m                            Traceback (most recent call last)",
            "\u001b[0;32m<ipython-input-20-904071f27f66>\u001b[0m in \u001b[0;36m<cell line: 33>\u001b[0;34m()\u001b[0m\n\u001b[1;32m     43\u001b[0m \u001b[0;34m\u001b[0m\u001b[0m\n\u001b[1;32m     44\u001b[0m     \u001b[0;31m# Замена классификатора на дефолтный\u001b[0m\u001b[0;34m\u001b[0m\u001b[0;34m\u001b[0m\u001b[0m\n\u001b[0;32m---> 45\u001b[0;31m     \u001b[0mnum_features\u001b[0m \u001b[0;34m=\u001b[0m \u001b[0mmodel\u001b[0m\u001b[0;34m.\u001b[0m\u001b[0mclassifier\u001b[0m\u001b[0;34m.\u001b[0m\u001b[0min_features\u001b[0m  \u001b[0;31m# Количество входных признаков у старого классификатора\u001b[0m\u001b[0;34m\u001b[0m\u001b[0;34m\u001b[0m\u001b[0m\n\u001b[0m\u001b[1;32m     46\u001b[0m     \u001b[0mnum_classes\u001b[0m \u001b[0;34m=\u001b[0m \u001b[0;36m10\u001b[0m  \u001b[0;31m# CIFAR-10 содержит 10 классов\u001b[0m\u001b[0;34m\u001b[0m\u001b[0;34m\u001b[0m\u001b[0m\n\u001b[1;32m     47\u001b[0m \u001b[0;34m\u001b[0m\u001b[0m\n",
            "\u001b[0;32m/usr/local/lib/python3.10/dist-packages/torch/nn/modules/module.py\u001b[0m in \u001b[0;36m__getattr__\u001b[0;34m(self, name)\u001b[0m\n\u001b[1;32m   1929\u001b[0m             \u001b[0;32mif\u001b[0m \u001b[0mname\u001b[0m \u001b[0;32min\u001b[0m \u001b[0mmodules\u001b[0m\u001b[0;34m:\u001b[0m\u001b[0;34m\u001b[0m\u001b[0;34m\u001b[0m\u001b[0m\n\u001b[1;32m   1930\u001b[0m                 \u001b[0;32mreturn\u001b[0m \u001b[0mmodules\u001b[0m\u001b[0;34m[\u001b[0m\u001b[0mname\u001b[0m\u001b[0;34m]\u001b[0m\u001b[0;34m\u001b[0m\u001b[0;34m\u001b[0m\u001b[0m\n\u001b[0;32m-> 1931\u001b[0;31m         raise AttributeError(\n\u001b[0m\u001b[1;32m   1932\u001b[0m             \u001b[0;34mf\"'{type(self).__name__}' object has no attribute '{name}'\"\u001b[0m\u001b[0;34m\u001b[0m\u001b[0;34m\u001b[0m\u001b[0m\n\u001b[1;32m   1933\u001b[0m         )\n",
            "\u001b[0;31mAttributeError\u001b[0m: 'Sequential' object has no attribute 'in_features'"
          ]
        }
      ],
      "source": [
        "device = torch.device(\"cuda\" if torch.cuda.is_available() else \"cpu\")\n",
        "\n",
        "# Словарь для хранения метрик\n",
        "train_acc_comp, train_loss_comp, val_acc_comp, val_loss_comp = {}, {}, {}, {}\n",
        "\n",
        "# Параметры обучения\n",
        "epochs = 3\n",
        "batch_size = 512\n",
        "loss_fn = torch.nn.CrossEntropyLoss()\n",
        "\n",
        "# Датасеты и преобразования\n",
        "transform_imagenet = transforms.Compose([\n",
        "    transforms.Resize((224, 224)),\n",
        "    transforms.ToTensor(),\n",
        "    transforms.Normalize(mean=[0.485, 0.456, 0.406], std=[0.229, 0.224, 0.225])\n",
        "])\n",
        "\n",
        "train_data_imagenet = torchvision.datasets.CIFAR10(\n",
        "    root='./data', train=True, download=True, transform=transform_imagenet\n",
        ")\n",
        "test_data_imagenet = torchvision.datasets.CIFAR10(\n",
        "    root='./data', train=False, download=True, transform=transform_imagenet\n",
        ")\n",
        "\n",
        "train_dataloader_imagenet = torch.utils.data.DataLoader(\n",
        "    train_data_imagenet, shuffle=True, batch_size=batch_size\n",
        ")\n",
        "test_dataloader_imagenet = torch.utils.data.DataLoader(\n",
        "    test_data_imagenet, shuffle=False, batch_size=batch_size\n",
        ")\n",
        "\n",
        "# Перебираем каждую модель EfficientNet\n",
        "for model_type, base_model in models.items():\n",
        "    print(f\"Training model: {model_type}\")\n",
        "\n",
        "    # Подготовка модели\n",
        "    model = base_model\n",
        "    model = model.to(device)\n",
        "\n",
        "    # Замораживаем веса и заменяем классификатор\n",
        "    for param in model.parameters():\n",
        "        param.requires_grad = False\n",
        "\n",
        "    # Замена классификатора на дефолтный\n",
        "    num_features = model.classifier.in_features  # Количество входных признаков у старого классификатора\n",
        "    num_classes = 10  # CIFAR-10 содержит 10 классов\n",
        "\n",
        "    # Новый классификатор с дефолтной архитектурой (без скрытых слоев)\n",
        "    model.classifier = nn.Linear(num_features, num_classes).to(device)\n",
        "\n",
        "    # Оптимизатор\n",
        "    optimizer = torch.optim.Adam(model.classifier.parameters())\n",
        "\n",
        "    # Инициализация словарей для хранения метрик\n",
        "    train_acc_comp[model_type] = []\n",
        "    train_loss_comp[model_type] = []\n",
        "    val_acc_comp[model_type] = []\n",
        "    val_loss_comp[model_type] = []\n",
        "\n",
        "    # Цикл обучения\n",
        "    for epoch in range(epochs):\n",
        "        print(f\"Epoch {epoch+1}, model {model_type} \\n-------------------------------\")\n",
        "\n",
        "        # Обучение\n",
        "        train_loop(\n",
        "            model=model,\n",
        "            dataloader=train_dataloader_imagenet,\n",
        "            loss_fn=loss_fn,\n",
        "            optimizer=optimizer,\n",
        "            history_loss=train_loss_comp[model_type],\n",
        "            history_acc=train_acc_comp[model_type]\n",
        "        )\n",
        "\n",
        "        # Валидация\n",
        "        test_loop(\n",
        "            model=model,\n",
        "            dataloader=test_dataloader_imagenet,\n",
        "            loss_fn=loss_fn,\n",
        "            history_loss=val_loss_comp[model_type],\n",
        "            history_acc=val_acc_comp[model_type]\n",
        "        )\n",
        "\n",
        "        clear_output()\n",
        "\n",
        "# Графики обучения для каждой модели\n",
        "for model_type in models.keys():\n",
        "    print(f\"Model {model_type}\")\n",
        "    plot_learning_process(\n",
        "        train_loss_comp[model_type],\n",
        "        train_acc_comp[model_type],\n",
        "        val_loss_comp[model_type],\n",
        "        val_acc_comp[model_type]\n",
        "    )\n"
      ]
    },
    {
      "cell_type": "code",
      "execution_count": null,
      "metadata": {
        "colab": {
          "base_uri": "https://localhost:8080/"
        },
        "id": "8xrOqbAyp94e",
        "outputId": "a3e718cc-bd61-495e-91d0-e98545ce8b15"
      },
      "outputs": [
        {
          "name": "stdout",
          "output_type": "stream",
          "text": [
            "Sequential(\n",
            "  (0): Linear(in_features=1280, out_features=256, bias=True)\n",
            "  (1): ReLU()\n",
            "  (2): Dropout(p=0.4, inplace=False)\n",
            "  (3): Linear(in_features=256, out_features=10, bias=True)\n",
            ")\n"
          ]
        }
      ],
      "source": [
        "print(model.classifier)"
      ]
    },
    {
      "cell_type": "markdown",
      "metadata": {
        "id": "Bt6o2pM0DZ_d"
      },
      "source": [
        "Plot the error and accuracy during training against the number of elapsed epochs for all networks.\n",
        "\n",
        "**Hint 1!** All networks (as well as the legend) must be represented on one graph, but only one of the four parameters.\n",
        "\n",
        "**Hint 1.5!** It follows from the previous paragraph that there should be... four graphs.\n",
        "\n",
        "**Hint 2!** Take advantage of the ability to create ```subplot``` in the ```matplotlib``` library."
      ]
    },
    {
      "cell_type": "code",
      "execution_count": null,
      "metadata": {
        "colab": {
          "base_uri": "https://localhost:8080/",
          "height": 795
        },
        "id": "12k2unuzDZ_d",
        "outputId": "69b275b3-5556-419f-c330-f690758b860c"
      },
      "outputs": [
        {
          "data": {
            "image/png": "[encoded data removed]",
            "text/plain": [
              "<Figure size 1200x900 with 4 Axes>"
            ]
          },
          "metadata": {},
          "output_type": "display_data"
        }
      ],
      "source": [
        "# <----- your code here ----->\n",
        "fig = plt.figure(figsize=(12, 9))\n",
        "\n",
        "ax1 = plt.subplot(221)\n",
        "ax2 = plt.subplot(222)\n",
        "ax3 = plt.subplot(223)\n",
        "ax4 = plt.subplot(224)\n",
        "\n",
        "for mt in models:\n",
        "    ax1.plot(np.arange(1, epochs+1), train_loss_comp[mt], label=f'{mt}')\n",
        "    ax2.plot(np.arange(1, epochs+1), train_acc_comp[mt], label=f'{mt}')\n",
        "    ax3.plot(np.arange(1, epochs+1), val_loss_comp[mt], label=f'{mt}')\n",
        "    ax4.plot(np.arange(1, epochs+1), val_acc_comp[mt], label=f'{mt}')\n",
        "\n",
        "ax1.set_title('Train loss')\n",
        "ax1.set_xlabel('epoch')\n",
        "ax1.set_ylabel('loss')\n",
        "ax1.legend()\n",
        "ax1.grid()\n",
        "\n",
        "ax2.set_title('Train accuracy')\n",
        "ax2.set_xlabel('epoch')\n",
        "ax2.set_ylabel('accuracy')\n",
        "ax2.legend()\n",
        "ax2.grid()\n",
        "\n",
        "ax3.set_title('Test loss')\n",
        "ax3.set_xlabel('epoch')\n",
        "ax3.set_ylabel('loss')\n",
        "ax3.legend()\n",
        "ax3.grid()\n",
        "\n",
        "ax4.set_title('Test accuracy')\n",
        "ax4.set_xlabel('epoch')\n",
        "ax4.set_ylabel('accuracy')\n",
        "ax4.legend()\n",
        "ax4.grid()\n",
        "\n",
        "plt.show()\n",
        "# <----- your code here ----->\n"
      ]
    },
    {
      "cell_type": "code",
      "execution_count": 32,
      "metadata": {
        "colab": {
          "base_uri": "https://localhost:8080/"
        },
        "id": "aLT-Cmcsmjln",
        "outputId": "64f6b2bb-cbb9-4829-e237-6e22c8f04f0f"
      },
      "outputs": [
        {
          "output_type": "execute_result",
          "data": {
            "text/plain": [
              "{'b0': [0.7488223820924759, 0.7649643838405609, 0.7749253213405609],\n",
              " 'b1': [0.7499482989311218, 0.7708869487047195, 0.7793543189764023],\n",
              " 'b2': [0.7618968278169632, 0.7788775265216827, 0.7867532163858414],\n",
              " 'b3': [0.7714786320924759, 0.7862649351358414, 0.7994198083877564]}"
            ]
          },
          "metadata": {},
          "execution_count": 32
        }
      ],
      "source": [
        "val_acc_comp"
      ]
    },
    {
      "cell_type": "code",
      "execution_count": 34,
      "metadata": {
        "colab": {
          "base_uri": "https://localhost:8080/"
        },
        "id": "hFxf9Ftlmy1U",
        "outputId": "4495a369-79b0-4182-b5e2-70915fd59c56"
      },
      "outputs": [
        {
          "output_type": "execute_result",
          "data": {
            "text/plain": [
              "0.02449448704719548"
            ]
          },
          "metadata": {},
          "execution_count": 34
        }
      ],
      "source": [
        "val_acc_comp['b3'][-1]-val_acc_comp['b0'][-1]"
      ]
    },
    {
      "cell_type": "markdown",
      "metadata": {
        "id": "80TlIuzUDZ_d"
      },
      "source": [
        "Compare results. How does the size and depth of the network affect learning?\n",
        "\n",
        "<details>\n",
        "  <summary>When you're ready, click here to see the answer.</summary>\n",
        "    <li>We see that larger models generally achieve better quality. This is because larger architectures learn better features regarding image classification. Since ImageNet and CIFAR-10 tasks are very similar, as features improve from an ImageNet point of view, they become more useful for CIFAR as well.</li>\n",
        "    <li>At the same time, the learning rate (the characteristic number of epochs required to reach a plateau) does not generally depend on the architecture. This is because we are not training a huge architecture that would require a number of epochs depending on its size. We only learn one linear layer in each case, so it needs roughly the same number of examples regardless of the model body in front of it.\n",
        "</details>\n"
      ]
    },
    {
      "cell_type": "markdown",
      "metadata": {
        "id": "Fg1ri7TWDZ_e"
      },
      "source": [
        "# Bonus Task #4: Deep Double Descent [4 points]\n",
        "\n",
        "*Despite the fact that this task is a bonus, it is highly recommended to try to master it. It is not as scary as it seems from the outside, but it will help to consolidate the acquired skills.*\n",
        "\n",
        "In this task, you are invited to get acquainted with the effect called [deep double descent](https://arxiv.org/abs/1912.02292). An introductory short version can be found [here](https://openai.com/blog/deep-double-descent/) or [from author's video](https://youtu.be/13CZPWmke6A?t=2164).\n",
        "\n",
        "\n",
        "## 4.1 Network width impact\n",
        "\n",
        "You will explore the ability of a neural network to generalize data depending on its architecture. To see this relationship more clearly, we need to add some noise to the training data.\n",
        "\n",
        "### 4.1.1 Adding noise\n",
        "\n",
        "You need to prepare three different datasets from the **CIFAR10** already available to you:\n",
        "\n",
        "     1. In the first one, all class labels are correct\n",
        "     2. In the second, 10% of class labels are random\n",
        "     3. In the third, 20% of class labels are random\n",
        "\n",
        "### 4.1.2 Choose basic model\n",
        "\n",
        "We will use **ResNet18** as the base model.\n",
        "\n",
        "You only need to change the number of channels in each convolutional layer (and, accordingly, the dimensions of the linear layer in the classifier). In the graph at OpenAI blogpost, the abscissa shows the \"width\" of the network, that is, the number of convolution channels included in the network. The depth of the network, i.e. the number of blocks or input layers, must remain _unchanged_.\n",
        "\n",
        "Start with small convolutions of 4 neurons on the first layer **ResNet18** and gradually increase the number to 128-256 on the first layer. The number of neurons in subsequent layers should change in proportion to the first layer. Use a reasonable step when increasing the number of neurons for plotting.\n",
        "\n",
        "Your task is to accurately track at what number of parameters the network:\n",
        "\n",
        "     a) The number of parameters is too small, the network does not have generalizing ability\n",
        "     b) The number of parameters is optimal or close to optimal (the first local minimum on the graph)\n",
        "     c) The number of parameters is more than necessary (with an increase in the number of parameters, the values of the loss function after training should tend to the second minimum)\n",
        "\n",
        "### 4.1.3 Compare models\n",
        "\n",
        "The purpose of the assignment is to independently obtain the same schedule as that of the authors of the article. However, in our case, we want to draw three different lines on the chart: each line must correspond to a network trained on its own version of the dataset from paragraph **4.1.1**."
      ]
    },
    {
      "cell_type": "code",
      "execution_count": null,
      "metadata": {
        "id": "gvIJtzM8JA-G"
      },
      "outputs": [],
      "source": [
        "class ResizableResNet18(nn.Module):\n",
        "     \"\"\"\n",
        "     The architecture completely repeats ResNet18, but the ability is added network width changes.\n",
        "     The first_layer_width parameter sets the width of the first layer,\n",
        "     all other widths change proportionally\n",
        "     \"\"\"\n",
        "     def __init__(self, in_channels=3, n_classes=10, first_layer_width=64):\n",
        "         '''\n",
        "         The class must have the following fields declared:\n",
        "             *self.conv1\n",
        "             *self.bn1\n",
        "             *self.activation\n",
        "             *self.maxpool\n",
        "             *self.layers\n",
        "             *self.avgpool\n",
        "             *self.flatten\n",
        "             *self.fc\n",
        "\n",
        "         A different grouping of parameters is allowed that does not violate the meaning of the network architecture.\n",
        "         '''\n",
        "\n",
        "         super().__init__()\n",
        "         w = first_layer_width\n",
        "         self.first_layer_width = first_layer_width\n",
        "\n",
        "         # <----- your code here ----->\n",
        "\n",
        "     def forward(self, x):\n",
        "\n",
        "         # <----- your code here ----->\n",
        "\n",
        "         return x\n"
      ]
    },
    {
      "cell_type": "markdown",
      "metadata": {
        "id": "P1pIP8pYaAfa"
      },
      "source": [
        "First, let's make a custom class that adds the required amount of noise to the data."
      ]
    },
    {
      "cell_type": "code",
      "execution_count": null,
      "metadata": {
        "id": "Lcm6D52GDZ_e"
      },
      "outputs": [],
      "source": [
        "# <----- your code here ----->\n",
        "from torch.utils.data import Dataset\n",
        "\n",
        "class NoisyDataset(Dataset):\n",
        "    def __init__(self, clean_dataset=None, noise_level=0, *args, **kwargs):\n",
        "        super(NoisyDataset).__init__(*args, **kwargs)\n",
        "        self.clean_dataset = clean_dataset\n",
        "        self.p = noise_level\n",
        "        self.mask = np.random.choice([0, 1], p=[1-self.p, self.p], size=len(clean_dataset))\n",
        "        self.noise_targets = np.random.choice(np.arange(10), size=len(clean_dataset))\n",
        "\n",
        "    def __len__(self):\n",
        "        return len(self.clean_dataset)\n",
        "\n",
        "    def __getitem__(self, idx):\n",
        "        if self.mask[idx] == 0:\n",
        "            return self.clean_dataset[idx]\n",
        "        else:\n",
        "            return (self.clean_dataset[idx][0], self.noise_targets[idx])\n",
        "# <----- your code here ----->\n"
      ]
    },
    {
      "cell_type": "markdown",
      "metadata": {
        "id": "Ciav-CR6aeoX"
      },
      "source": [
        "Let's create the appropriate dataloaders (note that all labels in the test data are clear)."
      ]
    },
    {
      "cell_type": "code",
      "execution_count": null,
      "metadata": {
        "colab": {
          "base_uri": "https://localhost:8080/"
        },
        "id": "YKLJMruaaLnP",
        "outputId": "8621b1d7-c111-4585-d269-8f2c29b0423c"
      },
      "outputs": [
        {
          "name": "stderr",
          "output_type": "stream",
          "text": [
            "/usr/local/lib/python3.8/dist-packages/torch/utils/data/dataloader.py:554: UserWarning: This DataLoader will create 4 worker processes in total. Our suggested max number of worker in current system is 2, which is smaller than what this DataLoader is going to create. Please be aware that excessive worker creation might get DataLoader running slow or even freeze, lower the worker number to avoid potential slowness/freeze if necessary.\n",
            "  warnings.warn(_create_warning_msg(\n"
          ]
        }
      ],
      "source": [
        "# <----- your code here ----->\n",
        "# train_dataloader and test_dataloader are 'clean' versions\n",
        "\n",
        "train_data_noisy_10 = NoisyDataset(clean_dataset=train_data, noise_level=0.1)\n",
        "\n",
        "train_data_noisy_20 = NoisyDataset(clean_dataset=train_data, noise_level=0.2)\n",
        "\n",
        "train_dataloader_noisy_10 = torch.utils.data.DataLoader(\n",
        "    train_data_noisy_10, shuffle=True,\n",
        "    batch_size=batch_size, num_workers=num_workers\n",
        ")\n",
        "\n",
        "test_dataloader_noisy_10 = torch.utils.data.DataLoader(\n",
        "    test_data, shuffle=True,\n",
        "    batch_size=batch_size, num_workers=num_workers\n",
        ")\n",
        "\n",
        "train_dataloader_noisy_20 = torch.utils.data.DataLoader(\n",
        "    train_data_noisy_20, shuffle=True,\n",
        "    batch_size=batch_size, num_workers=num_workers\n",
        ")\n",
        "\n",
        "test_dataloader_noisy_20 = torch.utils.data.DataLoader(\n",
        "    test_data, shuffle=True,\n",
        "    batch_size=batch_size, num_workers=num_workers\n",
        ")\n",
        "# <----- your code here ----->\n"
      ]
    },
    {
      "cell_type": "markdown",
      "metadata": {
        "id": "-diinG5raq14"
      },
      "source": [
        "Let's put together our datasets, logs for the quality of models and a list of model widths.\n",
        "\n",
        "**IMPORTANT**:\n",
        "\n",
        "In the original article, the authors train each model for 4000 epochs. In order to build a high-quality graph, each curve on it must include at least about 20 points. We need to get 3 curves (for different noise levels). In total, we get 4000 x 20 x 3 = 240,000 epochs.\n",
        "\n",
        "Initially, one ResNet18 training epoch took about 10-30 seconds, depending on the size. By selecting num_workers and batch_size, this time was brought to 5-10 seconds. This gives a total bottom estimate for a running time of 240,000 x 5 = 1.2 x 10**6 seconds = 333 hours.\n",
        "\n",
        "In this regard, we will have to put up with somewhat rougher results than those of the authors.\n",
        "\n",
        "In order to have time to build at least something, we resorted to the \"heavy artillery\" of coarsening, namely:\n",
        "\n",
        " * A very small number of different sizes (only 7 values). In order for them to somehow catch the desired behavior of the curves, we distributed these values so that the ranges of interest to us are covered relatively densely, and points are rarely located on long and boring plateaus.\n",
        " * Lack of data augmentation, which was done in the article (judging by the results of the authors, its absence had almost no effect on the phenomenon under study).\n",
        " * Finally, what we will burn in ML hell for: instead of 4000 epochs with lr = 1e-4, as the authors suggest, we take 10 steps with lr = 1e-3. The hope here is that lr = 1e-3 (which is default value in `torch.optim.Adam`) is small enough so that the model does not go into overdrive and learns normally, and the \"amount of training\" invested in the models in these two modes is close to the first approximation: roughly speaking, instead of 10 small steps we take 1 step 10 times larger, so the total distance traveled in the linear approximation should be not much less.\n",
        "\n",
        "We have implemented a variable width ResNet18 here above."
      ]
    },
    {
      "cell_type": "code",
      "execution_count": null,
      "metadata": {
        "id": "_grXYVsRad7f"
      },
      "outputs": [],
      "source": [
        "# <----- your code here ----->\n",
        "noise_levels = ['0', '10', '20']\n",
        "datasets = {\n",
        "    '0' : (train_dataloader, test_dataloader),\n",
        "    '10': (train_dataloader_noisy_10, test_dataloader_noisy_10),\n",
        "    '20': (train_dataloader_noisy_20, test_dataloader_noisy_20)\n",
        "}\n",
        "\n",
        "widths = [4, 6, 8, 10, 12, 20, 40]\n",
        "batch_size = 1024\n",
        "\n",
        "train_loss_big = {}\n",
        "train_acc_big = {}\n",
        "val_loss_big = {}\n",
        "val_acc_big = {}\n",
        "# <----- your code here ----->\n"
      ]
    },
    {
      "cell_type": "code",
      "execution_count": null,
      "metadata": {
        "colab": {
          "base_uri": "https://localhost:8080/",
          "height": 53,
          "referenced_widgets": [
            "58f7fb77582249d590cb6b534be92e64",
            "3ede1fdc5336425a82a271c477669335",
            "f2ec813659b149dc8b029ab295999cb9",
            "0ede7e37a692482cb44de2ddeb9baa4c",
            "31dd9186af9f4844bc071ff7f7748443",
            "b5b7b62133014c5392b11ba87a39e5a1",
            "6c1e0efd67bd44ed9b1f8262bc7fefb6",
            "5bc8d69b649d4042ac8b8c9f9bda19ed",
            "67a31b5fdc3b421e8546fef2569f0f88",
            "b15c6173ab4c41ceab2b7643cbd9909e",
            "64f1cc47700540688a0ee4fa1521bd23"
          ]
        },
        "id": "MS77WQvpbd4s",
        "outputId": "63171ed3-69b3-4707-d695-89c0a930a7f8"
      },
      "outputs": [
        {
          "data": {
            "application/vnd.jupyter.widget-view+json": {
              "model_id": "58f7fb77582249d590cb6b534be92e64",
              "version_major": 2,
              "version_minor": 0
            },
            "text/plain": [
              "Batch #:   0%|          | 0/20 [00:00<?, ?it/s]"
            ]
          },
          "metadata": {},
          "output_type": "display_data"
        },
        {
          "name": "stdout",
          "output_type": "stream",
          "text": [
            "Validation accuracy: 0.0%, Validation loss: 0.955287 \n",
            "\n"
          ]
        }
      ],
      "source": [
        "# <----- your code here ----->\n",
        "for noise_level in ['0', '10', '20']:\n",
        "    train_dl, test_dl = datasets[noise_level]\n",
        "\n",
        "    train_loss_big[noise_level] = {}\n",
        "    train_acc_big[noise_level] = {}\n",
        "    val_loss_big[noise_level] = {}\n",
        "    val_acc_big[noise_level] = {}\n",
        "\n",
        "    for width in widths:\n",
        "        train_loss_big[noise_level][width] = []\n",
        "        train_acc_big[noise_level][width] = []\n",
        "        val_loss_big[noise_level][width] = []\n",
        "        val_acc_big[noise_level][width] = []\n",
        "\n",
        "        model = ResizableResNet18(first_layer_width=width).to(device)\n",
        "\n",
        "        loss_fn = torch.nn.functional.cross_entropy\n",
        "        optimizer = torch.optim.Adam(model.parameters(), lr=0.001)\n",
        "        epochs = 10 #400\n",
        "\n",
        "        for epoch in range(epochs):\n",
        "            print(f\"Epoch {epoch+1}, noise level {noise_level}, width {width} \\n-------------------------------\")\n",
        "            train_loop(model,\n",
        "                       train_dl,\n",
        "                       loss_fn,\n",
        "                       optimizer,\n",
        "                       history_loss = train_loss_big[noise_level][width],\n",
        "                       history_acc = train_acc_big[noise_level][width])\n",
        "            clear_output()\n",
        "            if (epoch+1) % (epochs//5) == 0:\n",
        "                test_loop(model,\n",
        "                           test_dl,\n",
        "                           loss_fn,\n",
        "                           history_loss = val_loss_big[noise_level][width],\n",
        "                           history_acc = val_acc_big[noise_level][width])\n",
        "# <----- your code here ----->"
      ]
    },
    {
      "cell_type": "code",
      "execution_count": null,
      "metadata": {
        "colab": {
          "base_uri": "https://localhost:8080/",
          "height": 279
        },
        "id": "o5IAdYqAeCzC",
        "outputId": "a7302f82-66d8-4f8a-e0f7-5949897fa70f"
      },
      "outputs": [
        {
          "data": {
            "image/png": "[encoded data removed]",
            "text/plain": [
              "<Figure size 432x288 with 1 Axes>"
            ]
          },
          "metadata": {},
          "output_type": "display_data"
        }
      ],
      "source": [
        "# <----- your code here ----->\n",
        "plt.figure()\n",
        "plt.plot(widths, [1 - val_acc_big['20'][w][-1] for w in widths], label='20% noise')\n",
        "plt.plot(widths, [1 - val_acc_big['10'][w][-1] for w in widths], label='10% noise')\n",
        "plt.plot(widths, [1 - val_acc_big['0'][w][-1] for w in widths], label='no noise')\n",
        "plt.legend(loc='best')\n",
        "plt.xlabel('The width of first layer ResNet18')\n",
        "plt.ylabel('Test Error')\n",
        "plt.grid()\n",
        "plt.show()\n",
        "# <----- your code here ----->\n"
      ]
    },
    {
      "cell_type": "markdown",
      "metadata": {
        "id": "93wkLT70yARm"
      },
      "source": [
        "Frankly, the results are... not impressive. For comparison, here is the graph that \"should\" have turned out:\n",
        "\n",
        "![DDD.png](data:image/png;base64,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)\n",
        "\n",
        "Our local maximum turned out to be very weakly expressed due to an attempt to make the training time more than 10 times less, increasing the speed (learning_rate) instead.\n",
        "\n",
        "However, you can see that in the region of `first_layer_width` = 10-12 there is indeed a certain peak, a local maximum of the error. Thus, based on these data, we can conclude that with a width of less than 10, the network is not large enough and does not have a learning ability. At a width of about 10, the first local minimum is reached. Further, at a width of 12 or slightly more (unfortunately, the next point on the graph is already a width of 20, so we cannot accurately determine the coordinate of the peak), a local maximum is reached, and then, at large widths, there is a stable tendency to the next minimum."
      ]
    },
    {
      "cell_type": "markdown",
      "metadata": {
        "id": "zGD9sHNaDZ_e"
      },
      "source": [
        "## 4.2 Network samples impact\n",
        "\n",
        "This task is similar to the previous one: however, in this case, you will investigate the dependence of the effect not on the width of the network, but on the size of the training sample.\n",
        "\n",
        "### 4.2.1 Truncate dataset\n",
        "\n",
        "You need to prepare two different datasets from the **CIFAR10** already available to you:\n",
        "\n",
        "     1. Full dataset without changes.\n",
        "     2. 40% of the dataset.\n",
        "    \n",
        "### 4.2.2 Compare models\n",
        "\n",
        "Similarly to **4.1**, the depth and topology of the network must remain unchanged; you are again only required to change the number of neurons in the convolutions. The step and parameter grid can be used the same as in paragraph **4.1**.\n",
        "\n",
        "For each value of the \"width\" of the network, it is required to mark two points: the value of the **loss**-function when training on a full dataset and on a partial one.\n",
        "\n",
        "Just like in the previous task, you can rely on the result of the authors of the article (an example is located above)."
      ]
    },
    {
      "cell_type": "code",
      "execution_count": null,
      "metadata": {
        "id": "bMVgLwcaDZ_e"
      },
      "outputs": [],
      "source": [
        "# <----- your code here ----->\n",
        "from torch.utils.data import Dataset\n",
        "\n",
        "class TruncatedDataset(Dataset):\n",
        "    def __init__(self, clean_dataset=None, trunc_level=1, *args, **kwargs):\n",
        "        super(NoisyDataset).__init__(*args, **kwargs)\n",
        "        self.clean_dataset = clean_dataset\n",
        "        self.k = trunc_level\n",
        "\n",
        "    def __len__(self):\n",
        "        return int(len(self.clean_dataset) * self.k)\n",
        "\n",
        "    def __getitem__(self, idx):\n",
        "            return self.clean_dataset[idx]\n",
        "# <----- your code here ----->"
      ]
    },
    {
      "cell_type": "code",
      "execution_count": null,
      "metadata": {
        "id": "SZfC2psv03U_"
      },
      "outputs": [],
      "source": [
        "# <----- your code here ----->\n",
        "train_data_short = TruncatedDataset(clean_dataset=train_data, trunc_level=0.4)\n",
        "\n",
        "train_dataloader_short = torch.utils.data.DataLoader(\n",
        "    train_data_short, shuffle=True,\n",
        "    batch_size=batch_size, num_workers=num_workers\n",
        ")\n",
        "\n",
        "test_dataloader_short = torch.utils.data.DataLoader(\n",
        "    test_data, shuffle=True,\n",
        "    batch_size=batch_size, num_workers=num_workers\n",
        ")\n",
        "# <----- your code here ----->\n"
      ]
    },
    {
      "cell_type": "markdown",
      "metadata": {
        "id": "Az2GadO42NG5"
      },
      "source": [
        "Note that we have already trained the model on the full dataset — this is a \"clean\" version from the previous task (fortunately, we use the same optimizer and the same number of epochs). Therefore, it remains only to train the model on a stripped-down version of the dataset:"
      ]
    },
    {
      "cell_type": "code",
      "execution_count": null,
      "metadata": {
        "colab": {
          "base_uri": "https://localhost:8080/",
          "height": 53,
          "referenced_widgets": [
            "265c96299c8d44da8f1efda74d28e9d5",
            "6c60984c434e44d989b5d39e56cc19d0",
            "69a5c96cff4b433faa5cb18f5efabb8b",
            "161a6d33d106449591ed6317fed8e25c",
            "65b9a9593e8241918926e1a12720e491",
            "b5742387acb54d62b9cf5da136b16d5b",
            "f1d8a827d17f4a03952c627f01f53929",
            "95aebf1e1d72424aa1e9d4d98841cc3c",
            "9552a0e4981a4f79ad508231702f9993",
            "0e3ffda128e844c6a4af131a523e82a8",
            "68bdbb2a5f5345449ffe883e4f87d37e"
          ]
        },
        "id": "l2ghdsaW1tfJ",
        "outputId": "85e604aa-8aed-4079-82ef-5dc5637a1f6f"
      },
      "outputs": [
        {
          "data": {
            "application/vnd.jupyter.widget-view+json": {
              "model_id": "265c96299c8d44da8f1efda74d28e9d5",
              "version_major": 2,
              "version_minor": 0
            },
            "text/plain": [
              "Batch #:   0%|          | 0/10 [00:00<?, ?it/s]"
            ]
          },
          "metadata": {},
          "output_type": "display_data"
        },
        {
          "name": "stdout",
          "output_type": "stream",
          "text": [
            "Validation accuracy: 0.0%, Validation loss: 1.268151 \n",
            "\n"
          ]
        }
      ],
      "source": [
        "train_loss_short = {}\n",
        "train_acc_short = {}\n",
        "val_loss_short = {}\n",
        "val_acc_short = {}\n",
        "\n",
        "widths = np.arange(4, 41, step=12)\n",
        "\n",
        "for width in widths:\n",
        "    train_loss_short[width] = []\n",
        "    train_acc_short[width] = []\n",
        "    val_loss_short[width] = []\n",
        "    val_acc_short[width] = []\n",
        "\n",
        "    model = ResizableResNet18(first_layer_width=width).to(device)\n",
        "\n",
        "    loss_fn = torch.nn.functional.cross_entropy\n",
        "    optimizer = torch.optim.Adam(model.parameters())\n",
        "    epochs = 10 #400\n",
        "\n",
        "    for epoch in range(epochs):\n",
        "        print(f\"Epoch {epoch+1}, width {width} \\n-------------------------------\")\n",
        "        train_loop(model,\n",
        "                   train_dataloader_short,\n",
        "                   loss_fn,\n",
        "                   optimizer,\n",
        "                   history_loss = train_loss_short[width],\n",
        "                   history_acc = train_acc_short[width])\n",
        "        clear_output()\n",
        "    test_loop(model,\n",
        "               test_dataloader_short,\n",
        "               loss_fn,\n",
        "               history_loss = val_loss_short[width],\n",
        "               history_acc = val_acc_short[width])"
      ]
    },
    {
      "cell_type": "code",
      "execution_count": null,
      "metadata": {
        "colab": {
          "base_uri": "https://localhost:8080/",
          "height": 279
        },
        "id": "GbouZCBv2jN2",
        "outputId": "b7ff13c4-3295-4315-f0c3-6429ecdce759"
      },
      "outputs": [
        {
          "data": {
            "image/png": "[encoded data removed]",
            "text/plain": [
              "<Figure size 432x288 with 1 Axes>"
            ]
          },
          "metadata": {},
          "output_type": "display_data"
        }
      ],
      "source": [
        "# widths_full = [4, 6, 8, 10, 12, 20, 40]\n",
        "widths_short = widths = np.arange(4, 41, step=12)\n",
        "\n",
        "plt.figure()\n",
        "# plt.plot(widths_full, [1 - val_acc_big['0'][w][-1] for w in widths_full], label='full data')\n",
        "plt.plot(widths_short, [1 - val_acc_short[w][-1] for w in widths_short], label='40% of data')\n",
        "plt.xlabel('The width of first layer ResNet18')\n",
        "plt.ylabel('Test Error')\n",
        "plt.grid()\n",
        "plt.legend()\n",
        "plt.show()"
      ]
    },
    {
      "cell_type": "markdown",
      "metadata": {
        "id": "Kzxfwbkx5aGP"
      },
      "source": [
        "We see that this is not very similar to the graph obtained by the authors of the article. In this case, an exact match was not expected, since we use ResNet18, and the authors use a transformer. However, there is not even a general similarity here: we completely lack a local maximum with a period of growth before it, and in general the graph turned out to be as \"boring\" as possible — with an increase in the size of the model, the quality improves, and it is always better to study on a large dataset than on a small one. Probably, again, the problem is the lack of training epochs."
      ]
    },
    {
      "cell_type": "markdown",
      "metadata": {
        "id": "djBPmBLeBBJy"
      },
      "source": [
        "4. **(4 points)**. Upload the implementation of the `ResizableResNet18` (and also written `ResidualBlock`, `ResNetLayer`) class to the Yandex Contest."
      ]
    }
  ],
  "metadata": {
    "accelerator": "GPU",
    "colab": {
      "gpuType": "T4",
      "provenance": []
    },
    "kernelspec": {
      "display_name": "Python 3",
      "name": "python3"
    },
    "language_info": {
      "codemirror_mode": {
        "name": "ipython",
        "version": 3
      },
      "file_extension": ".py",
      "mimetype": "text/x-python",
      "name": "python",
      "nbconvert_exporter": "python",
      "pygments_lexer": "ipython3",
      "version": "3.12.2"
    },
    "widgets": {
      "application/vnd.jupyter.widget-state+json": {
        "0405ed0690074744a2231988d2c425c6": {
          "model_module": "@jupyter-widgets/base",
          "model_module_version": "1.2.0",
          "model_name": "LayoutModel",
          "state": {
            "_model_module": "@jupyter-widgets/base",
            "_model_module_version": "1.2.0",
            "_model_name": "LayoutModel",
            "_view_count": null,
            "_view_module": "@jupyter-widgets/base",
            "_view_module_version": "1.2.0",
            "_view_name": "LayoutView",
            "align_content": null,
            "align_items": null,
            "align_self": null,
            "border": null,
            "bottom": null,
            "display": null,
            "flex": null,
            "flex_flow": null,
            "grid_area": null,
            "grid_auto_columns": null,
            "grid_auto_flow": null,
            "grid_auto_rows": null,
            "grid_column": null,
            "grid_gap": null,
            "grid_row": null,
            "grid_template_areas": null,
            "grid_template_columns": null,
            "grid_template_rows": null,
            "height": null,
            "justify_content": null,
            "justify_items": null,
            "left": null,
            "margin": null,
            "max_height": null,
            "max_width": null,
            "min_height": null,
            "min_width": null,
            "object_fit": null,
            "object_position": null,
            "order": null,
            "overflow": null,
            "overflow_x": null,
            "overflow_y": null,
            "padding": null,
            "right": null,
            "top": null,
            "visibility": null,
            "width": null
          }
        },
        "08200cfea8c342609141d9282263a942": {
          "model_module": "@jupyter-widgets/controls",
          "model_module_version": "1.5.0",
          "model_name": "DescriptionStyleModel",
          "state": {
            "_model_module": "@jupyter-widgets/controls",
            "_model_module_version": "1.5.0",
            "_model_name": "DescriptionStyleModel",
            "_view_count": null,
            "_view_module": "@jupyter-widgets/base",
            "_view_module_version": "1.2.0",
            "_view_name": "StyleView",
            "description_width": ""
          }
        },
        "0825be005c454d7dbe349393175a0ff4": {
          "model_module": "@jupyter-widgets/controls",
          "model_module_version": "1.5.0",
          "model_name": "HTMLModel",
          "state": {
            "_dom_classes": [],
            "_model_module": "@jupyter-widgets/controls",
            "_model_module_version": "1.5.0",
            "_model_name": "HTMLModel",
            "_view_count": null,
            "_view_module": "@jupyter-widgets/controls",
            "_view_module_version": "1.5.0",
            "_view_name": "HTMLView",
            "description": "",
            "description_tooltip": null,
            "layout": "IPY_MODEL_3c7cb094473d42f5b597cbdd3d4b2222",
            "placeholder": "​",
            "style": "IPY_MODEL_bef4e2f47cf446df892f31448f70bc48",
            "value": " 98/98 [01:47&lt;00:00,  1.32it/s]"
          }
        },
        "0e3ffda128e844c6a4af131a523e82a8": {
          "model_module": "@jupyter-widgets/base",
          "model_module_version": "1.2.0",
          "model_name": "LayoutModel",
          "state": {
            "_model_module": "@jupyter-widgets/base",
            "_model_module_version": "1.2.0",
            "_model_name": "LayoutModel",
            "_view_count": null,
            "_view_module": "@jupyter-widgets/base",
            "_view_module_version": "1.2.0",
            "_view_name": "LayoutView",
            "align_content": null,
            "align_items": null,
            "align_self": null,
            "border": null,
            "bottom": null,
            "display": null,
            "flex": null,
            "flex_flow": null,
            "grid_area": null,
            "grid_auto_columns": null,
            "grid_auto_flow": null,
            "grid_auto_rows": null,
            "grid_column": null,
            "grid_gap": null,
            "grid_row": null,
            "grid_template_areas": null,
            "grid_template_columns": null,
            "grid_template_rows": null,
            "height": null,
            "justify_content": null,
            "justify_items": null,
            "left": null,
            "margin": null,
            "max_height": null,
            "max_width": null,
            "min_height": null,
            "min_width": null,
            "object_fit": null,
            "object_position": null,
            "order": null,
            "overflow": null,
            "overflow_x": null,
            "overflow_y": null,
            "padding": null,
            "right": null,
            "top": null,
            "visibility": null,
            "width": null
          }
        },
        "0ede7e37a692482cb44de2ddeb9baa4c": {
          "model_module": "@jupyter-widgets/controls",
          "model_module_version": "1.5.0",
          "model_name": "HTMLModel",
          "state": {
            "_dom_classes": [],
            "_model_module": "@jupyter-widgets/controls",
            "_model_module_version": "1.5.0",
            "_model_name": "HTMLModel",
            "_view_count": null,
            "_view_module": "@jupyter-widgets/controls",
            "_view_module_version": "1.5.0",
            "_view_name": "HTMLView",
            "description": "",
            "description_tooltip": null,
            "layout": "IPY_MODEL_b15c6173ab4c41ceab2b7643cbd9909e",
            "placeholder": "​",
            "style": "IPY_MODEL_64f1cc47700540688a0ee4fa1521bd23",
            "value": " 17/20 [00:01&lt;00:00, 13.47it/s]"
          }
        },
        "1163d1d78ff24261a325c7d49b0b3da6": {
          "model_module": "@jupyter-widgets/controls",
          "model_module_version": "1.5.0",
          "model_name": "FloatProgressModel",
          "state": {
            "_dom_classes": [],
            "_model_module": "@jupyter-widgets/controls",
            "_model_module_version": "1.5.0",
            "_model_name": "FloatProgressModel",
            "_view_count": null,
            "_view_module": "@jupyter-widgets/controls",
            "_view_module_version": "1.5.0",
            "_view_name": "ProgressView",
            "bar_style": "",
            "description": "",
            "description_tooltip": null,
            "layout": "IPY_MODEL_83efda538c3f407491ed60c9ef9d195b",
            "max": 98,
            "min": 0,
            "orientation": "horizontal",
            "style": "IPY_MODEL_88c68d3d6a864918a5a002ce94f5e240",
            "value": 98
          }
        },
        "161a6d33d106449591ed6317fed8e25c": {
          "model_module": "@jupyter-widgets/controls",
          "model_module_version": "1.5.0",
          "model_name": "HTMLModel",
          "state": {
            "_dom_classes": [],
            "_model_module": "@jupyter-widgets/controls",
            "_model_module_version": "1.5.0",
            "_model_name": "HTMLModel",
            "_view_count": null,
            "_view_module": "@jupyter-widgets/controls",
            "_view_module_version": "1.5.0",
            "_view_name": "HTMLView",
            "description": "",
            "description_tooltip": null,
            "layout": "IPY_MODEL_0e3ffda128e844c6a4af131a523e82a8",
            "placeholder": "​",
            "style": "IPY_MODEL_68bdbb2a5f5345449ffe883e4f87d37e",
            "value": " 10/10 [00:40&lt;00:00,  3.87s/it]"
          }
        },
        "1a474b82a6d5412bbe9da1e2017b62ac": {
          "model_module": "@jupyter-widgets/base",
          "model_module_version": "1.2.0",
          "model_name": "LayoutModel",
          "state": {
            "_model_module": "@jupyter-widgets/base",
            "_model_module_version": "1.2.0",
            "_model_name": "LayoutModel",
            "_view_count": null,
            "_view_module": "@jupyter-widgets/base",
            "_view_module_version": "1.2.0",
            "_view_name": "LayoutView",
            "align_content": null,
            "align_items": null,
            "align_self": null,
            "border": null,
            "bottom": null,
            "display": null,
            "flex": null,
            "flex_flow": null,
            "grid_area": null,
            "grid_auto_columns": null,
            "grid_auto_flow": null,
            "grid_auto_rows": null,
            "grid_column": null,
            "grid_gap": null,
            "grid_row": null,
            "grid_template_areas": null,
            "grid_template_columns": null,
            "grid_template_rows": null,
            "height": null,
            "justify_content": null,
            "justify_items": null,
            "left": null,
            "margin": null,
            "max_height": null,
            "max_width": null,
            "min_height": null,
            "min_width": null,
            "object_fit": null,
            "object_position": null,
            "order": null,
            "overflow": null,
            "overflow_x": null,
            "overflow_y": null,
            "padding": null,
            "right": null,
            "top": null,
            "visibility": null,
            "width": null
          }
        },
        "1d0d7e5c80af4f2aad736ea862c3f288": {
          "model_module": "@jupyter-widgets/base",
          "model_module_version": "1.2.0",
          "model_name": "LayoutModel",
          "state": {
            "_model_module": "@jupyter-widgets/base",
            "_model_module_version": "1.2.0",
            "_model_name": "LayoutModel",
            "_view_count": null,
            "_view_module": "@jupyter-widgets/base",
            "_view_module_version": "1.2.0",
            "_view_name": "LayoutView",
            "align_content": null,
            "align_items": null,
            "align_self": null,
            "border": null,
            "bottom": null,
            "display": null,
            "flex": null,
            "flex_flow": null,
            "grid_area": null,
            "grid_auto_columns": null,
            "grid_auto_flow": null,
            "grid_auto_rows": null,
            "grid_column": null,
            "grid_gap": null,
            "grid_row": null,
            "grid_template_areas": null,
            "grid_template_columns": null,
            "grid_template_rows": null,
            "height": null,
            "justify_content": null,
            "justify_items": null,
            "left": null,
            "margin": null,
            "max_height": null,
            "max_width": null,
            "min_height": null,
            "min_width": null,
            "object_fit": null,
            "object_position": null,
            "order": null,
            "overflow": null,
            "overflow_x": null,
            "overflow_y": null,
            "padding": null,
            "right": null,
            "top": null,
            "visibility": null,
            "width": null
          }
        },
        "1fb76327b6494a438de11b5fd28b265c": {
          "model_module": "@jupyter-widgets/controls",
          "model_module_version": "1.5.0",
          "model_name": "HTMLModel",
          "state": {
            "_dom_classes": [],
            "_model_module": "@jupyter-widgets/controls",
            "_model_module_version": "1.5.0",
            "_model_name": "HTMLModel",
            "_view_count": null,
            "_view_module": "@jupyter-widgets/controls",
            "_view_module_version": "1.5.0",
            "_view_name": "HTMLView",
            "description": "",
            "description_tooltip": null,
            "layout": "IPY_MODEL_f5f05b715d1d4f619a38c45b3bc4363a",
            "placeholder": "​",
            "style": "IPY_MODEL_08200cfea8c342609141d9282263a942",
            "value": " 94/98 [01:41&lt;00:03,  1.15it/s]"
          }
        },
        "219538b14c06412ca29faaf99c5d7bb5": {
          "model_module": "@jupyter-widgets/base",
          "model_module_version": "1.2.0",
          "model_name": "LayoutModel",
          "state": {
            "_model_module": "@jupyter-widgets/base",
            "_model_module_version": "1.2.0",
            "_model_name": "LayoutModel",
            "_view_count": null,
            "_view_module": "@jupyter-widgets/base",
            "_view_module_version": "1.2.0",
            "_view_name": "LayoutView",
            "align_content": null,
            "align_items": null,
            "align_self": null,
            "border": null,
            "bottom": null,
            "display": null,
            "flex": null,
            "flex_flow": null,
            "grid_area": null,
            "grid_auto_columns": null,
            "grid_auto_flow": null,
            "grid_auto_rows": null,
            "grid_column": null,
            "grid_gap": null,
            "grid_row": null,
            "grid_template_areas": null,
            "grid_template_columns": null,
            "grid_template_rows": null,
            "height": null,
            "justify_content": null,
            "justify_items": null,
            "left": null,
            "margin": null,
            "max_height": null,
            "max_width": null,
            "min_height": null,
            "min_width": null,
            "object_fit": null,
            "object_position": null,
            "order": null,
            "overflow": null,
            "overflow_x": null,
            "overflow_y": null,
            "padding": null,
            "right": null,
            "top": null,
            "visibility": null,
            "width": null
          }
        },
        "23d205ff5cf6427aa4a82371d850f167": {
          "model_module": "@jupyter-widgets/controls",
          "model_module_version": "1.5.0",
          "model_name": "HBoxModel",
          "state": {
            "_dom_classes": [],
            "_model_module": "@jupyter-widgets/controls",
            "_model_module_version": "1.5.0",
            "_model_name": "HBoxModel",
            "_view_count": null,
            "_view_module": "@jupyter-widgets/controls",
            "_view_module_version": "1.5.0",
            "_view_name": "HBoxView",
            "box_style": "",
            "children": [
              "IPY_MODEL_7cf872473c754f07886208bfdda25a2a",
              "IPY_MODEL_1163d1d78ff24261a325c7d49b0b3da6",
              "IPY_MODEL_0825be005c454d7dbe349393175a0ff4"
            ],
            "layout": "IPY_MODEL_c4993cb545fe4548aef846d1b9767b03"
          }
        },
        "265c96299c8d44da8f1efda74d28e9d5": {
          "model_module": "@jupyter-widgets/controls",
          "model_module_version": "1.5.0",
          "model_name": "HBoxModel",
          "state": {
            "_dom_classes": [],
            "_model_module": "@jupyter-widgets/controls",
            "_model_module_version": "1.5.0",
            "_model_name": "HBoxModel",
            "_view_count": null,
            "_view_module": "@jupyter-widgets/controls",
            "_view_module_version": "1.5.0",
            "_view_name": "HBoxView",
            "box_style": "",
            "children": [
              "IPY_MODEL_6c60984c434e44d989b5d39e56cc19d0",
              "IPY_MODEL_69a5c96cff4b433faa5cb18f5efabb8b",
              "IPY_MODEL_161a6d33d106449591ed6317fed8e25c"
            ],
            "layout": "IPY_MODEL_65b9a9593e8241918926e1a12720e491"
          }
        },
        "294ac5cda6c341ef9f4e3c7ec700b91a": {
          "model_module": "@jupyter-widgets/controls",
          "model_module_version": "1.5.0",
          "model_name": "HTMLModel",
          "state": {
            "_dom_classes": [],
            "_model_module": "@jupyter-widgets/controls",
            "_model_module_version": "1.5.0",
            "_model_name": "HTMLModel",
            "_view_count": null,
            "_view_module": "@jupyter-widgets/controls",
            "_view_module_version": "1.5.0",
            "_view_name": "HTMLView",
            "description": "",
            "description_tooltip": null,
            "layout": "IPY_MODEL_9ea2ccf35467447aa7da8a6cbc3aa7b9",
            "placeholder": "​",
            "style": "IPY_MODEL_5412ea2928a34d18a6a7ea786921dd8d",
            "value": " 98/98 [01:47&lt;00:00,  1.32it/s]"
          }
        },
        "31dd9186af9f4844bc071ff7f7748443": {
          "model_module": "@jupyter-widgets/base",
          "model_module_version": "1.2.0",
          "model_name": "LayoutModel",
          "state": {
            "_model_module": "@jupyter-widgets/base",
            "_model_module_version": "1.2.0",
            "_model_name": "LayoutModel",
            "_view_count": null,
            "_view_module": "@jupyter-widgets/base",
            "_view_module_version": "1.2.0",
            "_view_name": "LayoutView",
            "align_content": null,
            "align_items": null,
            "align_self": null,
            "border": null,
            "bottom": null,
            "display": null,
            "flex": null,
            "flex_flow": null,
            "grid_area": null,
            "grid_auto_columns": null,
            "grid_auto_flow": null,
            "grid_auto_rows": null,
            "grid_column": null,
            "grid_gap": null,
            "grid_row": null,
            "grid_template_areas": null,
            "grid_template_columns": null,
            "grid_template_rows": null,
            "height": null,
            "justify_content": null,
            "justify_items": null,
            "left": null,
            "margin": null,
            "max_height": null,
            "max_width": null,
            "min_height": null,
            "min_width": null,
            "object_fit": null,
            "object_position": null,
            "order": null,
            "overflow": null,
            "overflow_x": null,
            "overflow_y": null,
            "padding": null,
            "right": null,
            "top": null,
            "visibility": "hidden",
            "width": null
          }
        },
        "357f973a8a0742f8833531090ba21b63": {
          "model_module": "@jupyter-widgets/controls",
          "model_module_version": "1.5.0",
          "model_name": "HTMLModel",
          "state": {
            "_dom_classes": [],
            "_model_module": "@jupyter-widgets/controls",
            "_model_module_version": "1.5.0",
            "_model_name": "HTMLModel",
            "_view_count": null,
            "_view_module": "@jupyter-widgets/controls",
            "_view_module_version": "1.5.0",
            "_view_name": "HTMLView",
            "description": "",
            "description_tooltip": null,
            "layout": "IPY_MODEL_81c81379ec7140cebb13ec5e42fe43be",
            "placeholder": "​",
            "style": "IPY_MODEL_aa67478f3e994896b6922658e46cc41b",
            "value": "Batch #:  96%"
          }
        },
        "3a83952ea8924a959b6b15a472fb4cc4": {
          "model_module": "@jupyter-widgets/base",
          "model_module_version": "1.2.0",
          "model_name": "LayoutModel",
          "state": {
            "_model_module": "@jupyter-widgets/base",
            "_model_module_version": "1.2.0",
            "_model_name": "LayoutModel",
            "_view_count": null,
            "_view_module": "@jupyter-widgets/base",
            "_view_module_version": "1.2.0",
            "_view_name": "LayoutView",
            "align_content": null,
            "align_items": null,
            "align_self": null,
            "border": null,
            "bottom": null,
            "display": null,
            "flex": null,
            "flex_flow": null,
            "grid_area": null,
            "grid_auto_columns": null,
            "grid_auto_flow": null,
            "grid_auto_rows": null,
            "grid_column": null,
            "grid_gap": null,
            "grid_row": null,
            "grid_template_areas": null,
            "grid_template_columns": null,
            "grid_template_rows": null,
            "height": null,
            "justify_content": null,
            "justify_items": null,
            "left": null,
            "margin": null,
            "max_height": null,
            "max_width": null,
            "min_height": null,
            "min_width": null,
            "object_fit": null,
            "object_position": null,
            "order": null,
            "overflow": null,
            "overflow_x": null,
            "overflow_y": null,
            "padding": null,
            "right": null,
            "top": null,
            "visibility": null,
            "width": null
          }
        },
        "3c7cb094473d42f5b597cbdd3d4b2222": {
          "model_module": "@jupyter-widgets/base",
          "model_module_version": "1.2.0",
          "model_name": "LayoutModel",
          "state": {
            "_model_module": "@jupyter-widgets/base",
            "_model_module_version": "1.2.0",
            "_model_name": "LayoutModel",
            "_view_count": null,
            "_view_module": "@jupyter-widgets/base",
            "_view_module_version": "1.2.0",
            "_view_name": "LayoutView",
            "align_content": null,
            "align_items": null,
            "align_self": null,
            "border": null,
            "bottom": null,
            "display": null,
            "flex": null,
            "flex_flow": null,
            "grid_area": null,
            "grid_auto_columns": null,
            "grid_auto_flow": null,
            "grid_auto_rows": null,
            "grid_column": null,
            "grid_gap": null,
            "grid_row": null,
            "grid_template_areas": null,
            "grid_template_columns": null,
            "grid_template_rows": null,
            "height": null,
            "justify_content": null,
            "justify_items": null,
            "left": null,
            "margin": null,
            "max_height": null,
            "max_width": null,
            "min_height": null,
            "min_width": null,
            "object_fit": null,
            "object_position": null,
            "order": null,
            "overflow": null,
            "overflow_x": null,
            "overflow_y": null,
            "padding": null,
            "right": null,
            "top": null,
            "visibility": null,
            "width": null
          }
        },
        "3c9ae0d8c3c7431286715e2094d53b51": {
          "model_module": "@jupyter-widgets/controls",
          "model_module_version": "1.5.0",
          "model_name": "DescriptionStyleModel",
          "state": {
            "_model_module": "@jupyter-widgets/controls",
            "_model_module_version": "1.5.0",
            "_model_name": "DescriptionStyleModel",
            "_view_count": null,
            "_view_module": "@jupyter-widgets/base",
            "_view_module_version": "1.2.0",
            "_view_name": "StyleView",
            "description_width": ""
          }
        },
        "3ede1fdc5336425a82a271c477669335": {
          "model_module": "@jupyter-widgets/controls",
          "model_module_version": "1.5.0",
          "model_name": "HTMLModel",
          "state": {
            "_dom_classes": [],
            "_model_module": "@jupyter-widgets/controls",
            "_model_module_version": "1.5.0",
            "_model_name": "HTMLModel",
            "_view_count": null,
            "_view_module": "@jupyter-widgets/controls",
            "_view_module_version": "1.5.0",
            "_view_name": "HTMLView",
            "description": "",
            "description_tooltip": null,
            "layout": "IPY_MODEL_b5b7b62133014c5392b11ba87a39e5a1",
            "placeholder": "​",
            "style": "IPY_MODEL_6c1e0efd67bd44ed9b1f8262bc7fefb6",
            "value": "Batch #:  85%"
          }
        },
        "3f251d1670874648bc758306c9f1c214": {
          "model_module": "@jupyter-widgets/controls",
          "model_module_version": "1.5.0",
          "model_name": "FloatProgressModel",
          "state": {
            "_dom_classes": [],
            "_model_module": "@jupyter-widgets/controls",
            "_model_module_version": "1.5.0",
            "_model_name": "FloatProgressModel",
            "_view_count": null,
            "_view_module": "@jupyter-widgets/controls",
            "_view_module_version": "1.5.0",
            "_view_name": "ProgressView",
            "bar_style": "",
            "description": "",
            "description_tooltip": null,
            "layout": "IPY_MODEL_3a83952ea8924a959b6b15a472fb4cc4",
            "max": 98,
            "min": 0,
            "orientation": "horizontal",
            "style": "IPY_MODEL_9e91bcefc03a4484b4ba8a5fcc7e5a7e",
            "value": 94
          }
        },
        "42388f4c06fc4b4cb3d91d7b1fd29630": {
          "model_module": "@jupyter-widgets/controls",
          "model_module_version": "1.5.0",
          "model_name": "DescriptionStyleModel",
          "state": {
            "_model_module": "@jupyter-widgets/controls",
            "_model_module_version": "1.5.0",
            "_model_name": "DescriptionStyleModel",
            "_view_count": null,
            "_view_module": "@jupyter-widgets/base",
            "_view_module_version": "1.2.0",
            "_view_name": "StyleView",
            "description_width": ""
          }
        },
        "523313c4f7b44c0f869cfd11b9e8b7bc": {
          "model_module": "@jupyter-widgets/controls",
          "model_module_version": "1.5.0",
          "model_name": "HBoxModel",
          "state": {
            "_dom_classes": [],
            "_model_module": "@jupyter-widgets/controls",
            "_model_module_version": "1.5.0",
            "_model_name": "HBoxModel",
            "_view_count": null,
            "_view_module": "@jupyter-widgets/controls",
            "_view_module_version": "1.5.0",
            "_view_name": "HBoxView",
            "box_style": "",
            "children": [
              "IPY_MODEL_dad3b005ba7b4f2085c523be8a633bcf",
              "IPY_MODEL_923190ba36df45529dc48448b4891a00",
              "IPY_MODEL_294ac5cda6c341ef9f4e3c7ec700b91a"
            ],
            "layout": "IPY_MODEL_fa6ece5a82284fa892a6ec3a87450a86"
          }
        },
        "5412ea2928a34d18a6a7ea786921dd8d": {
          "model_module": "@jupyter-widgets/controls",
          "model_module_version": "1.5.0",
          "model_name": "DescriptionStyleModel",
          "state": {
            "_model_module": "@jupyter-widgets/controls",
            "_model_module_version": "1.5.0",
            "_model_name": "DescriptionStyleModel",
            "_view_count": null,
            "_view_module": "@jupyter-widgets/base",
            "_view_module_version": "1.2.0",
            "_view_name": "StyleView",
            "description_width": ""
          }
        },
        "582e95f8ff4e4082a14c66810a5d1a7e": {
          "model_module": "@jupyter-widgets/base",
          "model_module_version": "1.2.0",
          "model_name": "LayoutModel",
          "state": {
            "_model_module": "@jupyter-widgets/base",
            "_model_module_version": "1.2.0",
            "_model_name": "LayoutModel",
            "_view_count": null,
            "_view_module": "@jupyter-widgets/base",
            "_view_module_version": "1.2.0",
            "_view_name": "LayoutView",
            "align_content": null,
            "align_items": null,
            "align_self": null,
            "border": null,
            "bottom": null,
            "display": null,
            "flex": null,
            "flex_flow": null,
            "grid_area": null,
            "grid_auto_columns": null,
            "grid_auto_flow": null,
            "grid_auto_rows": null,
            "grid_column": null,
            "grid_gap": null,
            "grid_row": null,
            "grid_template_areas": null,
            "grid_template_columns": null,
            "grid_template_rows": null,
            "height": null,
            "justify_content": null,
            "justify_items": null,
            "left": null,
            "margin": null,
            "max_height": null,
            "max_width": null,
            "min_height": null,
            "min_width": null,
            "object_fit": null,
            "object_position": null,
            "order": null,
            "overflow": null,
            "overflow_x": null,
            "overflow_y": null,
            "padding": null,
            "right": null,
            "top": null,
            "visibility": null,
            "width": null
          }
        },
        "58f7fb77582249d590cb6b534be92e64": {
          "model_module": "@jupyter-widgets/controls",
          "model_module_version": "1.5.0",
          "model_name": "HBoxModel",
          "state": {
            "_dom_classes": [],
            "_model_module": "@jupyter-widgets/controls",
            "_model_module_version": "1.5.0",
            "_model_name": "HBoxModel",
            "_view_count": null,
            "_view_module": "@jupyter-widgets/controls",
            "_view_module_version": "1.5.0",
            "_view_name": "HBoxView",
            "box_style": "",
            "children": [
              "IPY_MODEL_3ede1fdc5336425a82a271c477669335",
              "IPY_MODEL_f2ec813659b149dc8b029ab295999cb9",
              "IPY_MODEL_0ede7e37a692482cb44de2ddeb9baa4c"
            ],
            "layout": "IPY_MODEL_31dd9186af9f4844bc071ff7f7748443"
          }
        },
        "5bc8d69b649d4042ac8b8c9f9bda19ed": {
          "model_module": "@jupyter-widgets/base",
          "model_module_version": "1.2.0",
          "model_name": "LayoutModel",
          "state": {
            "_model_module": "@jupyter-widgets/base",
            "_model_module_version": "1.2.0",
            "_model_name": "LayoutModel",
            "_view_count": null,
            "_view_module": "@jupyter-widgets/base",
            "_view_module_version": "1.2.0",
            "_view_name": "LayoutView",
            "align_content": null,
            "align_items": null,
            "align_self": null,
            "border": null,
            "bottom": null,
            "display": null,
            "flex": null,
            "flex_flow": null,
            "grid_area": null,
            "grid_auto_columns": null,
            "grid_auto_flow": null,
            "grid_auto_rows": null,
            "grid_column": null,
            "grid_gap": null,
            "grid_row": null,
            "grid_template_areas": null,
            "grid_template_columns": null,
            "grid_template_rows": null,
            "height": null,
            "justify_content": null,
            "justify_items": null,
            "left": null,
            "margin": null,
            "max_height": null,
            "max_width": null,
            "min_height": null,
            "min_width": null,
            "object_fit": null,
            "object_position": null,
            "order": null,
            "overflow": null,
            "overflow_x": null,
            "overflow_y": null,
            "padding": null,
            "right": null,
            "top": null,
            "visibility": null,
            "width": null
          }
        },
        "62e93cff52354ec785db6ce72e56f97e": {
          "model_module": "@jupyter-widgets/controls",
          "model_module_version": "1.5.0",
          "model_name": "HTMLModel",
          "state": {
            "_dom_classes": [],
            "_model_module": "@jupyter-widgets/controls",
            "_model_module_version": "1.5.0",
            "_model_name": "HTMLModel",
            "_view_count": null,
            "_view_module": "@jupyter-widgets/controls",
            "_view_module_version": "1.5.0",
            "_view_name": "HTMLView",
            "description": "",
            "description_tooltip": null,
            "layout": "IPY_MODEL_219538b14c06412ca29faaf99c5d7bb5",
            "placeholder": "​",
            "style": "IPY_MODEL_42388f4c06fc4b4cb3d91d7b1fd29630",
            "value": " 98/98 [01:46&lt;00:00,  1.27it/s]"
          }
        },
        "64f1cc47700540688a0ee4fa1521bd23": {
          "model_module": "@jupyter-widgets/controls",
          "model_module_version": "1.5.0",
          "model_name": "DescriptionStyleModel",
          "state": {
            "_model_module": "@jupyter-widgets/controls",
            "_model_module_version": "1.5.0",
            "_model_name": "DescriptionStyleModel",
            "_view_count": null,
            "_view_module": "@jupyter-widgets/base",
            "_view_module_version": "1.2.0",
            "_view_name": "StyleView",
            "description_width": ""
          }
        },
        "65b9a9593e8241918926e1a12720e491": {
          "model_module": "@jupyter-widgets/base",
          "model_module_version": "1.2.0",
          "model_name": "LayoutModel",
          "state": {
            "_model_module": "@jupyter-widgets/base",
            "_model_module_version": "1.2.0",
            "_model_name": "LayoutModel",
            "_view_count": null,
            "_view_module": "@jupyter-widgets/base",
            "_view_module_version": "1.2.0",
            "_view_name": "LayoutView",
            "align_content": null,
            "align_items": null,
            "align_self": null,
            "border": null,
            "bottom": null,
            "display": null,
            "flex": null,
            "flex_flow": null,
            "grid_area": null,
            "grid_auto_columns": null,
            "grid_auto_flow": null,
            "grid_auto_rows": null,
            "grid_column": null,
            "grid_gap": null,
            "grid_row": null,
            "grid_template_areas": null,
            "grid_template_columns": null,
            "grid_template_rows": null,
            "height": null,
            "justify_content": null,
            "justify_items": null,
            "left": null,
            "margin": null,
            "max_height": null,
            "max_width": null,
            "min_height": null,
            "min_width": null,
            "object_fit": null,
            "object_position": null,
            "order": null,
            "overflow": null,
            "overflow_x": null,
            "overflow_y": null,
            "padding": null,
            "right": null,
            "top": null,
            "visibility": "hidden",
            "width": null
          }
        },
        "67a31b5fdc3b421e8546fef2569f0f88": {
          "model_module": "@jupyter-widgets/controls",
          "model_module_version": "1.5.0",
          "model_name": "ProgressStyleModel",
          "state": {
            "_model_module": "@jupyter-widgets/controls",
            "_model_module_version": "1.5.0",
            "_model_name": "ProgressStyleModel",
            "_view_count": null,
            "_view_module": "@jupyter-widgets/base",
            "_view_module_version": "1.2.0",
            "_view_name": "StyleView",
            "bar_color": null,
            "description_width": ""
          }
        },
        "68bdbb2a5f5345449ffe883e4f87d37e": {
          "model_module": "@jupyter-widgets/controls",
          "model_module_version": "1.5.0",
          "model_name": "DescriptionStyleModel",
          "state": {
            "_model_module": "@jupyter-widgets/controls",
            "_model_module_version": "1.5.0",
            "_model_name": "DescriptionStyleModel",
            "_view_count": null,
            "_view_module": "@jupyter-widgets/base",
            "_view_module_version": "1.2.0",
            "_view_name": "StyleView",
            "description_width": ""
          }
        },
        "69a5c96cff4b433faa5cb18f5efabb8b": {
          "model_module": "@jupyter-widgets/controls",
          "model_module_version": "1.5.0",
          "model_name": "FloatProgressModel",
          "state": {
            "_dom_classes": [],
            "_model_module": "@jupyter-widgets/controls",
            "_model_module_version": "1.5.0",
            "_model_name": "FloatProgressModel",
            "_view_count": null,
            "_view_module": "@jupyter-widgets/controls",
            "_view_module_version": "1.5.0",
            "_view_name": "ProgressView",
            "bar_style": "",
            "description": "",
            "description_tooltip": null,
            "layout": "IPY_MODEL_95aebf1e1d72424aa1e9d4d98841cc3c",
            "max": 10,
            "min": 0,
            "orientation": "horizontal",
            "style": "IPY_MODEL_9552a0e4981a4f79ad508231702f9993",
            "value": 10
          }
        },
        "6c1e0efd67bd44ed9b1f8262bc7fefb6": {
          "model_module": "@jupyter-widgets/controls",
          "model_module_version": "1.5.0",
          "model_name": "DescriptionStyleModel",
          "state": {
            "_model_module": "@jupyter-widgets/controls",
            "_model_module_version": "1.5.0",
            "_model_name": "DescriptionStyleModel",
            "_view_count": null,
            "_view_module": "@jupyter-widgets/base",
            "_view_module_version": "1.2.0",
            "_view_name": "StyleView",
            "description_width": ""
          }
        },
        "6c60984c434e44d989b5d39e56cc19d0": {
          "model_module": "@jupyter-widgets/controls",
          "model_module_version": "1.5.0",
          "model_name": "HTMLModel",
          "state": {
            "_dom_classes": [],
            "_model_module": "@jupyter-widgets/controls",
            "_model_module_version": "1.5.0",
            "_model_name": "HTMLModel",
            "_view_count": null,
            "_view_module": "@jupyter-widgets/controls",
            "_view_module_version": "1.5.0",
            "_view_name": "HTMLView",
            "description": "",
            "description_tooltip": null,
            "layout": "IPY_MODEL_b5742387acb54d62b9cf5da136b16d5b",
            "placeholder": "​",
            "style": "IPY_MODEL_f1d8a827d17f4a03952c627f01f53929",
            "value": "Batch #: 100%"
          }
        },
        "6dcef09ee3a34e66a26891b4fa254ec2": {
          "model_module": "@jupyter-widgets/base",
          "model_module_version": "1.2.0",
          "model_name": "LayoutModel",
          "state": {
            "_model_module": "@jupyter-widgets/base",
            "_model_module_version": "1.2.0",
            "_model_name": "LayoutModel",
            "_view_count": null,
            "_view_module": "@jupyter-widgets/base",
            "_view_module_version": "1.2.0",
            "_view_name": "LayoutView",
            "align_content": null,
            "align_items": null,
            "align_self": null,
            "border": null,
            "bottom": null,
            "display": null,
            "flex": null,
            "flex_flow": null,
            "grid_area": null,
            "grid_auto_columns": null,
            "grid_auto_flow": null,
            "grid_auto_rows": null,
            "grid_column": null,
            "grid_gap": null,
            "grid_row": null,
            "grid_template_areas": null,
            "grid_template_columns": null,
            "grid_template_rows": null,
            "height": null,
            "justify_content": null,
            "justify_items": null,
            "left": null,
            "margin": null,
            "max_height": null,
            "max_width": null,
            "min_height": null,
            "min_width": null,
            "object_fit": null,
            "object_position": null,
            "order": null,
            "overflow": null,
            "overflow_x": null,
            "overflow_y": null,
            "padding": null,
            "right": null,
            "top": null,
            "visibility": "hidden",
            "width": null
          }
        },
        "7cf872473c754f07886208bfdda25a2a": {
          "model_module": "@jupyter-widgets/controls",
          "model_module_version": "1.5.0",
          "model_name": "HTMLModel",
          "state": {
            "_dom_classes": [],
            "_model_module": "@jupyter-widgets/controls",
            "_model_module_version": "1.5.0",
            "_model_name": "HTMLModel",
            "_view_count": null,
            "_view_module": "@jupyter-widgets/controls",
            "_view_module_version": "1.5.0",
            "_view_name": "HTMLView",
            "description": "",
            "description_tooltip": null,
            "layout": "IPY_MODEL_a7bffaacd37243c68c7967d610fb981f",
            "placeholder": "​",
            "style": "IPY_MODEL_3c9ae0d8c3c7431286715e2094d53b51",
            "value": "Batch #: 100%"
          }
        },
        "816b16f6836e47ed853d686ce7492e20": {
          "model_module": "@jupyter-widgets/controls",
          "model_module_version": "1.5.0",
          "model_name": "HTMLModel",
          "state": {
            "_dom_classes": [],
            "_model_module": "@jupyter-widgets/controls",
            "_model_module_version": "1.5.0",
            "_model_name": "HTMLModel",
            "_view_count": null,
            "_view_module": "@jupyter-widgets/controls",
            "_view_module_version": "1.5.0",
            "_view_name": "HTMLView",
            "description": "",
            "description_tooltip": null,
            "layout": "IPY_MODEL_582e95f8ff4e4082a14c66810a5d1a7e",
            "placeholder": "​",
            "style": "IPY_MODEL_85ccb21d52e14f068a4f73d51989dd23",
            "value": "Batch #: 100%"
          }
        },
        "81c81379ec7140cebb13ec5e42fe43be": {
          "model_module": "@jupyter-widgets/base",
          "model_module_version": "1.2.0",
          "model_name": "LayoutModel",
          "state": {
            "_model_module": "@jupyter-widgets/base",
            "_model_module_version": "1.2.0",
            "_model_name": "LayoutModel",
            "_view_count": null,
            "_view_module": "@jupyter-widgets/base",
            "_view_module_version": "1.2.0",
            "_view_name": "LayoutView",
            "align_content": null,
            "align_items": null,
            "align_self": null,
            "border": null,
            "bottom": null,
            "display": null,
            "flex": null,
            "flex_flow": null,
            "grid_area": null,
            "grid_auto_columns": null,
            "grid_auto_flow": null,
            "grid_auto_rows": null,
            "grid_column": null,
            "grid_gap": null,
            "grid_row": null,
            "grid_template_areas": null,
            "grid_template_columns": null,
            "grid_template_rows": null,
            "height": null,
            "justify_content": null,
            "justify_items": null,
            "left": null,
            "margin": null,
            "max_height": null,
            "max_width": null,
            "min_height": null,
            "min_width": null,
            "object_fit": null,
            "object_position": null,
            "order": null,
            "overflow": null,
            "overflow_x": null,
            "overflow_y": null,
            "padding": null,
            "right": null,
            "top": null,
            "visibility": null,
            "width": null
          }
        },
        "81df00c72036484a92c1dfba791d3377": {
          "model_module": "@jupyter-widgets/controls",
          "model_module_version": "1.5.0",
          "model_name": "FloatProgressModel",
          "state": {
            "_dom_classes": [],
            "_model_module": "@jupyter-widgets/controls",
            "_model_module_version": "1.5.0",
            "_model_name": "FloatProgressModel",
            "_view_count": null,
            "_view_module": "@jupyter-widgets/controls",
            "_view_module_version": "1.5.0",
            "_view_name": "ProgressView",
            "bar_style": "",
            "description": "",
            "description_tooltip": null,
            "layout": "IPY_MODEL_db417bf093b44e4d8d03f6518d9c8e9f",
            "max": 98,
            "min": 0,
            "orientation": "horizontal",
            "style": "IPY_MODEL_854db60e2d26432288775bf2907cf210",
            "value": 98
          }
        },
        "82a6f8b3f8d945b09138d226363ef28a": {
          "model_module": "@jupyter-widgets/controls",
          "model_module_version": "1.5.0",
          "model_name": "ProgressStyleModel",
          "state": {
            "_model_module": "@jupyter-widgets/controls",
            "_model_module_version": "1.5.0",
            "_model_name": "ProgressStyleModel",
            "_view_count": null,
            "_view_module": "@jupyter-widgets/base",
            "_view_module_version": "1.2.0",
            "_view_name": "StyleView",
            "bar_color": null,
            "description_width": ""
          }
        },
        "83efda538c3f407491ed60c9ef9d195b": {
          "model_module": "@jupyter-widgets/base",
          "model_module_version": "1.2.0",
          "model_name": "LayoutModel",
          "state": {
            "_model_module": "@jupyter-widgets/base",
            "_model_module_version": "1.2.0",
            "_model_name": "LayoutModel",
            "_view_count": null,
            "_view_module": "@jupyter-widgets/base",
            "_view_module_version": "1.2.0",
            "_view_name": "LayoutView",
            "align_content": null,
            "align_items": null,
            "align_self": null,
            "border": null,
            "bottom": null,
            "display": null,
            "flex": null,
            "flex_flow": null,
            "grid_area": null,
            "grid_auto_columns": null,
            "grid_auto_flow": null,
            "grid_auto_rows": null,
            "grid_column": null,
            "grid_gap": null,
            "grid_row": null,
            "grid_template_areas": null,
            "grid_template_columns": null,
            "grid_template_rows": null,
            "height": null,
            "justify_content": null,
            "justify_items": null,
            "left": null,
            "margin": null,
            "max_height": null,
            "max_width": null,
            "min_height": null,
            "min_width": null,
            "object_fit": null,
            "object_position": null,
            "order": null,
            "overflow": null,
            "overflow_x": null,
            "overflow_y": null,
            "padding": null,
            "right": null,
            "top": null,
            "visibility": null,
            "width": null
          }
        },
        "854db60e2d26432288775bf2907cf210": {
          "model_module": "@jupyter-widgets/controls",
          "model_module_version": "1.5.0",
          "model_name": "ProgressStyleModel",
          "state": {
            "_model_module": "@jupyter-widgets/controls",
            "_model_module_version": "1.5.0",
            "_model_name": "ProgressStyleModel",
            "_view_count": null,
            "_view_module": "@jupyter-widgets/base",
            "_view_module_version": "1.2.0",
            "_view_name": "StyleView",
            "bar_color": null,
            "description_width": ""
          }
        },
        "85ccb21d52e14f068a4f73d51989dd23": {
          "model_module": "@jupyter-widgets/controls",
          "model_module_version": "1.5.0",
          "model_name": "DescriptionStyleModel",
          "state": {
            "_model_module": "@jupyter-widgets/controls",
            "_model_module_version": "1.5.0",
            "_model_name": "DescriptionStyleModel",
            "_view_count": null,
            "_view_module": "@jupyter-widgets/base",
            "_view_module_version": "1.2.0",
            "_view_name": "StyleView",
            "description_width": ""
          }
        },
        "88c68d3d6a864918a5a002ce94f5e240": {
          "model_module": "@jupyter-widgets/controls",
          "model_module_version": "1.5.0",
          "model_name": "ProgressStyleModel",
          "state": {
            "_model_module": "@jupyter-widgets/controls",
            "_model_module_version": "1.5.0",
            "_model_name": "ProgressStyleModel",
            "_view_count": null,
            "_view_module": "@jupyter-widgets/base",
            "_view_module_version": "1.2.0",
            "_view_name": "StyleView",
            "bar_color": null,
            "description_width": ""
          }
        },
        "923190ba36df45529dc48448b4891a00": {
          "model_module": "@jupyter-widgets/controls",
          "model_module_version": "1.5.0",
          "model_name": "FloatProgressModel",
          "state": {
            "_dom_classes": [],
            "_model_module": "@jupyter-widgets/controls",
            "_model_module_version": "1.5.0",
            "_model_name": "FloatProgressModel",
            "_view_count": null,
            "_view_module": "@jupyter-widgets/controls",
            "_view_module_version": "1.5.0",
            "_view_name": "ProgressView",
            "bar_style": "",
            "description": "",
            "description_tooltip": null,
            "layout": "IPY_MODEL_1a474b82a6d5412bbe9da1e2017b62ac",
            "max": 98,
            "min": 0,
            "orientation": "horizontal",
            "style": "IPY_MODEL_82a6f8b3f8d945b09138d226363ef28a",
            "value": 98
          }
        },
        "946c8e58186c4d6e9d73dccbbe9738dc": {
          "model_module": "@jupyter-widgets/controls",
          "model_module_version": "1.5.0",
          "model_name": "HBoxModel",
          "state": {
            "_dom_classes": [],
            "_model_module": "@jupyter-widgets/controls",
            "_model_module_version": "1.5.0",
            "_model_name": "HBoxModel",
            "_view_count": null,
            "_view_module": "@jupyter-widgets/controls",
            "_view_module_version": "1.5.0",
            "_view_name": "HBoxView",
            "box_style": "",
            "children": [
              "IPY_MODEL_357f973a8a0742f8833531090ba21b63",
              "IPY_MODEL_3f251d1670874648bc758306c9f1c214",
              "IPY_MODEL_1fb76327b6494a438de11b5fd28b265c"
            ],
            "layout": "IPY_MODEL_0405ed0690074744a2231988d2c425c6"
          }
        },
        "9552a0e4981a4f79ad508231702f9993": {
          "model_module": "@jupyter-widgets/controls",
          "model_module_version": "1.5.0",
          "model_name": "ProgressStyleModel",
          "state": {
            "_model_module": "@jupyter-widgets/controls",
            "_model_module_version": "1.5.0",
            "_model_name": "ProgressStyleModel",
            "_view_count": null,
            "_view_module": "@jupyter-widgets/base",
            "_view_module_version": "1.2.0",
            "_view_name": "StyleView",
            "bar_color": null,
            "description_width": ""
          }
        },
        "95aebf1e1d72424aa1e9d4d98841cc3c": {
          "model_module": "@jupyter-widgets/base",
          "model_module_version": "1.2.0",
          "model_name": "LayoutModel",
          "state": {
            "_model_module": "@jupyter-widgets/base",
            "_model_module_version": "1.2.0",
            "_model_name": "LayoutModel",
            "_view_count": null,
            "_view_module": "@jupyter-widgets/base",
            "_view_module_version": "1.2.0",
            "_view_name": "LayoutView",
            "align_content": null,
            "align_items": null,
            "align_self": null,
            "border": null,
            "bottom": null,
            "display": null,
            "flex": null,
            "flex_flow": null,
            "grid_area": null,
            "grid_auto_columns": null,
            "grid_auto_flow": null,
            "grid_auto_rows": null,
            "grid_column": null,
            "grid_gap": null,
            "grid_row": null,
            "grid_template_areas": null,
            "grid_template_columns": null,
            "grid_template_rows": null,
            "height": null,
            "justify_content": null,
            "justify_items": null,
            "left": null,
            "margin": null,
            "max_height": null,
            "max_width": null,
            "min_height": null,
            "min_width": null,
            "object_fit": null,
            "object_position": null,
            "order": null,
            "overflow": null,
            "overflow_x": null,
            "overflow_y": null,
            "padding": null,
            "right": null,
            "top": null,
            "visibility": null,
            "width": null
          }
        },
        "9e91bcefc03a4484b4ba8a5fcc7e5a7e": {
          "model_module": "@jupyter-widgets/controls",
          "model_module_version": "1.5.0",
          "model_name": "ProgressStyleModel",
          "state": {
            "_model_module": "@jupyter-widgets/controls",
            "_model_module_version": "1.5.0",
            "_model_name": "ProgressStyleModel",
            "_view_count": null,
            "_view_module": "@jupyter-widgets/base",
            "_view_module_version": "1.2.0",
            "_view_name": "StyleView",
            "bar_color": null,
            "description_width": ""
          }
        },
        "9ea2ccf35467447aa7da8a6cbc3aa7b9": {
          "model_module": "@jupyter-widgets/base",
          "model_module_version": "1.2.0",
          "model_name": "LayoutModel",
          "state": {
            "_model_module": "@jupyter-widgets/base",
            "_model_module_version": "1.2.0",
            "_model_name": "LayoutModel",
            "_view_count": null,
            "_view_module": "@jupyter-widgets/base",
            "_view_module_version": "1.2.0",
            "_view_name": "LayoutView",
            "align_content": null,
            "align_items": null,
            "align_self": null,
            "border": null,
            "bottom": null,
            "display": null,
            "flex": null,
            "flex_flow": null,
            "grid_area": null,
            "grid_auto_columns": null,
            "grid_auto_flow": null,
            "grid_auto_rows": null,
            "grid_column": null,
            "grid_gap": null,
            "grid_row": null,
            "grid_template_areas": null,
            "grid_template_columns": null,
            "grid_template_rows": null,
            "height": null,
            "justify_content": null,
            "justify_items": null,
            "left": null,
            "margin": null,
            "max_height": null,
            "max_width": null,
            "min_height": null,
            "min_width": null,
            "object_fit": null,
            "object_position": null,
            "order": null,
            "overflow": null,
            "overflow_x": null,
            "overflow_y": null,
            "padding": null,
            "right": null,
            "top": null,
            "visibility": null,
            "width": null
          }
        },
        "a7bffaacd37243c68c7967d610fb981f": {
          "model_module": "@jupyter-widgets/base",
          "model_module_version": "1.2.0",
          "model_name": "LayoutModel",
          "state": {
            "_model_module": "@jupyter-widgets/base",
            "_model_module_version": "1.2.0",
            "_model_name": "LayoutModel",
            "_view_count": null,
            "_view_module": "@jupyter-widgets/base",
            "_view_module_version": "1.2.0",
            "_view_name": "LayoutView",
            "align_content": null,
            "align_items": null,
            "align_self": null,
            "border": null,
            "bottom": null,
            "display": null,
            "flex": null,
            "flex_flow": null,
            "grid_area": null,
            "grid_auto_columns": null,
            "grid_auto_flow": null,
            "grid_auto_rows": null,
            "grid_column": null,
            "grid_gap": null,
            "grid_row": null,
            "grid_template_areas": null,
            "grid_template_columns": null,
            "grid_template_rows": null,
            "height": null,
            "justify_content": null,
            "justify_items": null,
            "left": null,
            "margin": null,
            "max_height": null,
            "max_width": null,
            "min_height": null,
            "min_width": null,
            "object_fit": null,
            "object_position": null,
            "order": null,
            "overflow": null,
            "overflow_x": null,
            "overflow_y": null,
            "padding": null,
            "right": null,
            "top": null,
            "visibility": null,
            "width": null
          }
        },
        "aa67478f3e994896b6922658e46cc41b": {
          "model_module": "@jupyter-widgets/controls",
          "model_module_version": "1.5.0",
          "model_name": "DescriptionStyleModel",
          "state": {
            "_model_module": "@jupyter-widgets/controls",
            "_model_module_version": "1.5.0",
            "_model_name": "DescriptionStyleModel",
            "_view_count": null,
            "_view_module": "@jupyter-widgets/base",
            "_view_module_version": "1.2.0",
            "_view_name": "StyleView",
            "description_width": ""
          }
        },
        "b15c6173ab4c41ceab2b7643cbd9909e": {
          "model_module": "@jupyter-widgets/base",
          "model_module_version": "1.2.0",
          "model_name": "LayoutModel",
          "state": {
            "_model_module": "@jupyter-widgets/base",
            "_model_module_version": "1.2.0",
            "_model_name": "LayoutModel",
            "_view_count": null,
            "_view_module": "@jupyter-widgets/base",
            "_view_module_version": "1.2.0",
            "_view_name": "LayoutView",
            "align_content": null,
            "align_items": null,
            "align_self": null,
            "border": null,
            "bottom": null,
            "display": null,
            "flex": null,
            "flex_flow": null,
            "grid_area": null,
            "grid_auto_columns": null,
            "grid_auto_flow": null,
            "grid_auto_rows": null,
            "grid_column": null,
            "grid_gap": null,
            "grid_row": null,
            "grid_template_areas": null,
            "grid_template_columns": null,
            "grid_template_rows": null,
            "height": null,
            "justify_content": null,
            "justify_items": null,
            "left": null,
            "margin": null,
            "max_height": null,
            "max_width": null,
            "min_height": null,
            "min_width": null,
            "object_fit": null,
            "object_position": null,
            "order": null,
            "overflow": null,
            "overflow_x": null,
            "overflow_y": null,
            "padding": null,
            "right": null,
            "top": null,
            "visibility": null,
            "width": null
          }
        },
        "b5742387acb54d62b9cf5da136b16d5b": {
          "model_module": "@jupyter-widgets/base",
          "model_module_version": "1.2.0",
          "model_name": "LayoutModel",
          "state": {
            "_model_module": "@jupyter-widgets/base",
            "_model_module_version": "1.2.0",
            "_model_name": "LayoutModel",
            "_view_count": null,
            "_view_module": "@jupyter-widgets/base",
            "_view_module_version": "1.2.0",
            "_view_name": "LayoutView",
            "align_content": null,
            "align_items": null,
            "align_self": null,
            "border": null,
            "bottom": null,
            "display": null,
            "flex": null,
            "flex_flow": null,
            "grid_area": null,
            "grid_auto_columns": null,
            "grid_auto_flow": null,
            "grid_auto_rows": null,
            "grid_column": null,
            "grid_gap": null,
            "grid_row": null,
            "grid_template_areas": null,
            "grid_template_columns": null,
            "grid_template_rows": null,
            "height": null,
            "justify_content": null,
            "justify_items": null,
            "left": null,
            "margin": null,
            "max_height": null,
            "max_width": null,
            "min_height": null,
            "min_width": null,
            "object_fit": null,
            "object_position": null,
            "order": null,
            "overflow": null,
            "overflow_x": null,
            "overflow_y": null,
            "padding": null,
            "right": null,
            "top": null,
            "visibility": null,
            "width": null
          }
        },
        "b5b7b62133014c5392b11ba87a39e5a1": {
          "model_module": "@jupyter-widgets/base",
          "model_module_version": "1.2.0",
          "model_name": "LayoutModel",
          "state": {
            "_model_module": "@jupyter-widgets/base",
            "_model_module_version": "1.2.0",
            "_model_name": "LayoutModel",
            "_view_count": null,
            "_view_module": "@jupyter-widgets/base",
            "_view_module_version": "1.2.0",
            "_view_name": "LayoutView",
            "align_content": null,
            "align_items": null,
            "align_self": null,
            "border": null,
            "bottom": null,
            "display": null,
            "flex": null,
            "flex_flow": null,
            "grid_area": null,
            "grid_auto_columns": null,
            "grid_auto_flow": null,
            "grid_auto_rows": null,
            "grid_column": null,
            "grid_gap": null,
            "grid_row": null,
            "grid_template_areas": null,
            "grid_template_columns": null,
            "grid_template_rows": null,
            "height": null,
            "justify_content": null,
            "justify_items": null,
            "left": null,
            "margin": null,
            "max_height": null,
            "max_width": null,
            "min_height": null,
            "min_width": null,
            "object_fit": null,
            "object_position": null,
            "order": null,
            "overflow": null,
            "overflow_x": null,
            "overflow_y": null,
            "padding": null,
            "right": null,
            "top": null,
            "visibility": null,
            "width": null
          }
        },
        "bef4e2f47cf446df892f31448f70bc48": {
          "model_module": "@jupyter-widgets/controls",
          "model_module_version": "1.5.0",
          "model_name": "DescriptionStyleModel",
          "state": {
            "_model_module": "@jupyter-widgets/controls",
            "_model_module_version": "1.5.0",
            "_model_name": "DescriptionStyleModel",
            "_view_count": null,
            "_view_module": "@jupyter-widgets/base",
            "_view_module_version": "1.2.0",
            "_view_name": "StyleView",
            "description_width": ""
          }
        },
        "c4993cb545fe4548aef846d1b9767b03": {
          "model_module": "@jupyter-widgets/base",
          "model_module_version": "1.2.0",
          "model_name": "LayoutModel",
          "state": {
            "_model_module": "@jupyter-widgets/base",
            "_model_module_version": "1.2.0",
            "_model_name": "LayoutModel",
            "_view_count": null,
            "_view_module": "@jupyter-widgets/base",
            "_view_module_version": "1.2.0",
            "_view_name": "LayoutView",
            "align_content": null,
            "align_items": null,
            "align_self": null,
            "border": null,
            "bottom": null,
            "display": null,
            "flex": null,
            "flex_flow": null,
            "grid_area": null,
            "grid_auto_columns": null,
            "grid_auto_flow": null,
            "grid_auto_rows": null,
            "grid_column": null,
            "grid_gap": null,
            "grid_row": null,
            "grid_template_areas": null,
            "grid_template_columns": null,
            "grid_template_rows": null,
            "height": null,
            "justify_content": null,
            "justify_items": null,
            "left": null,
            "margin": null,
            "max_height": null,
            "max_width": null,
            "min_height": null,
            "min_width": null,
            "object_fit": null,
            "object_position": null,
            "order": null,
            "overflow": null,
            "overflow_x": null,
            "overflow_y": null,
            "padding": null,
            "right": null,
            "top": null,
            "visibility": "hidden",
            "width": null
          }
        },
        "d97d0bf415174c8fa406984b58c834ea": {
          "model_module": "@jupyter-widgets/controls",
          "model_module_version": "1.5.0",
          "model_name": "DescriptionStyleModel",
          "state": {
            "_model_module": "@jupyter-widgets/controls",
            "_model_module_version": "1.5.0",
            "_model_name": "DescriptionStyleModel",
            "_view_count": null,
            "_view_module": "@jupyter-widgets/base",
            "_view_module_version": "1.2.0",
            "_view_name": "StyleView",
            "description_width": ""
          }
        },
        "dad3b005ba7b4f2085c523be8a633bcf": {
          "model_module": "@jupyter-widgets/controls",
          "model_module_version": "1.5.0",
          "model_name": "HTMLModel",
          "state": {
            "_dom_classes": [],
            "_model_module": "@jupyter-widgets/controls",
            "_model_module_version": "1.5.0",
            "_model_name": "HTMLModel",
            "_view_count": null,
            "_view_module": "@jupyter-widgets/controls",
            "_view_module_version": "1.5.0",
            "_view_name": "HTMLView",
            "description": "",
            "description_tooltip": null,
            "layout": "IPY_MODEL_1d0d7e5c80af4f2aad736ea862c3f288",
            "placeholder": "​",
            "style": "IPY_MODEL_d97d0bf415174c8fa406984b58c834ea",
            "value": "Batch #: 100%"
          }
        },
        "db417bf093b44e4d8d03f6518d9c8e9f": {
          "model_module": "@jupyter-widgets/base",
          "model_module_version": "1.2.0",
          "model_name": "LayoutModel",
          "state": {
            "_model_module": "@jupyter-widgets/base",
            "_model_module_version": "1.2.0",
            "_model_name": "LayoutModel",
            "_view_count": null,
            "_view_module": "@jupyter-widgets/base",
            "_view_module_version": "1.2.0",
            "_view_name": "LayoutView",
            "align_content": null,
            "align_items": null,
            "align_self": null,
            "border": null,
            "bottom": null,
            "display": null,
            "flex": null,
            "flex_flow": null,
            "grid_area": null,
            "grid_auto_columns": null,
            "grid_auto_flow": null,
            "grid_auto_rows": null,
            "grid_column": null,
            "grid_gap": null,
            "grid_row": null,
            "grid_template_areas": null,
            "grid_template_columns": null,
            "grid_template_rows": null,
            "height": null,
            "justify_content": null,
            "justify_items": null,
            "left": null,
            "margin": null,
            "max_height": null,
            "max_width": null,
            "min_height": null,
            "min_width": null,
            "object_fit": null,
            "object_position": null,
            "order": null,
            "overflow": null,
            "overflow_x": null,
            "overflow_y": null,
            "padding": null,
            "right": null,
            "top": null,
            "visibility": null,
            "width": null
          }
        },
        "f1d8a827d17f4a03952c627f01f53929": {
          "model_module": "@jupyter-widgets/controls",
          "model_module_version": "1.5.0",
          "model_name": "DescriptionStyleModel",
          "state": {
            "_model_module": "@jupyter-widgets/controls",
            "_model_module_version": "1.5.0",
            "_model_name": "DescriptionStyleModel",
            "_view_count": null,
            "_view_module": "@jupyter-widgets/base",
            "_view_module_version": "1.2.0",
            "_view_name": "StyleView",
            "description_width": ""
          }
        },
        "f2ec813659b149dc8b029ab295999cb9": {
          "model_module": "@jupyter-widgets/controls",
          "model_module_version": "1.5.0",
          "model_name": "FloatProgressModel",
          "state": {
            "_dom_classes": [],
            "_model_module": "@jupyter-widgets/controls",
            "_model_module_version": "1.5.0",
            "_model_name": "FloatProgressModel",
            "_view_count": null,
            "_view_module": "@jupyter-widgets/controls",
            "_view_module_version": "1.5.0",
            "_view_name": "ProgressView",
            "bar_style": "",
            "description": "",
            "description_tooltip": null,
            "layout": "IPY_MODEL_5bc8d69b649d4042ac8b8c9f9bda19ed",
            "max": 20,
            "min": 0,
            "orientation": "horizontal",
            "style": "IPY_MODEL_67a31b5fdc3b421e8546fef2569f0f88",
            "value": 20
          }
        },
        "f5f05b715d1d4f619a38c45b3bc4363a": {
          "model_module": "@jupyter-widgets/base",
          "model_module_version": "1.2.0",
          "model_name": "LayoutModel",
          "state": {
            "_model_module": "@jupyter-widgets/base",
            "_model_module_version": "1.2.0",
            "_model_name": "LayoutModel",
            "_view_count": null,
            "_view_module": "@jupyter-widgets/base",
            "_view_module_version": "1.2.0",
            "_view_name": "LayoutView",
            "align_content": null,
            "align_items": null,
            "align_self": null,
            "border": null,
            "bottom": null,
            "display": null,
            "flex": null,
            "flex_flow": null,
            "grid_area": null,
            "grid_auto_columns": null,
            "grid_auto_flow": null,
            "grid_auto_rows": null,
            "grid_column": null,
            "grid_gap": null,
            "grid_row": null,
            "grid_template_areas": null,
            "grid_template_columns": null,
            "grid_template_rows": null,
            "height": null,
            "justify_content": null,
            "justify_items": null,
            "left": null,
            "margin": null,
            "max_height": null,
            "max_width": null,
            "min_height": null,
            "min_width": null,
            "object_fit": null,
            "object_position": null,
            "order": null,
            "overflow": null,
            "overflow_x": null,
            "overflow_y": null,
            "padding": null,
            "right": null,
            "top": null,
            "visibility": null,
            "width": null
          }
        },
        "f9e663f8c936485b81cb96d8f209434b": {
          "model_module": "@jupyter-widgets/controls",
          "model_module_version": "1.5.0",
          "model_name": "HBoxModel",
          "state": {
            "_dom_classes": [],
            "_model_module": "@jupyter-widgets/controls",
            "_model_module_version": "1.5.0",
            "_model_name": "HBoxModel",
            "_view_count": null,
            "_view_module": "@jupyter-widgets/controls",
            "_view_module_version": "1.5.0",
            "_view_name": "HBoxView",
            "box_style": "",
            "children": [
              "IPY_MODEL_816b16f6836e47ed853d686ce7492e20",
              "IPY_MODEL_81df00c72036484a92c1dfba791d3377",
              "IPY_MODEL_62e93cff52354ec785db6ce72e56f97e"
            ],
            "layout": "IPY_MODEL_6dcef09ee3a34e66a26891b4fa254ec2"
          }
        },
        "fa6ece5a82284fa892a6ec3a87450a86": {
          "model_module": "@jupyter-widgets/base",
          "model_module_version": "1.2.0",
          "model_name": "LayoutModel",
          "state": {
            "_model_module": "@jupyter-widgets/base",
            "_model_module_version": "1.2.0",
            "_model_name": "LayoutModel",
            "_view_count": null,
            "_view_module": "@jupyter-widgets/base",
            "_view_module_version": "1.2.0",
            "_view_name": "LayoutView",
            "align_content": null,
            "align_items": null,
            "align_self": null,
            "border": null,
            "bottom": null,
            "display": null,
            "flex": null,
            "flex_flow": null,
            "grid_area": null,
            "grid_auto_columns": null,
            "grid_auto_flow": null,
            "grid_auto_rows": null,
            "grid_column": null,
            "grid_gap": null,
            "grid_row": null,
            "grid_template_areas": null,
            "grid_template_columns": null,
            "grid_template_rows": null,
            "height": null,
            "justify_content": null,
            "justify_items": null,
            "left": null,
            "margin": null,
            "max_height": null,
            "max_width": null,
            "min_height": null,
            "min_width": null,
            "object_fit": null,
            "object_position": null,
            "order": null,
            "overflow": null,
            "overflow_x": null,
            "overflow_y": null,
            "padding": null,
            "right": null,
            "top": null,
            "visibility": "hidden",
            "width": null
          }
        }
      }
    }
  },
  "nbformat": 4,
  "nbformat_minor": 0
}