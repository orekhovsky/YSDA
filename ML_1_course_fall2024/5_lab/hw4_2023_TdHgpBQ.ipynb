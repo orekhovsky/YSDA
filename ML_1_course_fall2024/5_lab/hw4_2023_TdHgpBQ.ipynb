{
 "cells": [
  {
   "cell_type": "markdown",
   "id": "recorded-outside",
   "metadata": {},
   "source": [
    "# Машинное обучение, ШАД\n",
    "## Домашнее задание 4\n",
    "\n",
    "\n",
    "**Правила:**\n",
    "\n",
    "* Дедлайн **9 октября 15:00**. После дедлайна работы не принимаются кроме случаев наличия уважительной причины.\n",
    "* Для сдачи задания нужно загрузить **ноутбук в формате `ipynb`** в ЛМС.\n",
    "* Выполнять задание необходимо полностью самостоятельно.\n",
    "* Для выполнения задания используйте этот ноутбук в качестве основы, ничего не удаляя из него. Можно добавлять необходимое количество ячеек.\n",
    "* Комментарии к решению пишите в markdown-ячейках.\n",
    "* Выполнение задания (ход решения, выводы и пр.) должно быть осуществлено на русском языке.\n",
    "* Если код будет не понятен проверяющему, оценка может быть снижена.\n",
    "* Никакой код из данного задания при проверке запускаться не будет. *Если код студента не выполнен, недописан и т.д., то он не оценивается.*\n",
    "\n",
    "\n",
    "**Правила оформления теоретических задач:**\n",
    "\n",
    "* Решения необходимо прислать одним из следующих способов:\n",
    "  * фотографией в правильной ориентации, где все четко видно, а почерк разборчив,\n",
    "    * прикрепив ее в ЛМС в форматах `pdf`, `png` или `jpg` *или*\n",
    "    * вставив ее в ноутбук посредством `Edit -> Insert Image`;\n",
    "  * в виде $\\LaTeX$ в markdown-ячейках или в отдельном `pdf`-файле.\n",
    "* Решения не проверяются, если какое-то требование не выполнено. Особенно внимательно все проверьте в случае выбора второго пункта (вставки фото в ноутбук). <font color=\"red\"><b>Неправильно вставленные фотографии могут не передаться при отправке.</b></font> Для проверки попробуйте переместить `ipynb` в другую папку и открыть его там.\n",
    "* В решениях поясняйте, чем вы пользуетесь, хотя бы кратко. Например, если пользуетесь независимостью, то достаточно подписи вида \"*X и Y незав.*\"\n",
    "* Решение, в котором есть только ответ, и отсутствуют вычисления, оценивается в 0 баллов.\n",
    "\n",
    "**Баллы за задание:**\n",
    "\n",
    "* Задача 1 &mdash; 2 балла\n",
    "* Задача 2 &mdash; 2 балла\n",
    "* Задача 3 &mdash; 2 балла\n",
    "* Задача 4 &mdash; 2 балла\n"
   ]
  },
  {
   "attachments": {},
   "cell_type": "markdown",
   "id": "d4bc297b-000f-4ee5-9ca5-0ccdeba20c1d",
   "metadata": {},
   "source": [
    "---\n",
    "### Задача 1. \n",
    "\n",
    "> *В условии этой задачи подробно расписаны алгоритмы решения каждого пункта. Перед выполнением ознакомьтесь также с примерами, которые были рассказаны на лекции, они во многом аналогичны. При возникновении затруднений спрашивайте вопросы в чате.*\n",
    "\n",
    "Пусть $X_1,...,X_n$ &mdash; выборка из экспоненциального распределения с плотностью $p_\\theta(x) = \\theta e^{-\\theta x},$ где $x>0, \\theta>0$. Такое распределение описывает время до наступления некоторого события. Например, таким событием может быть поступление очередного заказа таксисту или курьеру службы доставки. В таком случае $X_i$ &mdash; время ожидания $i$-го заказа после завершения предыдущего. Параметр $\\theta$ имеет смысл интенсивности заказов в единицу времени. Следовательно, чем больше $\\theta$, тем меньше среднее значение $X_i$. Точнее $\\mathsf{E}_\\theta X_i = 1/\\theta$.\n",
    "\n",
    "\n",
    "При выполнении задач используйте то, что $\\mathsf{E}_\\theta X_i^k = k!/\\theta^k$."
   ]
  },
  {
   "cell_type": "markdown",
   "id": "8cbd1fed-5646-4310-ba55-eda7219eafd9",
   "metadata": {},
   "source": [
    "**1.** Предложите асимптотически нормальную оценку $\\theta$ и найдите ее асимптотическую дисперсию.\n",
    "\n",
    "* Для выполнения этого пункта запишите центральную предельную теорему. Для какой функции $h(\\theta)$ тем самым получилась асимптотически нормальная оценка?\n",
    "\n",
    "* Какую функцию нужно применить, чтобы получить оценку для $\\theta$?\n",
    "\n",
    "* Воспользуйтесь дельта-методом, чтобы получить асимптотически нормальную оценку $\\theta$. Не забудьте проверить применимость дельта-метода.\n",
    "\n",
    "* Посчитайте ее асимптотическую дисперсию по формуле, которую дает дельта-метод. Обратите внимание, что в качестве аргумента производной нужно взять ту величину, для которой мы сначала построили оценку, то есть для $h(\\theta)$."
   ]
  },
  {
   "cell_type": "markdown",
   "id": "f06fbe2d-ac71-4695-91b6-a6995cb3dfa9",
   "metadata": {},
   "source": [
    "**2.** А почему мы применяем центральную предельную теорему именно к такой выборке? Почему бы не применить ее к выборке $X_1^2,...,X_n^2$?\n",
    "\n",
    "Сделайте это и получите еще одну асмптотически нормальную оценку $\\theta$."
   ]
  },
  {
   "cell_type": "markdown",
   "id": "63b217ad-1084-4319-b873-34db1fc4129a",
   "metadata": {},
   "source": [
    "**3.** По каждой из двух асимптотически нормальных оценок $\\theta$ постройте асимптотический доверительный интервал Вальда уровня доверия $\\alpha$. Не забудьте в каждом случае заменить $\\theta$ в асимптотической дисперсии на соответствующую оценку."
   ]
  },
  {
   "cell_type": "markdown",
   "id": "fb660d71-eb1a-4a68-9d1f-a587158d2a4c",
   "metadata": {},
   "source": [
    "**4.** Мы построили два интервала. Какой из них лучше? Об этом мы узнаем в следующей задаче, а сейчас давайте построим еще и точный неасимптотический интервал. Известно, что $\\overline{X}$ имеет гамма-распределение, воизбежании путаницы с параметрами сразу приведем для него строчку кода `scipy.stats.gamma(a=n, scale=1/(n*theta))`.\n",
    "\n",
    "Чтобы построить интервал, выберите две квантили этого гамма-распределения и получите доверительный интервал аналогично тому, как мы это делали на занятии. Обратите внимание, гамма-распределение не симметрично, поэтому придется оставить обе квантили."
   ]
  },
  {
   "cell_type": "markdown",
   "id": "48e06504-122f-4cd3-bafe-85400017b891",
   "metadata": {},
   "source": [
    "**5.** Используя полученные ранее асимптотически нормальные оценки постройте по ним критерии Вальда уровня значимости $1-\\alpha$ для проверки гипотезы $\\mathsf{H}_0\\colon\\theta = 1$. Обратите внимание, что для выполнения условия на вероятность ошибки первого рода (что она не больше $1-\\alpha$) нам достаточно рассмотреть случай $\\theta = 1$. Соответственно, используя асимптотически нормальную оценку вам нужно выписать статистику, которая при $\\theta = 1$ сходится по распределению к $\\mathcal{N}(0, 1)$. Далее ограничить ее квантилями и получить критерий."
   ]
  },
  {
   "cell_type": "markdown",
   "id": "fa58dac9-e7fa-46c7-9992-3ffe4076d9bd",
   "metadata": {},
   "source": [
    "**6.** Аналогичным образом постройте критерий, используя точное распределение $\\overline{X}$ из пункта 4."
   ]
  },
  {
   "cell_type": "code",
   "execution_count": 60,
   "id": "183f032b",
   "metadata": {},
   "outputs": [],
   "source": [
    "import numpy as np\n",
    "import pandas as pd\n",
    "import scipy.stats as sps\n",
    "from tqdm import tqdm\n",
    "from functools import partial\n",
    "import matplotlib.pyplot as plt\n",
    "import seaborn as sns\n",
    "sns.set(style='whitegrid', palette='Set2', font_scale=1.6)"
   ]
  },
  {
   "cell_type": "code",
   "execution_count": 65,
   "id": "54735cea",
   "metadata": {},
   "outputs": [],
   "source": [
    "def draw_confidence_interval(\n",
    "    left,\n",
    "    right,\n",
    "    estimation=None,\n",
    "    sample=None,\n",
    "    ylim=(None, None),\n",
    "    color_estimation='#FF3300',\n",
    "    color_interval='#00CC66',\n",
    "    color_sample='#0066FF',\n",
    "    label_estimation='',\n",
    "    label_interval='',\n",
    "):\n",
    "    '''\n",
    "    Рисует доверительный интервал и оценку в зависимости от размера выборки.\n",
    "\n",
    "    :param left: левые границы интервалов (в зависимости от n)\n",
    "    :param right: правые границы интервалов (в зависимости от n)\n",
    "    :param estimation: оценки (в зависимости от n)\n",
    "    :param sample: выборка\n",
    "    :param ylim: ограничение вертикальной оси\n",
    "    :param color_estimation: цвет оценки\n",
    "    :param color_interval: цвет интервала\n",
    "    :param color_sample: цвет выборки\n",
    "    :param label_estimation: подпись для оценки\n",
    "    :param label_interval: подпись для интервала\n",
    "    '''\n",
    "\n",
    "    time = np.arange(len(left)) + 1\n",
    "\n",
    "    assert len(time) == len(right)\n",
    "\n",
    "    if not sample is None:\n",
    "        plt.scatter(time, sample, alpha=0.3, color=color_sample, s=40, label='Элемент выборки')\n",
    "    if not estimation is None:\n",
    "        plt.plot(time, estimation, color=color_estimation, linewidth=2.5, label=label_estimation)\n",
    "\n",
    "    plt.fill_between(time, left, right, alpha=0.25, color=color_interval, label=label_interval)\n",
    "    plt.legend()\n",
    "    plt.ylim(ylim)\n",
    "    plt.xlabel('Размер выборки')\n",
    "    plt.title('Зависимость доверительного интервала от размера выборки')"
   ]
  },
  {
   "cell_type": "code",
   "execution_count": 66,
   "id": "7baffd2b",
   "metadata": {},
   "outputs": [],
   "source": [
    "def calculate_confidence_interval(\n",
    "    sample,\n",
    "    type='asymptotic',\n",
    "    alpha=0.95,\n",
    "    return_estimation=False,\n",
    "    cumulative=False,\n",
    "    axis=-1,\n",
    "):\n",
    "    '''\n",
    "    Вычисляет интервал Вальда по выборке.\n",
    "    :param sample: Массив, содержащий выборки вдоль последней оси\n",
    "    :param alpha: Уровень доверия\n",
    "    :param return_estimation: Возвращать ли точечную оценку\n",
    "    :param cumulative: Считать ли кумулятивные интервалы или только по всей выборке\n",
    "    \n",
    "    :return: \n",
    "    Если return_estimation==False, то \n",
    "        (left, right, estimation) - Границы интервалов\n",
    "    Если return_estimation==True, то \n",
    "        (left, right, estimation) - Границы интервалов и оценка\n",
    "    '''\n",
    "\n",
    "    if cumulative:\n",
    "        sums = np.cumsum(sample, axis=axis)\n",
    "        sums_sq = np.cumsum(sample**2, axis=axis)\n",
    "        size = np.arange(sample.shape[axis]) + 1\n",
    "    else:\n",
    "        sums = np.sum(sample, axis=axis)\n",
    "        sums_sq = np.sum(sample**2, axis=axis)\n",
    "\n",
    "        \n",
    "        size = sample.shape[axis]\n",
    "    \n",
    "    mean = sums / size\n",
    "    var = sums_sq / size - mean**2\n",
    "\n",
    "    if type == 'asymptotic':\n",
    "        quantile_left = sps.norm.ppf((1 + alpha) / 2)\n",
    "        quantile_right = sps.norm.ppf((1 + alpha) / 2)\n",
    "        std = np.sqrt(var / size)\n",
    "    elif type == 'exact':\n",
    "        # quantile = sps.t.ppf((1 + alpha) / 2, df=size-1)\n",
    "        # std = np.sqrt(var / (size-1))\n",
    "\n",
    "        quantile_left = sps.chi2.ppf(alpha, df=size-1)\n",
    "        quantile_right = sps.chi2.ppf(1 - alpha, df=size-1)\n",
    "    \n",
    "    # left = mean - quantile_left * std\n",
    "    # right = mean + quantile_right * std\n",
    "\n",
    "    left = (size - 1)*np.sqrt(var) / quantile_left\n",
    "    right = (size - 1)*np.sqrt(var) / quantile_right\n",
    "\n",
    "    if return_estimation:\n",
    "        return left, right, mean\n",
    "    else:\n",
    "        return left, right\n",
    "\n",
    "\n",
    "calculate_asymptotic_confidence_interval = partial(\n",
    "    calculate_confidence_interval,\n",
    "    type='asymptotic',\n",
    ")\n",
    "calculate_exact_confidence_interval = partial(\n",
    "    calculate_confidence_interval,\n",
    "    type='exact',\n",
    ")"
   ]
  },
  {
   "cell_type": "code",
   "execution_count": 89,
   "id": "d74cd7a7",
   "metadata": {},
   "outputs": [],
   "source": [
    "max_sample_size = 30\n",
    "#sample = np.random.normal(size=max_sample_size)  # выборка\n",
    "\n",
    "n = 1 # замените на ваше значение\n",
    "theta = 1  # замените на ваше значение\n",
    "sample = sps.gamma.rvs(a=n, scale=1/(n*theta), size=max_sample_size)\n",
    "\n",
    "alpha = 0.95  # уровень доверия"
   ]
  },
  {
   "cell_type": "code",
   "execution_count": 90,
   "id": "0a6a5eb9",
   "metadata": {},
   "outputs": [],
   "source": [
    "left_asymptotic, right_asymptotic, mean = calculate_asymptotic_confidence_interval(\n",
    "    sample,\n",
    "    return_estimation=True,\n",
    "    cumulative=True\n",
    ")\n",
    "\n",
    "left_exact, right_exact, mean = calculate_exact_confidence_interval(\n",
    "    sample,\n",
    "    return_estimation=True,\n",
    "    cumulative=True\n",
    ")"
   ]
  },
  {
   "cell_type": "code",
   "execution_count": 91,
   "id": "9c8c4a93",
   "metadata": {},
   "outputs": [
    {
     "data": {
      "image/png": "[encoded data removed]",
      "text/plain": [
       "<Figure size 1008x432 with 1 Axes>"
      ]
     },
     "metadata": {},
     "output_type": "display_data"
    }
   ],
   "source": [
    "plt.figure(figsize=(14, 6))\n",
    "\n",
    "# draw_confidence_interval(\n",
    "#     left_asymptotic,\n",
    "#     right_asymptotic,\n",
    "#     mean,\n",
    "#     sample,\n",
    "#     ylim=(None, None),\n",
    "#     color_estimation='#00CC66',\n",
    "#     color_interval='#FF3300',\n",
    "#     label_estimation='$\\\\overline{X}$',\n",
    "#     label_interval='Интервал Вальда',\n",
    "# )\n",
    "\n",
    "draw_confidence_interval(\n",
    "    left_exact,\n",
    "    right_exact,\n",
    "    mean,\n",
    "    ylim=(-1.6, 1.6),\n",
    "    color_estimation='#00CC66',\n",
    "    color_interval='#00CC66',\n",
    "    label_interval='Точный интервал',\n",
    ")"
   ]
  },
  {
   "cell_type": "markdown",
   "id": "c165bf46-b63d-4e42-bd18-4850c40c26b8",
   "metadata": {},
   "source": [
    "---\n",
    "### Задача 2. \n",
    "\n",
    "В прошлой задаче вы получили два асимптотических доверительных интервала и один точный, а также соответствующие им статистические критерии. Самое время их сравнить на практике!\n",
    "\n",
    "Число $\\alpha$ всегда необходимо фиксировать до экспериментов, и ни в коем случае не подбирать по данным. Например, в случае AB-тестов это число может быть фиксировано отделом по рискам для всех экспериментов компании. В рамках задачи (и обычно на практике) мы используем уровень доверия $\\alpha=0.95$, соответственно, уровень значимости критерия равен $1-\\alpha=0.05$."
   ]
  },
  {
   "cell_type": "markdown",
   "id": "e159d1e4-cd1b-455f-87a6-ad90a29ca9f2",
   "metadata": {},
   "source": [
    "**1.** Сначала вспомним, как следует интерпретировать доверительные интервалы и статистические критерии. Зафиксируем значение $\\theta$, соответствующее гипотезе $\\mathsf{H}_0$."
   ]
  },
  {
   "cell_type": "code",
   "execution_count": 92,
   "id": "19628b50-c422-4d06-b40d-3d9d807afcd5",
   "metadata": {},
   "outputs": [],
   "source": [
    "theta = 1"
   ]
  },
  {
   "cell_type": "markdown",
   "id": "0acdf039-a476-460b-88cb-4c1b9b79e430",
   "metadata": {},
   "source": [
    "Давайте промоделируем множество экспериментов с одинаковыми условиями. Сгенерируйте порядка 20 выборок размера 10, для каждой из них\n",
    "* посчитайте численно границы всех трех доверительных интервалов\n",
    "* проверьте гипотезу статистическими критериями.\n",
    "\n",
    "Результат можно удобно оформить в виде таблицы, по строкам которой будут эксперименты, а по столбцам &mdash; границы доверительных интервалов и результаты применения критериев."
   ]
  },
  {
   "cell_type": "code",
   "execution_count": null,
   "id": "6453b473-b35b-4654-89fe-16deb3fd1e52",
   "metadata": {},
   "outputs": [],
   "source": []
  },
  {
   "cell_type": "markdown",
   "id": "9d4b68ef-58ab-43ce-9e7b-71951828f33a",
   "metadata": {},
   "source": [
    "Повторите эксперимент в случае неверной $\\mathsf{H}_0$"
   ]
  },
  {
   "cell_type": "code",
   "execution_count": 93,
   "id": "96fecd0e-b3db-4417-9126-4905e4719de9",
   "metadata": {},
   "outputs": [],
   "source": [
    "theta = 2\n",
    "\n"
   ]
  },
  {
   "cell_type": "markdown",
   "id": "afe867a9-4283-4bf3-bb2b-5128e8051e2a",
   "metadata": {},
   "source": [
    "Какие выводы можно сделать? Как правильно интерпретировать доверительные интервалы?"
   ]
  },
  {
   "cell_type": "markdown",
   "id": "8fb5a72d-acc7-4788-a524-6f4cde466e27",
   "metadata": {},
   "source": [
    "**2.** Для доверительных интервалов повторите эксперимент, показанный на семинаре, \n",
    "* построив визуализации доверительны интервалов при увеличении размера выборки,\n",
    "* оценив долю покрытия параметра интервалом.\n",
    "\n",
    "Кроме этого, оцените и визуализируйте также среднюю длину каждого интервала в зависимости от размера выборки."
   ]
  },
  {
   "cell_type": "code",
   "execution_count": null,
   "id": "b0444101-7392-440b-a341-3775a1fec2be",
   "metadata": {},
   "outputs": [],
   "source": []
  },
  {
   "cell_type": "markdown",
   "id": "919cabb8-34c7-4315-912a-6e9a6714f56c",
   "metadata": {},
   "source": [
    "Что можно теперь сказать про эти доверительные интервалы?"
   ]
  },
  {
   "cell_type": "markdown",
   "id": "d0c1ff83-090f-4a8a-9d3e-c1155617cece",
   "metadata": {},
   "source": [
    "**3.** Для всех исследуемых критериев оцените вероятность ошибки 1 рода и постройте для них доверительный интервал. Пример оценки стоит посмотреть в семинарском ноутбуке, но в данном задании требуется построить такую оценку в засимимости от размера выборки."
   ]
  },
  {
   "cell_type": "code",
   "execution_count": null,
   "id": "5e6f86de-1c93-42a1-9b2a-324a7404718e",
   "metadata": {},
   "outputs": [],
   "source": []
  },
  {
   "cell_type": "markdown",
   "id": "79fdd349-59f7-4fa1-a2ab-7c7d4035290e",
   "metadata": {},
   "source": [
    "Какие критерии не контролируют вероятность ошибки 1 рода на уровне 5\\%?"
   ]
  },
  {
   "cell_type": "markdown",
   "id": "62de0085-6982-4dd1-ae95-1778151ca8ac",
   "metadata": {},
   "source": [
    "Оцените мощность критериев в зависимости от значения $\\theta$ и размера выборки. Пример такой оценки есть в семинарском ноутбуке."
   ]
  },
  {
   "cell_type": "code",
   "execution_count": null,
   "id": "99ea9a1c-4ecf-4f3b-be49-a31a61b4214e",
   "metadata": {},
   "outputs": [],
   "source": []
  },
  {
   "cell_type": "markdown",
   "id": "a2b78a2e-3c4b-4678-8f93-0a9f03a31316",
   "metadata": {},
   "source": [
    "Что можно теперь сказать про эти критерии?"
   ]
  },
  {
   "cell_type": "markdown",
   "id": "3ce37e3e-2f80-42e5-adaf-7ad774429d4a",
   "metadata": {
    "tags": []
   },
   "source": [
    "---\n",
    "### Задача 3.\n",
    "\n",
    "В этой задаче мы продолжим исследовать <a href=\"https://raw.githubusercontent.com/bdemeshev/em301/master/datasets/flats_moscow.txt\">данные</a> о стоимости квартир в Москве.\tОписание данных доступно по <a href=\"https://github.com/bdemeshev/em301/blob/master/datasets/flats_moscow_description.txt\">ccылке</a>. Перед выполнением задачи рекомендуется ознакомиться с семинарским ноутбуком.\n",
    "\t\n",
    "Обучите линейную регрессионную модель для предсказания цены квартиры от всех других параметров."
   ]
  },
  {
   "cell_type": "code",
   "execution_count": 94,
   "id": "eaa9c3fc-1021-4da6-8201-339677277076",
   "metadata": {},
   "outputs": [
    {
     "ename": "SyntaxError",
     "evalue": "invalid syntax (Temp/ipykernel_14548/3000440494.py, line 1)",
     "output_type": "error",
     "traceback": [
      "\u001b[1;36m  File \u001b[1;32m\"C:\\Users\\zhark\\AppData\\Local\\Temp/ipykernel_14548/3000440494.py\"\u001b[1;36m, line \u001b[1;32m1\u001b[0m\n\u001b[1;33m    <...>\u001b[0m\n\u001b[1;37m    ^\u001b[0m\n\u001b[1;31mSyntaxError\u001b[0m\u001b[1;31m:\u001b[0m invalid syntax\n"
     ]
    }
   ],
   "source": [
    "<...>"
   ]
  },
  {
   "cell_type": "markdown",
   "id": "20a965b8-534a-4d74-8678-f8b96ca0ce72",
   "metadata": {},
   "source": [
    "Проверьте гипотезы о незначимости признаков и постройте доверительные интервалы для коэффициентов модели."
   ]
  },
  {
   "cell_type": "code",
   "execution_count": null,
   "id": "a9526804-8156-41ea-8e78-82f54c1dbfa7",
   "metadata": {},
   "outputs": [],
   "source": [
    "<...>"
   ]
  },
  {
   "cell_type": "markdown",
   "id": "f4fbb4f0-0028-49c0-ba20-84e4881b910f",
   "metadata": {},
   "source": [
    "Определите признаки желаемой для себя квартиры в Москве и постройте предсказательный интервал ее цены.\n",
    "\n",
    "*Для выполнения этого и следующего пунктов обратите внимание на доверительные интервалы в линейной регрессии, рассказанные на лекции. В случае гетероскедастичности нужно использовать специальную оценку матрицы ковариаций, которую можно получить из `statsmodels`, примеры смотрите в семинарском ноутбуке.*"
   ]
  },
  {
   "cell_type": "code",
   "execution_count": null,
   "id": "74561381-b04e-456d-a048-e5aa44726a13",
   "metadata": {},
   "outputs": [],
   "source": [
    "<...>"
   ]
  },
  {
   "cell_type": "markdown",
   "id": "c460d858-0e16-4c3a-8be5-90d1fac52d9a",
   "metadata": {},
   "source": [
    "Зафиксируйте все параметры, кроме площади квартиры и постройте доверительную ленту для цены квартиры. Иначе говоря, для каждого значения площади квартиры необходимо построить доверительный интервал для среднего значения цены квартиры. Аналогичным образом постройте предсказательную ленту."
   ]
  },
  {
   "cell_type": "code",
   "execution_count": null,
   "id": "ceb4215a-6aad-4bda-b0e1-a597345f331c",
   "metadata": {},
   "outputs": [],
   "source": [
    "<...>"
   ]
  },
  {
   "cell_type": "markdown",
   "id": "a809a5fe-d149-4881-95f4-8d6b7d6fdb34",
   "metadata": {},
   "source": [
    "**Вывод:**\n",
    "\n",
    "<...>"
   ]
  },
  {
   "cell_type": "markdown",
   "id": "dab96029-2aec-4b15-9f3d-9ba5185d4d3b",
   "metadata": {},
   "source": [
    "---\n",
    "### Задача 4.\n",
    "\n",
    "Кардиотокография (КТГ) — непрерывная одновременная регистрация частоты сердечных сокращений плода и\n",
    "тонуса матки с графическим изображением физиологических сигналов на калибровочной ленте. В настоящее\n",
    "время КТГ является ведущим методом наблюдения за характером сердечной деятельности, который из-за\n",
    "своей простоты в проведении, информативности и стабильности получаемой информации практически\n",
    "полностью вытеснил из клинической практики фоно- и электрокардиографию плода.\n",
    "\n",
    "Для облегчения задачи диагностики, результаты кардиотокографии некоторых эмбрионов были\n",
    "классифицированы специалистами на нормальные и патологические. По показаниям приборов было\n",
    "сгенерировано некоторое количество признаков."
   ]
  },
  {
   "cell_type": "markdown",
   "id": "095bf37e-b4af-404b-b749-617b18fab5de",
   "metadata": {},
   "source": [
    "**1.** Скачайте данные по ссылке: https://archive.ics.uci.edu/ml/datasets/cardiotocography. \n",
    "Данные расположены в листе `Data`. Рассматриваемые нами признаки указаны в листе Description в колонке Features. Целевой меткой является столбец `NSP`. Для анализа мы не будем рассматривать данные, целевой меткой которой является `Suspect`."
   ]
  },
  {
   "cell_type": "code",
   "execution_count": null,
   "id": "aa9500d7-f711-4dcf-a872-a94f6ac0301c",
   "metadata": {},
   "outputs": [],
   "source": []
  },
  {
   "cell_type": "markdown",
   "id": "b64cf09f-7793-4e42-ae01-8a50eafa118b",
   "metadata": {},
   "source": [
    "**2.** Проведите визуальный анализ данных. Какие признаки лучше всего разделяют классы? Какие преобразования признаков стоит выполнить?"
   ]
  },
  {
   "cell_type": "code",
   "execution_count": null,
   "id": "a80d12df-b6f7-45a0-b36e-4224d419ab16",
   "metadata": {},
   "outputs": [],
   "source": []
  },
  {
   "cell_type": "markdown",
   "id": "129ad58a-5508-44f5-a7be-323548547e1e",
   "metadata": {},
   "source": [
    "**3.** Обучите логистическую регрессию по всем признакам. Напечатайте `summary` модели.\n",
    "В чем причины такого поведения модели? Какие выводы можно сделать? Что нужно сделать, чтобы это исправить?"
   ]
  },
  {
   "cell_type": "code",
   "execution_count": null,
   "id": "446fd086-2564-4484-afdf-2b6f1fb96dd8",
   "metadata": {},
   "outputs": [],
   "source": []
  },
  {
   "cell_type": "markdown",
   "id": "5ca22b4d-4fc5-4572-8ae4-3e0e0fdfbd60",
   "metadata": {},
   "source": [
    "**4.** Оставьте только значимые и преобразованные признаки, обучите модель еще раз и проинтерпретируйте полученные результаты. Какой смысл имеют коэффициенты модели?"
   ]
  },
  {
   "cell_type": "code",
   "execution_count": null,
   "id": "ee4f22fc-a2a0-400f-b2e5-e0f5d98c7162",
   "metadata": {},
   "outputs": [],
   "source": []
  },
  {
   "cell_type": "markdown",
   "id": "e7de89c1-4e76-4677-8b9f-b864919edb56",
   "metadata": {},
   "source": [
    "**5.** Для некоторых объектов из тестовой выборки оцените вероятность наличия патологии. Постройте также доверительный интервал уровня доверия 0.95 для этой вероятности.\n",
    "\n",
    "*Указание.* Воспользуйтесь функцией <a href=\"https://www.statsmodels.org/stable/generated/statsmodels.genmod.generalized_linear_model.GLMResults.get_prediction.html\">get_prediction</a> от `GLMResults`. Данная функция возвращает объект <a href=\"https://www.statsmodels.org/stable/generated/statsmodels.genmod.generalized_linear_model.PredictionResults.html\">`PredictionResults`</a>, у которого можно вызвать метод `conf_int`.\n",
    "\n",
    "Проинтерпретируйте границы полученных доверительных интервалов. Как их можно использовать в медицине?"
   ]
  },
  {
   "cell_type": "code",
   "execution_count": null,
   "id": "425872cb-ea09-4838-93d7-7d1295b6cb99",
   "metadata": {},
   "outputs": [],
   "source": []
  }
 ],
 "metadata": {
  "kernelspec": {
   "display_name": "base",
   "language": "python",
   "name": "python3"
  },
  "language_info": {
   "codemirror_mode": {
    "name": "ipython",
    "version": 3
   },
   "file_extension": ".py",
   "mimetype": "text/x-python",
   "name": "python",
   "nbconvert_exporter": "python",
   "pygments_lexer": "ipython3",
   "version": "3.9.7"
  },
  "varInspector": {
   "cols": {
    "lenName": 16,
    "lenType": 16,
    "lenVar": 40
   },
   "kernels_config": {
    "python": {
     "delete_cmd_postfix": "",
     "delete_cmd_prefix": "del ",
     "library": "var_list.py",
     "varRefreshCmd": "print(var_dic_list())"
    },
    "r": {
     "delete_cmd_postfix": ") ",
     "delete_cmd_prefix": "rm(",
     "library": "var_list.r",
     "varRefreshCmd": "cat(var_dic_list()) "
    }
   },
   "types_to_exclude": [
    "module",
    "function",
    "builtin_function_or_method",
    "instance",
    "_Feature"
   ],
   "window_display": false
  },
  "vscode": {
   "interpreter": {
    "hash": "ae319d6ce38a8e735e7a53cda922e94f1f104ddd22f27ee36ddcd6f27dd0c89a"
   }
  }
 },
 "nbformat": 4,
 "nbformat_minor": 5
}
