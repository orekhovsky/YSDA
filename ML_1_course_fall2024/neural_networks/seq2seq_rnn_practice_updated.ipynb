{
  "cells": [
    {
      "cell_type": "markdown",
      "metadata": {
        "id": "-Cn3EqjXTHbf"
      },
      "source": [
        "## week10: seq2seq practice\n",
        "### Generating names with recurrent neural networks\n",
        "\n",
        "This time you'll find yourself delving into the heart (and other intestines) of recurrent neural networks on a class of toy problems.\n",
        "\n",
        "Struggle to find a name for the variable? Let's see how you'll come up with a name for your son/daughter. Surely no human has expertize over what is a good child name, so let us train RNN instead;\n",
        "\n",
        "It's dangerous to go alone, take these:"
      ]
    },
    {
      "cell_type": "code",
      "execution_count": null,
      "metadata": {
        "id": "pvS34Pz5THbj"
      },
      "outputs": [],
      "source": [
        "import numpy as np\n",
        "import matplotlib.pyplot as plt\n",
        "%matplotlib inline"
      ]
    },
    {
      "cell_type": "markdown",
      "metadata": {
        "id": "6M-v64bETHbk"
      },
      "source": [
        "# Our data\n",
        "The dataset contains ~8k earthling names from different cultures, all in latin transcript.\n",
        "\n",
        "This notebook has been designed so as to allow you to quickly swap names for something similar: deep learning article titles, IKEA furniture, pokemon names, etc."
      ]
    },
    {
      "cell_type": "code",
      "execution_count": null,
      "metadata": {
        "colab": {
          "base_uri": "https://localhost:8080/"
        },
        "id": "ycBRb0R8THbk",
        "outputId": "64f9eea2-2cda-41d1-97f4-ba0158346871"
      },
      "outputs": [
        {
          "name": "stdout",
          "output_type": "stream",
          "text": [
            "--2023-12-07 17:21:49--  https://raw.githubusercontent.com/girafe-ai/ml-course/23s_msai/week0_10_embeddings_and_seq2seq/names\n",
            "Resolving raw.githubusercontent.com (raw.githubusercontent.com)... 185.199.108.133, 185.199.109.133, 185.199.110.133, ...\n",
            "Connecting to raw.githubusercontent.com (raw.githubusercontent.com)|185.199.108.133|:443... connected.\n",
            "HTTP request sent, awaiting response... 200 OK\n",
            "Length: 55868 (55K) [text/plain]\n",
            "Saving to: ‘names’\n",
            "\n",
            "\rnames                 0%[                    ]       0  --.-KB/s               \rnames               100%[===================>]  54.56K  --.-KB/s    in 0.02s   \n",
            "\n",
            "2023-12-07 17:21:50 (2.93 MB/s) - ‘names’ saved [55868/55868]\n",
            "\n"
          ]
        }
      ],
      "source": [
        "# Uncomment this cell in Colab\n",
        "\n",
        "! wget https://raw.githubusercontent.com/girafe-ai/ml-course/23s_msai/week0_10_embeddings_and_seq2seq/names -O names"
      ]
    },
    {
      "cell_type": "code",
      "execution_count": null,
      "metadata": {
        "id": "4WRbqnc5THbl"
      },
      "outputs": [],
      "source": [
        "import os\n",
        "\n",
        "start_token = \"<\"\n",
        "end_token = \">\"\n",
        "pad_token = \"_\"\n",
        "\n",
        "with open(\"names\") as f:\n",
        "    names = f.read()[:-1].split(\"\\n\")\n",
        "    names = [start_token + line + end_token for line in names]"
      ]
    },
    {
      "cell_type": "code",
      "execution_count": null,
      "metadata": {
        "colab": {
          "base_uri": "https://localhost:8080/"
        },
        "id": "FDFQo_N3THbl",
        "outputId": "b4c1fc62-387b-441f-fc1e-99bb500854d5"
      },
      "outputs": [
        {
          "name": "stdout",
          "output_type": "stream",
          "text": [
            "n samples =  7944\n",
            "<Abagael>\n",
            "<Claresta>\n",
            "<Glory>\n",
            "<Liliane>\n",
            "<Prissie>\n",
            "<Geeta>\n",
            "<Giovanne>\n",
            "<Piggy>\n"
          ]
        }
      ],
      "source": [
        "print(\"n samples = \", len(names))\n",
        "for x in names[::1000]:\n",
        "    print(x)"
      ]
    },
    {
      "cell_type": "code",
      "execution_count": null,
      "metadata": {
        "colab": {
          "base_uri": "https://localhost:8080/",
          "height": 490
        },
        "id": "AxIVjXM-THbm",
        "outputId": "e677f570-d7ca-49a1-9bd8-c555d008c1b4"
      },
      "outputs": [
        {
          "name": "stdout",
          "output_type": "stream",
          "text": [
            "max length = 17\n"
          ]
        },
        {
          "data": {
            "image/png": "[encoded data removed]",
            "text/plain": [
              "<Figure size 640x480 with 1 Axes>"
            ]
          },
          "metadata": {},
          "output_type": "display_data"
        }
      ],
      "source": [
        "MAX_LENGTH = max(map(len, names))\n",
        "print(\"max length =\", MAX_LENGTH)\n",
        "\n",
        "plt.title(\"Sequence length distribution\")\n",
        "plt.hist(list(map(len, names)), bins=25)"
      ]
    },
    {
      "cell_type": "markdown",
      "metadata": {
        "id": "Fx-Qs60ATHbm"
      },
      "source": [
        "# Text processing\n",
        "\n",
        "First we need next to collect a \"vocabulary\" of all unique tokens i.e. unique characters. We can then encode inputs as a sequence of character ids."
      ]
    },
    {
      "cell_type": "code",
      "execution_count": null,
      "metadata": {
        "colab": {
          "base_uri": "https://localhost:8080/"
        },
        "id": "g21nu8NpTHbn",
        "outputId": "81728af9-206b-4ade-a03c-f174221a312c"
      },
      "outputs": [
        {
          "name": "stdout",
          "output_type": "stream",
          "text": [
            "num_tokens =  58\n"
          ]
        }
      ],
      "source": [
        "# all unique characters go here\n",
        "tokens = # your code here\n",
        "\n",
        "num_tokens = len(tokens)\n",
        "print(\"num_tokens = \", num_tokens)\n",
        "\n",
        "assert (\n",
        "    50 < num_tokens < 60\n",
        "), \"Names should contain within 50 and 60 unique tokens depending on encoding\""
      ]
    },
    {
      "cell_type": "markdown",
      "metadata": {
        "id": "gqGbKtF8THbn"
      },
      "source": [
        "### Convert characters to integers\n",
        "\n",
        "Torch is built for crunching numbers, not strings.\n",
        "To train our neural network, we'll need to replace characters with their indices in tokens list.\n",
        "\n",
        "Let's compose a dictionary that does this mapping."
      ]
    },
    {
      "cell_type": "code",
      "execution_count": null,
      "metadata": {
        "id": "FuUFKZlLTHbn"
      },
      "outputs": [],
      "source": [
        "id_to_token = list(tokens)\n",
        "token_to_id = # your code here"
      ]
    },
    {
      "cell_type": "code",
      "execution_count": null,
      "metadata": {
        "colab": {
          "base_uri": "https://localhost:8080/"
        },
        "id": "QWWLbC7jTHbn",
        "outputId": "196cb2e2-f39a-4e73-fd70-c29bae68b00a"
      },
      "outputs": [
        {
          "name": "stdout",
          "output_type": "stream",
          "text": [
            "Seems alright!\n"
          ]
        }
      ],
      "source": [
        "assert len(tokens) == len(token_to_id), \"dictionaries must have same size\"\n",
        "\n",
        "for i in range(num_tokens):\n",
        "    assert token_to_id[tokens[i]] == i, \"token identifier must be it's position in tokens list\"\n",
        "\n",
        "print(\"Seems alright!\")"
      ]
    },
    {
      "cell_type": "code",
      "execution_count": null,
      "metadata": {
        "id": "EUn7gatzTHbo"
      },
      "outputs": [],
      "source": [
        "def to_matrix(\n",
        "    names_batch,\n",
        "    max_len=None,\n",
        "    pad=token_to_id[pad_token],\n",
        "    dtype=\"int32\",\n",
        "    batch_first=False,\n",
        "):\n",
        "    \"\"\"Casts a list of names into rnn-digestable matrix\"\"\"\n",
        "\n",
        "    max_len = max_len or max(map(len, names_batch))\n",
        "    names_ix = np.zeros([len(names_batch), max_len], dtype) + pad\n",
        "\n",
        "    for i in range(len(names_batch)):\n",
        "        line_ix = [token_to_id[c] for c in names_batch[i]][:max_len]\n",
        "        names_ix[i, : len(line_ix)] = line_ix\n",
        "\n",
        "    if not batch_first:  # convert [batch, time] into [time, batch]\n",
        "        names_ix = np.transpose(names_ix)\n",
        "\n",
        "    return names_ix"
      ]
    },
    {
      "cell_type": "code",
      "execution_count": null,
      "metadata": {
        "colab": {
          "base_uri": "https://localhost:8080/"
        },
        "id": "QB7tRl0ITHbo",
        "outputId": "bfb8c9ed-951b-4590-b849-33433e9ac029"
      },
      "outputs": [
        {
          "name": "stdout",
          "output_type": "stream",
          "text": [
            "<Abagael>\n",
            "<Glory>\n",
            "<Prissie>\n",
            "<Giovanne>\n",
            "[[30 29 19 24 56 24 16  0 15 38]\n",
            " [30 25  0 26 28 32 15 38 38 38]\n",
            " [30  7 28 45 21 21 45 16 15 38]\n",
            " [30 25 45 26 18 24 55 55 16 15]]\n"
          ]
        }
      ],
      "source": [
        "# Example: cast 4 random names to matrices, pad with zeros\n",
        "print(\"\\n\".join(names[::2000]))\n",
        "print(to_matrix(names[::2000]).T)"
      ]
    },
    {
      "cell_type": "code",
      "execution_count": null,
      "metadata": {
        "colab": {
          "base_uri": "https://localhost:8080/",
          "height": 473
        },
        "id": "NqJHEYDIVU4z",
        "outputId": "9255d62d-fa75-46ed-92e6-c6f0b7bf00cb"
      },
      "outputs": [
        {
          "data": {
            "text/plain": [
              "<matplotlib.collections.QuadMesh at 0x7f8917353250>"
            ]
          },
          "execution_count": 28,
          "metadata": {},
          "output_type": "execute_result"
        },
        {
          "data": {
            "image/png": "[encoded data removed]",
            "text/plain": [
              "<Figure size 640x480 with 1 Axes>"
            ]
          },
          "metadata": {},
          "output_type": "display_data"
        }
      ],
      "source": [
        "plt.pcolormesh(to_matrix(names[::2000]).T == token_to_id[pad_token])"
      ]
    },
    {
      "cell_type": "markdown",
      "metadata": {
        "id": "DfZTqvQ9THbo"
      },
      "source": [
        "# Recurrent neural network\n",
        "\n",
        "We can rewrite recurrent neural network as a consecutive application of dense layer to input $x_t$ and previous rnn state $h_t$. This is exactly what we're gonna do now.\n",
        "<img src=\"https://github.com/girafe-ai/ml-course/blob/23f_msu_dl/week0_05_embeddings_and_seq2seq/rnn.png?raw=1\" width=480>\n",
        "\n",
        "Since we're training a language model, there should also be:\n",
        "* An embedding layer that converts character id x_t to a vector.\n",
        "* An output layer that predicts probabilities of next phoneme"
      ]
    },
    {
      "cell_type": "code",
      "execution_count": null,
      "metadata": {
        "id": "YK1p8YNRTHbo"
      },
      "outputs": [],
      "source": [
        "import torch, torch.nn as nn\n",
        "import torch.nn.functional as F"
      ]
    },
    {
      "cell_type": "code",
      "execution_count": null,
      "metadata": {
        "id": "l0gRUi-1THbp"
      },
      "outputs": [],
      "source": [
        "class CharRNNCell(nn.Module):\n",
        "    \"\"\"\n",
        "    Implement the scheme above as torch module\n",
        "    \"\"\"\n",
        "\n",
        "    def __init__(self, num_tokens=len(tokens), embedding_size=16, rnn_num_units=64):\n",
        "        super(self.__class__, self).__init__()\n",
        "        self.num_units = rnn_num_units\n",
        "\n",
        "        self.embedding = nn.Embedding(num_tokens, embedding_size)\n",
        "        self.rnn_update = nn.Linear(embedding_size + rnn_num_units, rnn_num_units)\n",
        "        self.rnn_to_logits = nn.Linear(rnn_num_units, num_tokens)\n",
        "\n",
        "    def forward(self, x, h_prev):\n",
        "        \"\"\"\n",
        "        This method computes h_next(x, h_prev) and log P(x_next | h_next)\n",
        "        We'll call it repeatedly to produce the whole sequence.\n",
        "\n",
        "        :param x: batch of character ids, containing vector of int64\n",
        "        :param h_prev: previous rnn hidden states, containing matrix [batch, rnn_num_units] of float32\n",
        "        \"\"\"\n",
        "        # get vector embedding of x\n",
        "        x_emb = self.embedding(x)\n",
        "\n",
        "        # compute next hidden state using self.rnn_update\n",
        "        # hint: use torch.cat(..., dim=...) for concatenation\n",
        "        x_and_h = # your code here\n",
        "        h_next = # your code here\n",
        "\n",
        "        h_next = # your code here\n",
        "\n",
        "        assert h_next.size() == h_prev.size()\n",
        "\n",
        "        # compute logits for next character probs\n",
        "        logits = # your code here\n",
        "\n",
        "        return h_next, logits\n",
        "\n",
        "    def initial_state(self, batch_size):\n",
        "        \"\"\"return rnn state before it processes first input (aka h0)\"\"\"\n",
        "        return torch.zeros(batch_size, self.num_units, requires_grad=True)"
      ]
    },
    {
      "cell_type": "code",
      "execution_count": null,
      "metadata": {
        "id": "7NtCo1CTTHbp"
      },
      "outputs": [],
      "source": [
        "char_rnn = CharRNNCell()"
      ]
    },
    {
      "cell_type": "markdown",
      "metadata": {
        "id": "xq9kjqkNTHbp"
      },
      "source": [
        "### RNN loop\n",
        "\n",
        "Once we've defined a single RNN step, we can apply it in a loop to get predictions on each step."
      ]
    },
    {
      "cell_type": "code",
      "execution_count": null,
      "metadata": {
        "id": "d0oZFCaiTHbp"
      },
      "outputs": [],
      "source": [
        "def rnn_loop(char_rnn, batch_ix):\n",
        "    \"\"\"\n",
        "    Computes log P(next_character) for all time-steps in names_ix\n",
        "    :param names_ix: an int32 matrix of shape [batch, time], output of to_matrix(names)\n",
        "    \"\"\"\n",
        "    max_length, batch_size = batch_ix.size()\n",
        "    hid_state = char_rnn.initial_state(batch_size)\n",
        "    all_logits = []\n",
        "\n",
        "    for x_t in batch_ix:\n",
        "        hid_state, logits_next = char_rnn(x_t, hid_state)  # <-- here we call your one-step code\n",
        "        all_logits.append(logits_next)\n",
        "\n",
        "    return torch.stack(all_logits, dim=1)"
      ]
    },
    {
      "cell_type": "code",
      "execution_count": null,
      "metadata": {
        "id": "xQYRCPb-THbp"
      },
      "outputs": [],
      "source": [
        "batch_ix = to_matrix(names[:5])\n",
        "batch_ix = torch.tensor(batch_ix, dtype=torch.int64)\n",
        "\n",
        "all_logits = rnn_loop(char_rnn, batch_ix)"
      ]
    },
    {
      "cell_type": "code",
      "execution_count": null,
      "metadata": {
        "colab": {
          "base_uri": "https://localhost:8080/"
        },
        "id": "7CIPmGD4XTCk",
        "outputId": "2f068e31-9248-41c2-cccf-4b35b5b5974c"
      },
      "outputs": [
        {
          "data": {
            "text/plain": [
              "torch.Size([5, 9, 58])"
            ]
          },
          "execution_count": 43,
          "metadata": {},
          "output_type": "execute_result"
        }
      ],
      "source": [
        "all_logits.shape"
      ]
    },
    {
      "cell_type": "markdown",
      "metadata": {
        "id": "dUzxXWOGTHbq"
      },
      "source": [
        "### Likelihood and gradients\n",
        "\n",
        "We can now train our neural network to minimize crossentropy (maximize log-likelihood) with the actual next tokens.\n",
        "\n",
        "To do so in a vectorized manner, we take `batch_ix[:, 1:]` - a matrix of token ids shifted i step to the left so i-th element is acutally the \"next token\" for i-th prediction"
      ]
    },
    {
      "cell_type": "code",
      "execution_count": null,
      "metadata": {
        "id": "7LD2jD0TX7Nx"
      },
      "outputs": [],
      "source": [
        "loss_func = nn.CrossEntropyLoss(ignore_index=token_to_id[pad_token])\n",
        "actual_next_tokens = batch_ix[1:, :].T\n",
        "\n",
        "pred_logits = all_logits[:, :-1, :]\n",
        "pred_logits_flattened = pred_logits.reshape((pred_logits.shape[0] * pred_logits.shape[1], -1))\n",
        "actual_next_tokens_flattened = actual_next_tokens.reshape(-1)"
      ]
    },
    {
      "cell_type": "code",
      "execution_count": null,
      "metadata": {
        "colab": {
          "base_uri": "https://localhost:8080/"
        },
        "id": "cDL9SpHFY9QS",
        "outputId": "d4af4fb9-7b32-4051-8acd-767424b6bc10"
      },
      "outputs": [
        {
          "name": "stdout",
          "output_type": "stream",
          "text": [
            "torch.Size([40, 58])\n",
            "torch.Size([40])\n"
          ]
        }
      ],
      "source": [
        "print(pred_logits_flattened.shape)\n",
        "print(actual_next_tokens_flattened.shape)"
      ]
    },
    {
      "cell_type": "code",
      "execution_count": null,
      "metadata": {
        "id": "yuUfJdibY1ae"
      },
      "outputs": [],
      "source": [
        "loss = loss_func(pred_logits_flattened, actual_next_tokens_flattened)"
      ]
    },
    {
      "cell_type": "code",
      "execution_count": null,
      "metadata": {
        "id": "6dG9M9G6THbq"
      },
      "outputs": [],
      "source": [
        "loss.backward()"
      ]
    },
    {
      "cell_type": "code",
      "execution_count": null,
      "metadata": {
        "id": "2A8htDtOTHbq"
      },
      "outputs": [],
      "source": [
        "for w in char_rnn.parameters():\n",
        "    assert (\n",
        "        w.grad is not None and torch.max(torch.abs(w.grad)).data.numpy() != 0\n",
        "    ), \"Loss is not differentiable w.r.t. a weight with shape %s. Check forward method.\" % (\n",
        "        w.size(),\n",
        "    )"
      ]
    },
    {
      "cell_type": "markdown",
      "metadata": {
        "id": "aBoWzFWpTHbq"
      },
      "source": [
        "### The training loop\n",
        "\n",
        "We train our char-rnn exactly the same way we train any deep learning model: by minibatch sgd.\n",
        "\n",
        "The only difference is that this time we sample strings, not images or sound."
      ]
    },
    {
      "cell_type": "code",
      "execution_count": null,
      "metadata": {
        "id": "nlUGwL6RTHbq"
      },
      "outputs": [],
      "source": [
        "from IPython.display import clear_output\n",
        "from random import sample\n",
        "\n",
        "char_rnn = CharRNNCell()\n",
        "opt = torch.optim.Adam(char_rnn.parameters())\n",
        "history = []"
      ]
    },
    {
      "cell_type": "code",
      "execution_count": null,
      "metadata": {
        "colab": {
          "base_uri": "https://localhost:8080/",
          "height": 450
        },
        "id": "eatwHADITHbr",
        "outputId": "b031a2cb-6391-40bf-c882-aa6f3fc811b9"
      },
      "outputs": [
        {
          "data": {
            "image/png": "[encoded data removed]",
            "text/plain": [
              "<Figure size 640x480 with 1 Axes>"
            ]
          },
          "metadata": {},
          "output_type": "display_data"
        }
      ],
      "source": [
        "MAX_LENGTH = 16\n",
        "\n",
        "for i in range(1000):\n",
        "    opt.zero_grad()\n",
        "    batch_ix = to_matrix(sample(names, 32), max_len=MAX_LENGTH)\n",
        "    batch_ix = torch.tensor(batch_ix, dtype=torch.int64)\n",
        "\n",
        "    all_logits = rnn_loop(char_rnn, batch_ix)\n",
        "\n",
        "    # compute loss\n",
        "    actual_next_tokens = # your code here\n",
        "\n",
        "    pred_logits = # your code here\n",
        "    loss = # your code here\n",
        "    # train with backprop\n",
        "    # your code here\n",
        "    history.append(loss.item())\n",
        "    if (i + 1) % 100 == 0:\n",
        "        clear_output(True)\n",
        "        plt.plot(history, label=\"loss\")\n",
        "        plt.legend()\n",
        "        plt.show()\n",
        "\n",
        "assert np.mean(history[:10]) > np.mean(history[-10:]), \"RNN didn't converge.\""
      ]
    },
    {
      "cell_type": "markdown",
      "metadata": {
        "id": "cKG4Bne6THbr"
      },
      "source": [
        "### RNN: sampling\n",
        "Once we've trained our network a bit, let's get to actually generating stuff.\n",
        "All we need is the single rnn step function you have defined in `char_rnn.forward`."
      ]
    },
    {
      "cell_type": "code",
      "execution_count": null,
      "metadata": {
        "id": "iHKCJg29THbr"
      },
      "outputs": [],
      "source": [
        "def generate_sample(\n",
        "    char_rnn, seed_phrase=\"<\", max_length=MAX_LENGTH, temperature=1.0, pretty_print=True\n",
        "):\n",
        "    \"\"\"\n",
        "    The function generates text given a phrase of length at least SEQ_LENGTH.\n",
        "    :param seed_phrase: prefix characters. The RNN is asked to continue the phrase\n",
        "    :param max_length: maximum output length, including seed_phrase\n",
        "    :param temperature: coefficient for sampling.  higher temperature produces more chaotic outputs,\n",
        "                        smaller temperature converges to the single most likely output\n",
        "    \"\"\"\n",
        "\n",
        "    x_sequence = [token_to_id[token] for token in seed_phrase]\n",
        "    x_sequence = torch.tensor([x_sequence], dtype=torch.int64)\n",
        "    hid_state = char_rnn.initial_state(batch_size=1)\n",
        "\n",
        "    # feed the seed phrase, if any\n",
        "    for i in range(len(seed_phrase) - 1):\n",
        "        hid_state, _ = char_rnn(x_sequence[:, i], hid_state)\n",
        "\n",
        "    # start generating\n",
        "    for _ in range(max_length - len(seed_phrase)):\n",
        "        hid_state, logits_next = char_rnn(x_sequence[:, -1], hid_state)\n",
        "        p_next = F.softmax(logits_next / temperature, dim=-1).data.numpy()[0]\n",
        "\n",
        "        # sample next token and push it back into x_sequence\n",
        "        next_ix = np.random.choice(num_tokens, p=p_next)\n",
        "        next_ix = torch.tensor([[next_ix]], dtype=torch.int64)\n",
        "        x_sequence = torch.cat([x_sequence, next_ix], dim=1)\n",
        "    output = \"\".join([tokens[ix] for ix in x_sequence.data.numpy()[0]])\n",
        "    if pretty_print:\n",
        "        output = output.split(\">\")[0][1:]\n",
        "    return output"
      ]
    },
    {
      "cell_type": "code",
      "execution_count": null,
      "metadata": {
        "colab": {
          "base_uri": "https://localhost:8080/"
        },
        "id": "cpsTKRULTHbr",
        "outputId": "05f6be2d-d32e-472e-bf98-a011c94491ec"
      },
      "outputs": [
        {
          "name": "stdout",
          "output_type": "stream",
          "text": [
            "LuwoyhuapTor_eu\n",
            "YOytlogn\n",
            "Zkdrin\n",
            "Ylyzuu-E\n",
            "GavifynNa\n",
            "BthrdyF\n",
            "Qpfs\n",
            "Marywiq\n",
            "MbaznelbeldKlyr\n",
            "Vqef_loadwinA\n"
          ]
        }
      ],
      "source": [
        "for _ in range(10):\n",
        "    print(generate_sample(char_rnn, temperature=2.5))"
      ]
    },
    {
      "cell_type": "code",
      "execution_count": null,
      "metadata": {
        "colab": {
          "base_uri": "https://localhost:8080/"
        },
        "id": "di7AHZDMTHbr",
        "outputId": "48673d44-8aa1-4ba1-8917-de17788c83b5"
      },
      "outputs": [
        {
          "name": "stdout",
          "output_type": "stream",
          "text": [
            "AAASJAADt\n",
            "AAASJAAl\n",
            "AAASJAAn\n",
            "AAASJAA\n",
            "AAASJAA\n",
            "AAASJAAl\n",
            "AAASJAA\n",
            "AAASJAAne\n",
            "AAASJAA\n",
            "AAASJAA\n",
            "AAASJAA\n",
            "AAASJAA\n",
            "AAASJAA\n",
            "AAASJAAnd\n",
            "AAASJAA\n",
            "AAASJAAn\n",
            "AAASJAAnse\n",
            "AAASJAAnn\n",
            "AAASJAAn\n",
            "AAASJAA\n",
            "AAASJAAn\n",
            "AAASJAA\n",
            "AAASJAA\n",
            "AAASJAAd\n",
            "AAASJAAn\n",
            "AAASJAA\n",
            "AAASJAA\n",
            "AAASJAA\n",
            "AAASJAAn\n",
            "AAASJAAnnd\n",
            "AAASJAAd\n",
            "AAASJAA\n",
            "AAASJAAnhe\n",
            "AAASJAA\n",
            "AAASJAA\n",
            "AAASJAA\n",
            "AAASJAA\n",
            "AAASJAA\n",
            "AAASJAA\n",
            "AAASJAA\n",
            "AAASJAA\n",
            "AAASJAA-\n",
            "AAASJAAn\n",
            "AAASJAAmol\n",
            "AAASJAA\n",
            "AAASJAA\n",
            "AAASJAAy\n",
            "AAASJAA\n",
            "AAASJAA\n",
            "AAASJAAn\n"
          ]
        }
      ],
      "source": [
        "for _ in range(50):\n",
        "    print(generate_sample(char_rnn, seed_phrase=\"<AAASJAA\"))"
      ]
    },
    {
      "cell_type": "markdown",
      "metadata": {
        "collapsed": true,
        "id": "eykos1QUTHbs"
      },
      "source": [
        "### More seriously\n",
        "\n",
        "What we just did is a manual low-level implementation of RNN. While it's cool, i guess you won't like the idea of re-writing it from scratch on every occasion.\n",
        "\n",
        "As you might have guessed, torch has a solution for this. To be more specific, there are two options:\n",
        "* `nn.RNNCell(emb_size, rnn_num_units)` - implements a single step of RNN just like you did. Basically concat-linear-tanh\n",
        "* `nn.RNN(emb_size, rnn_num_units` - implements the whole rnn_loop for you.\n",
        "\n",
        "There's also `nn.LSTMCell` vs `nn.LSTM`, `nn.GRUCell` vs `nn.GRU`, etc. etc.\n",
        "\n",
        "In this example we'll rewrite the char_rnn and rnn_loop using high-level rnn API."
      ]
    },
    {
      "cell_type": "code",
      "execution_count": null,
      "metadata": {
        "id": "2xbX9_h2THbs"
      },
      "outputs": [],
      "source": [
        "class CharRNNLoop(nn.Module):\n",
        "    def __init__(self, num_tokens=num_tokens, emb_size=16, rnn_num_units=64):\n",
        "        super(self.__class__, self).__init__()\n",
        "        self.emb = nn.Embedding(num_tokens, emb_size)\n",
        "        self.rnn = nn.RNN(emb_size, rnn_num_units, batch_first=True)\n",
        "        self.hid_to_logits = nn.Linear(rnn_num_units, num_tokens)\n",
        "\n",
        "    def forward(self, x):\n",
        "        assert isinstance(x.data, torch.LongTensor)\n",
        "        h_seq, _ = self.rnn(self.emb(x))\n",
        "        next_logits = self.hid_to_logits(h_seq)\n",
        "        next_logp = F.log_softmax(next_logits, dim=-1)\n",
        "        return next_logp\n",
        "\n",
        "\n",
        "model = CharRNNLoop()\n",
        "opt = torch.optim.Adam(model.parameters())\n",
        "history = []"
      ]
    },
    {
      "cell_type": "code",
      "execution_count": null,
      "metadata": {
        "id": "OJim-ErcTHbt"
      },
      "outputs": [],
      "source": [
        "# the model applies over the whole sequence\n",
        "batch_ix = to_matrix(sample(names, 32), max_len=MAX_LENGTH)\n",
        "batch_ix = torch.LongTensor(batch_ix)\n",
        "\n",
        "logp_seq = model(batch_ix)\n",
        "\n",
        "# compute loss.\n",
        "loss = F.nll_loss(\n",
        "    logp_seq[:, 1:].contiguous().view(-1, num_tokens),\n",
        "    batch_ix[:, :-1].contiguous().view(-1),\n",
        ")\n",
        "\n",
        "loss.backward()"
      ]
    },
    {
      "cell_type": "code",
      "execution_count": null,
      "metadata": {
        "id": "PO2m4O49THbt"
      },
      "outputs": [],
      "source": [
        "MAX_LENGTH = 16\n",
        "\n",
        "for i in range(1000):\n",
        "    batch_ix = to_matrix(sample(names, 32), max_len=MAX_LENGTH)\n",
        "    batch_ix = torch.tensor(batch_ix, dtype=torch.int64)\n",
        "\n",
        "    logp_seq = model(batch_ix)\n",
        "\n",
        "    # compute loss\n",
        "    #<YOUR CODE>\n",
        "    predictions_logp = #<YOUR CODE>\n",
        "    actual_next_tokens = #<YOUR CODE>\n",
        "\n",
        "    loss = ###YOUR CODE\n",
        "\n",
        "    # train with backprop\n",
        "\n",
        "    #<YOUR CODE>\n",
        "\n",
        "    history.append(loss.data.numpy())\n",
        "    if (i+1)%100==0:\n",
        "        clear_output(True)\n",
        "        plt.plot(history,label='loss')\n",
        "        plt.legend()\n",
        "        plt.show()\n",
        "\n",
        "assert np.mean(history[:10]) > np.mean(history[-10:]), \"RNN didn't converge.\""
      ]
    },
    {
      "cell_type": "markdown",
      "metadata": {
        "id": "eRxdhY6lTHbt"
      },
      "source": [
        "### To sum up:\n",
        "- PyTorch is convenient both for prototyping and production\n",
        "- There are a lot of pre-implemented methods/layers/activations out of the box\n",
        "- It's much easier (*really easier*) to use PyTorch than TensorFlow on entry level.\n",
        "- Neural networks are not *black boxes*, they are pretty nice and easy to use (almost always)."
      ]
    },
    {
      "cell_type": "markdown",
      "metadata": {
        "id": "wfM_zSVMTHbu"
      },
      "source": [
        "### Try it out!\n",
        "You've just implemented a recurrent language model that can be tasked with generating any kind of sequence, so there's plenty of data you can try it on:\n",
        "\n",
        "* Novels/poems/songs of your favorite author\n",
        "* News titles/clickbait titles\n",
        "* Source code of Linux or Tensorflow\n",
        "* Molecules in [smiles](https://en.wikipedia.org/wiki/Simplified_molecular-input_line-entry_system) format\n",
        "* Melody in notes/chords format\n",
        "* Ikea catalog titles\n",
        "* Pokemon names\n",
        "* Cards from Magic, the Gathering / Hearthstone\n",
        "\n",
        "If you're willing to give it a try, here's what you wanna look at:\n",
        "* Current data format is a sequence of lines, so a novel can be formatted as a list of sentences. Alternatively, you can change data preprocessing altogether.\n",
        "* While some datasets are readily available, others can only be scraped from the web. Try `Selenium` or `Scrapy` for that.\n",
        "* Make sure MAX_LENGTH is adjusted for longer datasets. There's also a bonus section about dynamic RNNs at the bottom.\n",
        "* More complex tasks require larger RNN architecture, try more neurons or several layers. It would also require more training iterations.\n",
        "* Long-term dependencies in music, novels or molecules are better handled with LSTM or GRU\n",
        "\n",
        "__Good hunting!__"
      ]
    }
  ],
  "metadata": {
    "colab": {
      "provenance": []
    },
    "kernelspec": {
      "display_name": "Python 3",
      "language": "python",
      "name": "python3"
    },
    "language_info": {
      "codemirror_mode": {
        "name": "ipython",
        "version": 3
      },
      "file_extension": ".py",
      "mimetype": "text/x-python",
      "name": "python",
      "nbconvert_exporter": "python",
      "pygments_lexer": "ipython3",
      "version": "3.7.3"
    }
  },
  "nbformat": 4,
  "nbformat_minor": 0
}