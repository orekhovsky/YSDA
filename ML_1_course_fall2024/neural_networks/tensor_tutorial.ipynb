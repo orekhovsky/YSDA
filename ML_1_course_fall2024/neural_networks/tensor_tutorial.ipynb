{
  "cells": [
    {
      "cell_type": "markdown",
      "metadata": {
        "id": "-nEtOTFPos11"
      },
      "source": [
        "# week0_09: Once again, what is PyTorch?\n",
        "\n",
        "It’s a Python-based scientific computing package targeted at two sets of audiences:\n",
        "\n",
        "-  A replacement for NumPy to use the power of GPUs\n",
        "-  a deep learning research platform that provides maximum flexibility and speed\n",
        "\n",
        "Getting Started\n",
        "---------------\n",
        "\n",
        "**Tensors**\n",
        "\n",
        "Tensors are similar to NumPy’s ndarrays, with the addition being that\n",
        "Tensors can also be used on a GPU to accelerate computing.\n",
        "\n"
      ]
    },
    {
      "cell_type": "markdown",
      "metadata": {
        "id": "qe1faZcl4nMZ"
      },
      "source": [
        "_Credits: First two parts of this notebook are based on PyTorch official_ [tensor](https://pytorch.org/tutorials/beginner/blitz/tensor_tutorial.html#sphx-glr-beginner-blitz-tensor-tutorial-py) _and_ [autograd](https://pytorch.org/tutorials/beginner/blitz/autograd_tutorial.html#sphx-glr-beginner-blitz-autograd-tutorial-py) _tutorials._"
      ]
    },
    {
      "cell_type": "code",
      "execution_count": null,
      "metadata": {
        "ExecuteTime": {
          "end_time": "2021-03-25T07:44:50.004422Z",
          "start_time": "2021-03-25T07:44:49.377035Z"
        },
        "id": "wCg57jzaos12"
      },
      "outputs": [],
      "source": [
        "import torch"
      ]
    },
    {
      "cell_type": "markdown",
      "metadata": {
        "id": "y2XO1pKzos17"
      },
      "source": [
        "Construct a 5x3 matrix, uninitialized:\n",
        "\n"
      ]
    },
    {
      "cell_type": "code",
      "execution_count": null,
      "metadata": {
        "ExecuteTime": {
          "end_time": "2021-03-25T07:44:50.031085Z",
          "start_time": "2021-03-25T07:44:50.005970Z"
        },
        "id": "z4hzsf2Zos2A",
        "outputId": "52f0c2cc-7250-4896-db3b-4105c782592d"
      },
      "outputs": [
        {
          "name": "stdout",
          "output_type": "stream",
          "text": [
            "tensor([[0.0000e+00, -0.0000e+00, 0.0000e+00],\n",
            "        [0.0000e+00, 0.0000e+00, 1.4013e-45],\n",
            "        [0.0000e+00, 0.0000e+00, 0.0000e+00],\n",
            "        [0.0000e+00, 0.0000e+00, 0.0000e+00],\n",
            "        [0.0000e+00, 1.1704e-41, 0.0000e+00]])\n"
          ]
        }
      ],
      "source": [
        "x = torch.empty(5, 3)\n",
        "print(x)"
      ]
    },
    {
      "cell_type": "markdown",
      "metadata": {
        "id": "s1UXUAyfos2G"
      },
      "source": [
        "Construct a randomly initialized matrix:\n",
        "\n"
      ]
    },
    {
      "cell_type": "code",
      "execution_count": null,
      "metadata": {
        "ExecuteTime": {
          "end_time": "2021-03-25T07:44:50.213418Z",
          "start_time": "2021-03-25T07:44:50.208186Z"
        },
        "id": "2pZuhVZdos2I",
        "outputId": "bb90e457-9e4d-4929-e274-5e23db7825dc"
      },
      "outputs": [
        {
          "name": "stdout",
          "output_type": "stream",
          "text": [
            "tensor([[0.7262, 0.7554, 0.8585],\n",
            "        [0.6755, 0.9409, 0.3661],\n",
            "        [0.2859, 0.3042, 0.8844],\n",
            "        [0.0489, 0.2583, 0.7225],\n",
            "        [0.0906, 0.3792, 0.8315]])\n"
          ]
        }
      ],
      "source": [
        "x = torch.rand(5, 3)\n",
        "print(x)"
      ]
    },
    {
      "cell_type": "markdown",
      "metadata": {
        "id": "XDuGrzjJos2O"
      },
      "source": [
        "Construct a matrix filled zeros and of dtype long:\n",
        "\n"
      ]
    },
    {
      "cell_type": "code",
      "execution_count": null,
      "metadata": {
        "ExecuteTime": {
          "end_time": "2021-03-25T07:44:50.549516Z",
          "start_time": "2021-03-25T07:44:50.545546Z"
        },
        "id": "d7RuB4xhos2P",
        "outputId": "7ee21146-cacb-4a21-a0c5-c266504ad008"
      },
      "outputs": [
        {
          "name": "stdout",
          "output_type": "stream",
          "text": [
            "tensor([[0, 0, 0],\n",
            "        [0, 0, 0],\n",
            "        [0, 0, 0],\n",
            "        [0, 0, 0],\n",
            "        [0, 0, 0]])\n"
          ]
        }
      ],
      "source": [
        "x = torch.zeros(5, 3, dtype=torch.long)\n",
        "print(x)"
      ]
    },
    {
      "cell_type": "markdown",
      "metadata": {
        "id": "dh6Esa3Fos2W"
      },
      "source": [
        "Construct a tensor directly from data:\n",
        "\n"
      ]
    },
    {
      "cell_type": "code",
      "execution_count": null,
      "metadata": {
        "ExecuteTime": {
          "end_time": "2021-03-25T07:44:51.299248Z",
          "start_time": "2021-03-25T07:44:51.296532Z"
        },
        "id": "RnInKPIQos2X",
        "outputId": "fce278d1-f5f1-4f46-a2e4-c85dd9834dd7"
      },
      "outputs": [
        {
          "name": "stdout",
          "output_type": "stream",
          "text": [
            "tensor([5.5000, 3.0000])\n"
          ]
        }
      ],
      "source": [
        "x = torch.tensor([5.5, 3])\n",
        "print(x)"
      ]
    },
    {
      "cell_type": "markdown",
      "metadata": {
        "id": "vMJZ3uZQos2q"
      },
      "source": [
        "or create a tensor based on an existing tensor. These methods\n",
        "will reuse properties of the input tensor, e.g. dtype, unless\n",
        "new values are provided by user\n",
        "\n"
      ]
    },
    {
      "cell_type": "code",
      "execution_count": null,
      "metadata": {
        "ExecuteTime": {
          "end_time": "2021-03-25T07:44:52.052262Z",
          "start_time": "2021-03-25T07:44:52.047903Z"
        },
        "id": "bKfLS4Mios2r",
        "outputId": "2415d2ab-4312-4e94-c1f7-04d90c74740a"
      },
      "outputs": [
        {
          "name": "stdout",
          "output_type": "stream",
          "text": [
            "tensor([[1., 1., 1.],\n",
            "        [1., 1., 1.],\n",
            "        [1., 1., 1.],\n",
            "        [1., 1., 1.],\n",
            "        [1., 1., 1.]], dtype=torch.float64)\n",
            "tensor([[-0.8101, -0.1260,  1.7310],\n",
            "        [-0.0559, -0.7519,  0.6631],\n",
            "        [-1.1876, -0.0479, -0.5158],\n",
            "        [-0.0971,  1.8541, -1.5542],\n",
            "        [ 0.0383,  0.4465,  0.5302]])\n"
          ]
        }
      ],
      "source": [
        "x = x.new_ones(5, 3, dtype=torch.double)  # new_* methods take in sizes\n",
        "print(x)\n",
        "\n",
        "x = torch.randn_like(x, dtype=torch.float)  # override dtype!\n",
        "print(x)  # result has the same size"
      ]
    },
    {
      "cell_type": "code",
      "execution_count": null,
      "metadata": {
        "ExecuteTime": {
          "end_time": "2021-03-25T07:44:53.123766Z",
          "start_time": "2021-03-25T07:44:53.121825Z"
        },
        "id": "lW1btdXL4nMk"
      },
      "outputs": [],
      "source": [
        "import numpy as np"
      ]
    },
    {
      "cell_type": "code",
      "execution_count": null,
      "metadata": {
        "ExecuteTime": {
          "end_time": "2021-03-25T07:44:53.715540Z",
          "start_time": "2021-03-25T07:44:53.568415Z"
        },
        "id": "DKhEfJnf4nMk"
      },
      "outputs": [],
      "source": [
        "a = np.random.randint((2, 5))\n",
        "\n",
        "# Create a torch tensor from numpy tensor and cast it to float32 type\n",
        "a_tensor = None  # YOUR CODE HERE\n",
        "\n",
        "assert a_tensor.dtype == torch.float32"
      ]
    },
    {
      "cell_type": "markdown",
      "metadata": {
        "id": "cHcJcupjos2u"
      },
      "source": [
        "Get its size:\n",
        "\n"
      ]
    },
    {
      "cell_type": "code",
      "execution_count": null,
      "metadata": {
        "ExecuteTime": {
          "end_time": "2021-03-25T07:45:03.043559Z",
          "start_time": "2021-03-25T07:45:03.041294Z"
        },
        "id": "glNo_10Kos2v",
        "outputId": "dcafce3a-1737-49d8-8906-21107f3abcbe"
      },
      "outputs": [
        {
          "name": "stdout",
          "output_type": "stream",
          "text": [
            "torch.Size([5, 3])\n"
          ]
        }
      ],
      "source": [
        "print(x.size())"
      ]
    },
    {
      "cell_type": "markdown",
      "metadata": {
        "id": "0N8ugGao4nMl"
      },
      "source": [
        "**Note:** ``torch.Size`` is in fact a tuple, so it supports all tuple operations."
      ]
    },
    {
      "cell_type": "code",
      "execution_count": null,
      "metadata": {
        "ExecuteTime": {
          "end_time": "2021-03-25T07:45:40.913217Z",
          "start_time": "2021-03-25T07:45:40.906379Z"
        },
        "id": "KW_ftFrU4nMl",
        "outputId": "39d41f42-de5c-49d6-ce83-95ee0ed91b2b"
      },
      "outputs": [
        {
          "data": {
            "text/plain": [
              "True"
            ]
          },
          "execution_count": 10,
          "metadata": {},
          "output_type": "execute_result"
        }
      ],
      "source": [
        "isinstance(x.size(), tuple)"
      ]
    },
    {
      "cell_type": "markdown",
      "metadata": {
        "id": "_scE1Qvwos21"
      },
      "source": [
        "#### Operations\n",
        "\n",
        "There are multiple syntaxes for operations. In the following\n",
        "example, we will take a look at the addition operation.\n",
        "\n",
        "Addition: syntax 1"
      ]
    },
    {
      "cell_type": "code",
      "execution_count": null,
      "metadata": {
        "ExecuteTime": {
          "end_time": "2021-03-25T07:47:25.121154Z",
          "start_time": "2021-03-25T07:47:25.115729Z"
        },
        "id": "luQAJTT9os22",
        "outputId": "2e9a8153-9efc-44f2-c1a6-51a2df39d12c"
      },
      "outputs": [
        {
          "name": "stdout",
          "output_type": "stream",
          "text": [
            "tensor([[-0.4047,  0.2138,  2.0190],\n",
            "        [ 0.2488,  0.0621,  0.8627],\n",
            "        [-0.7350,  0.4120,  0.1114],\n",
            "        [ 0.4026,  2.6973, -1.3788],\n",
            "        [ 0.8740,  1.3594,  0.6164]])\n"
          ]
        }
      ],
      "source": [
        "y = torch.rand(5, 3)\n",
        "print(x + y)"
      ]
    },
    {
      "cell_type": "markdown",
      "metadata": {
        "id": "e8s8E-Q2os26"
      },
      "source": [
        "Addition: syntax 2\n",
        "\n"
      ]
    },
    {
      "cell_type": "code",
      "execution_count": null,
      "metadata": {
        "ExecuteTime": {
          "end_time": "2021-03-25T07:47:26.319413Z",
          "start_time": "2021-03-25T07:47:26.315562Z"
        },
        "id": "FLwb3hgyos28",
        "outputId": "8ac0c64e-b09a-4e3a-e208-987daef8f2e0"
      },
      "outputs": [
        {
          "name": "stdout",
          "output_type": "stream",
          "text": [
            "tensor([[-0.4047,  0.2138,  2.0190],\n",
            "        [ 0.2488,  0.0621,  0.8627],\n",
            "        [-0.7350,  0.4120,  0.1114],\n",
            "        [ 0.4026,  2.6973, -1.3788],\n",
            "        [ 0.8740,  1.3594,  0.6164]])\n"
          ]
        }
      ],
      "source": [
        "print(torch.add(x, y))"
      ]
    },
    {
      "cell_type": "markdown",
      "metadata": {
        "id": "2dItCJmIos2_"
      },
      "source": [
        "Addition: providing an output tensor as argument\n",
        "\n"
      ]
    },
    {
      "cell_type": "code",
      "execution_count": null,
      "metadata": {
        "ExecuteTime": {
          "end_time": "2021-03-25T07:47:34.343508Z",
          "start_time": "2021-03-25T07:47:34.339936Z"
        },
        "id": "eTXFN-TTos3B",
        "outputId": "cd6cec96-cfea-4edf-a99c-37ddef189f54"
      },
      "outputs": [
        {
          "name": "stdout",
          "output_type": "stream",
          "text": [
            "tensor([[-0.4047,  0.2138,  2.0190],\n",
            "        [ 0.2488,  0.0621,  0.8627],\n",
            "        [-0.7350,  0.4120,  0.1114],\n",
            "        [ 0.4026,  2.6973, -1.3788],\n",
            "        [ 0.8740,  1.3594,  0.6164]])\n"
          ]
        }
      ],
      "source": [
        "result = torch.empty(5, 3)\n",
        "torch.add(x, y, out=result)\n",
        "print(result)"
      ]
    },
    {
      "cell_type": "markdown",
      "metadata": {
        "id": "BmLxccujos3F"
      },
      "source": [
        "Addition: in-place\n",
        "\n"
      ]
    },
    {
      "cell_type": "code",
      "execution_count": null,
      "metadata": {
        "ExecuteTime": {
          "end_time": "2021-03-25T07:47:35.559048Z",
          "start_time": "2021-03-25T07:47:35.555829Z"
        },
        "id": "udSpL0x0os3H",
        "outputId": "e8e00130-898b-400e-c08e-19a7bd44edf3"
      },
      "outputs": [
        {
          "name": "stdout",
          "output_type": "stream",
          "text": [
            "tensor([[-0.4047,  0.2138,  2.0190],\n",
            "        [ 0.2488,  0.0621,  0.8627],\n",
            "        [-0.7350,  0.4120,  0.1114],\n",
            "        [ 0.4026,  2.6973, -1.3788],\n",
            "        [ 0.8740,  1.3594,  0.6164]])\n"
          ]
        }
      ],
      "source": [
        "# adds x to y\n",
        "y.add_(x)\n",
        "print(y)"
      ]
    },
    {
      "cell_type": "markdown",
      "metadata": {
        "id": "zqQU0LO0os3M"
      },
      "source": [
        "**Note**\n",
        "\n",
        "Any operation that mutates a tensor in-place is post-fixed with an ``_``.\\\n",
        "For example: ``x.copy_(y)``, ``x.t_()``, will change ``x``.</p></div>\n",
        "\n",
        "You can use standard NumPy-like indexing with all bells and whistles!"
      ]
    },
    {
      "cell_type": "code",
      "execution_count": null,
      "metadata": {
        "ExecuteTime": {
          "end_time": "2021-03-25T07:49:20.923429Z",
          "start_time": "2021-03-25T07:49:20.918350Z"
        },
        "id": "wcuoNbqOos3Q",
        "outputId": "28540a84-6d81-484b-af4b-1614e378a494"
      },
      "outputs": [
        {
          "name": "stdout",
          "output_type": "stream",
          "text": [
            "tensor([-0.1260, -0.7519, -0.0479,  1.8541,  0.4465])\n"
          ]
        }
      ],
      "source": [
        "print(x[:, 1])"
      ]
    },
    {
      "cell_type": "markdown",
      "metadata": {
        "id": "XyKhJ4E8os3U"
      },
      "source": [
        "Resizing: If you want to resize/reshape tensor, you can use ``torch.view``:\n",
        "\n"
      ]
    },
    {
      "cell_type": "code",
      "execution_count": null,
      "metadata": {
        "ExecuteTime": {
          "end_time": "2021-03-25T07:49:24.353702Z",
          "start_time": "2021-03-25T07:49:24.349651Z"
        },
        "id": "LmCUrv3qos3V",
        "outputId": "e7f553ff-bb4e-4e36-df49-4434e3835a4e"
      },
      "outputs": [
        {
          "name": "stdout",
          "output_type": "stream",
          "text": [
            "torch.Size([4, 4]) torch.Size([16]) torch.Size([2, 8])\n"
          ]
        }
      ],
      "source": [
        "x = torch.randn(4, 4)\n",
        "y = x.view(16)\n",
        "z = x.view(-1, 8)  # the size -1 is inferred from other dimensions\n",
        "print(x.size(), y.size(), z.size())"
      ]
    },
    {
      "cell_type": "markdown",
      "metadata": {
        "id": "Srv3YKMMos3Y"
      },
      "source": [
        "If you have a one element tensor, use ``.item()`` to get the value as a\n",
        "Python number\n",
        "\n"
      ]
    },
    {
      "cell_type": "code",
      "execution_count": null,
      "metadata": {
        "ExecuteTime": {
          "end_time": "2021-03-25T07:49:26.216650Z",
          "start_time": "2021-03-25T07:49:26.213200Z"
        },
        "id": "s13XZt8Cos3Z",
        "outputId": "a7836987-ff5a-4189-8e67-3ea851022c19"
      },
      "outputs": [
        {
          "name": "stdout",
          "output_type": "stream",
          "text": [
            "tensor([1.3119])\n",
            "1.311873197555542\n"
          ]
        }
      ],
      "source": [
        "x = torch.randn(1)\n",
        "print(x)\n",
        "print(x.item())"
      ]
    },
    {
      "cell_type": "markdown",
      "metadata": {
        "id": "orMsQvQAos3c"
      },
      "source": [
        "**Read later:**\n",
        "\n",
        "100+ Tensor operations, including transposing, indexing, slicing,\n",
        "mathematical operations, linear algebra, random numbers, etc.,\n",
        "[are described here](http://pytorch.org/docs/torch)\n",
        "\n",
        "## NumPy Bridge\n",
        "\n",
        "Converting a Torch Tensor to a NumPy array and vice versa is a breeze.\n",
        "\n",
        "The Torch Tensor and NumPy array will share their underlying memory\n",
        "locations, and changing one will change the other.\n",
        "\n",
        "#### Converting a Torch Tensor to a NumPy Array"
      ]
    },
    {
      "cell_type": "code",
      "execution_count": null,
      "metadata": {
        "ExecuteTime": {
          "end_time": "2021-03-25T07:51:14.418778Z",
          "start_time": "2021-03-25T07:51:14.415453Z"
        },
        "id": "BOdXxb_Vos3d",
        "outputId": "d19bf274-37a5-4f87-91b0-56d1dca320b1"
      },
      "outputs": [
        {
          "name": "stdout",
          "output_type": "stream",
          "text": [
            "tensor([1., 1., 1., 1., 1.])\n"
          ]
        }
      ],
      "source": [
        "a = torch.ones(5)\n",
        "print(a)"
      ]
    },
    {
      "cell_type": "code",
      "execution_count": null,
      "metadata": {
        "ExecuteTime": {
          "end_time": "2021-03-25T07:51:15.098804Z",
          "start_time": "2021-03-25T07:51:15.095300Z"
        },
        "id": "68cPoOiIos3i",
        "outputId": "a323da98-8e59-4d4c-9e8b-89e0ee2a233c"
      },
      "outputs": [
        {
          "name": "stdout",
          "output_type": "stream",
          "text": [
            "[1. 1. 1. 1. 1.]\n"
          ]
        }
      ],
      "source": [
        "b = a.numpy()\n",
        "print(b)"
      ]
    },
    {
      "cell_type": "markdown",
      "metadata": {
        "id": "N9q-JAGdos3n"
      },
      "source": [
        "See how the numpy array changed in value.\n",
        "\n"
      ]
    },
    {
      "cell_type": "code",
      "execution_count": null,
      "metadata": {
        "ExecuteTime": {
          "end_time": "2021-03-25T07:51:16.419056Z",
          "start_time": "2021-03-25T07:51:16.415306Z"
        },
        "id": "0-AYXf1Los3p",
        "outputId": "636af76f-ca9a-4e53-9173-43b6c717bff2"
      },
      "outputs": [
        {
          "name": "stdout",
          "output_type": "stream",
          "text": [
            "tensor([2., 2., 2., 2., 2.])\n",
            "[2. 2. 2. 2. 2.]\n"
          ]
        }
      ],
      "source": [
        "a.add_(1)\n",
        "print(a)\n",
        "print(b)"
      ]
    },
    {
      "cell_type": "markdown",
      "metadata": {
        "id": "8QtC7o0zos3s"
      },
      "source": [
        "#### Converting NumPy Array to Torch Tensor\n",
        "\n",
        "See how changing the np array changed the Torch Tensor automatically\n",
        "\n"
      ]
    },
    {
      "cell_type": "code",
      "execution_count": null,
      "metadata": {
        "ExecuteTime": {
          "end_time": "2021-03-25T07:51:47.878839Z",
          "start_time": "2021-03-25T07:51:47.874879Z"
        },
        "id": "MxF1_zXDos3t",
        "outputId": "515ad6c3-41da-4650-eac3-2ae510f9e009"
      },
      "outputs": [
        {
          "name": "stdout",
          "output_type": "stream",
          "text": [
            "[2. 2. 2. 2. 2.]\n",
            "tensor([2., 2., 2., 2., 2.], dtype=torch.float64)\n"
          ]
        }
      ],
      "source": [
        "a = np.ones(5)\n",
        "b = torch.from_numpy(a)\n",
        "\n",
        "np.add(a, 1, out=a)\n",
        "\n",
        "print(a)\n",
        "print(b)"
      ]
    },
    {
      "cell_type": "markdown",
      "metadata": {
        "id": "-w5pWYnaos3w"
      },
      "source": [
        "All the Tensors on the CPU except a CharTensor support converting to\n",
        "NumPy and back.\n",
        "\n",
        "## CUDA Tensors\n",
        "\n",
        "Tensors can be moved onto any device using the ``.to`` method."
      ]
    },
    {
      "cell_type": "code",
      "execution_count": null,
      "metadata": {
        "ExecuteTime": {
          "end_time": "2021-03-25T07:52:48.774481Z",
          "start_time": "2021-03-25T07:52:48.771927Z"
        },
        "id": "LHW5QuDSos3x"
      },
      "outputs": [],
      "source": [
        "# let us run this cell only if CUDA is available\n",
        "# We will use ``torch.device`` objects to move tensors in and out of GPU\n",
        "if torch.cuda.is_available():\n",
        "    device = torch.device(\"cuda\")  # a CUDA device object\n",
        "    y = torch.ones_like(x, device=device)  # directly create a tensor on GPU\n",
        "    x = x.to(device)  # or just use strings ``.to(\"cuda\")``\n",
        "    z = x + y\n",
        "    print(z)\n",
        "    print(z.to(\"cpu\", torch.double))  # ``.to`` can also change dtype together!"
      ]
    },
    {
      "cell_type": "markdown",
      "metadata": {
        "id": "OCGEi0j04nMy"
      },
      "source": [
        "# Autograd: Automatic Differentiation\n",
        "\n",
        "Central to all neural networks in PyTorch is the ``autograd`` package.\n",
        "Let’s first briefly visit this, and we will then go to training our\n",
        "first neural network.\n",
        "\n",
        "\n",
        "The ``autograd`` package provides automatic differentiation for all operations\n",
        "on Tensors. It is a define-by-run framework, which means that your backprop is\n",
        "defined by how your code is run, and that every single iteration can be\n",
        "different.\n",
        "\n",
        "Let us see this in more simple terms with some examples.\n",
        "\n",
        "## Tensor\n",
        "\n",
        "``torch.Tensor`` is the central class of the package. If you set its attribute\n",
        "``.requires_grad`` as ``True``, it starts to track all operations on it. When\n",
        "you finish your computation you can call ``.backward()`` and have all the\n",
        "gradients computed automatically. The gradient for this tensor will be\n",
        "accumulated into ``.grad`` attribute.\n",
        "\n",
        "To stop a tensor from tracking history, you can call ``.detach()`` to detach\n",
        "it from the computation history, and to prevent future computation from being\n",
        "tracked.\n",
        "\n",
        "To prevent tracking history (and using memory), you can also wrap the code block\n",
        "in ``with torch.no_grad():``. This can be particularly helpful when evaluating a\n",
        "model because the model may have trainable parameters with `requires_grad=True`,\n",
        "but for which we don't need the gradients.\n",
        "\n",
        "There’s one more class which is very important for autograd\n",
        "implementation - a ``Function``.\n",
        "\n",
        "``Tensor`` and ``Function`` are interconnected and build up an acyclic\n",
        "graph, that encodes a complete history of computation. Each tensor has\n",
        "a ``.grad_fn`` attribute that references a ``Function`` that has created\n",
        "the ``Tensor`` (except for Tensors created by the user - their\n",
        "``grad_fn is None``).\n",
        "\n",
        "If you want to compute the derivatives, you can call ``.backward()`` on\n",
        "a ``Tensor``. If ``Tensor`` is a scalar (i.e. it holds a one element\n",
        "data), you don’t need to specify any arguments to ``backward()``,\n",
        "however if it has more elements, you need to specify a ``gradient``\n",
        "argument that is a tensor of matching shape.\n",
        "\n"
      ]
    },
    {
      "cell_type": "markdown",
      "metadata": {
        "id": "STL26QoK4nMy"
      },
      "source": [
        "Create a tensor and set requires_grad=True to track computation with it\n",
        "\n"
      ]
    },
    {
      "cell_type": "code",
      "execution_count": null,
      "metadata": {
        "ExecuteTime": {
          "end_time": "2021-03-25T07:54:22.121198Z",
          "start_time": "2021-03-25T07:54:22.118180Z"
        },
        "id": "j9rwQWgM4nMy",
        "outputId": "eef80715-9325-4642-95a0-662d9e5fd332"
      },
      "outputs": [
        {
          "name": "stdout",
          "output_type": "stream",
          "text": [
            "tensor([[1., 1.],\n",
            "        [1., 1.]], requires_grad=True)\n"
          ]
        }
      ],
      "source": [
        "x = torch.ones(2, 2, requires_grad=True)\n",
        "print(x)"
      ]
    },
    {
      "cell_type": "markdown",
      "metadata": {
        "id": "RMwVCjPy4nMy"
      },
      "source": [
        "Do an operation of tensor:\n",
        "\n"
      ]
    },
    {
      "cell_type": "code",
      "execution_count": null,
      "metadata": {
        "ExecuteTime": {
          "end_time": "2021-03-25T07:54:23.068686Z",
          "start_time": "2021-03-25T07:54:23.063505Z"
        },
        "id": "VcHc7qkw4nMz",
        "outputId": "65dfc2f3-c2b8-44ca-a99e-6002208642a2"
      },
      "outputs": [
        {
          "name": "stdout",
          "output_type": "stream",
          "text": [
            "tensor([[3., 3.],\n",
            "        [3., 3.]], grad_fn=<AddBackward0>)\n"
          ]
        }
      ],
      "source": [
        "y = x + 2\n",
        "print(y)"
      ]
    },
    {
      "cell_type": "markdown",
      "metadata": {
        "id": "7Qf1ZhUu4nMz"
      },
      "source": [
        "``y`` was created as a result of an operation, so it has a ``grad_fn``.\n",
        "\n"
      ]
    },
    {
      "cell_type": "code",
      "execution_count": null,
      "metadata": {
        "ExecuteTime": {
          "end_time": "2021-03-25T07:54:24.218277Z",
          "start_time": "2021-03-25T07:54:24.215937Z"
        },
        "id": "ka2TAnSZ4nMz",
        "outputId": "d6703900-ee35-470b-8acc-27ece854b58b"
      },
      "outputs": [
        {
          "name": "stdout",
          "output_type": "stream",
          "text": [
            "<AddBackward0 object at 0x7ff35a105f40>\n"
          ]
        }
      ],
      "source": [
        "print(y.grad_fn)"
      ]
    },
    {
      "cell_type": "markdown",
      "metadata": {
        "id": "nGK5PlG44nMz"
      },
      "source": [
        "Do more operations on y"
      ]
    },
    {
      "cell_type": "code",
      "execution_count": null,
      "metadata": {
        "ExecuteTime": {
          "end_time": "2021-03-25T07:54:27.885352Z",
          "start_time": "2021-03-25T07:54:27.877905Z"
        },
        "id": "N9e-i05x4nMz",
        "outputId": "cf486eb1-3375-439a-bca9-780c325b2fd8"
      },
      "outputs": [
        {
          "name": "stdout",
          "output_type": "stream",
          "text": [
            "tensor([[27., 27.],\n",
            "        [27., 27.]], grad_fn=<MulBackward0>) tensor(27., grad_fn=<MeanBackward0>)\n"
          ]
        }
      ],
      "source": [
        "z = y * y * 3\n",
        "out = z.mean()\n",
        "\n",
        "print(z, out)"
      ]
    },
    {
      "cell_type": "markdown",
      "metadata": {
        "id": "Wj1AvlYj4nM0"
      },
      "source": [
        "``.requires_grad_( ... )`` changes an existing Tensor's ``requires_grad``\n",
        "flag in-place. The input flag defaults to ``False`` if not given.\n",
        "\n"
      ]
    },
    {
      "cell_type": "code",
      "execution_count": null,
      "metadata": {
        "ExecuteTime": {
          "end_time": "2021-03-25T07:54:33.675595Z",
          "start_time": "2021-03-25T07:54:33.671007Z"
        },
        "id": "8dd3C0334nM0",
        "outputId": "7add3f1f-8897-4128-d1a7-bd28b79dec85"
      },
      "outputs": [
        {
          "name": "stdout",
          "output_type": "stream",
          "text": [
            "False\n",
            "True\n",
            "<SumBackward0 object at 0x7ff35a105cd0>\n"
          ]
        }
      ],
      "source": [
        "a = torch.randn(2, 2)\n",
        "a = (a * 3) / (a - 1)\n",
        "print(a.requires_grad)\n",
        "\n",
        "a.requires_grad_(True)\n",
        "print(a.requires_grad)\n",
        "\n",
        "b = (a * a).sum()\n",
        "print(b.grad_fn)"
      ]
    },
    {
      "cell_type": "markdown",
      "metadata": {
        "id": "hQpqDsZf4nM0"
      },
      "source": [
        "Gradients\n",
        "---------\n",
        "Let's backprop now\n",
        "Because ``out`` contains a single scalar, ``out.backward()`` is\n",
        "equivalent to ``out.backward(torch.tensor(1))``.\n",
        "\n"
      ]
    },
    {
      "cell_type": "code",
      "execution_count": null,
      "metadata": {
        "ExecuteTime": {
          "end_time": "2021-03-25T07:59:19.505356Z",
          "start_time": "2021-03-25T07:59:19.495444Z"
        },
        "id": "FjnNpVQF4nM0"
      },
      "outputs": [],
      "source": [
        "out.backward()"
      ]
    },
    {
      "cell_type": "markdown",
      "metadata": {
        "id": "Zq9B8UZ24nM1"
      },
      "source": [
        "print gradients d(out)/dx\n",
        "\n",
        "\n"
      ]
    },
    {
      "cell_type": "code",
      "execution_count": null,
      "metadata": {
        "ExecuteTime": {
          "end_time": "2021-03-25T07:59:20.529072Z",
          "start_time": "2021-03-25T07:59:20.525327Z"
        },
        "id": "ZEDtc_ZF4nM1",
        "outputId": "3457cb52-4e7e-4910-d77c-c2ef46a60652"
      },
      "outputs": [
        {
          "name": "stdout",
          "output_type": "stream",
          "text": [
            "tensor([[4.5000, 4.5000],\n",
            "        [4.5000, 4.5000]])\n"
          ]
        }
      ],
      "source": [
        "print(x.grad)"
      ]
    },
    {
      "cell_type": "markdown",
      "metadata": {
        "id": "SZzTHQI64nM1"
      },
      "source": [
        "You should have got a matrix of ``4.5``. Let’s call the ``out``\n",
        "*Tensor* “$o$”.\n",
        "We have that\n",
        "$$o = \\frac{1}{4}\\sum_i z_i,$$\n",
        "\n",
        "$$z_i = 3(x_i+2)^2$$ and $$z_i\\bigr\\rvert_{x_i=1} = 27$$\n",
        "\n",
        "Therefore,\n",
        "\n",
        "$$\\frac{\\partial o}{\\partial x_i} = \\frac{3}{2}(x_i+2),$$ hence\n",
        "$$\\frac{\\partial o}{\\partial x_i}\\bigr\\rvert_{x_i=1} = \\frac{9}{2} = 4.5$$"
      ]
    },
    {
      "cell_type": "markdown",
      "metadata": {
        "id": "R8b7HdCE4nM2"
      },
      "source": [
        "You can do many crazy things with autograd!\n",
        "\n"
      ]
    },
    {
      "cell_type": "code",
      "execution_count": null,
      "metadata": {
        "ExecuteTime": {
          "end_time": "2021-03-25T07:59:24.837999Z",
          "start_time": "2021-03-25T07:59:24.829629Z"
        },
        "id": "p3B1dWeE4nM2",
        "outputId": "a76cd7d4-1254-479f-c471-4110c84aed1b"
      },
      "outputs": [
        {
          "name": "stdout",
          "output_type": "stream",
          "text": [
            "tensor([ 498.2824,   17.4902, 1190.9608], grad_fn=<MulBackward0>)\n"
          ]
        }
      ],
      "source": [
        "x = torch.randn(3, requires_grad=True)\n",
        "\n",
        "y = x * 2\n",
        "while y.data.norm() < 1000:\n",
        "    y = y * 2\n",
        "\n",
        "print(y)"
      ]
    },
    {
      "cell_type": "code",
      "execution_count": null,
      "metadata": {
        "ExecuteTime": {
          "end_time": "2021-03-25T07:59:30.795788Z",
          "start_time": "2021-03-25T07:59:30.791645Z"
        },
        "id": "qbAUNfXA4nM3",
        "outputId": "37e0c66a-b15f-4c3f-fa71-4148e503283f"
      },
      "outputs": [
        {
          "name": "stdout",
          "output_type": "stream",
          "text": [
            "tensor([5.1200e+01, 5.1200e+02, 5.1200e-02])\n"
          ]
        }
      ],
      "source": [
        "gradients = torch.tensor([0.1, 1.0, 0.0001], dtype=torch.float)\n",
        "y.backward(gradients)\n",
        "\n",
        "print(x.grad)"
      ]
    },
    {
      "cell_type": "markdown",
      "metadata": {
        "id": "z7WpHNtx4nM3"
      },
      "source": [
        "You can also stop autograd from tracking history on Tensors\n",
        "with ``.requires_grad=True`` by wrapping the code block in\n",
        "``with torch.no_grad()``:\n",
        "\n"
      ]
    },
    {
      "cell_type": "code",
      "execution_count": null,
      "metadata": {
        "ExecuteTime": {
          "end_time": "2021-03-25T07:59:32.483343Z",
          "start_time": "2021-03-25T07:59:32.476923Z"
        },
        "id": "Fafu25Vl4nM3",
        "outputId": "e01ace02-b39a-49aa-8632-fa9a0c561863"
      },
      "outputs": [
        {
          "name": "stdout",
          "output_type": "stream",
          "text": [
            "True\n",
            "True\n",
            "False\n"
          ]
        }
      ],
      "source": [
        "print(x.requires_grad)\n",
        "print((x ** 2).requires_grad)\n",
        "\n",
        "with torch.no_grad():\n",
        "    print((x ** 2).requires_grad)"
      ]
    },
    {
      "cell_type": "markdown",
      "metadata": {
        "id": "a0NJdnhR4nM3"
      },
      "source": [
        "**Read Later:**\n",
        "\n",
        "* Documentation of ``autograd`` and ``Function`` is at http://pytorch.org/docs/autograd\n",
        "* Methods to visualize graph: [Netron](https://github.com/lutzroeder/Netron), [hiddenlayer](https://github.com/waleedka/hiddenlayer), [pytorchviz](https://github.com/szagoruyko/pytorchviz)\n"
      ]
    },
    {
      "cell_type": "markdown",
      "metadata": {
        "id": "VYQzvLvv4nM4"
      },
      "source": [
        "### Dealing with the familiar task\n",
        "Now we will tackle the same car classification problem with new techniques: neural networks. Let's get started"
      ]
    },
    {
      "cell_type": "code",
      "execution_count": null,
      "metadata": {
        "ExecuteTime": {
          "end_time": "2021-03-25T08:02:34.418334Z",
          "start_time": "2021-03-25T08:02:34.088251Z"
        },
        "id": "SMPZLYBH4nM4"
      },
      "outputs": [],
      "source": [
        "import pandas as pd"
      ]
    },
    {
      "cell_type": "code",
      "execution_count": null,
      "metadata": {
        "ExecuteTime": {
          "end_time": "2021-03-25T08:02:36.997378Z",
          "start_time": "2021-03-25T08:02:35.025671Z"
        },
        "id": "YntHGaOa4nM4",
        "outputId": "5131b7a4-3097-406b-8c26-aa27d511dc13"
      },
      "outputs": [
        {
          "name": "stdout",
          "output_type": "stream",
          "text": [
            "--2021-03-25 11:02:36--  https://raw.githubusercontent.com/neychev/harbour_ml2020/master/assignments/assignment_Midterm/car_data.csv\n",
            "Resolving raw.githubusercontent.com (raw.githubusercontent.com)... 185.199.110.133, 185.199.108.133, 185.199.111.133, ...\n",
            "Connecting to raw.githubusercontent.com (raw.githubusercontent.com)|185.199.110.133|:443... connected.\n",
            "HTTP request sent, awaiting response... 200 OK\n",
            "Length: 58374 (57K) [text/plain]\n",
            "Saving to: ‘car_data.csv’\n",
            "\n",
            "car_data.csv        100%[===================>]  57.01K  --.-KB/s    in 0.1s    \n",
            "\n",
            "2021-03-25 11:02:36 (391 KB/s) - ‘car_data.csv’ saved [58374/58374]\n",
            "\n"
          ]
        }
      ],
      "source": [
        "import matplotlib.pyplot as plt\n",
        "import numpy as np\n",
        "import pandas as pd\n",
        "from sklearn.model_selection import train_test_split\n",
        "\n",
        "\n",
        "try:\n",
        "    dataset = pd.read_csv(\n",
        "        \"../assignments/assignment_Midterm/car_data.csv\", delimiter=\",\", header=None\n",
        "    ).values\n",
        "except FileNotFoundError:\n",
        "    !wget https://raw.githubusercontent.com/neychev/harbour_ml2020/master/assignments/assignment_Midterm/car_data.csv\n",
        "    dataset = pd.read_csv(\"car_data.csv\", delimiter=\",\", header=None).values"
      ]
    },
    {
      "cell_type": "code",
      "execution_count": null,
      "metadata": {
        "ExecuteTime": {
          "end_time": "2021-03-25T08:03:00.698385Z",
          "start_time": "2021-03-25T08:03:00.691096Z"
        },
        "id": "_3nePJ9i4nM4",
        "outputId": "11068a12-b460-431a-ff5e-d9acd62da2eb"
      },
      "outputs": [
        {
          "name": "stdout",
          "output_type": "stream",
          "text": [
            "(846, 19) (846,)\n",
            "(719, 19) (719,) (127, 19) (127,)\n"
          ]
        }
      ],
      "source": [
        "data = dataset[:, :-1].astype(int)\n",
        "target = dataset[:, -1]\n",
        "\n",
        "print(data.shape, target.shape)\n",
        "\n",
        "X_train, X_test, y_train_raw, y_test_raw = train_test_split(data, target, test_size=0.15)\n",
        "print(X_train.shape, y_train_raw.shape, X_test.shape, y_test_raw.shape)"
      ]
    },
    {
      "cell_type": "markdown",
      "metadata": {
        "id": "NT0yyPeU4nM5"
      },
      "source": [
        "Now we need to map all the class labels to numbers. PyTorch does not like non-numeric labels."
      ]
    },
    {
      "cell_type": "code",
      "execution_count": null,
      "metadata": {
        "ExecuteTime": {
          "end_time": "2021-03-25T08:03:01.902565Z",
          "start_time": "2021-03-25T08:03:01.898700Z"
        },
        "id": "qidWZhLL4nM5"
      },
      "outputs": [],
      "source": [
        "mapper = {x: idx for idx, x in enumerate(np.unique(y_train_raw))}\n",
        "y_train = np.array([mapper[y] for y in y_train_raw])\n",
        "y_test = np.array([mapper[y] for y in y_test_raw])"
      ]
    },
    {
      "cell_type": "code",
      "execution_count": null,
      "metadata": {
        "id": "L80cLXql4nM5"
      },
      "outputs": [],
      "source": [
        "# YOUR CODE HERE"
      ]
    },
    {
      "cell_type": "markdown",
      "metadata": {
        "id": "DTNwgG0R4nM5"
      },
      "source": [
        "And let's preprocess the feature matrices as well"
      ]
    },
    {
      "cell_type": "code",
      "execution_count": null,
      "metadata": {
        "ExecuteTime": {
          "end_time": "2021-03-25T08:03:07.488277Z",
          "start_time": "2021-03-25T08:03:07.482541Z"
        },
        "id": "VnQMKdda4nM6"
      },
      "outputs": [],
      "source": [
        "from sklearn.preprocessing import StandardScaler\n",
        "\n",
        "\n",
        "scaler = StandardScaler().fit(X_train.astype(float))\n",
        "\n",
        "X_train_scaled = scaler.transform(X_train.astype(float))\n",
        "X_test_scaled = scaler.transform(X_test.astype(float))"
      ]
    },
    {
      "cell_type": "code",
      "execution_count": null,
      "metadata": {
        "ExecuteTime": {
          "end_time": "2021-03-25T08:03:09.187705Z",
          "start_time": "2021-03-25T08:03:09.184379Z"
        },
        "id": "CJd7kjKF4nM6",
        "outputId": "56f9ae3f-0c7f-4a72-b6ad-9c3ef16b6363"
      },
      "outputs": [
        {
          "data": {
            "text/plain": [
              "array([[0, 95, 48, ..., 187, 197, 'van'],\n",
              "       [1, 91, 41, ..., 189, 199, 'van'],\n",
              "       [2, 104, 50, ..., 188, 196, 'saab'],\n",
              "       ...,\n",
              "       [843, 106, 54, ..., 187, 201, 'saab'],\n",
              "       [844, 86, 36, ..., 190, 195, 'saab'],\n",
              "       [845, 85, 36, ..., 186, 190, 'van']], dtype=object)"
            ]
          },
          "execution_count": 41,
          "metadata": {},
          "output_type": "execute_result"
        }
      ],
      "source": [
        "dataset"
      ]
    },
    {
      "cell_type": "code",
      "execution_count": null,
      "metadata": {
        "ExecuteTime": {
          "end_time": "2021-03-25T08:03:13.471438Z",
          "start_time": "2021-03-25T08:03:13.466301Z"
        },
        "id": "v6i7PqN04nM6"
      },
      "outputs": [],
      "source": [
        "import torch\n",
        "import torchsummary\n",
        "from torch import nn\n",
        "from torch.nn import functional as F"
      ]
    },
    {
      "cell_type": "markdown",
      "metadata": {
        "id": "-SQGGepp4nM6"
      },
      "source": [
        "Here comes your first model, simple multiclass logistic regression (almost the same one you have used yesterday, but with no regularization)"
      ]
    },
    {
      "cell_type": "code",
      "execution_count": null,
      "metadata": {
        "ExecuteTime": {
          "end_time": "2021-03-25T08:03:16.408775Z",
          "start_time": "2021-03-25T08:03:16.402302Z"
        },
        "id": "nXOV5Zfk4nM7"
      },
      "outputs": [],
      "source": [
        "model = nn.Sequential()\n",
        "model.add_module(\"l1\", nn.Linear(19, 32))\n",
        "model.add_module(\"a1\", nn.Tanh())\n",
        "model.add_module(\"l2\", nn.Linear(32, 32))\n",
        "model.add_module(\"a2\", nn.Tanh())\n",
        "model.add_module(\"d1\", nn.Dropout())\n",
        "model.add_module(\"l3\", nn.Linear(32, 4))"
      ]
    },
    {
      "cell_type": "code",
      "execution_count": null,
      "metadata": {
        "ExecuteTime": {
          "end_time": "2021-03-25T08:03:17.115064Z",
          "start_time": "2021-03-25T08:03:17.112511Z"
        },
        "id": "hmi67sjO4nM7"
      },
      "outputs": [],
      "source": [
        "model = nn.Sequential()\n",
        "model.add_module(\"l1\", nn.Linear(19, 4))\n",
        "model.add_module(\"a1\", nn.LogSoftmax(dim=1))"
      ]
    },
    {
      "cell_type": "code",
      "execution_count": null,
      "metadata": {
        "ExecuteTime": {
          "end_time": "2021-03-25T08:03:17.684328Z",
          "start_time": "2021-03-25T08:03:17.656443Z"
        },
        "id": "b1G3EXjW4nM7",
        "outputId": "e9a7e712-ee41-4f27-ec6e-3c9d06363d43"
      },
      "outputs": [
        {
          "name": "stdout",
          "output_type": "stream",
          "text": [
            "----------------------------------------------------------------\n",
            "        Layer (type)               Output Shape         Param #\n",
            "================================================================\n",
            "            Linear-1                    [-1, 4]              80\n",
            "        LogSoftmax-2                    [-1, 4]               0\n",
            "================================================================\n",
            "Total params: 80\n",
            "Trainable params: 80\n",
            "Non-trainable params: 0\n",
            "----------------------------------------------------------------\n",
            "Input size (MB): 0.00\n",
            "Forward/backward pass size (MB): 0.00\n",
            "Params size (MB): 0.00\n",
            "Estimated Total Size (MB): 0.00\n",
            "----------------------------------------------------------------\n"
          ]
        }
      ],
      "source": [
        "torchsummary.summary(model, (19,))"
      ]
    },
    {
      "cell_type": "markdown",
      "metadata": {
        "id": "esCcxO5u4nM8"
      },
      "source": [
        "We define the optimizer (it's named Adam, we will discuss it tomorrow. You can treat it as SGD with some bells and whistles)"
      ]
    },
    {
      "cell_type": "code",
      "execution_count": null,
      "metadata": {
        "ExecuteTime": {
          "end_time": "2021-03-25T08:03:35.684563Z",
          "start_time": "2021-03-25T08:03:35.682609Z"
        },
        "id": "hdvjvET34nM8"
      },
      "outputs": [],
      "source": [
        "opt = torch.optim.Adam(model.parameters())"
      ]
    },
    {
      "cell_type": "markdown",
      "metadata": {
        "id": "RYYrlDXo4nM8"
      },
      "source": [
        "And here comes the loss function as well. `nn.CrossEntropyLoss` combines both log-softmax and"
      ]
    },
    {
      "cell_type": "code",
      "execution_count": null,
      "metadata": {
        "ExecuteTime": {
          "end_time": "2021-03-25T08:03:36.554954Z",
          "start_time": "2021-03-25T08:03:36.553203Z"
        },
        "id": "ULtbI6Tn4nM8"
      },
      "outputs": [],
      "source": [
        "loss_function = nn.NLLLoss()"
      ]
    },
    {
      "cell_type": "code",
      "execution_count": null,
      "metadata": {
        "ExecuteTime": {
          "end_time": "2021-03-25T08:03:36.931586Z",
          "start_time": "2021-03-25T08:03:36.928944Z"
        },
        "id": "26vhsD5n4nM8"
      },
      "outputs": [],
      "source": [
        "X_train_torch = torch.tensor(X_train_scaled, dtype=torch.float32)\n",
        "X_test_torch = torch.tensor(X_test_scaled, dtype=torch.float32)\n",
        "\n",
        "y_train_torch = torch.tensor(y_train, dtype=torch.long)\n",
        "y_test_torch = torch.tensor(y_test, dtype=torch.long)"
      ]
    },
    {
      "cell_type": "code",
      "execution_count": null,
      "metadata": {
        "ExecuteTime": {
          "end_time": "2021-03-25T08:03:37.558971Z",
          "start_time": "2021-03-25T08:03:37.553100Z"
        },
        "id": "fK_B5zUW4nM9",
        "outputId": "8877b08c-9f18-4f0c-9e63-6f10607f4dcf"
      },
      "outputs": [
        {
          "data": {
            "text/plain": [
              "tensor(1.2321, grad_fn=<NllLossBackward>)"
            ]
          },
          "execution_count": 49,
          "metadata": {},
          "output_type": "execute_result"
        }
      ],
      "source": [
        "# example loss\n",
        "loss_function(model(X_train_torch[:3]), y_train_torch[:3])"
      ]
    },
    {
      "cell_type": "code",
      "execution_count": null,
      "metadata": {
        "ExecuteTime": {
          "end_time": "2021-03-25T08:03:38.322632Z",
          "start_time": "2021-03-25T08:03:38.201020Z"
        },
        "id": "-5vNMtrl4nM9"
      },
      "outputs": [],
      "source": [
        "history = []\n",
        "\n",
        "for i in range(1000):\n",
        "    # sample 128 random observations\n",
        "    ix = np.random.randint(0, len(X_train), 256)\n",
        "    x_batch = X_train_torch[ix]\n",
        "    y_batch = y_train_torch[ix]\n",
        "\n",
        "    # predict probabilities\n",
        "    ### YOUR CODE\n",
        "\n",
        "    # compute loss, just like before\n",
        "    loss = loss_function(y_predicted, y_batch)\n",
        "\n",
        "    # compute gradients\n",
        "    ### YOUR CODE\n",
        "\n",
        "    # Adam step\n",
        "    ### YOUR CODE\n",
        "\n",
        "    # clear gradients\n",
        "    ### YOUR CODE\n",
        "\n",
        "    history.append(loss.data.numpy())\n",
        "\n",
        "    if i % 50 == 0:\n",
        "        print(\n",
        "            \"step #{} | mean loss = {:.5}, test accuracy = {:.5}\".format(\n",
        "                i,\n",
        "                np.mean(history[-10:]),\n",
        "                accuracy_score(y_test, model(X_test_torch).detach().numpy().argmax(axis=1)),\n",
        "            )\n",
        "        )"
      ]
    },
    {
      "cell_type": "markdown",
      "metadata": {
        "id": "5NPLHS1J4nM9"
      },
      "source": [
        "Now we get the predictions"
      ]
    },
    {
      "cell_type": "code",
      "execution_count": null,
      "metadata": {
        "ExecuteTime": {
          "end_time": "2021-03-25T08:03:59.367866Z",
          "start_time": "2021-03-25T08:03:59.363750Z"
        },
        "id": "OF2GD3KX4nM9"
      },
      "outputs": [],
      "source": [
        "y_predicted_train = model(torch.from_numpy(X_train_scaled).type(torch.float32)).detach().numpy()\n",
        "y_predicted_test = model(torch.from_numpy(X_test_scaled).type(torch.float32)).detach().numpy()"
      ]
    },
    {
      "cell_type": "code",
      "execution_count": null,
      "metadata": {
        "ExecuteTime": {
          "end_time": "2021-03-25T08:05:25.712414Z",
          "start_time": "2021-03-25T08:05:25.643648Z"
        },
        "id": "Bb_A7wjP4nM-"
      },
      "outputs": [],
      "source": [
        "import scikitplot\n",
        "from sklearn.metrics import accuracy_score, f1_score"
      ]
    },
    {
      "cell_type": "code",
      "execution_count": null,
      "metadata": {
        "ExecuteTime": {
          "end_time": "2021-03-25T08:05:28.426245Z",
          "start_time": "2021-03-25T08:05:28.419274Z"
        },
        "id": "vXgngub94nM-",
        "outputId": "1b10d6c3-dde0-4317-c314-39a9a38f0515"
      },
      "outputs": [
        {
          "name": "stdout",
          "output_type": "stream",
          "text": [
            "Accuracy train: 0.3435326842837274\n",
            "Accuracy  test: 0.3464566929133858\n",
            "f1 train: 0.34599540983636845\n",
            "f1 test: 0.3469518049155146\n"
          ]
        }
      ],
      "source": [
        "print(\n",
        "    \"Accuracy train: {}\\nAccuracy  test: {}\\nf1 train: {}\\nf1 test: {}\".format(\n",
        "        accuracy_score(y_train, np.argmax(y_predicted_train, axis=1)),\n",
        "        accuracy_score(y_test, np.argmax(y_predicted_test, axis=1)),\n",
        "        f1_score(y_train, np.argmax(y_predicted_train, axis=1), average=\"macro\"),\n",
        "        f1_score(y_test, np.argmax(y_predicted_test, axis=1), average=\"macro\"),\n",
        "    )\n",
        ")"
      ]
    },
    {
      "cell_type": "code",
      "execution_count": null,
      "metadata": {
        "ExecuteTime": {
          "end_time": "2021-03-25T08:05:30.242852Z",
          "start_time": "2021-03-25T08:05:30.235373Z"
        },
        "id": "BKnNPb-Q4nM-",
        "outputId": "fe98ea0b-2843-477e-d999-c0727502a031"
      },
      "outputs": [
        {
          "name": "stdout",
          "output_type": "stream",
          "text": [
            "Accuracy train: 0.3435326842837274\n",
            "Accuracy  test: 0.3464566929133858\n",
            "f1 train: 0.346120819794496\n",
            "f1 test: 0.349104799400075\n"
          ]
        }
      ],
      "source": [
        "print(\n",
        "    \"Accuracy train: {}\\nAccuracy  test: {}\\nf1 train: {}\\nf1 test: {}\".format(\n",
        "        accuracy_score(y_train, np.argmax(y_predicted_train, axis=1)),\n",
        "        accuracy_score(y_test, np.argmax(y_predicted_test, axis=1)),\n",
        "        f1_score(y_train, np.argmax(y_predicted_train, axis=1), average=\"weighted\"),\n",
        "        f1_score(y_test, np.argmax(y_predicted_test, axis=1), average=\"weighted\"),\n",
        "    )\n",
        ")"
      ]
    },
    {
      "cell_type": "code",
      "execution_count": null,
      "metadata": {
        "ExecuteTime": {
          "end_time": "2021-03-25T08:05:31.057348Z",
          "start_time": "2021-03-25T08:05:30.756125Z"
        },
        "id": "cFbQOjn24nM_",
        "outputId": "11be297e-f639-4b82-c666-7e8808176075"
      },
      "outputs": [
        {
          "data": {
            "text/plain": [
              "<AxesSubplot:title={'center':'ROC Curves'}, xlabel='False Positive Rate', ylabel='True Positive Rate'>"
            ]
          },
          "execution_count": 56,
          "metadata": {},
          "output_type": "execute_result"
        },
        {
          "data": {
            "image/png": "[encoded data removed]",
            "text/plain": [
              "<Figure size 432x288 with 1 Axes>"
            ]
          },
          "metadata": {
            "needs_background": "light"
          },
          "output_type": "display_data"
        }
      ],
      "source": [
        "scikitplot.metrics.plot_roc(y_test, y_predicted_test)"
      ]
    },
    {
      "cell_type": "markdown",
      "metadata": {
        "id": "JAJfG7I14nM_"
      },
      "source": [
        "__Not that good, yeah? Let's get back and make it really work__"
      ]
    },
    {
      "cell_type": "markdown",
      "metadata": {
        "id": "GNAl8uhf4nM_"
      },
      "source": [
        "### More complex stuff: NotMNIST"
      ]
    },
    {
      "cell_type": "code",
      "execution_count": null,
      "metadata": {
        "id": "yrur_nXl4nM_"
      },
      "outputs": [],
      "source": [
        "from notmnist import load_notmnist\n",
        "\n",
        "\n",
        "X_train, y_train, X_test, y_test = load_notmnist()\n",
        "X_train, X_test = X_train.reshape([-1, 784]), X_test.reshape([-1, 784])\n",
        "\n",
        "print(\"Train size = %i, test_size = %i\" % (len(X_train), len(X_test)))"
      ]
    },
    {
      "cell_type": "code",
      "execution_count": null,
      "metadata": {
        "id": "zRqa0aKw4nM_"
      },
      "outputs": [],
      "source": [
        "for i in [0, 1]:\n",
        "    plt.subplot(1, 2, i + 1)\n",
        "    plt.imshow(X_train[i].reshape([28, 28]))\n",
        "    plt.title(str(y_train[i]))"
      ]
    },
    {
      "cell_type": "code",
      "execution_count": null,
      "metadata": {
        "id": "QFOeEgep4nNA"
      },
      "outputs": [],
      "source": [
        "# Your turn: create a multiclass classifier in here for notMNIST dataset."
      ]
    },
    {
      "cell_type": "code",
      "execution_count": null,
      "metadata": {
        "id": "bTk_DsRw4nNA"
      },
      "outputs": [],
      "source": [
        "# create a network that stacks layers on top of each other\n",
        "model = nn.Sequential()\n",
        "\n",
        "# add first \"dense\" layer with 784 input units and 1 output unit.\n",
        "model.add_module(\n",
        "    \"l1\",\n",
        ")  # YOUR CODE HERE)\n",
        "model.add_module(\n",
        "    \"a1\",\n",
        ")  # YOUR CODE HERE)"
      ]
    },
    {
      "cell_type": "markdown",
      "metadata": {
        "id": "mfzhNJ7i4nNA"
      },
      "source": [
        "Take a look at the model structure:"
      ]
    },
    {
      "cell_type": "code",
      "execution_count": null,
      "metadata": {
        "id": "bSd0bKNf4nNA"
      },
      "outputs": [],
      "source": [
        "torchsummary.summary(model)"
      ]
    },
    {
      "cell_type": "markdown",
      "metadata": {
        "id": "QjuFXRKi4nNA"
      },
      "source": [
        "Let's check that everything works correctly:"
      ]
    },
    {
      "cell_type": "code",
      "execution_count": null,
      "metadata": {
        "id": "M_gmub3g4nNB"
      },
      "outputs": [],
      "source": [
        "# create dummy data with 3 samples and 784 features\n",
        "x = torch.tensor(X_train[:3], dtype=torch.float32)\n",
        "y = torch.tensor(y_train[:3], dtype=torch.float32)\n",
        "\n",
        "# compute outputs given inputs, both are variables\n",
        "y_predicted = model(x)[:, 0]\n",
        "\n",
        "y_predicted  # display what we've got"
      ]
    },
    {
      "cell_type": "markdown",
      "metadata": {
        "id": "UFBNxigt4nNB"
      },
      "source": [
        "Let's call the loss function from `torch.nn`."
      ]
    },
    {
      "cell_type": "code",
      "execution_count": null,
      "metadata": {
        "id": "vtOlBEXa4nNB"
      },
      "outputs": [],
      "source": [
        "loss_function = nn.CrossEntropyLoss()"
      ]
    },
    {
      "cell_type": "markdown",
      "metadata": {
        "id": "ydZftUtc4nNB"
      },
      "source": [
        "Define some optimizer for your model parameters:"
      ]
    },
    {
      "cell_type": "code",
      "execution_count": null,
      "metadata": {
        "id": "WI7rd6ya4nNB"
      },
      "outputs": [],
      "source": [
        "opt = None  # YOUR CODE HERE"
      ]
    },
    {
      "cell_type": "markdown",
      "metadata": {
        "id": "COY2_Tyk4nNC"
      },
      "source": [
        "Compute the loss for some batch of objects:"
      ]
    },
    {
      "cell_type": "code",
      "execution_count": null,
      "metadata": {
        "id": "6brqAWXD4nNC"
      },
      "outputs": [],
      "source": [
        "loss = None  # YOUR CODE HERE"
      ]
    },
    {
      "cell_type": "markdown",
      "metadata": {
        "id": "Fzcd_uZz4nNC"
      },
      "source": [
        "Do a backward pass and optimizator step:"
      ]
    },
    {
      "cell_type": "code",
      "execution_count": null,
      "metadata": {
        "id": "OhZyhe8H4nNC"
      },
      "outputs": [],
      "source": [
        "# YOUR CODE HERE"
      ]
    },
    {
      "cell_type": "markdown",
      "metadata": {
        "id": "35_todOP4nNC"
      },
      "source": [
        "Finally, implement the optimization pipeline and monitor the model quality during the optimization."
      ]
    },
    {
      "cell_type": "code",
      "execution_count": null,
      "metadata": {
        "id": "Y9YdX4ax4nND"
      },
      "outputs": [],
      "source": [
        "# YOUR CODE HERE"
      ]
    }
  ],
  "metadata": {
    "colab": {
      "name": "tensor_tutorial.ipynb",
      "provenance": []
    },
    "kernelspec": {
      "display_name": "Python [conda env:ml-mipt]",
      "language": "python",
      "name": "conda-env-ml-mipt-py"
    },
    "language_info": {
      "codemirror_mode": {
        "name": "ipython",
        "version": 3
      },
      "file_extension": ".py",
      "mimetype": "text/x-python",
      "name": "python",
      "nbconvert_exporter": "python",
      "pygments_lexer": "ipython3",
      "version": "3.8.5"
    },
    "toc": {
      "base_numbering": 1,
      "nav_menu": {},
      "number_sections": true,
      "sideBar": true,
      "skip_h1_title": false,
      "title_cell": "Table of Contents",
      "title_sidebar": "Contents",
      "toc_cell": false,
      "toc_position": {},
      "toc_section_display": true,
      "toc_window_display": true
    }
  },
  "nbformat": 4,
  "nbformat_minor": 0
}